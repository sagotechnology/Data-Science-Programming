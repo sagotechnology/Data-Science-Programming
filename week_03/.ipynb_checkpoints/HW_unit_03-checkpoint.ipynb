{
 "cells": [
  {
   "cell_type": "markdown",
   "metadata": {},
   "source": [
    "## Week 3 Assignment - W200 Introduction to Data Science Programming, UC Berkeley MIDS"
   ]
  },
  {
   "cell_type": "markdown",
   "metadata": {},
   "source": [
    "Write code in this jupyter Notebook to solve the following problems. Please upload this **Notebook** with your solutions to your GitHub repository in your SUBMISSIONS/week_03 folder by 11:59PM PST the night before class."
   ]
  },
  {
   "cell_type": "markdown",
   "metadata": {},
   "source": [
    "## Objectives:\n",
    "\n",
    "- More practice with while loops, if statements and gathering user inputs\n",
    "- Demonstrate use of Python data structures such as lists, tuples, and dictionaries\n",
    "- Understand how to add items to these data structures and print the contents of each to the user"
   ]
  },
  {
   "cell_type": "markdown",
   "metadata": {},
   "source": [
    "## General Guidelines:\n",
    "\n",
    "- In each code block, do NOT delete the ### comment at the top of a cell (it's needed for the auto-grading!)\n",
    "- Limited user input validation and error checking is encouraged on this assignment. Each question below will indicate the type of input that you can expect. (for example, if the question states the input will be an integer, you can expect the user to input an integer and do not need to check to ensure it is an integer versus a float or a string)\n",
    "- Adding comments in your code is strongly suggested but won't be graded.\n",
    "- The examples given are samples of how we will test/grade your code. Please ensure your code outputs the same information.\n",
    "- If you are stuck on a problem or do not understand a question - please come to office hours or ask questions to the class Google group (please don't post your code though). If it is a coding problem send a private email to all of the instructors at: mids-python-instructors@googlegroups.com\n",
    "- We also have a tutor if you would like a 1 on 1 session!"
   ]
  },
  {
   "cell_type": "markdown",
   "metadata": {},
   "source": [
    "## Grading Rubric\n",
    "\n",
    "General grading rubric guidelines / philosophy:\n",
    "\n",
    "- The total possible points will be shown for each question\n",
    "- Please read each question carefully to understand the requirements\n",
    "- Points for each question are rewarded based on how well your code fulfills those requirements\n",
    "- All of the problems have an example given to help show what is needed and how to format the answer\n",
    "- For the rest of the questions, its up to you to determine the requirements and code them!\n",
    "\n",
    "More on grading:\n",
    "- If the question is blank / not attempted, no points will be given\n",
    "- Most points are given for code that runs (does not crash) and fulfills the requirements\n",
    "- Minor points are given for formatting the answer in accordance with the question"
   ]
  },
  {
   "cell_type": "markdown",
   "metadata": {
    "collapsed": true
   },
   "source": [
    "### 3-1. Pig Latin Translator (20 points)\n",
    "\n",
    "Write code that translates a name into (simplified) Pig Latin. (Please do not make this a 'real' Pig Latin translator.)  Have your script ask the user for his or her name, which can comprise first, middle, and/or last parts. For each name part, move the first letter to the end of the part and append the letters \"ay\". Make sure that only the first letter of each word in your output is capitalized. You can use the ```split()``` method on the string to create a list of the name parts. Be sure that your script can handle one, two or three name parts separated by spaces. This will likely involve a loop.\n",
    "\n",
    "Your script should re-create the following example exactly:\n",
    "\n",
    "```\n",
    "Enter your name: Paul Laskowski\n",
    "\n",
    "Aulpay Askowskilay\n",
    "```"
   ]
  },
  {
   "cell_type": "code",
   "execution_count": null,
   "metadata": {
    "collapsed": true
   },
   "outputs": [],
   "source": [
    "### Q3-1 Grading Tag: Please put your entire solution in this cell. Don't edit this line.\n",
    "# User enters their name.\n",
    "name_input = input('Please enter your name: ')\n",
    "print('\\n')\n",
    "# Create a list from user input, split the name between the spaces.\n",
    "name_list = name_input.split(' ')\n",
    "# Determine the number of items in the list.\n",
    "i = 0\n",
    "j = len(name_list)\n",
    "while i < j:\n",
    "    name_pig_latin = name_list[i][1].upper() + name_list[i][2:].lower() + \\\n",
    "    name_list[i][0].lower() + 'ay'\n",
    "    print(name_pig_latin, end=' ')\n",
    "    i += 1"
   ]
  },
  {
   "cell_type": "markdown",
   "metadata": {
    "collapsed": true
   },
   "source": [
    "### 3-2. Matrix Inverter (20 points)\n",
    "\n",
    "One place where the usage of tuples is convenient is in the representation of matrices.  The values in a 2x2 matrix are labeled as follows:\n",
    "$$\n",
    "\\begin{bmatrix}\n",
    "    a       & b  \\\\\n",
    "    c       & d\n",
    "\\end{bmatrix}\n",
    "$$\n",
    "\n",
    "Write code that asks the user for a text string including the four **numbers**, a, b, c, and d, separated by spaces.  You can use the `split()` method on the string to create a list of the four values in order.\n",
    "\n",
    "Create a tuple that represents each row, then create a tuple that contains those two tuples.  It should have the form `((a, b), (c, d))`.  **Print this representation.**\n",
    "\n",
    "The inverse of the matrix above is given by the formula:\n",
    "\n",
    "$$\n",
    "\\frac{1}{ad-bc} \\begin{bmatrix}\n",
    "    d       & -b  \\\\\n",
    "    -c       & a\n",
    "\\end{bmatrix}\n",
    "$$\n",
    "\n",
    "Recall that multiplying a matrix by a number effectively multiplies each element of the matrix by that number.\n",
    "\n",
    "Compute the inverse of the given matrix, again represented as nested tuples, and **print this representation**. Use the example below to make sure you understand the equation correctly:\n",
    "\n",
    "\n",
    "```\n",
    "Please enter four numbers separated by spaces: 1 2 3 4\n",
    "\n",
    "matrix: ((1.0, 2.0), (3.0, 4.0))\n",
    "inverse: ((-2.0, 1.0), (1.5, -0.5))\n",
    "```"
   ]
  },
  {
   "cell_type": "code",
   "execution_count": null,
   "metadata": {
    "collapsed": true
   },
   "outputs": [],
   "source": [
    "### Q3-2 Grading Tag: Please put your entire solution in this cell. Don't edit this line.\n",
    "matrix =input('Please enter four numbers seperated by spaces: ')\n",
    "matrix_list = matrix.split(' ')\n",
    "a1 = float(matrix_list[0])\n",
    "b1 = float(matrix_list[1])\n",
    "c1 = float(matrix_list[2])\n",
    "d1 = float(matrix_list[3])\n",
    "row_1_1 = (a1, b1)\n",
    "row_2_1 = (c1, d1)\n",
    "matrix_1 = (row_1_1, row_2_1)\n",
    "print('matrix:',matrix_1)\n",
    "inverse = 1 / (a1 * d1 - b1 * c1)\n",
    "a2 = round(d1 * inverse, 1)\n",
    "b2 = round(-b1 * inverse, 1)\n",
    "c2 = round(-c1 * inverse, 1)\n",
    "d2 = round(a1 * inverse, 1)\n",
    "row_1_2 = (a2, b2)\n",
    "row_2_2 = (c2, d2)\n",
    "matrix_2 = (row_1_2, row_2_2)\n",
    "print('inverse:',matrix_2)"
   ]
  },
  {
   "cell_type": "markdown",
   "metadata": {},
   "source": [
    "### 3-3. Create a to-do list program using a dictionary of lists (20 points)\n",
    "\n",
    "Write code that stores a to-do list for each day of the week (Sunday through Saturday). Your program needs to have the following elements:\n",
    "\n",
    "- An empty dictionary to store information\n",
    "- A key in the dictionary for each day of the week\n",
    "- Each key has a value of a list that stores the to-do list items\n",
    "\n",
    "- User can type \"add\" and the program will ask what day, then ask what item to add to that day. Ensure the user can add multiple items per day. (That is, ensure that this adds a new item, not replaces an existing item.)\n",
    "- User can type \"get\" and the program will ask for the day and print the values\n",
    "- The program will loop, using a while loop, until the user specifies \"quit\"\n",
    "\n",
    "- Some user error checking is required, specifically: upper/lowercase for the days of the week, incorrect day of the week, or an incorrect command\n",
    "- ** Hint: This task requires you to use tools you learned about in Unit 2 (\"if\" and \"loops\") along with dictionaries and lists.**\n",
    "\n",
    "Example:\n",
    "```\n",
    "Prompt: What would you like to do?\n",
    "> add\n",
    "\n",
    "Prompt: What day?\n",
    "> Friday\n",
    "\n",
    "Prompt: What would you like to add to Friday's to-do list?\n",
    "> practice clarinet\n",
    "\n",
    "Prompt: What would you like to do?\n",
    "> get\n",
    "\n",
    "Prompt: What day?\n",
    "> funday\n",
    "Invalid entry - please enter a correct day of the week (like Monday or monday).\n",
    "\n",
    "Prompt: What day?\n",
    "> friday\n",
    "\n",
    "Response: You have to practice clarinet.\n",
    "\n",
    "Prompt: What would you like to do?\n",
    "> quit\n",
    "\n",
    "Response: Ending program. Thank you for using the to-do list!\n",
    "```"
   ]
  },
  {
   "cell_type": "code",
   "execution_count": null,
   "metadata": {
    "collapsed": true
   },
   "outputs": [],
   "source": [
    "todo_list = {'sunday' : [], 'monday' : [], 'tuesday' : [], \n",
    "             'wednesday' : [],'thursday' : [], 'friday' : [],\n",
    "             'saturday' : []}\n",
    "user_input = ''\n",
    "while user_input != 'quit':  \n",
    "    user_input = input('Prompt: What would you like to do?\\n>')\n",
    "#add to the todo list\n",
    "    if user_input == 'add':\n",
    "        loop = 0\n",
    "        while loop != 1:\n",
    "            day = input('What day?\\n>').lower()\n",
    "            loop = day in todo_list\n",
    "            advance = loop\n",
    "            if not advance:\n",
    "                print('Invalid entry - please enter a correct day of the week \\\n",
    "(like Monday or monday).')\n",
    "        print('\\nPrompt: What would you like to add to', day.capitalize() + \"'s\",\n",
    "                  'to-do list?', end = '')\n",
    "        todo_list[day].append(input('>')+'.')\n",
    "#get from the todo list\n",
    "    elif user_input == 'get':\n",
    "        loop = 0\n",
    "        while loop != 1:\n",
    "            day = input('What day?\\n>').lower()\n",
    "            loop = day in todo_list\n",
    "            advance = loop\n",
    "            if not advance:\n",
    "                print('Invalid entry - please enter a correct day of the week \\\n",
    "(like Monday or monday).')\n",
    "        i = 0\n",
    "        j = len(todo_list[day])\n",
    "        print('')\n",
    "        while i < j:\n",
    "            print('Response: You have to',todo_list[day][i])\n",
    "            i += 1\n",
    "#quit the program            \n",
    "    elif user_input == 'quit':\n",
    "        print('\\nResponse: Ending program. Thank you for using the to-do list!')\n",
    "#input not defined\n",
    "    else:\n",
    "        print(\"'\"+ user_input + \"'\", 'not supported')"
   ]
  },
  {
   "cell_type": "markdown",
   "metadata": {},
   "source": [
    "### 3-4. Fibonacci (20 points)\n",
    "\n",
    "The Fibonacci numbers begin with 1, 1.  After the first two numbers, each number is the sum of the previous two. 1 + 1 = 2, so 2 is the third number. Then 1 + 2 = 3, so 3 is the next one, and so on. Write a script that prompts the user for an integer number, then prints all the Fibonacci numbers that are less than or equal to the input, in order.\n",
    "\n",
    "Example:\n",
    "```\n",
    "Enter a number: 15\n",
    "\n",
    "1 1 2 3 5 8 13\n",
    "```"
   ]
  },
  {
   "cell_type": "code",
   "execution_count": null,
   "metadata": {
    "collapsed": true
   },
   "outputs": [],
   "source": [
    "### Q3-4 Grading Tag: Please put your entire solution in this cell. Don't edit this line.\n",
    "number = int(input('Enter a number: ')) #user enters a number\n",
    "fibonacci = [1] #add 1 to the fibonacci list\n",
    "if number > 0: #check if interger is greater than zero\n",
    "    fibonacci.append(1) #add anotheer 1 to the fibonaci list    \n",
    "    while fibonacci[-1] + fibonacci[-2] <= number: #while last two items sum is less than or equl to number\n",
    "        fibonacci.append(fibonacci[-2] + fibonacci[-1]) #qppend list with last and second variable\n",
    "    i = 0\n",
    "    j = len(fibonacci) #find the length of the fibonact series \n",
    "    print('')\n",
    "    while i < j:\n",
    "        print(fibonacci[i], end = ' ') #print the item, add a space\n",
    "        i += 1"
   ]
  },
  {
   "cell_type": "markdown",
   "metadata": {},
   "source": [
    "### 3-5. Pascal's Triangle (20 points)\n",
    "\n",
    "Pascal's triangle is a triangle of numbers that is computed as follows. The first row contains a 1.  Each row after that begins and ends with a 1, and every other number is the sum of the two numbers above it. The first six rows of Pascal's triangle are shown below.\n",
    "```\n",
    "      1\n",
    "     1 1\n",
    "    1 2 1\n",
    "  1  3 3  1\n",
    " 1 4  6  4 1\n",
    "1 5 10 10 5 1\n",
    "```\n",
    "Write a script to compute and print the *n*th row of Pascal's triangle. Do not spend time trying to print the entire triangle in the format above (it is for illustrative purposes only).  The input will be the row number as an integer starting with row 1 as the first row.\n",
    "\n",
    "** Hint: Think about the type of objects you need to solve the problem. What are you iterating over? It may help to calculate a couple of rows by hand and think about the process you take. **\n",
    "\n",
    "Example:\n",
    "```\n",
    "Enter a row number: 5\n",
    "\n",
    "1 4 6 4 1\n",
    "```\n"
   ]
  },
  {
   "cell_type": "code",
   "execution_count": null,
   "metadata": {
    "collapsed": true
   },
   "outputs": [],
   "source": [
    "### Q3-5 Grading Tag: Please put your entire solution in this cell. Don't edit this line.\n",
    "row = int(input('Enter a row number: '))\n",
    "pascal = []\n",
    "#create the number of list specified by row, add '1' to all lists\n",
    "for i in range(row):\n",
    "    pascal.append([])\n",
    "    pascal[i].append(1)\n",
    "#exclude pascal[0] and pascal[1], every list there after add items 0+1, 1+2, ... ,n + (n+1)\n",
    "    for j in range(1,i):\n",
    "        pascal[i].append(pascal[i-1][j-1] + pascal[i-1][j])\n",
    "#append a 1 to the end of all pascal[i] except pascal[0]        \n",
    "    if i != 0:\n",
    "        pascal[i].append(1)\n",
    "print()\n",
    "#print row         \n",
    "for k in range(row):\n",
    "    print(pascal[i][k], end =' ')"
   ]
  },
  {
   "cell_type": "markdown",
   "metadata": {},
   "source": [
    "## If you have feedback for this homework, please submit it using the link below:\n",
    "\n",
    "http://goo.gl/forms/74yCiQTf6k"
   ]
  }
 ],
 "metadata": {
  "anaconda-cloud": {},
  "kernelspec": {
   "display_name": "Python 3",
   "language": "python",
   "name": "python3"
  },
  "language_info": {
   "codemirror_mode": {
    "name": "ipython",
    "version": 3
   },
   "file_extension": ".py",
   "mimetype": "text/x-python",
   "name": "python",
   "nbconvert_exporter": "python",
   "pygments_lexer": "ipython3",
   "version": "3.7.4"
  }
 },
 "nbformat": 4,
 "nbformat_minor": 1
}
