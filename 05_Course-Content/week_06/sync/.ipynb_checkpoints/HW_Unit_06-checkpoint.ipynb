{
 "cells": [
  {
   "cell_type": "markdown",
   "metadata": {
    "deletable": false,
    "editable": false,
    "nbgrader": {
     "cell_type": "markdown",
     "checksum": "931008c90a6d73bd6743697dc1533e95",
     "grade": false,
     "grade_id": "cell-6d8cdb4d261f4009",
     "locked": true,
     "schema_version": 3,
     "solution": false
    }
   },
   "source": [
    "## Week 6 Assignment - W200 Introduction to Data Science Programming, UC Berkeley MIDS\n",
    "\n",
    "Write code in this Jupyter Notebook to solve each of the following problems. Each problem should have its solution in a separate cell. Please upload this **notebook**, your **scrabble.py** file, the **sowpods.txt** file, and your **score_word** module to your GitHub repository in your SUBMISSIONS/week_06 folder by 11:59PM PST the night before class."
   ]
  },
  {
   "cell_type": "markdown",
   "metadata": {
    "deletable": false,
    "editable": false,
    "nbgrader": {
     "cell_type": "markdown",
     "checksum": "264b353c2fc9950602495e0bea1f3a2d",
     "grade": false,
     "grade_id": "cell-1ce5f6472d951780",
     "locked": true,
     "schema_version": 3,
     "solution": false
    }
   },
   "source": [
    "## Objectives:\n",
    "\n",
    "- Read and understand PEP 8 standards\n",
    "- Use all of your previously gained knowledge together on a single program\n",
    "- Demonstrate how to import a user made module and function into python from another .py file\n",
    "- Demonstrate how to input command line arguments into a .py file"
   ]
  },
  {
   "cell_type": "markdown",
   "metadata": {
    "deletable": false,
    "editable": false,
    "nbgrader": {
     "cell_type": "markdown",
     "checksum": "b35efbb1abb71594c805886b92f4a0b2",
     "grade": false,
     "grade_id": "cell-00008b61981ee041",
     "locked": true,
     "schema_version": 3,
     "solution": false
    }
   },
   "source": [
    "## 6-1. PEP 8 Style Guide (reading and response) (10 points)\n",
    "\n",
    "Your first task for this week is to write a **250 word reading response** to the article referenced below. In addition, please list **3 questions** that you have from the article (the questions do not count towards the 250 word requirement). Please write your response in the markdown cell below.\n",
    "\n",
    "The writing response is a free response, so you may write about your reactions, such as an interesting thing that you saw in the article, something that really stuck out to you, etc.\n",
    "\n",
    "**Article**: [The PEP 8 Style Guide](https://www.python.org/dev/peps/pep-0008). This document is really important for Python coders because it describes best practices and customs.\n"
   ]
  },
  {
   "cell_type": "markdown",
   "metadata": {
    "deletable": false,
    "nbgrader": {
     "cell_type": "markdown",
     "checksum": "8cf1e0fcb247eddcaad7b239e9152c6d",
     "grade": true,
     "grade_id": "cell-eaae902b022d20da",
     "locked": false,
     "points": 10,
     "schema_version": 3,
     "solution": true
    }
   },
   "source": [
    "YOUR ANSWER HERE"
   ]
  },
  {
   "cell_type": "markdown",
   "metadata": {
    "collapsed": true,
    "deletable": false,
    "editable": false,
    "nbgrader": {
     "cell_type": "markdown",
     "checksum": "f18a761174f5036fa37f9a7242928757",
     "grade": false,
     "grade_id": "cell-b8aa7fa341f74332",
     "locked": true,
     "schema_version": 3,
     "solution": false
    }
   },
   "source": [
    "## 6-2. Cheating at Scrabble (90 points + 10 Extra Credit Points)\n",
    "\n",
    "Write a Python program that takes a Scrabble rack as a command-line argument and prints all \"valid Scrabble English\" words that can be constructed from that rack, along with their Scrabble scores, sorted by score. \"Valid Scrabble English\" words are provided in the data source below. A Scrabble rack is made up of 2 to 7 characters.\n",
    "\n",
    "Below are the requirements for the program:\n",
    "- This needs to be able to be run as a command line tool as shown below (not an input statement!)\n",
    "- Name the python file: `scrabble.py`\n",
    "- Include a function called `score_word` in a separate module. Import this function into your main solution code\n",
    "- Allow anywhere from 2-7 character tiles (letters A-Z) to be inputted. \n",
    "- Do not restrict the number of same tiles (e.g., a user is allowed to input ZZZZZQQ).\n",
    "- Output the **total** list of valid Scrabble words that can be constructed from the rack as (score, word) tuples, sorted by the score and then by the word alphabetically as shown in the first example below.\n",
    "- Then output 'Total number of words:' and the total number.\n",
    "- You need to handle input errors from the user and suggest what that error might be caused by and how to fix it (i.e., a helpful error message)\n",
    "- Implement wildcards as either `*` or `?`. There can be a total of **only** two wild cards in any user input (that is, one of each character: one `*` and one `?`). Only use the `*` and `?` as wildcard characters. A wildcard character can take any value A-Z. Replace the wildcard symbol with the letter in your answer (see the second example below)\n",
    "- Wildcard characters are scored as 0 points, just like in the real Scrabble game\n",
    "- For partial credit, your program should take less than one minute to run with 2 wildcards in the input. For full credit, the program needs to run with 2 wildcards in less than 30 seconds.\n",
    "- Write docstrings for the functions and puts comments in your code.\n",
    "- You should only use the Python standard library in this assignment. However, any function in the standard library is allowed.\n",
    "\n",
    "#### Extra Credit (+10 points):\n",
    "Allow a user to specify that a certain letter has to be at a certain location. Your program must work without it so this is completely optional. For the extra credit, locations of certain letters must be specified at the command line, and may not be some sort of user prompt.  Please put comments, any assumptions you made, and a sample of how to run your extra credit in the extra credit cell of this notebook below - it is the last cell. If there is not an example of how to run the extra credit in this cell we will assume that you did not do the extra credit part!\n",
    "\n",
    "An example invocation and output:\n",
    "```\n",
    "$ python scrabble.py \"ZAEFIEE\"\n",
    "(17, feaze)\n",
    "(17, feeze)\n",
    "(16, faze)\n",
    "(15, fez)\n",
    "(15, fiz)\n",
    "(12, zea)\n",
    "(12, zee)\n",
    "(11, za)\n",
    "(6, fae)\n",
    "(6, fee)\n",
    "(6, fie)\n",
    "(5, ef)\n",
    "(5, fa)\n",
    "(5, fe)\n",
    "(5, if)\n",
    "(2, ae)\n",
    "(2, ai)\n",
    "(2, ea)\n",
    "(2, ee)\n",
    "Total number of words: 19\n",
    "```\n",
    "\n",
    "An example wildcard invocation and output:\n",
    "```\n",
    "$ python scrabble.py \"?F\"\n",
    "(4, ef)\n",
    "(4, fa)\n",
    "(4, fe)\n",
    "(4, fy)\n",
    "(4, if)\n",
    "(4, of)\n",
    "Total number of words: 6\n",
    "```\n",
    "\n",
    "#### The Data\n",
    "The file: http://courses.cms.caltech.edu/cs11/material/advjava/lab1/sowpods.zip contains all \"valid Scrabble English\" words in the official words list, one word per line. You should download the word file and keep it in your repository so that the program is standalone (instead of accessing it over the web from Python).\n",
    "\n",
    "You can read data from a text file with the following code:\n",
    "```\n",
    "with open(\"sowpods.txt\",\"r\") as infile:\n",
    "    raw_input = infile.readlines()\n",
    "    data = [datum.strip('\\n') for datum in raw_input]\n",
    "```\n",
    "\n",
    "This will show the first 6 words:\n",
    "```\n",
    "print(data[0:6])\n",
    "```\n",
    "Please use the dictionary below containing the letters and their Scrabble values:\n",
    "```\n",
    "scores = {\"a\": 1, \"c\": 3, \"b\": 3, \"e\": 1, \"d\": 2, \"g\": 2,\n",
    "         \"f\": 4, \"i\": 1, \"h\": 4, \"k\": 5, \"j\": 8, \"m\": 3,\n",
    "         \"l\": 1, \"o\": 1, \"n\": 1, \"q\": 10, \"p\": 3, \"s\": 1,\n",
    "         \"r\": 1, \"u\": 1, \"t\": 1, \"w\": 4, \"v\": 4, \"y\": 4,\n",
    "         \"x\": 8, \"z\": 10}\n",
    "```\n",
    "\n",
    "#### Tips:\n",
    "- If you don't know what \"scrabble\" is or the basic background of the game please look it up online!\n",
    "- We recommend that you try to break down the problem into steps on your own before writing any code. Once you've scoped generally what you want to do, then start writing some code.  If you get stuck, go back to thinking about the problem rather than trying to fix lots of errors at the code level.\n",
    "- If you keep getting stuck, then check out: https://openhatch.org/wiki/Scrabble_challenge. This is where we got the idea for this assignment and it provides some helpful tips for guiding you along the way.  However, we would recommend that you try to implement this first before looking at the hints on the website.\n",
    "\n",
    "Good luck!"
   ]
  },
  {
   "cell_type": "markdown",
   "metadata": {
    "deletable": false,
    "editable": false,
    "nbgrader": {
     "cell_type": "markdown",
     "checksum": "3491807f5936ee993d0a6f7ea761e2fe",
     "grade": false,
     "grade_id": "cell-d5a08eb52a6c9895",
     "locked": true,
     "schema_version": 3,
     "solution": false
    }
   },
   "source": [
    "### The code below will test your command line implementation of the scrabble.py code. We've made some of these tests available for you to try!"
   ]
  },
  {
   "cell_type": "code",
   "execution_count": null,
   "metadata": {
    "deletable": false,
    "editable": false,
    "nbgrader": {
     "cell_type": "code",
     "checksum": "5bc2edfe9c69d0d266287d7754a5d763",
     "grade": false,
     "grade_id": "cell-f28d35b358dd64d9",
     "locked": true,
     "schema_version": 3,
     "solution": false
    }
   },
   "outputs": [],
   "source": [
    "# Code for the testing\n",
    "\n",
    "import subprocess\n",
    "from nose.tools import assert_equal \n",
    "from nose.tools import assert_true\n",
    "from nose.tools import assert_greater\n",
    "from nose.tools import assert_less"
   ]
  },
  {
   "cell_type": "code",
   "execution_count": null,
   "metadata": {
    "deletable": false,
    "editable": false,
    "nbgrader": {
     "cell_type": "code",
     "checksum": "aeb5b5c9be0b7da46cc28b2e9cf40188",
     "grade": true,
     "grade_id": "cell-afe085b138053602",
     "locked": true,
     "points": 3,
     "schema_version": 3,
     "solution": false
    }
   },
   "outputs": [],
   "source": [
    "\"\"\" Code runs and can produce at least one error message \"\"\"\n",
    "# Autograde cell - do not erase/delete\n",
    "\n",
    "# no rack error\n",
    "!python scrabble.py  "
   ]
  },
  {
   "cell_type": "code",
   "execution_count": null,
   "metadata": {
    "deletable": false,
    "editable": false,
    "nbgrader": {
     "cell_type": "code",
     "checksum": "d8a0b5ba3bae4fda30e7106e5e533714",
     "grade": true,
     "grade_id": "cell-75530651c7f494f0",
     "locked": true,
     "points": 3,
     "schema_version": 3,
     "solution": false
    }
   },
   "outputs": [],
   "source": [
    "\"\"\" Does not fail due to trivial mistakes and takes correct wildcard characters \"\"\"\n",
    "# Autograde cell - do not erase/delete\n",
    "\n",
    "# does not fail due to case\n",
    "!python scrabble.py \"PENguin\""
   ]
  },
  {
   "cell_type": "code",
   "execution_count": null,
   "metadata": {
    "deletable": false,
    "editable": false,
    "nbgrader": {
     "cell_type": "code",
     "checksum": "11e7c05d7003e6c6cb92accb4b2aaff8",
     "grade": true,
     "grade_id": "cell-70e47257819da62a",
     "locked": true,
     "points": 0,
     "schema_version": 3,
     "solution": false
    }
   },
   "outputs": [],
   "source": [
    "# Autograde cell - do not erase/delete\n",
    "\n",
    "# takes wildcards\n",
    "\n",
    "!python scrabble.py \"PEN*?in\""
   ]
  },
  {
   "cell_type": "code",
   "execution_count": null,
   "metadata": {
    "deletable": false,
    "editable": false,
    "nbgrader": {
     "cell_type": "code",
     "checksum": "54fc0d2e87a597d8ae6742746caff674",
     "grade": true,
     "grade_id": "cell-c3651635b3abebcf",
     "locked": true,
     "points": 20,
     "schema_version": 3,
     "solution": false
    }
   },
   "outputs": [],
   "source": [
    "\"\"\" Produces a list of all words and scores that matches our expectations \"\"\"\n",
    "# Autograde cell - do not erase/delete\n",
    "\n",
    "# The way windows and mac end lines is different \n",
    "# - windows adds a \\r\\n to each line \n",
    "# - mac/linux adds just a \\n to each line\n",
    "# The autograder will detect the system platform and use that to determine the 'correct' solution\n",
    "\n",
    "# The code below is shown here so you know how the autograder works\n",
    "# Try this block to see if your solution matches\n",
    "# If your answer looks like it matches but still throws an 'autograder' error, please to double check your answer BUT \n",
    "# The purpose of the assignment isn't to make your code match the autograder - if you answer is correct it will be graded so \n",
    "# We will check every answer the autograder deems is incorrect\n",
    "\n",
    "import platform\n",
    "\n",
    "# test whether your output matches our expectation\n",
    "cmd = ['python', 'scrabble.py', 'Penguin']\n",
    "test = bytes.decode(subprocess.Popen(cmd, stdout=subprocess.PIPE).communicate()[0])\n",
    "\n",
    "if platform.system() == 'Windows':\n",
    "    solution = '(10, penguin)\\r\\n(9, pening)\\r\\n(8, genip)\\r\\n(8, unpeg)\\r\\n(7, ingenu)\\r\\n(7, penni)\\r\\n(7, ping)\\r\\n(7, pung)\\r\\n(7, unpen)\\r\\n(7, unpin)\\r\\n(6, gip)\\r\\n(6, gup)\\r\\n(6, peg)\\r\\n(6, pein)\\r\\n(6, peni)\\r\\n(6, pig)\\r\\n(6, pine)\\r\\n(6, pug)\\r\\n(5, ennui)\\r\\n(5, genu)\\r\\n(5, gien)\\r\\n(5, ginn)\\r\\n(5, nep)\\r\\n(5, nip)\\r\\n(5, pen)\\r\\n(5, pie)\\r\\n(5, pin)\\r\\n(5, piu)\\r\\n(5, pun)\\r\\n(4, eng)\\r\\n(4, gen)\\r\\n(4, gie)\\r\\n(4, gin)\\r\\n(4, gnu)\\r\\n(4, gue)\\r\\n(4, gun)\\r\\n(4, neg)\\r\\n(4, nine)\\r\\n(4, pe)\\r\\n(4, pi)\\r\\n(4, up)\\r\\n(3, gi)\\r\\n(3, gu)\\r\\n(3, inn)\\r\\n(3, nie)\\r\\n(3, nun)\\r\\n(3, ug)\\r\\n(3, uni)\\r\\n(2, en)\\r\\n(2, in)\\r\\n(2, ne)\\r\\n(2, nu)\\r\\n(2, un)\\r\\nTotal number of words: 53\\r\\n'\n",
    "else:\n",
    "    solution = '(10, penguin)\\n(9, pening)\\n(8, genip)\\n(8, unpeg)\\n(7, ingenu)\\n(7, penni)\\n(7, ping)\\n(7, pung)\\n(7, unpen)\\n(7, unpin)\\n(6, gip)\\n(6, gup)\\n(6, peg)\\n(6, pein)\\n(6, peni)\\n(6, pig)\\n(6, pine)\\n(6, pug)\\n(5, ennui)\\n(5, genu)\\n(5, gien)\\n(5, ginn)\\n(5, nep)\\n(5, nip)\\n(5, pen)\\n(5, pie)\\n(5, pin)\\n(5, piu)\\n(5, pun)\\n(4, eng)\\n(4, gen)\\n(4, gie)\\n(4, gin)\\n(4, gnu)\\n(4, gue)\\n(4, gun)\\n(4, neg)\\n(4, nine)\\n(4, pe)\\n(4, pi)\\n(4, up)\\n(3, gi)\\n(3, gu)\\n(3, inn)\\n(3, nie)\\n(3, nun)\\n(3, ug)\\n(3, uni)\\n(2, en)\\n(2, in)\\n(2, ne)\\n(2, nu)\\n(2, un)\\nTotal number of words: 53\\n'\n",
    "\n",
    "print(\"\\nDoes your output match our expectation?\", test == solution)"
   ]
  },
  {
   "cell_type": "code",
   "execution_count": null,
   "metadata": {
    "deletable": false,
    "editable": false,
    "nbgrader": {
     "cell_type": "code",
     "checksum": "b1747adb3d07ac69c556763489095a80",
     "grade": true,
     "grade_id": "cell-ceab3d4433043319",
     "locked": true,
     "points": 10,
     "schema_version": 3,
     "solution": false
    }
   },
   "outputs": [],
   "source": [
    "\"\"\" The code should run in less than 30 seconds \"\"\"\n",
    "# Autograde cell - do not erase/delete\n",
    "\n",
    "import time\n",
    "start = time.time()\n",
    "\n",
    "#test the code in the command line\n",
    "cmd = ['python', 'scrabble.py', 'PENGU*?']\n",
    "out = bytes.decode(subprocess.Popen(cmd, stdout=subprocess.PIPE).communicate()[0])\n",
    "\n",
    "tot_time = time.time() - start\n",
    "print('Total time was {} seconds'.format(tot_time))\n",
    "assert_less(tot_time, 30)"
   ]
  },
  {
   "cell_type": "code",
   "execution_count": null,
   "metadata": {
    "deletable": false,
    "editable": false,
    "nbgrader": {
     "cell_type": "code",
     "checksum": "a4788c3f51e2adb0188a2fc81ee9d738",
     "grade": true,
     "grade_id": "cell-7c027ce8309adb3d",
     "locked": true,
     "points": 3,
     "schema_version": 3,
     "solution": false
    }
   },
   "outputs": [],
   "source": [
    "# Autograding test"
   ]
  },
  {
   "cell_type": "code",
   "execution_count": null,
   "metadata": {
    "deletable": false,
    "editable": false,
    "nbgrader": {
     "cell_type": "code",
     "checksum": "871b8f9a784652d2ea69be1d72776e66",
     "grade": true,
     "grade_id": "cell-50add00e9627b5ac",
     "locked": true,
     "points": 3,
     "schema_version": 3,
     "solution": false
    }
   },
   "outputs": [],
   "source": [
    "# Autograding test"
   ]
  },
  {
   "cell_type": "code",
   "execution_count": null,
   "metadata": {
    "deletable": false,
    "editable": false,
    "nbgrader": {
     "cell_type": "code",
     "checksum": "f2d8accae95ddc72bbf0d48980b4173f",
     "grade": true,
     "grade_id": "cell-bab1478c7cd4a7f2",
     "locked": true,
     "points": 3,
     "schema_version": 3,
     "solution": false
    }
   },
   "outputs": [],
   "source": [
    "# Autograding test"
   ]
  },
  {
   "cell_type": "code",
   "execution_count": null,
   "metadata": {
    "deletable": false,
    "editable": false,
    "nbgrader": {
     "cell_type": "code",
     "checksum": "79a0c91202e624c4f7f6d067738d6826",
     "grade": true,
     "grade_id": "cell-bb7a872eda80e6a5",
     "locked": true,
     "points": 10,
     "schema_version": 3,
     "solution": false
    }
   },
   "outputs": [],
   "source": [
    "# Autograding test"
   ]
  },
  {
   "cell_type": "code",
   "execution_count": null,
   "metadata": {
    "deletable": false,
    "editable": false,
    "nbgrader": {
     "cell_type": "code",
     "checksum": "0a69a13b2cd09295cccc8688e3511307",
     "grade": true,
     "grade_id": "cell-8d2de0735f148301",
     "locked": true,
     "points": 15,
     "schema_version": 3,
     "solution": false
    }
   },
   "outputs": [],
   "source": [
    "# Autograding test"
   ]
  },
  {
   "cell_type": "code",
   "execution_count": null,
   "metadata": {
    "deletable": false,
    "editable": false,
    "nbgrader": {
     "cell_type": "code",
     "checksum": "a9ff2a5e5bee27b9195c6d4efafc1e76",
     "grade": true,
     "grade_id": "cell-16d4589caf032f51",
     "locked": true,
     "points": 15,
     "schema_version": 3,
     "solution": false
    }
   },
   "outputs": [],
   "source": [
    "# Autograding test"
   ]
  },
  {
   "cell_type": "code",
   "execution_count": null,
   "metadata": {
    "deletable": false,
    "nbgrader": {
     "cell_type": "code",
     "checksum": "b3c27ffc9dffe611614298bc3e13e1bd",
     "grade": true,
     "grade_id": "cell-8ab68ebfed94230a",
     "locked": false,
     "points": 5,
     "schema_version": 3,
     "solution": true
    }
   },
   "outputs": [],
   "source": [
    "# YOUR CODE HERE\n",
    "raise NotImplementedError()"
   ]
  },
  {
   "cell_type": "code",
   "execution_count": null,
   "metadata": {
    "deletable": false,
    "nbgrader": {
     "cell_type": "code",
     "checksum": "c76f69203e3273ff9c33e21eeb671660",
     "grade": true,
     "grade_id": "cell-157fccf420d13535",
     "locked": false,
     "points": 10,
     "schema_version": 3,
     "solution": true
    }
   },
   "outputs": [],
   "source": [
    "\"\"\"Implement extra credit call run the code here\n",
    "   If this cell isnt filled out - we'll assume the extra credit wasn't done\n",
    "   Please write a comment on how to use your extra credit syntax and any assumptions also!\n",
    "\"\"\"\n",
    "\n",
    "# YOUR CODE HERE"
   ]
  },
  {
   "cell_type": "markdown",
   "metadata": {
    "deletable": false,
    "editable": false,
    "nbgrader": {
     "cell_type": "markdown",
     "checksum": "5fe2b8a31e32e1ebc9bcbfbd85dffb91",
     "grade": false,
     "grade_id": "cell-23671d4910b2b329",
     "locked": true,
     "schema_version": 3,
     "solution": false
    }
   },
   "source": [
    "## If you have feedback for this homework, please submit it using the link below:\n",
    "\n",
    "http://goo.gl/forms/74yCiQTf6k"
   ]
  }
 ],
 "metadata": {
  "anaconda-cloud": {},
  "kernelspec": {
   "display_name": "Python 3",
   "language": "python",
   "name": "python3"
  },
  "language_info": {
   "codemirror_mode": {
    "name": "ipython",
    "version": 3
   },
   "file_extension": ".py",
   "mimetype": "text/x-python",
   "name": "python",
   "nbconvert_exporter": "python",
   "pygments_lexer": "ipython3",
   "version": "3.7.6"
  }
 },
 "nbformat": 4,
 "nbformat_minor": 1
}
