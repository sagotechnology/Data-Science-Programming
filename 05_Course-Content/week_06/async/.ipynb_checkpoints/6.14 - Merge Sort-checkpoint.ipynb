{
 "cells": [
  {
   "cell_type": "markdown",
   "metadata": {},
   "source": [
    "## The Merge Sort ... \n",
    "This is an example of a log-linear growth.  Practice reading each line ... \n",
    "It is useful to check a visualization of the merge sort - see http://interactivepython.org/courselib/static/pythonds/SortSearch/TheMergeSort.html#lst-merge and scroll down to the visualization."
   ]
  },
  {
   "cell_type": "code",
   "execution_count": 3,
   "metadata": {},
   "outputs": [
    {
     "name": "stdout",
     "output_type": "stream",
     "text": [
      "[11, 22, 33, 44, 44, 55, 66, 77, 88]\n"
     ]
    }
   ],
   "source": [
    "# Merge sort\n",
    "def mergeSort(alist):\n",
    "    \n",
    "    if len(alist)>1:\n",
    "        mid = len(alist)//2\n",
    "        leftHalf = alist[:mid]\n",
    "        rightHalf = alist[mid:]\n",
    "        mergeSort(leftHalf)\n",
    "        mergeSort(rightHalf)\n",
    "        i = 0\n",
    "        j = 0\n",
    "        k = 0\n",
    "        \n",
    "        while i < len(leftHalf) and j < len(rightHalf):\n",
    "            if leftHalf[i] < rightHalf[j]:\n",
    "                alist[k]= leftHalf[i]\n",
    "                i += 1\n",
    "            else:\n",
    "                alist[k]=rightHalf[j]\n",
    "                j += 1\n",
    "            k += 1\n",
    "        \n",
    "        while i < len(leftHalf):\n",
    "            alist[k]=leftHalf[i]\n",
    "            i += 1\n",
    "            k += 1\n",
    "        \n",
    "        while j < len(rightHalf):\n",
    "            alist[k]=rightHalf[j]\n",
    "            j += 1\n",
    "            k += 1\n",
    "    \n",
    "    return alist\n",
    "\n",
    "test_list = [11,22,55,44,77,66,44,33,88]\n",
    "sorted_list = mergeSort(test_list)\n",
    "print(sorted_list)"
   ]
  }
 ],
 "metadata": {
  "kernelspec": {
   "display_name": "Python 3",
   "language": "python",
   "name": "python3"
  },
  "language_info": {
   "codemirror_mode": {
    "name": "ipython",
    "version": 3
   },
   "file_extension": ".py",
   "mimetype": "text/x-python",
   "name": "python",
   "nbconvert_exporter": "python",
   "pygments_lexer": "ipython3",
   "version": "3.7.4"
  }
 },
 "nbformat": 4,
 "nbformat_minor": 2
}
