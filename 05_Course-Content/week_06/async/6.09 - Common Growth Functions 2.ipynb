{
 "cells": [
  {
   "cell_type": "markdown",
   "metadata": {},
   "source": [
    "## More complexity examples.  \n",
    "We'll explore insert and merge sorts in upcoming drills. Measuring the worst case scenario is \"Big O\"; measuring the fastest, or lower-bound is Omega Notation; and the formal way of expressing both lower and upper bounds of an algorithm's running time is called Theta Notation. We focus only on Big-O."
   ]
  },
  {
   "cell_type": "markdown",
   "metadata": {},
   "source": [
    "O(n^2) or quadratic. Notice the # of \"for\" loops. This increases the number of times the inputs are processed ... turning O(n) runtime into the square of the input size 'n'. The runtime goes up faster than your input sizes, so processing time increases rapidly. This is usually when you iterate through multiple embedded loops like this example:"
   ]
  },
  {
   "cell_type": "code",
   "execution_count": 1,
   "metadata": {},
   "outputs": [
    {
     "name": "stdout",
     "output_type": "stream",
     "text": [
      "43\n"
     ]
    }
   ],
   "source": [
    "# This is O(n^2).  Each for-loop is n; two embedded loops over the same input space make n^2\n",
    "\n",
    "def ON2(input1):\n",
    "    count = 0\n",
    "    for i in input1:\n",
    "        count += 1\n",
    "        for j in input1:\n",
    "            count += 1\n",
    "    return 1 + count\n",
    "\n",
    "print(ON2([1,2,3,4,5,6]))"
   ]
  },
  {
   "cell_type": "markdown",
   "metadata": {},
   "source": [
    "The below example is O(n^3) or cubic.  Often we have to manipulate matrices.  This can grow in size awfully fast ... "
   ]
  },
  {
   "cell_type": "code",
   "execution_count": 4,
   "metadata": {},
   "outputs": [
    {
     "name": "stdout",
     "output_type": "stream",
     "text": [
      "156\n"
     ]
    }
   ],
   "source": [
    "# O(N3)is merely O(N2) with another exponent. \n",
    "# this snippet shows the difference by changing the exponent.\n",
    "\n",
    "def ON3(input2):\n",
    "    count = 0\n",
    "    for i in input2:\n",
    "        count += 1\n",
    "        for j in input2:\n",
    "            count += 1\n",
    "            for k in input2:\n",
    "                count +=1\n",
    "    return 1 + count\n",
    "\n",
    "print(ON3([1,2,3,4,5]))"
   ]
  },
  {
   "cell_type": "markdown",
   "metadata": {},
   "source": [
    "The O(nlogN) increases as the input size goes up. However, it increases the log of the input size; this means you can exponentially increase your input size, without linearly increasing the processing time to match."
   ]
  },
  {
   "cell_type": "code",
   "execution_count": 14,
   "metadata": {},
   "outputs": [
    {
     "name": "stdout",
     "output_type": "stream",
     "text": [
      "17\n"
     ]
    }
   ],
   "source": [
    "def ONlogN(input3, count=0):\n",
    "    length = len(input3)\n",
    "    count += 1\n",
    "    if length <= 1:\n",
    "        return count\n",
    "    else:\n",
    "        return ONlogN(input3[:length//2], count) + ONlogN(input3[length//2:], count)\n",
    "    \n",
    "    \n",
    "print(ONlogN([1,2,3,4,5]))"
   ]
  }
 ],
 "metadata": {
  "kernelspec": {
   "display_name": "Python 3",
   "language": "python",
   "name": "python3"
  },
  "language_info": {
   "codemirror_mode": {
    "name": "ipython",
    "version": 3
   },
   "file_extension": ".py",
   "mimetype": "text/x-python",
   "name": "python",
   "nbconvert_exporter": "python",
   "pygments_lexer": "ipython3",
   "version": "3.7.4"
  }
 },
 "nbformat": 4,
 "nbformat_minor": 2
}
