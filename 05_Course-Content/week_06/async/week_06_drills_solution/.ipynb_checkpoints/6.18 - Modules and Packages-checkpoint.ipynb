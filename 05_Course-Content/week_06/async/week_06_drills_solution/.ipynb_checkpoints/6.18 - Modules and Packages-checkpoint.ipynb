{
 "cells": [
  {
   "cell_type": "markdown",
   "metadata": {},
   "source": [
    "## Modules & Packages\n",
    "\n",
    "Loading and updating packages with Anaconda. You can use the Anaconda docs as a reference:\n",
    "https://docs.conda.io/projects/conda/en/latest/user-guide/tasks/manage-pkgs.html\n",
    "\n",
    "\n",
    "### Installing a package with Anaconda:\n",
    "To install packages in Anaconda use the ```conda install <package name>``` command from the command line or from jupyter notebooks as shown below. (the --yes is an option to automatically respond yes to installation prompts while the --prefix tells conda to install the package with the current kernel)\n",
    "\n",
    "For this example, we will install the package ```seaborn``` which is a graph/charting visualization tool."
   ]
  },
  {
   "cell_type": "code",
   "execution_count": 1,
   "metadata": {},
   "outputs": [
    {
     "name": "stdout",
     "output_type": "stream",
     "text": [
      "Collecting package metadata (current_repodata.json): done\n",
      "Solving environment: done\n",
      "\n",
      "# All requested packages already installed.\n",
      "\n"
     ]
    }
   ],
   "source": [
    "# Install a conda package in the current Jupyter kernel\n",
    "import sys\n",
    "\n",
    "!conda install --yes --prefix {sys.prefix} seaborn"
   ]
  },
  {
   "cell_type": "markdown",
   "metadata": {},
   "source": [
    "### Updating all installed packages with Anaconda\n",
    "\n",
    "Next let's update all of our installed Anaconda packages. To do this the command is ```conda update --all```.  Again we use the --yes in jupyter notebook to automatically fill in the yes during confirmation. (This might take awhile depending on how many packages need to be updated!!)"
   ]
  },
  {
   "cell_type": "code",
   "execution_count": null,
   "metadata": {},
   "outputs": [
    {
     "name": "stdout",
     "output_type": "stream",
     "text": [
      "Collecting package metadata (current_repodata.json): done\n",
      "Solving environment: done\n",
      "\n",
      "## Package Plan ##\n",
      "\n",
      "  environment location: /opt/anaconda3\n",
      "\n",
      "\n",
      "The following NEW packages will be INSTALLED:\n",
      "\n",
      "  _anaconda_depends  pkgs/main/osx-64::_anaconda_depends-2019.03-py37_0\n",
      "  hypothesis         pkgs/main/noarch::hypothesis-5.4.1-py_0\n",
      "  matplotlib-base    pkgs/main/osx-64::matplotlib-base-3.1.3-py37h9aa3819_0\n",
      "  path               pkgs/main/osx-64::path-13.1.0-py37_0\n",
      "  pytest-astropy-he~ pkgs/main/noarch::pytest-astropy-header-0.1.2-py_0\n",
      "\n",
      "The following packages will be UPDATED:\n",
      "\n",
      "  anaconda-navigator                           1.9.7-py37_0 --> 1.9.7-py37_1\n",
      "  anaconda-project                               0.8.3-py_0 --> 0.8.4-py_0\n",
      "  asn1crypto                                   1.0.1-py37_0 --> 1.3.0-py37_0\n",
      "  astroid                                      2.3.1-py37_0 --> 2.3.3-py37_0\n",
      "  astropy                              3.2.2-py37h1de35cc_0 --> 4.0-py37h1de35cc_0\n",
      "  attrs                                         19.2.0-py_0 --> 19.3.0-py_0\n",
      "  babel                                          2.7.0-py_0 --> 2.8.0-py_0\n",
      "  beautifulsoup4                               4.8.0-py37_0 --> 4.8.2-py37_0\n",
      "  bitarray                             1.0.1-py37h1de35cc_0 --> 1.2.1-py37h1de35cc_0\n",
      "  bokeh                                        1.3.4-py37_0 --> 1.4.0-py37_0\n",
      "  bottleneck                           1.2.1-py37h1d22016_1 --> 1.3.1-py37h1d22016_0\n",
      "  ca-certificates                               2019.8.28-0 --> 2020.1.1-0\n",
      "  certifi                                  2019.9.11-py37_0 --> 2019.11.28-py37_0\n",
      "  cffi                                1.12.3-py37hb5b8e2f_0 --> 1.14.0-py37hb5b8e2f_0\n",
      "  cloudpickle                                    1.2.2-py_0 --> 1.3.0-py_0\n",
      "  colorama           pkgs/main/osx-64::colorama-0.4.1-py37~ --> pkgs/main/noarch::colorama-0.4.3-py_0\n",
      "  conda                                        4.8.0-py37_1 --> 4.8.2-py37_0\n",
      "  conda-build                                 3.18.9-py37_3 --> 3.18.11-py37_0\n",
      "  contextlib2                                    0.6.0-py_0 --> 0.6.0.post1-py_0\n",
      "  cryptography                           2.7-py37ha12b0ac_0 --> 2.8-py37ha12b0ac_0\n",
      "  curl                                    7.65.3-ha441bb4_0 --> 7.68.0-ha441bb4_0\n",
      "  cython                             0.29.13-py37h0a44026_0 --> 0.29.15-py37h0a44026_0\n",
      "  cytoolz                             0.10.0-py37h1de35cc_0 --> 0.10.1-py37h1de35cc_0\n",
      "  dask                                           2.5.2-py_0 --> 2.10.1-py_0\n",
      "  dask-core                                      2.5.2-py_0 --> 2.10.1-py_0\n",
      "  dbus                                    1.13.6-h90a0687_0 --> 1.13.12-h90a0687_0\n",
      "  decorator          pkgs/main/osx-64::decorator-4.4.0-py3~ --> pkgs/main/noarch::decorator-4.4.1-py_0\n",
      "  distributed                                    2.5.2-py_0 --> 2.10.0-py_0\n",
      "  docutils                                    0.15.2-py37_0 --> 0.16-py37_0\n",
      "  fsspec                                         0.5.2-py_0 --> 0.6.2-py_0\n",
      "  glib                                    2.56.2-hd9629dc_0 --> 2.63.1-hd977a24_0\n",
      "  h5py                                 2.9.0-py37h3134771_0 --> 2.10.0-py37h3134771_0\n",
      "  imageio                                      2.6.0-py37_0 --> 2.6.1-py37_0\n",
      "  imagesize          pkgs/main/osx-64::imagesize-1.1.0-py3~ --> pkgs/main/noarch::imagesize-1.2.0-py_0\n",
      "  importlib_metadata                            0.23-py37_0 --> 1.5.0-py37_0\n",
      "  ipykernel                            5.1.2-py37h39e3cac_0 --> 5.1.4-py37h39e3cac_0\n",
      "  ipython                              7.8.0-py37h39e3cac_0 --> 7.12.0-py37h5ca1d4c_0\n",
      "  jedi                                        0.15.1-py37_0 --> 0.16.0-py37_0\n",
      "  jinja2                                        2.10.3-py_0 --> 2.11.1-py_0\n",
      "  joblib             pkgs/main/osx-64::joblib-0.13.2-py37_0 --> pkgs/main/noarch::joblib-0.14.1-py_0\n",
      "  jsonschema                                   3.0.2-py37_0 --> 3.2.0-py37_0\n",
      "  jupyter_client                               5.3.3-py37_1 --> 5.3.4-py37_0\n",
      "  jupyter_console    pkgs/main/osx-64::jupyter_console-6.0~ --> pkgs/main/noarch::jupyter_console-6.1.0-py_0\n",
      "  jupyter_core       pkgs/main/noarch::jupyter_core-4.5.0-~ --> pkgs/main/osx-64::jupyter_core-4.6.1-py37_0\n",
      "  jupyterlab                             1.1.4-pyhf63ae98_0 --> 1.2.6-pyhf63ae98_0\n",
      "  keyring                                     18.0.0-py37_0 --> 21.1.0-py37_0\n",
      "  krb5                                    1.16.1-hddcf347_7 --> 1.17.1-hddcf347_0\n",
      "  lazy-object-proxy                    1.4.2-py37h1de35cc_0 --> 1.4.3-py37h1de35cc_0\n",
      "  libcurl                                 7.65.3-h051b688_0 --> 7.68.0-h051b688_0\n",
      "  libtiff                                 4.0.10-hcb84e12_2 --> 4.1.0-hcb84e12_0\n",
      "  llvmlite                            0.29.0-py37h98b8051_0 --> 0.31.0-py37h1341992_0\n",
      "  lxml                                 4.4.1-py37hef8c89e_0 --> 4.5.0-py37hef8c89e_0\n",
      "  matplotlib                           3.1.1-py37h54f8f79_0 --> 3.1.3-py37_0\n",
      "  mkl_fft                             1.0.14-py37h5e564d8_0 --> 1.0.15-py37h5e564d8_0\n",
      "  mock                  pkgs/main/osx-64::mock-3.0.5-py37_0 --> pkgs/main/noarch::mock-4.0.1-py_0\n",
      "  more-itertools     pkgs/main/osx-64::more-itertools-7.2.~ --> pkgs/main/noarch::more-itertools-8.2.0-py_0\n",
      "  nbconvert                                    5.6.0-py37_1 --> 5.6.1-py37_0\n",
      "  nbformat           pkgs/main/osx-64::nbformat-4.4.0-py37~ --> pkgs/main/noarch::nbformat-5.0.4-py_0\n",
      "  networkx                                         2.3-py_0 --> 2.4-py_0\n",
      "  notebook                                     6.0.1-py37_0 --> 6.0.3-py37_0\n",
      "  numba                               0.45.1-py37h6440ff4_0 --> 0.48.0-py37h6c726b0_0\n",
      "  numexpr                              2.7.0-py37h7413580_0 --> 2.7.1-py37hce01a72_0\n",
      "  numpy                               1.17.2-py37h99e6662_0 --> 1.18.1-py37h7241aed_0\n",
      "  numpy-base                          1.17.2-py37h6575580_0 --> 1.18.1-py37h6575580_1\n",
      "  numpydoc                                       0.9.1-py_0 --> 0.9.2-py_0\n",
      "  openpyxl                                       3.0.0-py_0 --> 3.0.3-py_0\n",
      "  openssl                                 1.1.1d-h1de35cc_2 --> 1.1.1d-h1de35cc_4\n",
      "  packaging                                       19.2-py_0 --> 20.1-py_0\n",
      "  pandas                              0.25.1-py37h0a44026_0 --> 1.0.1-py37h6c726b0_0\n",
      "  parso                                          0.5.1-py_0 --> 0.6.1-py_0\n",
      "  partd                                          1.0.0-py_0 --> 1.1.0-py_0\n",
      "  path.py                                       12.0.1-py_0 --> 12.4.0-0\n",
      "  pexpect                                      4.7.0-py37_0 --> 4.8.0-py37_0\n",
      "  pillow                               6.2.0-py37hb68e598_0 --> 7.0.0-py37h4655f20_0\n",
      "  pip                                         19.2.3-py37_0 --> 20.0.2-py37_1\n",
      "  pluggy                                      0.13.0-py37_0 --> 0.13.1-py37_0\n",
      "  prompt_toolkit                                2.0.10-py_0 --> 3.0.3-py_0\n",
      "  psutil                               5.6.3-py37h1de35cc_0 --> 5.6.7-py37h1de35cc_0\n",
      "  py                      pkgs/main/osx-64::py-1.8.0-py37_0 --> pkgs/main/noarch::py-1.8.1-py_0\n",
      "  pycurl                            7.43.0.3-py37ha12b0ac_0 --> 7.43.0.5-py37ha12b0ac_0\n",
      "  pygments                                       2.4.2-py_0 --> 2.5.2-py_0\n",
      "  pylint                                       2.4.2-py37_0 --> 2.4.4-py37_0\n",
      "  pyodbc                              4.0.27-py37h0a44026_0 --> 4.0.30-py37h0a44026_0\n",
      "  pyopenssl                                   19.0.0-py37_0 --> 19.1.0-py37_0\n",
      "  pyparsing                                      2.4.2-py_0 --> 2.4.6-py_0\n",
      "  pyrsistent                          0.15.4-py37h1de35cc_0 --> 0.15.7-py37h1de35cc_0\n",
      "  pytables                             3.5.2-py37h5bccee9_1 --> 3.6.1-py37h5bccee9_0\n",
      "  pytest                                       5.2.1-py37_0 --> 5.3.5-py37_0\n",
      "  pytest-astropy     pkgs/main/osx-64::pytest-astropy-0.5.~ --> pkgs/main/noarch::pytest-astropy-0.8.0-py_0\n",
      "  pytest-doctestplus                             0.4.0-py_0 --> 0.5.0-py_0\n",
      "  python                                   3.7.4-h359304d_1 --> 3.7.6-h359304d_2\n",
      "  python-dateutil    pkgs/main/osx-64::python-dateutil-2.8~ --> pkgs/main/noarch::python-dateutil-2.8.1-py_0\n",
      "  pywavelets                           1.0.3-py37h1d22016_1 --> 1.1.1-py37h1de35cc_0\n",
      "  pyyaml                               5.1.2-py37h1de35cc_0 --> 5.3-py37h1de35cc_0\n",
      "  pyzmq                               18.1.0-py37h0a44026_0 --> 18.1.1-py37h0a44026_0\n",
      "  qtawesome                                      0.6.0-py_0 --> 0.6.1-py_0\n",
      "  qtconsole                                      4.5.5-py_0 --> 4.6.0-py_1\n",
      "  requests                                    2.22.0-py37_0 --> 2.22.0-py37_1\n",
      "  ripgrep                                 0.10.0-hc07d326_0 --> 11.0.2-he32d670_0\n",
      "  rope                                          0.14.0-py_0 --> 0.16.0-py_0\n",
      "  ruamel_yaml                        0.15.46-py37h1de35cc_0 --> 0.15.87-py37h1de35cc_0\n",
      "  scikit-image                        0.15.0-py37h0a44026_0 --> 0.16.2-py37h6c726b0_0\n",
      "  scikit-learn                        0.21.3-py37h27c97d8_0 --> 0.22.1-py37h27c97d8_0\n",
      "  scipy                                1.3.1-py37h1410ff5_0 --> 1.4.1-py37h9fa6033_0\n",
      "  seaborn            pkgs/main/osx-64::seaborn-0.9.0-py37_0 --> pkgs/main/noarch::seaborn-0.10.0-py_0\n",
      "  setuptools                                  41.4.0-py37_0 --> 45.2.0-py37_0\n",
      "  six                                         1.12.0-py37_0 --> 1.14.0-py37_0\n",
      "  soupsieve                                    1.9.3-py37_0 --> 1.9.5-py37_0\n",
      "  sphinx                                         2.2.0-py_0 --> 2.4.0-py_0\n",
      "  sphinxcontrib-web~                             1.1.2-py_0 --> 1.2.0-py_0\n",
      "  sqlalchemy                           1.3.9-py37h1de35cc_0 --> 1.3.13-py37h1de35cc_0\n",
      "  sqlite                                  3.30.0-ha441bb4_0 --> 3.31.1-ha441bb4_0\n",
      "  statsmodels                         0.10.1-py37h1d22016_0 --> 0.11.0-py37h1de35cc_0\n",
      "  sympy                                          1.4-py37_0 --> 1.5.1-py37_0\n",
      "  tbb                                     2019.8-h04f5b5a_0 --> 2020.0-h04f5b5a_0\n",
      "  tblib                                          1.4.0-py_0 --> 1.6.0-py_0\n",
      "  terminado                                    0.8.2-py37_0 --> 0.8.3-py37_0\n",
      "  testpath           pkgs/main/osx-64::testpath-0.4.2-py37~ --> pkgs/main/noarch::testpath-0.4.4-py_0\n",
      "  tornado                              6.0.3-py37h1de35cc_0 --> 6.0.3-py37h1de35cc_3\n",
      "  tqdm                                          4.36.1-py_0 --> 4.42.1-py_0\n",
      "  urllib3                                     1.24.2-py37_0 --> 1.25.8-py37_0\n",
      "  wcwidth            pkgs/main/osx-64::wcwidth-0.1.7-py37_0 --> pkgs/main/noarch::wcwidth-0.1.8-py_0\n",
      "  werkzeug                                      0.16.0-py_0 --> 1.0.0-py_0\n",
      "  wheel                                       0.33.6-py37_0 --> 0.34.2-py37_0\n",
      "  wurlitzer                                    1.0.3-py37_0 --> 2.0.0-py37_0\n",
      "  xlsxwriter                                     1.2.1-py_0 --> 1.2.7-py_0\n",
      "  xlwings                                    0.15.10-py37_0 --> 0.17.1-py37_0\n",
      "  zipp                                           0.6.0-py_0 --> 2.2.0-py_0\n",
      "\n",
      "The following packages will be DOWNGRADED:\n",
      "\n",
      "  anaconda                                   2019.10-py37_0 --> custom-py37_1\n",
      "\n",
      "\n"
     ]
    },
    {
     "name": "stdout",
     "output_type": "stream",
     "text": [
      "Preparing transaction: done\n",
      "Verifying transaction: done\n",
      "Executing transaction: | "
     ]
    }
   ],
   "source": [
    "!conda update --all --yes "
   ]
  },
  {
   "cell_type": "markdown",
   "metadata": {},
   "source": [
    "### List currently installed Anaconda Packages\n",
    "\n",
    "To list all of your currently installed Anaconda Packages the command is ```conda list```.  You should have seaborn installed from above - please make sure you have numpy, pandas and matplotlib installed also!"
   ]
  },
  {
   "cell_type": "code",
   "execution_count": null,
   "metadata": {},
   "outputs": [],
   "source": [
    "!conda list"
   ]
  },
  {
   "cell_type": "markdown",
   "metadata": {},
   "source": [
    "## Getting arguments passed from the command line\n",
    "\n",
    "Here's a code snippet. Write a script that will print the three passed arguments to your script from the command line. The second shell shows how the script will be executed. \n",
    "\n",
    "- The ```%%writefile``` command is a 'magic' command in jupyter to automatically write that file to the same folder as this jupyter notebook. Running the block wont run the Python script - rather it outputs the content of the block to that filename."
   ]
  },
  {
   "cell_type": "code",
   "execution_count": 4,
   "metadata": {},
   "outputs": [
    {
     "name": "stdout",
     "output_type": "stream",
     "text": [
      "Overwriting cmd_line.py\n"
     ]
    }
   ],
   "source": [
    "%%writefile cmd_line.py\n",
    "import sys\n",
    "\n",
    "print(\"This snippet prints the 3 arguments passed to the command.\")\n",
    "# finish the exercise here by printing out the 3 system arguments.\n",
    "\n",
    "print(sys.argv[1], sys.argv[2], sys.argv[3])"
   ]
  },
  {
   "cell_type": "code",
   "execution_count": 5,
   "metadata": {},
   "outputs": [
    {
     "name": "stdout",
     "output_type": "stream",
     "text": [
      "This snippet prints the 3 arguments passed to the command.\n",
      "You did it!\n"
     ]
    }
   ],
   "source": [
    "!python cmd_line.py \"You\" \"did\" \"it!\""
   ]
  }
 ],
 "metadata": {
  "kernelspec": {
   "display_name": "Python 3",
   "language": "python",
   "name": "python3"
  },
  "language_info": {
   "codemirror_mode": {
    "name": "ipython",
    "version": 3
   },
   "file_extension": ".py",
   "mimetype": "text/x-python",
   "name": "python",
   "nbconvert_exporter": "python",
   "pygments_lexer": "ipython3",
   "version": "3.7.4"
  }
 },
 "nbformat": 4,
 "nbformat_minor": 2
}
