{
 "cells": [
  {
   "cell_type": "markdown",
   "metadata": {},
   "source": [
    "## For Loops\n",
    "\n",
    "Each subsequent exercise ramps up in difficulty. Sample answers are in a separate folder with an explanation (there might be multiple ways to solve a problem though!) "
   ]
  },
  {
   "cell_type": "markdown",
   "metadata": {},
   "source": [
    "4.3.1 Code a ```for``` loop that counts all numbers from 1 to 10."
   ]
  },
  {
   "cell_type": "code",
   "execution_count": 1,
   "metadata": {},
   "outputs": [
    {
     "name": "stdout",
     "output_type": "stream",
     "text": [
      "0\n",
      "1\n",
      "2\n",
      "3\n",
      "4\n",
      "5\n",
      "6\n",
      "7\n",
      "8\n",
      "9\n",
      "10\n"
     ]
    }
   ],
   "source": [
    "# Your code here\n",
    "for i in range(11):\n",
    "    print(i)"
   ]
  },
  {
   "cell_type": "markdown",
   "metadata": {},
   "source": [
    "4.3.2 Code a ```for``` loop that loops through the following string (named sentence) and removes the spaces."
   ]
  },
  {
   "cell_type": "code",
   "execution_count": 14,
   "metadata": {},
   "outputs": [
    {
     "name": "stdout",
     "output_type": "stream",
     "text": [
      "Excellent!"
     ]
    }
   ],
   "source": [
    "sentence = \"E x  ce ll  ent !\"\n",
    "# Your code here\n",
    "for char in sentence:\n",
    "    if char != ' ':\n",
    "        print(char, end='')"
   ]
  },
  {
   "cell_type": "markdown",
   "metadata": {},
   "source": [
    "4.3.3 Code a ```for``` loop that loops through the following list (named small_list) and sums up all of the numbers and finds the minimum and maximum (there are built in functions to do this but please do this with a for loop)."
   ]
  },
  {
   "cell_type": "code",
   "execution_count": 22,
   "metadata": {},
   "outputs": [
    {
     "data": {
      "text/plain": [
       "[113, 1, 44]"
      ]
     },
     "execution_count": 22,
     "metadata": {},
     "output_type": "execute_result"
    }
   ],
   "source": [
    "num_list = [1,2,3,10,12,13,22,44,6]\n",
    "# Your code here\n",
    "sum_num = 0\n",
    "min_num = max_num = num_list[0]\n",
    "for num in num_list:\n",
    "    sum_num += num\n",
    "    if num < min_num:\n",
    "        min_num = num\n",
    "    if num > max_num:\n",
    "        max_num = num\n",
    "small_list = [sum_num, min_num, max_num]\n",
    "small_list"
   ]
  },
  {
   "cell_type": "markdown",
   "metadata": {},
   "source": [
    "4.3.4 Code a ```for``` loop that loops through the following list (named small_list) and only prints out the numbers."
   ]
  },
  {
   "cell_type": "code",
   "execution_count": 30,
   "metadata": {},
   "outputs": [
    {
     "data": {
      "text/plain": [
       "[1, 10.0]"
      ]
     },
     "execution_count": 30,
     "metadata": {},
     "output_type": "execute_result"
    }
   ],
   "source": [
    "small_list = ['The', 'number', 1, 'of', True, 'guesses', 'is', 10.0]\n",
    "# Your code here\n",
    "sample_list = []\n",
    "for item in small_list:\n",
    "    if type(item) in (float,int):\n",
    "        sample_list.append(item)\n",
    "sample_list        "
   ]
  },
  {
   "cell_type": "markdown",
   "metadata": {},
   "source": [
    "4.3.5 Code a ```for``` loop that finds the factorial of a number given below: "
   ]
  },
  {
   "cell_type": "code",
   "execution_count": 36,
   "metadata": {},
   "outputs": [
    {
     "name": "stdout",
     "output_type": "stream",
     "text": [
      "120\n"
     ]
    }
   ],
   "source": [
    "fact_num = 5\n",
    "factorial = 1\n",
    "for num in range(fact_num,1,-1):\n",
    "    factorial *= num\n",
    "print(factorial)"
   ]
  },
  {
   "cell_type": "markdown",
   "metadata": {},
   "source": [
    "4.3.6 Code ```for``` loops that loops through the list of lists below and prints out each character only doing a return (or line break) at the end of each sub-list."
   ]
  },
  {
   "cell_type": "code",
   "execution_count": 38,
   "metadata": {},
   "outputs": [
    {
     "name": "stdout",
     "output_type": "stream",
     "text": [
      "Enchantingprocess,invitingwarmscenery,beautifulwisdom."
     ]
    }
   ],
   "source": [
    "list_of_lists = [['E', 'n', 'c', 'h', 'a', 'n', 't', 'i', 'n', 'g',], ['p', 'r', 'o', 'c', 'e', 's', 's', ','], \n",
    "                 ['i', 'n', 'v', 'i', 't', 'i', 'n', 'g'], ['w', 'a', 'r', 'm'], ['s', 'c', 'e', 'n', 'e', 'r', 'y', ','],\n",
    "                 ['b', 'e', 'a', 'u', 't', 'i', 'f', 'u', 'l'], ['w', 'i', 's', 'd', 'o', 'm', '.']\n",
    "                ]\n",
    "\n",
    "# Your code here\n",
    "for small_list in list_of_lists:\n",
    "    for char in small_list:\n",
    "        print(char, end = '')"
   ]
  },
  {
   "cell_type": "markdown",
   "metadata": {},
   "source": [
    "4.3.7 Code two ```for``` loops that makes a rectangle of ```#```s using the length and width given below. For example:\n",
    "```\n",
    "length = 3\n",
    "width = 2\n",
    "\n",
    "Answer:\n",
    "###\n",
    "###\n",
    "```"
   ]
  },
  {
   "cell_type": "code",
   "execution_count": 49,
   "metadata": {},
   "outputs": [
    {
     "name": "stdout",
     "output_type": "stream",
     "text": [
      "\n",
      "#####\n",
      "#####\n",
      "#####\n",
      "#####"
     ]
    }
   ],
   "source": [
    "length = 4\n",
    "width = 5\n",
    "# Your code here\n",
    "for row in range(length):\n",
    "    print()\n",
    "    for column in range(width):\n",
    "        print('#', end = '')"
   ]
  },
  {
   "cell_type": "markdown",
   "metadata": {},
   "source": [
    "4.3.8 A simple word count! Loop through the passage of text below and store each word in a dictionary that \n",
    "has a key:value pair of ```word: # of occurrences``` (for example if there are 10  occurrences of 'the' in the passage, one dictionary entry would be 'the': 10)"
   ]
  },
  {
   "cell_type": "code",
   "execution_count": 72,
   "metadata": {},
   "outputs": [
    {
     "data": {
      "text/plain": [
       "{'Python': 4,\n",
       " 'was': 2,\n",
       " 'conceived': 1,\n",
       " 'in': 7,\n",
       " 'the': 10,\n",
       " 'late': 1,\n",
       " '1980s': 1,\n",
       " 'and': 4,\n",
       " 'its': 1,\n",
       " 'implementation': 1,\n",
       " 'began': 1,\n",
       " 'December': 2,\n",
       " '1989': 2,\n",
       " 'by': 3,\n",
       " 'Guido': 1,\n",
       " 'van': 1,\n",
       " 'Rossum': 3,\n",
       " 'at': 1,\n",
       " 'Centrum': 1,\n",
       " 'Wiskunde': 1,\n",
       " '&': 1,\n",
       " 'Informatica': 1,\n",
       " 'Netherlands': 1,\n",
       " 'as': 2,\n",
       " 'a': 7,\n",
       " 'successor': 1,\n",
       " 'to': 4,\n",
       " 'ABC': 2,\n",
       " 'language': 2,\n",
       " 'itself': 1,\n",
       " 'inspired': 1,\n",
       " 'SETL': 1,\n",
       " 'capable': 1,\n",
       " 'of': 4,\n",
       " 'exception': 1,\n",
       " 'handling': 1,\n",
       " 'interfacing': 1,\n",
       " 'with': 1,\n",
       " 'Amoeba': 1,\n",
       " 'operating': 1,\n",
       " 'system': 1,\n",
       " '.': 7,\n",
       " 'Van': 2,\n",
       " 'remains': 1,\n",
       " \"Python's\": 3,\n",
       " 'principal': 1,\n",
       " 'author': 1,\n",
       " 'His': 1,\n",
       " 'continuing': 1,\n",
       " 'central': 1,\n",
       " 'role': 1,\n",
       " 'development': 1,\n",
       " 'is': 1,\n",
       " 'reflected': 1,\n",
       " 'title': 2,\n",
       " 'given': 1,\n",
       " 'him': 1,\n",
       " 'community': 1,\n",
       " 'Benevolent': 1,\n",
       " 'Dictator': 1,\n",
       " 'For': 1,\n",
       " 'Life': 1,\n",
       " 'On': 1,\n",
       " 'origins': 1,\n",
       " 'wrote': 1,\n",
       " '1996': 1,\n",
       " 'In': 1,\n",
       " 'I': 5,\n",
       " 'looking': 1,\n",
       " 'for': 3,\n",
       " 'hobby': 1,\n",
       " 'programming': 1,\n",
       " 'project': 2,\n",
       " 'that': 2,\n",
       " 'would': 3,\n",
       " 'keep': 1,\n",
       " 'me': 1,\n",
       " 'occupied': 1,\n",
       " 'during': 1,\n",
       " 'week': 1,\n",
       " 'around': 1,\n",
       " 'Christmas': 1,\n",
       " 'My': 1,\n",
       " 'office': 1,\n",
       " 'be': 1,\n",
       " 'closed': 1,\n",
       " 'but': 1,\n",
       " 'had': 2,\n",
       " 'home': 1,\n",
       " 'computer': 1,\n",
       " 'not': 1,\n",
       " 'much': 1,\n",
       " 'else': 1,\n",
       " 'on': 1,\n",
       " 'my': 1,\n",
       " 'hands': 1,\n",
       " 'decided': 1,\n",
       " 'write': 1,\n",
       " 'an': 1,\n",
       " 'interpreter': 1,\n",
       " 'new': 1,\n",
       " 'scripting': 1,\n",
       " 'been': 1,\n",
       " 'thinking': 1,\n",
       " 'about': 1,\n",
       " 'lately': 1,\n",
       " 'descendant': 1,\n",
       " 'appeal': 1,\n",
       " 'Unix/C': 1,\n",
       " 'hackers': 1,\n",
       " 'chose': 1,\n",
       " 'working': 1,\n",
       " 'being': 1,\n",
       " 'slightly': 1,\n",
       " 'irreverent': 1,\n",
       " 'mood': 1,\n",
       " 'big': 1,\n",
       " 'fan': 1,\n",
       " 'Monty': 1,\n",
       " 'Flying': 1,\n",
       " 'Circus': 1}"
      ]
     },
     "execution_count": 72,
     "metadata": {},
     "output_type": "execute_result"
    }
   ],
   "source": [
    "# This text adapted from the wikipedia entry on python\n",
    "\n",
    "text_list = ['Python', 'was', 'conceived', 'in', 'the', 'late', '1980s', 'and', 'its', 'implementation', 'began', 'in',\n",
    " 'December', '1989', 'by', 'Guido', 'van', 'Rossum', 'at', 'Centrum', 'Wiskunde', '&', 'Informatica', 'in', 'the',\n",
    " 'Netherlands', 'as', 'a', 'successor', 'to', 'the', 'ABC', 'language', 'itself', 'inspired', 'by', 'SETL', 'capable',\n",
    " 'of', 'exception', 'handling', 'and', 'interfacing', 'with', 'the', 'Amoeba', 'operating', 'system', '.', 'Van', 'Rossum',\n",
    " 'remains', \"Python's\", 'principal', 'author', '.', 'His', 'continuing', 'central', 'role', 'in', \"Python's\", 'development',\n",
    " 'is', 'reflected', 'in', 'the', 'title', 'given', 'to', 'him', 'by', 'the', 'Python', 'community', 'Benevolent', 'Dictator',\n",
    " 'For', 'Life', '.', 'On', 'the', 'origins', 'of', 'Python', 'Van', 'Rossum', 'wrote', 'in', '1996', 'In', 'December',\n",
    " '1989', 'I', 'was', 'looking', 'for', 'a', 'hobby', 'programming', 'project', 'that', 'would', 'keep', 'me', 'occupied',\n",
    " 'during', 'the', 'week', 'around', 'Christmas', '.', 'My', 'office', 'would', 'be', 'closed', 'but', 'I', 'had', 'a',\n",
    " 'home', 'computer', 'and', 'not', 'much', 'else', 'on', 'my', 'hands', '.', 'I', 'decided', 'to', 'write', 'an', 'interpreter',\n",
    " 'for', 'the', 'new', 'scripting', 'language', 'I', 'had', 'been', 'thinking', 'about', 'lately', 'a', 'descendant', 'of',\n",
    " 'ABC', 'that', 'would', 'appeal', 'to', 'Unix/C', 'hackers', '.', 'I', 'chose', 'Python', 'as', 'a', 'working', 'title',\n",
    " 'for', 'the', 'project', 'being', 'in', 'a', 'slightly', 'irreverent', 'mood', 'and', 'a', 'big', 'fan', 'of', 'Monty',\n",
    " \"Python's\", 'Flying', 'Circus', '.']\n",
    "\n",
    "# Your code here\n",
    "text_dict = {}\n",
    "for word in text_list:\n",
    "    if word in text_dict.keys():\n",
    "        text_dict[word] += 1\n",
    "    else:\n",
    "        text_dict[word] = 1\n",
    "text_dict"
   ]
  },
  {
   "cell_type": "markdown",
   "metadata": {},
   "source": [
    "4.3.9 Loop through the dictionary you made above of {word: # of occurrences}, sum up the total number of words and divide each entry in the dictionary by that total sum and store it in a new dictionary (this will take 2 separate loops!) (In data science this is called Term-Frequency or TF) \n",
    "\n",
    "Extra challenge: Sort the output by the TF in descending order."
   ]
  },
  {
   "cell_type": "code",
   "execution_count": null,
   "metadata": {
    "collapsed": true
   },
   "outputs": [],
   "source": [
    "# Your code here"
   ]
  }
 ],
 "metadata": {
  "kernelspec": {
   "display_name": "Python 3",
   "language": "python",
   "name": "python3"
  },
  "language_info": {
   "codemirror_mode": {
    "name": "ipython",
    "version": 3
   },
   "file_extension": ".py",
   "mimetype": "text/x-python",
   "name": "python",
   "nbconvert_exporter": "python",
   "pygments_lexer": "ipython3",
   "version": "3.7.4"
  }
 },
 "nbformat": 4,
 "nbformat_minor": 2
}
