{
 "cells": [
  {
   "cell_type": "code",
   "execution_count": 4,
   "metadata": {},
   "outputs": [
    {
     "name": "stdout",
     "output_type": "stream",
     "text": [
      "Enter an integer: 8\n",
      "Even\n"
     ]
    }
   ],
   "source": [
    "x = int(input(\"Enter an integer: \"))\n",
    "if x % 2 == 0:\n",
    "    print(\"Even\")"
   ]
  },
  {
   "cell_type": "code",
   "execution_count": 9,
   "metadata": {},
   "outputs": [
    {
     "name": "stdout",
     "output_type": "stream",
     "text": [
      "Enter an integer: 12\n",
      "Even\n",
      "Odd?\n"
     ]
    }
   ],
   "source": [
    "x = int(input(\"Enter an integer: \"))\n",
    "if x % 2 == 0:\n",
    "    print(\"Even\")\n",
    "else:\n",
    "    print(\"Odd\")\n",
    "print(\"Odd?\")"
   ]
  },
  {
   "cell_type": "code",
   "execution_count": 14,
   "metadata": {},
   "outputs": [
    {
     "name": "stdout",
     "output_type": "stream",
     "text": [
      "Enter an integer: 33\n",
      "but smaller than 10\n"
     ]
    }
   ],
   "source": [
    "x = int(input(\"Enter an integer: \"))\n",
    "if x % 2 == 0:\n",
    "    print(\"Even\")\n",
    "    if x > 10:\n",
    "        print(\"and bigger than 10\")\n",
    "    else:\n",
    "        print(\"but smaller than 10\")"
   ]
  },
  {
   "cell_type": "code",
   "execution_count": 26,
   "metadata": {},
   "outputs": [
    {
     "name": "stdout",
     "output_type": "stream",
     "text": [
      "Enter your grade: 82\n",
      "You got a B.\n"
     ]
    }
   ],
   "source": [
    "x = int(input(\"Enter your grade: \"))\n",
    "if x > 90:\n",
    "    print(\"Congratulations, you got an A!\")\n",
    "else:\n",
    "    if x >= 80: \n",
    "        print(\"You got a B.\")\n",
    "    else:\n",
    "        if x >= 70:\n",
    "            print(\"You got a C.\")\n",
    "        else:\n",
    "            print(\"Better luck next time.\")"
   ]
  },
  {
   "cell_type": "code",
   "execution_count": 30,
   "metadata": {},
   "outputs": [
    {
     "name": "stdout",
     "output_type": "stream",
     "text": [
      "Enter your grade: 99\n",
      "Congratulations, you got an A!\n"
     ]
    }
   ],
   "source": [
    "x = int(input(\"Enter your grade: \"))\n",
    "if x > 90:\n",
    "    print(\"Congratulations, you got an A!\")\n",
    "elif x >= 80: \n",
    "    print(\"You got a B.\")\n",
    "elif x >= 70:\n",
    "    print(\"You got a C.\")\n",
    "else:\n",
    "    print(\"Better luck next time.\")"
   ]
  },
  {
   "cell_type": "code",
   "execution_count": null,
   "metadata": {},
   "outputs": [],
   "source": []
  }
 ],
 "metadata": {
  "kernelspec": {
   "display_name": "Python 3",
   "language": "python",
   "name": "python3"
  },
  "language_info": {
   "codemirror_mode": {
    "name": "ipython",
    "version": 3
   },
   "file_extension": ".py",
   "mimetype": "text/x-python",
   "name": "python",
   "nbconvert_exporter": "python",
   "pygments_lexer": "ipython3",
   "version": "3.7.4"
  }
 },
 "nbformat": 4,
 "nbformat_minor": 2
}
