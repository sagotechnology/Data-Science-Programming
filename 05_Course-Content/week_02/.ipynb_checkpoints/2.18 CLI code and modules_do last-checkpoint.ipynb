{
 "cells": [
  {
   "cell_type": "markdown",
   "metadata": {
    "collapsed": true
   },
   "source": [
    "# Make a module - do this last\n",
    "\n",
    "**Please do this exercise after the while loop exercise (2.14)\n",
    "\n",
    "- A module is a text file that you can call from the command line\n",
    "- Use the code that you developed in the 2.14 drills \n",
    "- Save it as a .py file\n",
    "- Again Mac/Linux and windows have different command line commands."
   ]
  },
  {
   "cell_type": "code",
   "execution_count": null,
   "metadata": {},
   "outputs": [],
   "source": [
    "# Mac/Linux\n",
    "\n",
    "!touch my_first.py\n",
    "\n",
    "# we could use \"camel case\" for the name MyFirst.py. This is pretty, \n",
    "# however this is no the best practice because it is so easy to forget which letters are capitalized!"
   ]
  },
  {
   "cell_type": "code",
   "execution_count": null,
   "metadata": {},
   "outputs": [],
   "source": [
    "# Windows\n",
    "!type nul > my_first.py"
   ]
  },
  {
   "cell_type": "code",
   "execution_count": null,
   "metadata": {},
   "outputs": [],
   "source": [
    "# Mac/Linux - to see if the file was created\n",
    "!ls"
   ]
  },
  {
   "cell_type": "code",
   "execution_count": null,
   "metadata": {},
   "outputs": [],
   "source": [
    "# Windows - to see if the file was created\n",
    "!dir"
   ]
  },
  {
   "cell_type": "markdown",
   "metadata": {},
   "source": [
    "### Now open your file (my_first.py) in text editor and paste the code you made in the last exercise into the file / save it and exit\n",
    "\n",
    "- Inspect it in this notebook using command line arguments - your code should be shown!"
   ]
  },
  {
   "cell_type": "code",
   "execution_count": null,
   "metadata": {},
   "outputs": [],
   "source": [
    "# Mac/Linux\n",
    "!cat my_first.py"
   ]
  },
  {
   "cell_type": "code",
   "execution_count": null,
   "metadata": {},
   "outputs": [],
   "source": [
    "# Windows\n",
    "!type my_first.py"
   ]
  },
  {
   "cell_type": "markdown",
   "metadata": {
    "collapsed": true
   },
   "source": [
    "### Try to run it from this notebook using !python\n",
    "\n",
    "- What happens?\n",
    "- Why?\n",
    "- What will you do?"
   ]
  },
  {
   "cell_type": "code",
   "execution_count": null,
   "metadata": {},
   "outputs": [],
   "source": [
    "# Should work for everything Mac/Linux/Windows\n",
    "\n",
    "!python my_first.py"
   ]
  },
  {
   "cell_type": "markdown",
   "metadata": {
    "collapsed": true
   },
   "source": [
    "### If that did not work, you can try running the file from the command line using: \n",
    "```\n",
    ">> python my_first.py\n",
    "```"
   ]
  }
 ],
 "metadata": {
  "kernelspec": {
   "display_name": "Python 3",
   "language": "python",
   "name": "python3"
  },
  "language_info": {
   "codemirror_mode": {
    "name": "ipython",
    "version": 3
   },
   "file_extension": ".py",
   "mimetype": "text/x-python",
   "name": "python",
   "nbconvert_exporter": "python",
   "pygments_lexer": "ipython3",
   "version": "3.7.4"
  }
 },
 "nbformat": 4,
 "nbformat_minor": 2
}
