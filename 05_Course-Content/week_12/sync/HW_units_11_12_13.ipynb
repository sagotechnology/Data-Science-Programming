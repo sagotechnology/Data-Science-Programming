{
 "cells": [
  {
   "cell_type": "markdown",
   "metadata": {},
   "source": [
    "## Week 12 Assignment - W200 Introduction to Data Science Programming, UC Berkeley MIDS\n",
    "\n",
    "Write code in this Jupyter Notebook to solve the following problems. This assignment addresses material covered in Unit 11. Please upload this **Notebook** with your solutions to your GitHub repository in your SUBMISSIONS/week_12 folder by 11:59PM PST the night before class. If you turn-in anything on ISVC please do so under the Week 12 Assignment category. "
   ]
  },
  {
   "cell_type": "markdown",
   "metadata": {},
   "source": [
    "## Objectives\n",
    "\n",
    "- Explore and glean insights from a real dataset using pandas\n",
    "- Practice using pandas for exploratory analysis, information gathering, and discovery\n",
    "- Practice using matplotlib for data visualization"
   ]
  },
  {
   "cell_type": "markdown",
   "metadata": {},
   "source": [
    "## Dataset\n",
    "\n",
    "You are to analyze campaign contributions to the 2016 U.S. presidential primary races made in California. Use the csv file located here: https://drive.google.com/file/d/1Lgg-PwXQ6TQLDowd6XyBxZw5g1NGWPjB/view?usp=sharing. You should download and save this file in the same folder as this notebook is stored.  This file originally came from the U.S. Federal Election Commission (https://www.fec.gov/).\n",
    "\n",
    "** DO NOT PUSH THIS FILE TO YOUR GITHUB REPO ! **\n",
    "\n",
    "Documentation for this data can be found here: https://drive.google.com/file/d/11o_SByceenv0NgNMstM-dxC1jL7I9fHL/view?usp=sharing"
   ]
  },
  {
   "cell_type": "markdown",
   "metadata": {},
   "source": [
    "## General Guidelines:\n",
    "\n",
    "- This is a **real** dataset and so it may contain errors and other pecularities to work through\n",
    "- This dataset is ~218mb, which will take some time to load (and probably won't load in Google Sheets or Excel)\n",
    "- If you make assumptions, annotate them in your responses\n",
    "- While there is one code/markdown cell positioned after each question as a placeholder, some of your code/responses may require multiple cells\n",
    "- Double-click the markdown cells that say YOUR ANSWER HERE to enter your written answers. If you need more cells for your written answers, make them markdown cells (rather than code cells)"
   ]
  },
  {
   "cell_type": "markdown",
   "metadata": {},
   "source": [
    "## Setup\n",
    "\n",
    "Run the two cells below. \n",
    "\n",
    "The first cell will load the data into a pandas dataframe named `contrib`. Note that a custom date parser is defined to speed up loading. If Python were to guess the date format, it would take even longer to load.  \n",
    "\n",
    "The second cell subsets the dataframe to focus on just the primary period through May 2016. Otherwise, we would see general election donations which would make it harder to draw conclusions about the primaries."
   ]
  },
  {
   "cell_type": "code",
   "execution_count": 1,
   "metadata": {},
   "outputs": [
    {
     "name": "stderr",
     "output_type": "stream",
     "text": [
      "/Users/samueljohngomez/opt/anaconda3/lib/python3.7/site-packages/IPython/core/interactiveshell.py:3058: DtypeWarning: Columns (6,11,12) have mixed types. Specify dtype option on import or set low_memory=False.\n",
      "  interactivity=interactivity, compiler=compiler, result=result)\n"
     ]
    },
    {
     "name": "stdout",
     "output_type": "stream",
     "text": [
      "(1125659, 18)\n"
     ]
    }
   ],
   "source": [
    "import pandas as pd\n",
    "import matplotlib.pyplot as plt\n",
    "import datetime\n",
    "\n",
    "# These commands below set some options for pandas and to have matplotlib show the charts in the notebook\n",
    "pd.set_option('display.max_rows', 1000)\n",
    "pd.options.display.float_format = '{:,.2f}'.format\n",
    "%matplotlib inline\n",
    "\n",
    "# Define a date parser to pass to read_csv\n",
    "d = lambda x: pd.datetime.strptime(x, '%d-%b-%y')\n",
    "\n",
    "# Load the data\n",
    "contrib = pd.read_csv('./P00000001-CA.csv', index_col=False, parse_dates=['contb_receipt_dt'], date_parser=d)\n",
    "print(contrib.shape)\n",
    "\n",
    "# Note - for now, it is okay to ignore the warning about mixed types. "
   ]
  },
  {
   "cell_type": "code",
   "execution_count": 2,
   "metadata": {},
   "outputs": [
    {
     "name": "stdout",
     "output_type": "stream",
     "text": [
      "(654502, 18)\n"
     ]
    }
   ],
   "source": [
    "# Subset data to primary period \n",
    "contrib = contrib.copy()[contrib['contb_receipt_dt'] <= datetime.datetime(2016, 5, 31)]\n",
    "print(contrib.shape)"
   ]
  },
  {
   "cell_type": "markdown",
   "metadata": {},
   "source": [
    "## 1. Data  Exploration (20 points)\n",
    "\n",
    "**1a. First, take a preliminary look at the data.**\n",
    "- Print the *shape* of the data. What does this tell you about the number of variables and rows you have?\n",
    "- Print a list of column names. \n",
    "- Review the documentation for this data (link above). Do you have all of the columns you expect to have?\n",
    "- Sometimes variable names are not clear unless we read the documentation. In your own words, based on the documentation, what information does the `election_tp` variable contain?"
   ]
  },
  {
   "cell_type": "code",
   "execution_count": 3,
   "metadata": {
    "deletable": false,
    "nbgrader": {
     "checksum": "9f7a7938e43b14d3c7c49d6a278b0bb1",
     "grade": true,
     "grade_id": "cell-5d017805206f18b1",
     "locked": false,
     "points": 0,
     "schema_version": 1,
     "solution": true
    }
   },
   "outputs": [
    {
     "name": "stdout",
     "output_type": "stream",
     "text": [
      "(654502, 18) \n",
      "\n",
      "['cmte_id', 'cand_id', 'cand_nm', 'contbr_nm', 'contbr_city', 'contbr_st', 'contbr_zip', 'contbr_employer', 'contbr_occupation', 'contb_receipt_amt', 'contb_receipt_dt', 'receipt_desc', 'memo_cd', 'memo_text', 'form_tp', 'file_num', 'tran_id', 'election_tp'] \n",
      "\n",
      "Number of rows =  654502 \n",
      "\n",
      "Number of columns = 18 \n",
      "\n"
     ]
    }
   ],
   "source": [
    "# 1a YOUR CODE HERE\n",
    "print(contrib.shape,'\\n')\n",
    "print(list(contrib.columns), '\\n')\n",
    "print('Number of rows = ', contrib.shape[0], '\\n')\n",
    "print('Number of columns =', contrib.shape[1], '\\n')"
   ]
  },
  {
   "cell_type": "markdown",
   "metadata": {
    "deletable": false,
    "nbgrader": {
     "checksum": "e6a198453ec4b0171a064fef0bd7c678",
     "grade": true,
     "grade_id": "cell-3bc26919169bf4aa",
     "locked": false,
     "points": 5,
     "schema_version": 1,
     "solution": true
    }
   },
   "source": [
    "`1a YOUR RESPONSE HERE`\n",
    "\n",
    "• The shape of the dataframe tells me there is 654,502 rows and 18 columns, roughly 11.781 million data points.  \n",
    "\n",
    "• All of the columns in the documentation appear in the dataframe.\n",
    "\n",
    "• The election type variable indicates the type of election for which the contribution was made. If the donation was made for the primary election in 2016 then the columns would have value P2016."
   ]
  },
  {
   "cell_type": "markdown",
   "metadata": {},
   "source": [
    "**1b. Print the first 5 rows from the dataset to manually check some of the data.** \n",
    "\n",
    "This is a good idea to ensure the data loaded and the columns parsed correctly!"
   ]
  },
  {
   "cell_type": "code",
   "execution_count": 4,
   "metadata": {
    "deletable": false,
    "nbgrader": {
     "checksum": "4fbf682f1c78b3614832c6f48ecd88c7",
     "grade": true,
     "grade_id": "cell-72bc97601b84f17d",
     "locked": false,
     "points": 5,
     "schema_version": 1,
     "solution": true
    },
    "scrolled": true
   },
   "outputs": [
    {
     "data": {
      "text/html": [
       "<div>\n",
       "<style scoped>\n",
       "    .dataframe tbody tr th:only-of-type {\n",
       "        vertical-align: middle;\n",
       "    }\n",
       "\n",
       "    .dataframe tbody tr th {\n",
       "        vertical-align: top;\n",
       "    }\n",
       "\n",
       "    .dataframe thead th {\n",
       "        text-align: right;\n",
       "    }\n",
       "</style>\n",
       "<table border=\"1\" class=\"dataframe\">\n",
       "  <thead>\n",
       "    <tr style=\"text-align: right;\">\n",
       "      <th></th>\n",
       "      <th>cmte_id</th>\n",
       "      <th>cand_id</th>\n",
       "      <th>cand_nm</th>\n",
       "      <th>contbr_nm</th>\n",
       "      <th>contbr_city</th>\n",
       "      <th>contbr_st</th>\n",
       "      <th>contbr_zip</th>\n",
       "      <th>contbr_employer</th>\n",
       "      <th>contbr_occupation</th>\n",
       "      <th>contb_receipt_amt</th>\n",
       "      <th>contb_receipt_dt</th>\n",
       "      <th>receipt_desc</th>\n",
       "      <th>memo_cd</th>\n",
       "      <th>memo_text</th>\n",
       "      <th>form_tp</th>\n",
       "      <th>file_num</th>\n",
       "      <th>tran_id</th>\n",
       "      <th>election_tp</th>\n",
       "    </tr>\n",
       "  </thead>\n",
       "  <tbody>\n",
       "    <tr>\n",
       "      <td>0</td>\n",
       "      <td>C00575795</td>\n",
       "      <td>P00003392</td>\n",
       "      <td>Clinton, Hillary Rodham</td>\n",
       "      <td>AULL, ANNE</td>\n",
       "      <td>LARKSPUR</td>\n",
       "      <td>CA</td>\n",
       "      <td>949,391,913.00</td>\n",
       "      <td>NaN</td>\n",
       "      <td>RETIRED</td>\n",
       "      <td>50.00</td>\n",
       "      <td>2016-04-26</td>\n",
       "      <td>NaN</td>\n",
       "      <td>X</td>\n",
       "      <td>* HILLARY VICTORY FUND</td>\n",
       "      <td>SA18</td>\n",
       "      <td>1091718</td>\n",
       "      <td>C4768722</td>\n",
       "      <td>P2016</td>\n",
       "    </tr>\n",
       "    <tr>\n",
       "      <td>1</td>\n",
       "      <td>C00575795</td>\n",
       "      <td>P00003392</td>\n",
       "      <td>Clinton, Hillary Rodham</td>\n",
       "      <td>CARROLL, MARYJEAN</td>\n",
       "      <td>CAMBRIA</td>\n",
       "      <td>CA</td>\n",
       "      <td>934,284,638.00</td>\n",
       "      <td>NaN</td>\n",
       "      <td>RETIRED</td>\n",
       "      <td>200.00</td>\n",
       "      <td>2016-04-20</td>\n",
       "      <td>NaN</td>\n",
       "      <td>X</td>\n",
       "      <td>* HILLARY VICTORY FUND</td>\n",
       "      <td>SA18</td>\n",
       "      <td>1091718</td>\n",
       "      <td>C4747242</td>\n",
       "      <td>P2016</td>\n",
       "    </tr>\n",
       "    <tr>\n",
       "      <td>2</td>\n",
       "      <td>C00575795</td>\n",
       "      <td>P00003392</td>\n",
       "      <td>Clinton, Hillary Rodham</td>\n",
       "      <td>GANDARA, DESIREE</td>\n",
       "      <td>FONTANA</td>\n",
       "      <td>CA</td>\n",
       "      <td>923,371,507.00</td>\n",
       "      <td>NaN</td>\n",
       "      <td>RETIRED</td>\n",
       "      <td>5.00</td>\n",
       "      <td>2016-04-02</td>\n",
       "      <td>NaN</td>\n",
       "      <td>X</td>\n",
       "      <td>* HILLARY VICTORY FUND</td>\n",
       "      <td>SA18</td>\n",
       "      <td>1091718</td>\n",
       "      <td>C4666603</td>\n",
       "      <td>P2016</td>\n",
       "    </tr>\n",
       "    <tr>\n",
       "      <td>3</td>\n",
       "      <td>C00577130</td>\n",
       "      <td>P60007168</td>\n",
       "      <td>Sanders, Bernard</td>\n",
       "      <td>LEE, ALAN</td>\n",
       "      <td>CAMARILLO</td>\n",
       "      <td>CA</td>\n",
       "      <td>930,111,214.00</td>\n",
       "      <td>AT&amp;T GOVERNMENT SOLUTIONS</td>\n",
       "      <td>SOFTWARE ENGINEER</td>\n",
       "      <td>40.00</td>\n",
       "      <td>2016-03-04</td>\n",
       "      <td>NaN</td>\n",
       "      <td>NaN</td>\n",
       "      <td>* EARMARKED CONTRIBUTION: SEE BELOW</td>\n",
       "      <td>SA17A</td>\n",
       "      <td>1077404</td>\n",
       "      <td>VPF7BKWA097</td>\n",
       "      <td>P2016</td>\n",
       "    </tr>\n",
       "    <tr>\n",
       "      <td>4</td>\n",
       "      <td>C00577130</td>\n",
       "      <td>P60007168</td>\n",
       "      <td>Sanders, Bernard</td>\n",
       "      <td>LEONELLI, ODETTE</td>\n",
       "      <td>REDONDO BEACH</td>\n",
       "      <td>CA</td>\n",
       "      <td>902,784,310.00</td>\n",
       "      <td>VERICOR ENTERPRISES INC.</td>\n",
       "      <td>PHARMACIST</td>\n",
       "      <td>35.00</td>\n",
       "      <td>2016-03-05</td>\n",
       "      <td>NaN</td>\n",
       "      <td>NaN</td>\n",
       "      <td>* EARMARKED CONTRIBUTION: SEE BELOW</td>\n",
       "      <td>SA17A</td>\n",
       "      <td>1077404</td>\n",
       "      <td>VPF7BKX3MB3</td>\n",
       "      <td>P2016</td>\n",
       "    </tr>\n",
       "  </tbody>\n",
       "</table>\n",
       "</div>"
      ],
      "text/plain": [
       "     cmte_id    cand_id                  cand_nm          contbr_nm  \\\n",
       "0  C00575795  P00003392  Clinton, Hillary Rodham         AULL, ANNE   \n",
       "1  C00575795  P00003392  Clinton, Hillary Rodham  CARROLL, MARYJEAN   \n",
       "2  C00575795  P00003392  Clinton, Hillary Rodham   GANDARA, DESIREE   \n",
       "3  C00577130  P60007168         Sanders, Bernard          LEE, ALAN   \n",
       "4  C00577130  P60007168         Sanders, Bernard   LEONELLI, ODETTE   \n",
       "\n",
       "     contbr_city contbr_st     contbr_zip            contbr_employer  \\\n",
       "0       LARKSPUR        CA 949,391,913.00                        NaN   \n",
       "1        CAMBRIA        CA 934,284,638.00                        NaN   \n",
       "2        FONTANA        CA 923,371,507.00                        NaN   \n",
       "3      CAMARILLO        CA 930,111,214.00  AT&T GOVERNMENT SOLUTIONS   \n",
       "4  REDONDO BEACH        CA 902,784,310.00   VERICOR ENTERPRISES INC.   \n",
       "\n",
       "   contbr_occupation  contb_receipt_amt contb_receipt_dt receipt_desc memo_cd  \\\n",
       "0            RETIRED              50.00       2016-04-26          NaN       X   \n",
       "1            RETIRED             200.00       2016-04-20          NaN       X   \n",
       "2            RETIRED               5.00       2016-04-02          NaN       X   \n",
       "3  SOFTWARE ENGINEER              40.00       2016-03-04          NaN     NaN   \n",
       "4         PHARMACIST              35.00       2016-03-05          NaN     NaN   \n",
       "\n",
       "                             memo_text form_tp  file_num      tran_id  \\\n",
       "0               * HILLARY VICTORY FUND    SA18   1091718     C4768722   \n",
       "1               * HILLARY VICTORY FUND    SA18   1091718     C4747242   \n",
       "2               * HILLARY VICTORY FUND    SA18   1091718     C4666603   \n",
       "3  * EARMARKED CONTRIBUTION: SEE BELOW   SA17A   1077404  VPF7BKWA097   \n",
       "4  * EARMARKED CONTRIBUTION: SEE BELOW   SA17A   1077404  VPF7BKX3MB3   \n",
       "\n",
       "  election_tp  \n",
       "0       P2016  \n",
       "1       P2016  \n",
       "2       P2016  \n",
       "3       P2016  \n",
       "4       P2016  "
      ]
     },
     "execution_count": 4,
     "metadata": {},
     "output_type": "execute_result"
    }
   ],
   "source": [
    "# 1b YOUR CODE HERE\n",
    "contrib.head(5)"
   ]
  },
  {
   "cell_type": "markdown",
   "metadata": {},
   "source": [
    "**1c. Pick three variables from the dataset above and run some quick sanity checks.**\n",
    "\n",
    "When working with a new dataset, it is important to explore and sanity check your variables. For example, you may want to examine the maximum and minimum values, a frequency count, or something else. Use the three markdown cells below to explain if your **three** chosen variables \"pass\" your sanity checks or if you have concerns about the integrity of your data and why. "
   ]
  },
  {
   "cell_type": "markdown",
   "metadata": {},
   "source": [
    "1C-1 Answer\n",
    "\n",
    "In the code block below, I am checking to see if, in fact, all the data is from the Primary 2016 election.  By listing the unique election types, I am able to determine that there are data from three different elections.  For the remainder of this assignment, I will use data that only has election type 'P2016'."
   ]
  },
  {
   "cell_type": "code",
   "execution_count": 5,
   "metadata": {
    "scrolled": true
   },
   "outputs": [
    {
     "data": {
      "text/html": [
       "<div>\n",
       "<style scoped>\n",
       "    .dataframe tbody tr th:only-of-type {\n",
       "        vertical-align: middle;\n",
       "    }\n",
       "\n",
       "    .dataframe tbody tr th {\n",
       "        vertical-align: top;\n",
       "    }\n",
       "\n",
       "    .dataframe thead th {\n",
       "        text-align: right;\n",
       "    }\n",
       "</style>\n",
       "<table border=\"1\" class=\"dataframe\">\n",
       "  <thead>\n",
       "    <tr style=\"text-align: right;\">\n",
       "      <th></th>\n",
       "      <th>cmte_id</th>\n",
       "      <th>cand_id</th>\n",
       "      <th>cand_nm</th>\n",
       "      <th>contbr_nm</th>\n",
       "      <th>contbr_city</th>\n",
       "      <th>contbr_st</th>\n",
       "      <th>contbr_zip</th>\n",
       "      <th>contbr_employer</th>\n",
       "      <th>contbr_occupation</th>\n",
       "      <th>contb_receipt_amt</th>\n",
       "      <th>contb_receipt_dt</th>\n",
       "      <th>receipt_desc</th>\n",
       "      <th>memo_cd</th>\n",
       "      <th>memo_text</th>\n",
       "      <th>form_tp</th>\n",
       "      <th>file_num</th>\n",
       "      <th>tran_id</th>\n",
       "    </tr>\n",
       "    <tr>\n",
       "      <th>election_tp</th>\n",
       "      <th></th>\n",
       "      <th></th>\n",
       "      <th></th>\n",
       "      <th></th>\n",
       "      <th></th>\n",
       "      <th></th>\n",
       "      <th></th>\n",
       "      <th></th>\n",
       "      <th></th>\n",
       "      <th></th>\n",
       "      <th></th>\n",
       "      <th></th>\n",
       "      <th></th>\n",
       "      <th></th>\n",
       "      <th></th>\n",
       "      <th></th>\n",
       "      <th></th>\n",
       "    </tr>\n",
       "  </thead>\n",
       "  <tbody>\n",
       "    <tr>\n",
       "      <td>G2016</td>\n",
       "      <td>5064</td>\n",
       "      <td>5064</td>\n",
       "      <td>5064</td>\n",
       "      <td>5064</td>\n",
       "      <td>5064</td>\n",
       "      <td>5064</td>\n",
       "      <td>5064</td>\n",
       "      <td>3958</td>\n",
       "      <td>4448</td>\n",
       "      <td>5064</td>\n",
       "      <td>5064</td>\n",
       "      <td>2035</td>\n",
       "      <td>1596</td>\n",
       "      <td>1489</td>\n",
       "      <td>5064</td>\n",
       "      <td>5064</td>\n",
       "      <td>5064</td>\n",
       "    </tr>\n",
       "    <tr>\n",
       "      <td>P2016</td>\n",
       "      <td>649293</td>\n",
       "      <td>649293</td>\n",
       "      <td>649293</td>\n",
       "      <td>649293</td>\n",
       "      <td>649292</td>\n",
       "      <td>649293</td>\n",
       "      <td>649289</td>\n",
       "      <td>602839</td>\n",
       "      <td>644820</td>\n",
       "      <td>649293</td>\n",
       "      <td>649293</td>\n",
       "      <td>8300</td>\n",
       "      <td>24032</td>\n",
       "      <td>380065</td>\n",
       "      <td>649293</td>\n",
       "      <td>649293</td>\n",
       "      <td>649293</td>\n",
       "    </tr>\n",
       "    <tr>\n",
       "      <td>P2020</td>\n",
       "      <td>7</td>\n",
       "      <td>7</td>\n",
       "      <td>7</td>\n",
       "      <td>7</td>\n",
       "      <td>7</td>\n",
       "      <td>7</td>\n",
       "      <td>7</td>\n",
       "      <td>7</td>\n",
       "      <td>7</td>\n",
       "      <td>7</td>\n",
       "      <td>7</td>\n",
       "      <td>7</td>\n",
       "      <td>7</td>\n",
       "      <td>7</td>\n",
       "      <td>7</td>\n",
       "      <td>7</td>\n",
       "      <td>7</td>\n",
       "    </tr>\n",
       "  </tbody>\n",
       "</table>\n",
       "</div>"
      ],
      "text/plain": [
       "             cmte_id  cand_id  cand_nm  contbr_nm  contbr_city  contbr_st  \\\n",
       "election_tp                                                                 \n",
       "G2016           5064     5064     5064       5064         5064       5064   \n",
       "P2016         649293   649293   649293     649293       649292     649293   \n",
       "P2020              7        7        7          7            7          7   \n",
       "\n",
       "             contbr_zip  contbr_employer  contbr_occupation  \\\n",
       "election_tp                                                   \n",
       "G2016              5064             3958               4448   \n",
       "P2016            649289           602839             644820   \n",
       "P2020                 7                7                  7   \n",
       "\n",
       "             contb_receipt_amt  contb_receipt_dt  receipt_desc  memo_cd  \\\n",
       "election_tp                                                               \n",
       "G2016                     5064              5064          2035     1596   \n",
       "P2016                   649293            649293          8300    24032   \n",
       "P2020                        7                 7             7        7   \n",
       "\n",
       "             memo_text  form_tp  file_num  tran_id  \n",
       "election_tp                                         \n",
       "G2016             1489     5064      5064     5064  \n",
       "P2016           380065   649293    649293   649293  \n",
       "P2020                7        7         7        7  "
      ]
     },
     "metadata": {},
     "output_type": "display_data"
    },
    {
     "data": {
      "text/plain": [
       "['P2016', 'G2016', nan, 'P2020']"
      ]
     },
     "metadata": {},
     "output_type": "display_data"
    }
   ],
   "source": [
    "group_elect_tp = contrib.groupby('election_tp')\n",
    "display(group_elect_tp.count())\n",
    "display(list(contrib['election_tp'].unique()))"
   ]
  },
  {
   "cell_type": "markdown",
   "metadata": {},
   "source": [
    "1C-2 Answer\n",
    "\n",
    "Next, I want to find out more information about the donations.  By running the describe command, I learned that some of the contributions are negative.  This is rather peculiar; I will not count negative values as a donation. "
   ]
  },
  {
   "cell_type": "code",
   "execution_count": 6,
   "metadata": {
    "deletable": false,
    "nbgrader": {
     "checksum": "0ec29a2cabd52709322d1cfd650babe7",
     "grade": true,
     "grade_id": "cell-23b51536d24c1645",
     "locked": false,
     "points": 0,
     "schema_version": 1,
     "solution": true
    },
    "scrolled": true
   },
   "outputs": [
    {
     "data": {
      "text/plain": [
       "count   654,502.00\n",
       "mean        126.50\n",
       "std         459.17\n",
       "min     -10,000.00\n",
       "25%          15.00\n",
       "50%          27.00\n",
       "75%          75.00\n",
       "max      10,800.00\n",
       "Name: contb_receipt_amt, dtype: float64"
      ]
     },
     "metadata": {},
     "output_type": "display_data"
    }
   ],
   "source": [
    "# 1c YOUR CODE HERE for variable #2\n",
    "display(contrib.contb_receipt_amt.describe())"
   ]
  },
  {
   "cell_type": "markdown",
   "metadata": {
    "deletable": false,
    "nbgrader": {
     "checksum": "cfa64002e64474584dc1442b5a39b460",
     "grade": true,
     "grade_id": "cell-8a320c2ff7c24d98",
     "locked": false,
     "points": 0,
     "schema_version": 1,
     "solution": true
    }
   },
   "source": [
    "1C-3 Answer\n",
    "\n",
    "It makes sense that most donations came from the most populated cities in California.  I also wanted to ensure that the data was comprised of only CA donation, and it turns out it is.  Also, Berkeley made the list.  Go Bears!"
   ]
  },
  {
   "cell_type": "code",
   "execution_count": 7,
   "metadata": {},
   "outputs": [
    {
     "data": {
      "text/plain": [
       "LOS ANGELES      48992\n",
       "SAN FRANCISCO    44031\n",
       "SAN DIEGO        23289\n",
       "OAKLAND          16423\n",
       "SAN JOSE         15718\n",
       "BERKELEY         12550\n",
       "SACRAMENTO       11356\n",
       "LONG BEACH        7193\n",
       "SANTA MONICA      7006\n",
       "SANTA CRUZ        6663\n",
       "Name: contbr_city, dtype: int64"
      ]
     },
     "metadata": {},
     "output_type": "display_data"
    },
    {
     "data": {
      "text/plain": [
       "array(['CA'], dtype=object)"
      ]
     },
     "metadata": {},
     "output_type": "display_data"
    }
   ],
   "source": [
    "# 1c YOUR CODE HERE for variable #3\n",
    "display(contrib.contbr_city.value_counts().head(10))\n",
    "display(contrib.contbr_st.unique())"
   ]
  },
  {
   "cell_type": "markdown",
   "metadata": {},
   "source": [
    "**1d. Plotting a histogram** \n",
    "\n",
    "Make a histogram of **one** of the variables you picked above. What are some insights that you can see from this histogram? \n",
    "Remember to include on your histogram:\n",
    "- Include a title\n",
    "- Include axis labels\n",
    "- The correct number of bins to see the breakout of values\n",
    "- Hint: For some variables the range of values is very large. To do a better exploration, make the initial histogram the full range and then you can make a smaller histogram 'zoomed' in on a discreet range."
   ]
  },
  {
   "cell_type": "code",
   "execution_count": 9,
   "metadata": {},
   "outputs": [
    {
     "data": {
      "image/png": "[encoded data removed]",
      "text/plain": [
       "<Figure size 720x576 with 1 Axes>"
      ]
     },
     "metadata": {
      "needs_background": "light"
     },
     "output_type": "display_data"
    }
   ],
   "source": [
    "# 1d YOUR CODE HERE\n",
    "contrib_p2016 = contrib.copy()\n",
    "contrib_p2016 = contrib_p2016[contrib_p2016['election_tp']=='P2016']\n",
    "group = contrib_p2016.groupby('cand_nm').mean()\n",
    "grt_zero = contrib_p2016[contrib_p2016.contb_receipt_amt > 0]\n",
    "fig = plt.figure(figsize=(10,8))\n",
    "ax = fig.add_subplot(1,1,1)\n",
    "plt.hist(grt_zero.contb_receipt_amt, bins=216)\n",
    "plt.title(\"Mean Contribution by Candidate - Primary 2016\", fontsize=16, fontweight='bold')\n",
    "plt.xlabel('Dollar Amount', fontsize = 14)\n",
    "plt.ylabel('Counts', fontsize = 14)\n",
    "plt.xlim(0,1000)\n",
    "plt.show()"
   ]
  },
  {
   "cell_type": "markdown",
   "metadata": {},
   "source": [
    "`1d YOUR RESPONSE HERE`\n",
    "\n",
    "From the histogram, I can determine that the majority of the donations less than 1000 dollars were in the 0 - 50 dollar range."
   ]
  },
  {
   "cell_type": "markdown",
   "metadata": {},
   "source": [
    "## 2. Exploring Campaign Contributions (30 points)\n",
    "\n",
    "Let's investigate the donations to the candidates.\n",
    "\n",
    "**2a. Present a table that shows the number of donations to each candidate sorted by number of donations.**\n",
    "\n",
    "- When presenting data as a table, it is often best to sort the data in a meaningful way. This makes it easier for your reader to examine what you've done and to glean insights.  From now on, all tables that you present in this assignment (and course) should be sorted.\n",
    "- Hint: Use the `groupby` method. Groupby is explained in Unit 13: async 13.3 & 13.5\n",
    "- Hint: Use the `sort_values` method to sort the data so that candidates with the largest number of donations appear on top. \n",
    "- \n",
    "\n",
    "Which candidate received the largest number of contributions (variable 'contb_receipt_amt')?"
   ]
  },
  {
   "cell_type": "code",
   "execution_count": 10,
   "metadata": {
    "deletable": false,
    "nbgrader": {
     "checksum": "442b24601da06376c43cbe6ef5c5348a",
     "grade": true,
     "grade_id": "cell-6a453219105384dd",
     "locked": false,
     "points": 0,
     "schema_version": 1,
     "solution": true
    },
    "scrolled": false
   },
   "outputs": [
    {
     "data": {
      "text/plain": [
       "cand_nm\n",
       "Sanders, Bernard             369574\n",
       "Clinton, Hillary Rodham      158990\n",
       "Cruz, Rafael Edward 'Ted'     55158\n",
       "Carson, Benjamin S.           26736\n",
       "Rubio, Marco                  12730\n",
       "Fiorina, Carly                 4629\n",
       "Paul, Rand                     4144\n",
       "Bush, Jeb                      2950\n",
       "Kasich, John R.                2930\n",
       "Trump, Donald J.               2159\n",
       "Walker, Scott                   618\n",
       "Huckabee, Mike                  520\n",
       "O'Malley, Martin Joseph         390\n",
       "Lessig, Lawrence                353\n",
       "Christie, Christopher J.        323\n",
       "Graham, Lindsey O.              286\n",
       "Stein, Jill                     169\n",
       "Webb, James Henry Jr.           106\n",
       "Perry, James R. (Rick)          103\n",
       "Santorum, Richard J.             84\n",
       "Johnson, Gary                    68\n",
       "Jindal, Bobby                    31\n",
       "Pataki, George E.                20\n",
       "Gilmore, James S III              3\n",
       "Name: contb_receipt_amt, dtype: int64"
      ]
     },
     "execution_count": 10,
     "metadata": {},
     "output_type": "execute_result"
    }
   ],
   "source": [
    "# 2a YOUR CODE HERE\n",
    "# Filter for P2016 data.\n",
    "contrib_p2016 = contrib[contrib['election_tp']=='P2016']\n",
    "# Filter for contribuitons only(if the receipt amount is negative it should not be considered a donation).\n",
    "contrib_p2016_donation = contrib_p2016[contrib_p2016['contb_receipt_amt']>0]\n",
    "# Group contributions by candidate.\n",
    "grouped_count = contrib_p2016_donation.groupby('cand_nm')['contb_receipt_amt'].count().sort_values(ascending=False)\n",
    "grouped_count"
   ]
  },
  {
   "cell_type": "markdown",
   "metadata": {
    "deletable": false,
    "nbgrader": {
     "checksum": "c5a1b7f30648cced7269ccb9b1532bd6",
     "grade": true,
     "grade_id": "cell-90c49bd6471a3dc9",
     "locked": false,
     "points": 0,
     "schema_version": 1,
     "solution": true
    }
   },
   "source": [
    "`2a YOUR RESPONSE HERE`\n",
    "Bernard Sanders received the most donations.\n",
    "\n",
    "I first created a dataframe that only contained data from the primary 2016 election.  Next I created a data set that contained all positive donations made to the campaign.  "
   ]
  },
  {
   "cell_type": "markdown",
   "metadata": {},
   "source": [
    "**2b. Now, present a table that shows the total value of donations to each candidate. sorted by total value of the donations**\n",
    "\n",
    "Which candidate raised the most money in California?"
   ]
  },
  {
   "cell_type": "code",
   "execution_count": 11,
   "metadata": {
    "scrolled": false
   },
   "outputs": [
    {
     "data": {
      "text/plain": [
       "cand_nm\n",
       "Clinton, Hillary Rodham     37,862,356.35\n",
       "Sanders, Bernard            18,773,861.31\n",
       "Cruz, Rafael Edward 'Ted'    5,928,828.27\n",
       "Rubio, Marco                 5,000,680.92\n",
       "Bush, Jeb                    3,316,836.83\n",
       "Carson, Benjamin S.          3,022,105.15\n",
       "Kasich, John R.              1,505,171.54\n",
       "Fiorina, Carly               1,473,989.42\n",
       "Paul, Rand                     721,563.14\n",
       "Trump, Donald J.               696,727.30\n",
       "Walker, Scott                  492,606.90\n",
       "Christie, Christopher J.       456,066.00\n",
       "Graham, Lindsey O.             379,495.00\n",
       "O'Malley, Martin Joseph        297,334.26\n",
       "Huckabee, Mike                 230,890.60\n",
       "Perry, James R. (Rick)         208,400.00\n",
       "Lessig, Lawrence               148,032.52\n",
       "Webb, James Henry Jr.           76,568.16\n",
       "Santorum, Richard J.            36,304.88\n",
       "Johnson, Gary                   31,787.80\n",
       "Pataki, George E.               30,450.00\n",
       "Stein, Jill                     23,991.00\n",
       "Jindal, Bobby                   23,231.26\n",
       "Gilmore, James S III             8,100.00\n",
       "Name: contb_receipt_amt, dtype: float64"
      ]
     },
     "metadata": {},
     "output_type": "display_data"
    }
   ],
   "source": [
    "# 2b YOUR CODE HERE\n",
    "#get group practice async 13.03\n",
    "don_by_cand = contrib.contb_receipt_amt.groupby(contrib.cand_nm)\n",
    "don_by_cand.get_group(contrib.cand_nm[0])\n",
    "# Group contb_receipt_amt column by candidate and state\n",
    "grouped_sum = contrib_p2016.groupby('cand_nm')['contb_receipt_amt'].sum().sort_values(ascending = False)\n",
    "display(grouped_sum)"
   ]
  },
  {
   "cell_type": "markdown",
   "metadata": {
    "deletable": false,
    "nbgrader": {
     "checksum": "60d3e303837e9603de5b96e32af7d806",
     "grade": true,
     "grade_id": "cell-447dc63eff8ebc5f",
     "locked": false,
     "points": 0,
     "schema_version": 1,
     "solution": true
    }
   },
   "source": [
    "`2b YOUR RESPONSE HERE`\n",
    "Hillary Clinton raised the most money in California.\n",
    "\n",
    "I decided to leave the negative contributions because it made the balance 0 for the funds that were designated for the primary but redesignated to the general."
   ]
  },
  {
   "cell_type": "markdown",
   "metadata": {},
   "source": [
    "**2c. Combine the tables (sorted by either a or b above).**\n",
    "\n",
    "- What is the \"type\" of the two tables you presented above - Series or DataFrames?\n",
    "- Convert any Series to DataFrames.\n",
    "- Rename the variable (column) names to accurately describe what is presented.\n",
    "- Merge together your tables to show the *count* and the *value* of donations to each candidate in one table.\n",
    "- Hint: Use the `merge` method."
   ]
  },
  {
   "cell_type": "markdown",
   "metadata": {},
   "source": [
    "2c Response\n",
    "\n",
    "The two tables I presented above were Pandas Series."
   ]
  },
  {
   "cell_type": "code",
   "execution_count": 12,
   "metadata": {},
   "outputs": [
    {
     "name": "stdout",
     "output_type": "stream",
     "text": [
      "<class 'pandas.core.series.Series'> <class 'pandas.core.series.Series'>\n"
     ]
    },
    {
     "data": {
      "text/html": [
       "<div>\n",
       "<style scoped>\n",
       "    .dataframe tbody tr th:only-of-type {\n",
       "        vertical-align: middle;\n",
       "    }\n",
       "\n",
       "    .dataframe tbody tr th {\n",
       "        vertical-align: top;\n",
       "    }\n",
       "\n",
       "    .dataframe thead th {\n",
       "        text-align: right;\n",
       "    }\n",
       "</style>\n",
       "<table border=\"1\" class=\"dataframe\">\n",
       "  <thead>\n",
       "    <tr style=\"text-align: right;\">\n",
       "      <th></th>\n",
       "      <th>contribution_count</th>\n",
       "    </tr>\n",
       "    <tr>\n",
       "      <th>cand_nm</th>\n",
       "      <th></th>\n",
       "    </tr>\n",
       "  </thead>\n",
       "  <tbody>\n",
       "    <tr>\n",
       "      <td>Sanders, Bernard</td>\n",
       "      <td>369574</td>\n",
       "    </tr>\n",
       "    <tr>\n",
       "      <td>Clinton, Hillary Rodham</td>\n",
       "      <td>158990</td>\n",
       "    </tr>\n",
       "    <tr>\n",
       "      <td>Cruz, Rafael Edward 'Ted'</td>\n",
       "      <td>55158</td>\n",
       "    </tr>\n",
       "    <tr>\n",
       "      <td>Carson, Benjamin S.</td>\n",
       "      <td>26736</td>\n",
       "    </tr>\n",
       "    <tr>\n",
       "      <td>Rubio, Marco</td>\n",
       "      <td>12730</td>\n",
       "    </tr>\n",
       "  </tbody>\n",
       "</table>\n",
       "</div>"
      ],
      "text/plain": [
       "                           contribution_count\n",
       "cand_nm                                      \n",
       "Sanders, Bernard                       369574\n",
       "Clinton, Hillary Rodham                158990\n",
       "Cruz, Rafael Edward 'Ted'               55158\n",
       "Carson, Benjamin S.                     26736\n",
       "Rubio, Marco                            12730"
      ]
     },
     "metadata": {},
     "output_type": "display_data"
    },
    {
     "data": {
      "text/html": [
       "<div>\n",
       "<style scoped>\n",
       "    .dataframe tbody tr th:only-of-type {\n",
       "        vertical-align: middle;\n",
       "    }\n",
       "\n",
       "    .dataframe tbody tr th {\n",
       "        vertical-align: top;\n",
       "    }\n",
       "\n",
       "    .dataframe thead th {\n",
       "        text-align: right;\n",
       "    }\n",
       "</style>\n",
       "<table border=\"1\" class=\"dataframe\">\n",
       "  <thead>\n",
       "    <tr style=\"text-align: right;\">\n",
       "      <th></th>\n",
       "      <th>contribution_total</th>\n",
       "    </tr>\n",
       "    <tr>\n",
       "      <th>cand_nm</th>\n",
       "      <th></th>\n",
       "    </tr>\n",
       "  </thead>\n",
       "  <tbody>\n",
       "    <tr>\n",
       "      <td>Clinton, Hillary Rodham</td>\n",
       "      <td>37,862,356.35</td>\n",
       "    </tr>\n",
       "    <tr>\n",
       "      <td>Sanders, Bernard</td>\n",
       "      <td>18,773,861.31</td>\n",
       "    </tr>\n",
       "    <tr>\n",
       "      <td>Cruz, Rafael Edward 'Ted'</td>\n",
       "      <td>5,928,828.27</td>\n",
       "    </tr>\n",
       "    <tr>\n",
       "      <td>Rubio, Marco</td>\n",
       "      <td>5,000,680.92</td>\n",
       "    </tr>\n",
       "    <tr>\n",
       "      <td>Bush, Jeb</td>\n",
       "      <td>3,316,836.83</td>\n",
       "    </tr>\n",
       "  </tbody>\n",
       "</table>\n",
       "</div>"
      ],
      "text/plain": [
       "                           contribution_total\n",
       "cand_nm                                      \n",
       "Clinton, Hillary Rodham         37,862,356.35\n",
       "Sanders, Bernard                18,773,861.31\n",
       "Cruz, Rafael Edward 'Ted'        5,928,828.27\n",
       "Rubio, Marco                     5,000,680.92\n",
       "Bush, Jeb                        3,316,836.83"
      ]
     },
     "metadata": {},
     "output_type": "display_data"
    },
    {
     "data": {
      "text/html": [
       "<div>\n",
       "<style scoped>\n",
       "    .dataframe tbody tr th:only-of-type {\n",
       "        vertical-align: middle;\n",
       "    }\n",
       "\n",
       "    .dataframe tbody tr th {\n",
       "        vertical-align: top;\n",
       "    }\n",
       "\n",
       "    .dataframe thead th {\n",
       "        text-align: right;\n",
       "    }\n",
       "</style>\n",
       "<table border=\"1\" class=\"dataframe\">\n",
       "  <thead>\n",
       "    <tr style=\"text-align: right;\">\n",
       "      <th></th>\n",
       "      <th>contribution_count</th>\n",
       "      <th>contribution_total</th>\n",
       "    </tr>\n",
       "    <tr>\n",
       "      <th>cand_nm</th>\n",
       "      <th></th>\n",
       "      <th></th>\n",
       "    </tr>\n",
       "  </thead>\n",
       "  <tbody>\n",
       "    <tr>\n",
       "      <td>Clinton, Hillary Rodham</td>\n",
       "      <td>158990</td>\n",
       "      <td>37,862,356.35</td>\n",
       "    </tr>\n",
       "    <tr>\n",
       "      <td>Sanders, Bernard</td>\n",
       "      <td>369574</td>\n",
       "      <td>18,773,861.31</td>\n",
       "    </tr>\n",
       "    <tr>\n",
       "      <td>Cruz, Rafael Edward 'Ted'</td>\n",
       "      <td>55158</td>\n",
       "      <td>5,928,828.27</td>\n",
       "    </tr>\n",
       "    <tr>\n",
       "      <td>Rubio, Marco</td>\n",
       "      <td>12730</td>\n",
       "      <td>5,000,680.92</td>\n",
       "    </tr>\n",
       "    <tr>\n",
       "      <td>Bush, Jeb</td>\n",
       "      <td>2950</td>\n",
       "      <td>3,316,836.83</td>\n",
       "    </tr>\n",
       "    <tr>\n",
       "      <td>Carson, Benjamin S.</td>\n",
       "      <td>26736</td>\n",
       "      <td>3,022,105.15</td>\n",
       "    </tr>\n",
       "    <tr>\n",
       "      <td>Kasich, John R.</td>\n",
       "      <td>2930</td>\n",
       "      <td>1,505,171.54</td>\n",
       "    </tr>\n",
       "    <tr>\n",
       "      <td>Fiorina, Carly</td>\n",
       "      <td>4629</td>\n",
       "      <td>1,473,989.42</td>\n",
       "    </tr>\n",
       "    <tr>\n",
       "      <td>Paul, Rand</td>\n",
       "      <td>4144</td>\n",
       "      <td>721,563.14</td>\n",
       "    </tr>\n",
       "    <tr>\n",
       "      <td>Trump, Donald J.</td>\n",
       "      <td>2159</td>\n",
       "      <td>696,727.30</td>\n",
       "    </tr>\n",
       "    <tr>\n",
       "      <td>Walker, Scott</td>\n",
       "      <td>618</td>\n",
       "      <td>492,606.90</td>\n",
       "    </tr>\n",
       "    <tr>\n",
       "      <td>Christie, Christopher J.</td>\n",
       "      <td>323</td>\n",
       "      <td>456,066.00</td>\n",
       "    </tr>\n",
       "    <tr>\n",
       "      <td>Graham, Lindsey O.</td>\n",
       "      <td>286</td>\n",
       "      <td>379,495.00</td>\n",
       "    </tr>\n",
       "    <tr>\n",
       "      <td>O'Malley, Martin Joseph</td>\n",
       "      <td>390</td>\n",
       "      <td>297,334.26</td>\n",
       "    </tr>\n",
       "    <tr>\n",
       "      <td>Huckabee, Mike</td>\n",
       "      <td>520</td>\n",
       "      <td>230,890.60</td>\n",
       "    </tr>\n",
       "    <tr>\n",
       "      <td>Perry, James R. (Rick)</td>\n",
       "      <td>103</td>\n",
       "      <td>208,400.00</td>\n",
       "    </tr>\n",
       "    <tr>\n",
       "      <td>Lessig, Lawrence</td>\n",
       "      <td>353</td>\n",
       "      <td>148,032.52</td>\n",
       "    </tr>\n",
       "    <tr>\n",
       "      <td>Webb, James Henry Jr.</td>\n",
       "      <td>106</td>\n",
       "      <td>76,568.16</td>\n",
       "    </tr>\n",
       "    <tr>\n",
       "      <td>Santorum, Richard J.</td>\n",
       "      <td>84</td>\n",
       "      <td>36,304.88</td>\n",
       "    </tr>\n",
       "    <tr>\n",
       "      <td>Johnson, Gary</td>\n",
       "      <td>68</td>\n",
       "      <td>31,787.80</td>\n",
       "    </tr>\n",
       "    <tr>\n",
       "      <td>Pataki, George E.</td>\n",
       "      <td>20</td>\n",
       "      <td>30,450.00</td>\n",
       "    </tr>\n",
       "    <tr>\n",
       "      <td>Stein, Jill</td>\n",
       "      <td>169</td>\n",
       "      <td>23,991.00</td>\n",
       "    </tr>\n",
       "    <tr>\n",
       "      <td>Jindal, Bobby</td>\n",
       "      <td>31</td>\n",
       "      <td>23,231.26</td>\n",
       "    </tr>\n",
       "    <tr>\n",
       "      <td>Gilmore, James S III</td>\n",
       "      <td>3</td>\n",
       "      <td>8,100.00</td>\n",
       "    </tr>\n",
       "  </tbody>\n",
       "</table>\n",
       "</div>"
      ],
      "text/plain": [
       "                           contribution_count  contribution_total\n",
       "cand_nm                                                          \n",
       "Clinton, Hillary Rodham                158990       37,862,356.35\n",
       "Sanders, Bernard                       369574       18,773,861.31\n",
       "Cruz, Rafael Edward 'Ted'               55158        5,928,828.27\n",
       "Rubio, Marco                            12730        5,000,680.92\n",
       "Bush, Jeb                                2950        3,316,836.83\n",
       "Carson, Benjamin S.                     26736        3,022,105.15\n",
       "Kasich, John R.                          2930        1,505,171.54\n",
       "Fiorina, Carly                           4629        1,473,989.42\n",
       "Paul, Rand                               4144          721,563.14\n",
       "Trump, Donald J.                         2159          696,727.30\n",
       "Walker, Scott                             618          492,606.90\n",
       "Christie, Christopher J.                  323          456,066.00\n",
       "Graham, Lindsey O.                        286          379,495.00\n",
       "O'Malley, Martin Joseph                   390          297,334.26\n",
       "Huckabee, Mike                            520          230,890.60\n",
       "Perry, James R. (Rick)                    103          208,400.00\n",
       "Lessig, Lawrence                          353          148,032.52\n",
       "Webb, James Henry Jr.                     106           76,568.16\n",
       "Santorum, Richard J.                       84           36,304.88\n",
       "Johnson, Gary                              68           31,787.80\n",
       "Pataki, George E.                          20           30,450.00\n",
       "Stein, Jill                               169           23,991.00\n",
       "Jindal, Bobby                              31           23,231.26\n",
       "Gilmore, James S III                        3            8,100.00"
      ]
     },
     "execution_count": 12,
     "metadata": {},
     "output_type": "execute_result"
    }
   ],
   "source": [
    "# 2c YOUR CODE HERE\n",
    "print(type(grouped_count), type(grouped_sum))\n",
    "\n",
    "df_cc = pd.DataFrame(grouped_count)\n",
    "df_cc.columns = ['contribution_count']\n",
    "df_ct = pd.DataFrame(grouped_sum)\n",
    "df_ct.columns = ['contribution_total']\n",
    "display(df_cc.head()) \n",
    "display(df_ct.head())\n",
    "\n",
    "df = pd.merge(left=df_cc, right=df_ct, on='cand_nm')\n",
    "df.sort_values(by='contribution_total', ascending = False, inplace=True)\n",
    "df"
   ]
  },
  {
   "cell_type": "markdown",
   "metadata": {},
   "source": [
    "**2d. Calculate and add a new variable to the table from 2c that shows the average \\$ per donation. Print this table sorted by the average donation**"
   ]
  },
  {
   "cell_type": "code",
   "execution_count": 13,
   "metadata": {},
   "outputs": [
    {
     "data": {
      "text/html": [
       "<div>\n",
       "<style scoped>\n",
       "    .dataframe tbody tr th:only-of-type {\n",
       "        vertical-align: middle;\n",
       "    }\n",
       "\n",
       "    .dataframe tbody tr th {\n",
       "        vertical-align: top;\n",
       "    }\n",
       "\n",
       "    .dataframe thead th {\n",
       "        text-align: right;\n",
       "    }\n",
       "</style>\n",
       "<table border=\"1\" class=\"dataframe\">\n",
       "  <thead>\n",
       "    <tr style=\"text-align: right;\">\n",
       "      <th></th>\n",
       "      <th>contribution_count</th>\n",
       "      <th>contribution_total</th>\n",
       "      <th>contribution_average</th>\n",
       "    </tr>\n",
       "    <tr>\n",
       "      <th>cand_nm</th>\n",
       "      <th></th>\n",
       "      <th></th>\n",
       "      <th></th>\n",
       "    </tr>\n",
       "  </thead>\n",
       "  <tbody>\n",
       "    <tr>\n",
       "      <td>Sanders, Bernard</td>\n",
       "      <td>369574</td>\n",
       "      <td>18,773,861.31</td>\n",
       "      <td>50.80</td>\n",
       "    </tr>\n",
       "    <tr>\n",
       "      <td>Cruz, Rafael Edward 'Ted'</td>\n",
       "      <td>55158</td>\n",
       "      <td>5,928,828.27</td>\n",
       "      <td>107.49</td>\n",
       "    </tr>\n",
       "    <tr>\n",
       "      <td>Carson, Benjamin S.</td>\n",
       "      <td>26736</td>\n",
       "      <td>3,022,105.15</td>\n",
       "      <td>113.04</td>\n",
       "    </tr>\n",
       "    <tr>\n",
       "      <td>Stein, Jill</td>\n",
       "      <td>169</td>\n",
       "      <td>23,991.00</td>\n",
       "      <td>141.96</td>\n",
       "    </tr>\n",
       "    <tr>\n",
       "      <td>Paul, Rand</td>\n",
       "      <td>4144</td>\n",
       "      <td>721,563.14</td>\n",
       "      <td>174.12</td>\n",
       "    </tr>\n",
       "    <tr>\n",
       "      <td>Clinton, Hillary Rodham</td>\n",
       "      <td>158990</td>\n",
       "      <td>37,862,356.35</td>\n",
       "      <td>238.14</td>\n",
       "    </tr>\n",
       "    <tr>\n",
       "      <td>Fiorina, Carly</td>\n",
       "      <td>4629</td>\n",
       "      <td>1,473,989.42</td>\n",
       "      <td>318.43</td>\n",
       "    </tr>\n",
       "    <tr>\n",
       "      <td>Trump, Donald J.</td>\n",
       "      <td>2159</td>\n",
       "      <td>696,727.30</td>\n",
       "      <td>322.71</td>\n",
       "    </tr>\n",
       "    <tr>\n",
       "      <td>Rubio, Marco</td>\n",
       "      <td>12730</td>\n",
       "      <td>5,000,680.92</td>\n",
       "      <td>392.83</td>\n",
       "    </tr>\n",
       "    <tr>\n",
       "      <td>Lessig, Lawrence</td>\n",
       "      <td>353</td>\n",
       "      <td>148,032.52</td>\n",
       "      <td>419.36</td>\n",
       "    </tr>\n",
       "    <tr>\n",
       "      <td>Santorum, Richard J.</td>\n",
       "      <td>84</td>\n",
       "      <td>36,304.88</td>\n",
       "      <td>432.20</td>\n",
       "    </tr>\n",
       "    <tr>\n",
       "      <td>Huckabee, Mike</td>\n",
       "      <td>520</td>\n",
       "      <td>230,890.60</td>\n",
       "      <td>444.02</td>\n",
       "    </tr>\n",
       "    <tr>\n",
       "      <td>Johnson, Gary</td>\n",
       "      <td>68</td>\n",
       "      <td>31,787.80</td>\n",
       "      <td>467.47</td>\n",
       "    </tr>\n",
       "    <tr>\n",
       "      <td>Kasich, John R.</td>\n",
       "      <td>2930</td>\n",
       "      <td>1,505,171.54</td>\n",
       "      <td>513.71</td>\n",
       "    </tr>\n",
       "    <tr>\n",
       "      <td>Webb, James Henry Jr.</td>\n",
       "      <td>106</td>\n",
       "      <td>76,568.16</td>\n",
       "      <td>722.34</td>\n",
       "    </tr>\n",
       "    <tr>\n",
       "      <td>Jindal, Bobby</td>\n",
       "      <td>31</td>\n",
       "      <td>23,231.26</td>\n",
       "      <td>749.40</td>\n",
       "    </tr>\n",
       "    <tr>\n",
       "      <td>O'Malley, Martin Joseph</td>\n",
       "      <td>390</td>\n",
       "      <td>297,334.26</td>\n",
       "      <td>762.40</td>\n",
       "    </tr>\n",
       "    <tr>\n",
       "      <td>Walker, Scott</td>\n",
       "      <td>618</td>\n",
       "      <td>492,606.90</td>\n",
       "      <td>797.10</td>\n",
       "    </tr>\n",
       "    <tr>\n",
       "      <td>Bush, Jeb</td>\n",
       "      <td>2950</td>\n",
       "      <td>3,316,836.83</td>\n",
       "      <td>1,124.35</td>\n",
       "    </tr>\n",
       "    <tr>\n",
       "      <td>Graham, Lindsey O.</td>\n",
       "      <td>286</td>\n",
       "      <td>379,495.00</td>\n",
       "      <td>1,326.91</td>\n",
       "    </tr>\n",
       "    <tr>\n",
       "      <td>Christie, Christopher J.</td>\n",
       "      <td>323</td>\n",
       "      <td>456,066.00</td>\n",
       "      <td>1,411.97</td>\n",
       "    </tr>\n",
       "    <tr>\n",
       "      <td>Pataki, George E.</td>\n",
       "      <td>20</td>\n",
       "      <td>30,450.00</td>\n",
       "      <td>1,522.50</td>\n",
       "    </tr>\n",
       "    <tr>\n",
       "      <td>Perry, James R. (Rick)</td>\n",
       "      <td>103</td>\n",
       "      <td>208,400.00</td>\n",
       "      <td>2,023.30</td>\n",
       "    </tr>\n",
       "    <tr>\n",
       "      <td>Gilmore, James S III</td>\n",
       "      <td>3</td>\n",
       "      <td>8,100.00</td>\n",
       "      <td>2,700.00</td>\n",
       "    </tr>\n",
       "  </tbody>\n",
       "</table>\n",
       "</div>"
      ],
      "text/plain": [
       "                           contribution_count  contribution_total  \\\n",
       "cand_nm                                                             \n",
       "Sanders, Bernard                       369574       18,773,861.31   \n",
       "Cruz, Rafael Edward 'Ted'               55158        5,928,828.27   \n",
       "Carson, Benjamin S.                     26736        3,022,105.15   \n",
       "Stein, Jill                               169           23,991.00   \n",
       "Paul, Rand                               4144          721,563.14   \n",
       "Clinton, Hillary Rodham                158990       37,862,356.35   \n",
       "Fiorina, Carly                           4629        1,473,989.42   \n",
       "Trump, Donald J.                         2159          696,727.30   \n",
       "Rubio, Marco                            12730        5,000,680.92   \n",
       "Lessig, Lawrence                          353          148,032.52   \n",
       "Santorum, Richard J.                       84           36,304.88   \n",
       "Huckabee, Mike                            520          230,890.60   \n",
       "Johnson, Gary                              68           31,787.80   \n",
       "Kasich, John R.                          2930        1,505,171.54   \n",
       "Webb, James Henry Jr.                     106           76,568.16   \n",
       "Jindal, Bobby                              31           23,231.26   \n",
       "O'Malley, Martin Joseph                   390          297,334.26   \n",
       "Walker, Scott                             618          492,606.90   \n",
       "Bush, Jeb                                2950        3,316,836.83   \n",
       "Graham, Lindsey O.                        286          379,495.00   \n",
       "Christie, Christopher J.                  323          456,066.00   \n",
       "Pataki, George E.                          20           30,450.00   \n",
       "Perry, James R. (Rick)                    103          208,400.00   \n",
       "Gilmore, James S III                        3            8,100.00   \n",
       "\n",
       "                           contribution_average  \n",
       "cand_nm                                          \n",
       "Sanders, Bernard                          50.80  \n",
       "Cruz, Rafael Edward 'Ted'                107.49  \n",
       "Carson, Benjamin S.                      113.04  \n",
       "Stein, Jill                              141.96  \n",
       "Paul, Rand                               174.12  \n",
       "Clinton, Hillary Rodham                  238.14  \n",
       "Fiorina, Carly                           318.43  \n",
       "Trump, Donald J.                         322.71  \n",
       "Rubio, Marco                             392.83  \n",
       "Lessig, Lawrence                         419.36  \n",
       "Santorum, Richard J.                     432.20  \n",
       "Huckabee, Mike                           444.02  \n",
       "Johnson, Gary                            467.47  \n",
       "Kasich, John R.                          513.71  \n",
       "Webb, James Henry Jr.                    722.34  \n",
       "Jindal, Bobby                            749.40  \n",
       "O'Malley, Martin Joseph                  762.40  \n",
       "Walker, Scott                            797.10  \n",
       "Bush, Jeb                              1,124.35  \n",
       "Graham, Lindsey O.                     1,326.91  \n",
       "Christie, Christopher J.               1,411.97  \n",
       "Pataki, George E.                      1,522.50  \n",
       "Perry, James R. (Rick)                 2,023.30  \n",
       "Gilmore, James S III                   2,700.00  "
      ]
     },
     "execution_count": 13,
     "metadata": {},
     "output_type": "execute_result"
    }
   ],
   "source": [
    "# 2d YOUR CODE HERE\n",
    "df['contribution_average'] = df['contribution_total']/df['contribution_count']\n",
    "df.sort_values(by='contribution_average', inplace=True)\n",
    "df"
   ]
  },
  {
   "cell_type": "markdown",
   "metadata": {},
   "source": [
    "**2e. Plotting a Bar Chart**\n",
    "\n",
    "Make a single bar chart that shows two different bars per candidate with one bar as the total value of the donations and the other as average $ per donation. \n",
    "- Show the Candidates Name on the x-axis\n",
    "- Show the amount on the y-axis\n",
    "- Include a title\n",
    "- Include axis labels\n",
    "- Hint: Make the y-axis a log-scale to show both numbers! (matplotlib docs: https://matplotlib.org/3.1.1/api/_as_gen/matplotlib.pyplot.yscale.html )"
   ]
  },
  {
   "cell_type": "code",
   "execution_count": 15,
   "metadata": {},
   "outputs": [
    {
     "data": {
      "image/png": "[encoded data removed]",
      "text/plain": [
       "<Figure size 432x288 with 1 Axes>"
      ]
     },
     "metadata": {
      "needs_background": "light"
     },
     "output_type": "display_data"
    }
   ],
   "source": [
    "# 2e YOUR CODE HERE\n",
    "\n",
    "df[['contribution_total', 'contribution_average']].plot(kind='bar')\n",
    "plt.yscale('log')\n",
    "plt.xlabel('Candidate')\n",
    "plt.ylabel('Contribution Amount and Count')\n",
    "plt.title('Contribution Total and Contirbution Average per Candidate')\n",
    "plt.show()"
   ]
  },
  {
   "cell_type": "markdown",
   "metadata": {},
   "source": [
    "**2f. Comment on the results of your data analysis in a short paragraph.**\n",
    "\n",
    "- There are several interesting conclusions you can draw from the table you have created.\n",
    "- What have you learned about campaign contributions in California?\n",
    "- We are looking for data insights here rather than comments on the code!"
   ]
  },
  {
   "cell_type": "markdown",
   "metadata": {},
   "source": [
    "`2f YOUR RESPONSE HERE`\n",
    "\n",
    "The most obvious conclusion was that Bernie Sanders had the most contributions in California.  He had more than double that of Hillary Clinton.  However, Hillary raised two times more than Bernie--who also had the lowest average contribution of any candidate.  It is also apparent that California contributes more to Democratic candidates compared to Republican candidates."
   ]
  },
  {
   "cell_type": "markdown",
   "metadata": {},
   "source": [
    "## 3. Exploring Donor Occupations (30 points)\n",
    "\n",
    "Above in part 2, we saw that some simple data analysis can give us insights into the campaigns of our candidates. Now let's quickly look to see what *kind* of person is donating to each campaign using the `contbr_occupation` variable."
   ]
  },
  {
   "cell_type": "markdown",
   "metadata": {},
   "source": [
    "**3a. Show the top 5 occupations of individuals that contributed to Hillary Clinton.** \n",
    "\n",
    "- Subset your data to create a dataframe with only donations for Hillary Clinton.\n",
    "- Then use the `value_counts` and `head` methods to present the top 5 occupations (`contbr_occupation`) for her donors.\n",
    "- Note: we are just interested in the count of donations, not the value of those donations."
   ]
  },
  {
   "cell_type": "code",
   "execution_count": 16,
   "metadata": {
    "deletable": false,
    "nbgrader": {
     "checksum": "20a71229316bf24a2ce62c52f72d8142",
     "grade": true,
     "grade_id": "cell-963603c5ed346a99",
     "locked": false,
     "points": 0,
     "schema_version": 1,
     "solution": true
    }
   },
   "outputs": [
    {
     "data": {
      "text/plain": [
       "RETIRED                  33121\n",
       "ATTORNEY                  7148\n",
       "INFORMATION REQUESTED     4741\n",
       "TEACHER                   3575\n",
       "HOMEMAKER                 3360\n",
       "Name: contbr_occupation, dtype: int64"
      ]
     },
     "execution_count": 16,
     "metadata": {},
     "output_type": "execute_result"
    }
   ],
   "source": [
    "contrib_hrc = contrib_p2016[contrib_p2016.cand_nm == 'Clinton, Hillary Rodham']\n",
    "contrib_hrc['contbr_occupation'].value_counts().head(5)"
   ]
  },
  {
   "cell_type": "markdown",
   "metadata": {
    "deletable": false,
    "nbgrader": {
     "checksum": "426b589a9d6457f38381eb1c77678d4f",
     "grade": true,
     "grade_id": "cell-b6fc3f7c906c95a2",
     "locked": false,
     "points": 0,
     "schema_version": 1,
     "solution": true
    }
   },
   "source": [
    "**3b. Write a function called `get_donors`.**\n",
    "\n",
    "Imagine that you want to do the previous operation on several candidates.  To keep your work neat, you want to take the work you did on the Clinton-subset and wrap it in a function that you can apply to other subsets of the data.\n",
    "\n",
    "- The function should take a DataFrame as a parameter, and return a Series containing the counts for the top 5 occupations contained in that DataFrame."
   ]
  },
  {
   "cell_type": "code",
   "execution_count": 17,
   "metadata": {
    "deletable": false,
    "nbgrader": {
     "checksum": "81ebf2a2f96961b4464f6c35d2143427",
     "grade": true,
     "grade_id": "cell-bea2cf7a6fff8565",
     "locked": false,
     "points": 0,
     "schema_version": 1,
     "solution": true
    }
   },
   "outputs": [],
   "source": [
    "def get_donors(df):\n",
    "    \"\"\"This function takes a dataframe that contains a variable named contbr_occupation.\n",
    "    It outputs a Series containing the counts for the 5 most common values of that\n",
    "    variable.\"\"\"\n",
    "    \n",
    "    # 3b YOUR CODE HERE\n",
    "    return df['contbr_occupation'].value_counts().head(5)"
   ]
  },
  {
   "cell_type": "markdown",
   "metadata": {},
   "source": [
    "**3c. Now run the `get_donors` function on subsets of the dataframe corresponding to three candidates. Show each of the three candidates below.**\n",
    "\n",
    "- Hillary Clinton\n",
    "- Bernie Sanders\n",
    "- Donald Trump"
   ]
  },
  {
   "cell_type": "code",
   "execution_count": 18,
   "metadata": {
    "deletable": false,
    "nbgrader": {
     "checksum": "bffd2778d22127102347386bfb6f5b20",
     "grade": true,
     "grade_id": "cell-4ad1da24176f0450",
     "locked": false,
     "points": 0,
     "schema_version": 1,
     "solution": true
    }
   },
   "outputs": [
    {
     "name": "stdout",
     "output_type": "stream",
     "text": [
      "Top five occupations that donated to: \n",
      "\n",
      "Hillary Clinton:\n"
     ]
    },
    {
     "data": {
      "text/plain": [
       "RETIRED                  33121\n",
       "ATTORNEY                  7148\n",
       "INFORMATION REQUESTED     4741\n",
       "TEACHER                   3575\n",
       "HOMEMAKER                 3360\n",
       "Name: contbr_occupation, dtype: int64"
      ]
     },
     "metadata": {},
     "output_type": "display_data"
    },
    {
     "name": "stdout",
     "output_type": "stream",
     "text": [
      "Bernie Sanders:\n"
     ]
    },
    {
     "data": {
      "text/plain": [
       "NOT EMPLOYED         96371\n",
       "RETIRED              15048\n",
       "TEACHER              10167\n",
       "SOFTWARE ENGINEER     7861\n",
       "ENGINEER              7094\n",
       "Name: contbr_occupation, dtype: int64"
      ]
     },
     "metadata": {},
     "output_type": "display_data"
    },
    {
     "name": "stdout",
     "output_type": "stream",
     "text": [
      "Donald Trump:\n"
     ]
    },
    {
     "data": {
      "text/plain": [
       "RETIRED                  831\n",
       "INFORMATION REQUESTED     69\n",
       "CEO                       52\n",
       "OWNER                     50\n",
       "PRESIDENT                 34\n",
       "Name: contbr_occupation, dtype: int64"
      ]
     },
     "metadata": {},
     "output_type": "display_data"
    }
   ],
   "source": [
    "# 3c YOUR CODE HERE\n",
    "print('Top five occupations that donated to: \\n\\nHillary Clinton:')\n",
    "display(get_donors(contrib_p2016[contrib_p2016.cand_nm == 'Clinton, Hillary Rodham']))\n",
    "print('Bernie Sanders:')\n",
    "display(get_donors(contrib_p2016[contrib_p2016.cand_nm == 'Sanders, Bernard']))\n",
    "print('Donald Trump:')\n",
    "display(get_donors(contrib_p2016[contrib_p2016.cand_nm == 'Trump, Donald J.']))"
   ]
  },
  {
   "cell_type": "markdown",
   "metadata": {},
   "source": [
    "**3d. Finally, use `groupby` to separate the entire dataset by candidate.**\n",
    "\n",
    "- Call .apply(get_donors) on your groupby object, which will apply the function you wrote to each subset of your data.\n",
    "- Look at your output and marvel at what pandas can do in just one line!"
   ]
  },
  {
   "cell_type": "code",
   "execution_count": 19,
   "metadata": {},
   "outputs": [],
   "source": [
    "pd.set_option('display.max_rows', len(contrib.cand_nm.unique())*5)"
   ]
  },
  {
   "cell_type": "code",
   "execution_count": 20,
   "metadata": {
    "scrolled": false
   },
   "outputs": [
    {
     "data": {
      "text/plain": [
       "cand_nm                                                          \n",
       "Bush, Jeb                  RETIRED                                     992\n",
       "                           HOMEMAKER                                   177\n",
       "                           ATTORNEY                                     90\n",
       "                           Q.A.                                         89\n",
       "                           PRESIDENT                                    83\n",
       "Carson, Benjamin S.        RETIRED                                   13635\n",
       "                           INFORMATION REQUESTED PER BEST EFFORTS     1610\n",
       "                           HOMEMAKER                                  1028\n",
       "                           PHYSICIAN                                   321\n",
       "                           R.N.                                        232\n",
       "Christie, Christopher J.   RETIRED                                      38\n",
       "                           NONE                                         22\n",
       "                           CONSULTANT                                   18\n",
       "                           CEO                                          16\n",
       "                           HOMEMAKER                                    15\n",
       "Clinton, Hillary Rodham    RETIRED                                   33121\n",
       "                           ATTORNEY                                   7148\n",
       "                           INFORMATION REQUESTED                      4741\n",
       "                           TEACHER                                    3575\n",
       "                           HOMEMAKER                                  3360\n",
       "Cruz, Rafael Edward 'Ted'  RETIRED                                   22609\n",
       "                           INFORMATION REQUESTED PER BEST EFFORTS     1633\n",
       "                           HOMEMAKER                                  1237\n",
       "                           ENGINEER                                   1078\n",
       "                           TEACHER                                     827\n",
       "Fiorina, Carly             RETIRED                                    1969\n",
       "                           HOMEMAKER                                   166\n",
       "                           ATTORNEY                                    140\n",
       "                           INFORMATION REQUESTED PER BEST EFFORTS       95\n",
       "                           INVESTOR                                     64\n",
       "Gilmore, James S III       COB                                           1\n",
       "                           INVESTMENT MANAGEMENT                         1\n",
       "                           FINANCIAL ADVISOR                             1\n",
       "Graham, Lindsey O.         RETIRED                                      73\n",
       "                           INFORMATION REQUESTED PER BEST EFFORTS       19\n",
       "                           P/T ADJUNCT                                  13\n",
       "                           REAL ESTATE                                  11\n",
       "                           EXECUTIVE                                    11\n",
       "Huckabee, Mike             RETIRED                                     206\n",
       "                           REQUESTED PER BEST EFFORTS                   36\n",
       "                           HOMEMAKER                                    22\n",
       "                           OWNER                                        13\n",
       "                           FUNERAL DIRECTOR                             12\n",
       "Jindal, Bobby              RETIRED                                       5\n",
       "                           ENGINEER                                      4\n",
       "                           PROFESSOR                                     3\n",
       "                           REALTOR                                       2\n",
       "                           PHYSICIAN                                     2\n",
       "Johnson, Gary              RETIRED                                      16\n",
       "                           TWICE REQUESTED, NOT RECEIVED                11\n",
       "                           SOFTWARE ENGINEER                             5\n",
       "                           ELECTRONIC TECHNICIAN                         3\n",
       "                           ENGINEER                                      2\n",
       "Kasich, John R.            RETIRED                                     719\n",
       "                           ATTORNEY                                    124\n",
       "                           CEO                                          76\n",
       "                           HOMEMAKER                                    65\n",
       "                           PRESIDENT                                    63\n",
       "Lessig, Lawrence           SOFTWARE ENGINEER                            56\n",
       "                           DEVELOPER                                    42\n",
       "                           RETIRED                                      26\n",
       "                           ATTORNEY                                     18\n",
       "                           ENGINEER                                     17\n",
       "O'Malley, Martin Joseph    RETIRED                                      52\n",
       "                           ATTORNEY                                     26\n",
       "                           LECTURER                                     23\n",
       "                           CONSULTANT                                   20\n",
       "                           CEO                                          14\n",
       "Pataki, George E.          ATTORNEY                                      3\n",
       "                           HOMEMAKER                                     2\n",
       "                           PRESIDENT                                     2\n",
       "                           INFORMATION REQUESTED                         2\n",
       "                           CONSULTANT                                    1\n",
       "Paul, Rand                 RETIRED                                     866\n",
       "                           ENGINEER                                    329\n",
       "                           INFORMATION REQUESTED                       176\n",
       "                           CONSULTANT                                   95\n",
       "                           HOMEMAKER                                    79\n",
       "Perry, James R. (Rick)     PRESIDENT                                    10\n",
       "                           HOMEMAKER                                    10\n",
       "                           ATTORNEY                                      7\n",
       "                           EXECUTIVE                                     6\n",
       "                           OWNER                                         5\n",
       "Rubio, Marco               RETIRED                                    5504\n",
       "                           HOMEMAKER                                   577\n",
       "                           INFORMATION REQUESTED PER BEST EFFORTS      482\n",
       "                           ATTORNEY                                    340\n",
       "                           PHYSICIAN                                   181\n",
       "Sanders, Bernard           NOT EMPLOYED                              96371\n",
       "                           RETIRED                                   15048\n",
       "                           TEACHER                                   10167\n",
       "                           SOFTWARE ENGINEER                          7861\n",
       "                           ENGINEER                                   7094\n",
       "Santorum, Richard J.       RETIRED                                      44\n",
       "                           ENGINEER                                      5\n",
       "                           MACHINIST                                     4\n",
       "                           CUSTOMER SERVICE                              3\n",
       "                           INFORMATION REQUESTED                         3\n",
       "Stein, Jill                RETIRED                                      28\n",
       "                           RESEARCHER                                   20\n",
       "                           WRITER                                       18\n",
       "                           FORMAL FINANCIAL SERVICES EMPLOYEE            8\n",
       "                           SOFTWARE ENGINEER                             6\n",
       "Trump, Donald J.           RETIRED                                     831\n",
       "                           INFORMATION REQUESTED                        69\n",
       "                           CEO                                          52\n",
       "                           OWNER                                        50\n",
       "                           PRESIDENT                                    34\n",
       "Walker, Scott              RETIRED                                     226\n",
       "                           INFORMATION REQUESTED                        67\n",
       "                           PRESIDENT                                    33\n",
       "                           HOMEMAKER                                    31\n",
       "                           ATTORNEY                                     27\n",
       "Webb, James Henry Jr.      RETIRED                                      14\n",
       "                           ATTORNEY                                      8\n",
       "                           DEPUTY DISTRICT ATTORNEY                      7\n",
       "                           MATH EDUCATOR                                 5\n",
       "                           NOT EMPLOYED                                  5\n",
       "Name: contbr_occupation, dtype: int64"
      ]
     },
     "execution_count": 20,
     "metadata": {},
     "output_type": "execute_result"
    }
   ],
   "source": [
    "# 3d YOUR CODE HERE\n",
    "contrib_p2016.groupby('cand_nm').apply(get_donors)"
   ]
  },
  {
   "cell_type": "markdown",
   "metadata": {
    "collapsed": true,
    "deletable": false,
    "nbgrader": {
     "checksum": "14c2855e3d59f0da6b1afd5cf0da2da8",
     "grade": true,
     "grade_id": "cell-fd840cdd19d2bd2a",
     "locked": false,
     "points": 0,
     "schema_version": 1,
     "solution": true
    }
   },
   "source": [
    "**3e. Comment on your data insights & findings in a short paragraph.**"
   ]
  },
  {
   "cell_type": "markdown",
   "metadata": {
    "deletable": false,
    "nbgrader": {
     "checksum": "43ce3d15cee7ab73f53fd8f054c9826c",
     "grade": true,
     "grade_id": "cell-dce8d3107c1463ca",
     "locked": false,
     "points": 0,
     "schema_version": 1,
     "solution": true
    }
   },
   "source": [
    "`3e YOUR RESPONSE HERE`\n",
    "\n",
    "I found it interesting that most of Bernie Sanders' donations came from occupation unemployed.  It was also interesting to see that the occupation at the top of the list was retired for the majority of the candidates.  Homemaker was an occupation that struck me as somewhat odd for being one of the major occupaiton contributors.  Although Trump in don't have many donations in California it was interesting to see that occupations of CEO, Owner, and President comprised 3 of 5 contributor's occupations."
   ]
  },
  {
   "cell_type": "markdown",
   "metadata": {},
   "source": [
    "**3f. Think about your findings in section 3 vs. your findings in section 2 of this assignment.**\n",
    "\n",
    "Do you have any new data insights into the results you saw in section 2 now that you see the top occupations for each candidate?"
   ]
  },
  {
   "cell_type": "markdown",
   "metadata": {
    "deletable": false,
    "nbgrader": {
     "checksum": "a5f4e6df0f32e24c492a9589ec87fef6",
     "grade": true,
     "grade_id": "cell-9e3f68b21dac8e10",
     "locked": false,
     "points": 0,
     "schema_version": 1,
     "solution": true
    }
   },
   "source": [
    "`3f YOUR RESPONSE HERE`\n",
    "\n",
    "I better understand why Bernie had twice the number of contributors but half the total amount that Hillary raised. It makes sense that since the majority of his contributors were unemployed that he had the lowest average donation.  "
   ]
  },
  {
   "cell_type": "markdown",
   "metadata": {},
   "source": [
    "\n",
    "## 4. Plotting Data (20 points)\n",
    "\n",
    "There is an important element that we have not yet explored in this dataset - time."
   ]
  },
  {
   "cell_type": "markdown",
   "metadata": {},
   "source": [
    "**4a. Present a single line chart with the following elements.**\n",
    "\n",
    "- Show the date on the x-axis\n",
    "- Show the contribution amount on the y-axis\n",
    "- Include a title\n",
    "- Include axis labels"
   ]
  },
  {
   "cell_type": "code",
   "execution_count": 262,
   "metadata": {
    "deletable": false,
    "nbgrader": {
     "checksum": "4f1a9e7ee0ded9d2b5af5777cb85e505",
     "grade": true,
     "grade_id": "cell-c14fbed9d72d54e3",
     "locked": false,
     "points": 0,
     "schema_version": 1,
     "solution": true
    }
   },
   "outputs": [
    {
     "data": {
      "text/plain": [
       "<Figure size 720x2160 with 0 Axes>"
      ]
     },
     "metadata": {},
     "output_type": "display_data"
    },
    {
     "data": {
      "image/png": "[encoded data removed]",
      "text/plain": [
       "<Figure size 432x288 with 1 Axes>"
      ]
     },
     "metadata": {
      "needs_background": "light"
     },
     "output_type": "display_data"
    }
   ],
   "source": [
    "# 4a YOUR CODE HERE\n",
    "plt.figure(figsize=(10,30))\n",
    "contrib_p2016.plot(x='contb_receipt_dt', y='contb_receipt_amt')\n",
    "plt.title('Contributions Over Time')\n",
    "plt.xlabel('Date')\n",
    "plt.ylabel('Dollars')\n",
    "plt.show()\n"
   ]
  },
  {
   "cell_type": "markdown",
   "metadata": {},
   "source": [
    "**4b. Make a better time-series line chart**\n",
    "\n",
    "This chart is messy and it is hard to gain insights from it.  Improve the chart from 4a so that your new chart shows a specific insight. In the spot provided, write the insight(s) that can be gained from this new time-series line chart."
   ]
  },
  {
   "cell_type": "code",
   "execution_count": 29,
   "metadata": {
    "deletable": false,
    "nbgrader": {
     "checksum": "6dc1481a003cdd752c5edfa9ac400879",
     "grade": true,
     "grade_id": "cell-f7a01ce9c5b10ac7",
     "locked": false,
     "points": 0,
     "schema_version": 1,
     "solution": true
    }
   },
   "outputs": [
    {
     "data": {
      "image/png": "[encoded data removed]",
      "text/plain": [
       "<Figure size 720x576 with 1 Axes>"
      ]
     },
     "metadata": {
      "needs_background": "light"
     },
     "output_type": "display_data"
    }
   ],
   "source": [
    "# 4b YOUR CODE HERE\n",
    "\n",
    "grt_zero.set_index('contb_receipt_dt').contb_receipt_amt.rolling(window=200).mean().plot(figsize=(10,8))\n",
    "ax = plt.gca()\n",
    "ax.set_title('Donation Intervals for the 2016 Primary',fontweight='bold',fontsize=14)\n",
    "ax.set_ylabel('Contribution amount ($)')\n",
    "ax.set_xlabel('Contribution date (YYYY-MM)');\n",
    "\n"
   ]
  },
  {
   "cell_type": "markdown",
   "metadata": {
    "deletable": false,
    "nbgrader": {
     "checksum": "010f5de5f6af4c7f830d1cf7a81bbc0f",
     "grade": true,
     "grade_id": "cell-5617179133b06d0c",
     "locked": false,
     "points": 0,
     "schema_version": 1,
     "solution": true
    }
   },
   "source": [
    "`4b YOUR RESPONSE HERE`\n",
    "\n",
    "From this graph it is more clear when the most donations took place and the amount the donations were for the primary election."
   ]
  },
  {
   "cell_type": "markdown",
   "metadata": {},
   "source": [
    "## If you have feedback for this homework, please submit it using the link below:\n",
    "\n",
    "http://goo.gl/forms/74yCiQTf6k"
   ]
  }
 ],
 "metadata": {
  "kernelspec": {
   "display_name": "Python 3",
   "language": "python",
   "name": "python3"
  },
  "language_info": {
   "codemirror_mode": {
    "name": "ipython",
    "version": 3
   },
   "file_extension": ".py",
   "mimetype": "text/x-python",
   "name": "python",
   "nbconvert_exporter": "python",
   "pygments_lexer": "ipython3",
   "version": "3.7.4"
  }
 },
 "nbformat": 4,
 "nbformat_minor": 2
}
