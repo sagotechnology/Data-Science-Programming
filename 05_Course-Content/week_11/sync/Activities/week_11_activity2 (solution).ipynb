{
 "cells": [
  {
   "cell_type": "markdown",
   "metadata": {},
   "source": [
    "# Week 11 Live Session - Breakout Activities\n",
    "\n",
    "First, import numpy and matplotlib by executing the cell below."
   ]
  },
  {
   "cell_type": "code",
   "execution_count": 1,
   "metadata": {},
   "outputs": [
    {
     "name": "stdout",
     "output_type": "stream",
     "text": [
      "1.12.1\n"
     ]
    }
   ],
   "source": [
    "import numpy as np\n",
    "import matplotlib.pyplot as plt\n",
    "%matplotlib inline  \n",
    "\n",
    "print (np.__version__)"
   ]
  },
  {
   "cell_type": "markdown",
   "metadata": {},
   "source": [
    "The file scores.csv contains actual grades from a recent semester of w200 (names have been stripped and rows permuted to prevent de-anonymization).\n",
    "\n",
    "Examine the contents of the file.  Then read in the data and store it in two numpy arrays:  one called midterm and one called final."
   ]
  },
  {
   "cell_type": "code",
   "execution_count": 2,
   "metadata": {},
   "outputs": [],
   "source": [
    "# Normally, we would use pandas.read_csv() to do this in one or two lines.\n",
    "# For this exercise, we'll do it the old fashioned way using tools from unit 9.\n",
    "\n",
    "import csv\n",
    "\n",
    "midterm_list = []\n",
    "final_list = []\n",
    "\n",
    "scores_file = open('scores.csv', 'rt')\n",
    "csvin = csv.reader(scores_file)\n",
    "\n",
    "# If you look at the file, you'll see that there's a header line.\n",
    "# The next line skips that line so the for loop starts reading line 2.\n",
    "next(csvin)\n",
    "\n",
    "for row in csvin:\n",
    "    midterm_list.append(int(row[0]))\n",
    "    final_list.append(int(row[1]))\n",
    "\n",
    "midterm = np.array(midterm_list)\n",
    "final = np.array(final_list)"
   ]
  },
  {
   "cell_type": "code",
   "execution_count": 3,
   "metadata": {},
   "outputs": [
    {
     "data": {
      "text/plain": [
       "(array([ 97,  74,  92,  93, 100,  95,  98,  97,  92,  93,  90,  95,  99,\n",
       "         88,  94,  94,  98,  92,  92,  97,  98,  95,  95,  90,  98,  99,\n",
       "         78,  97,  97,  92,  59, 100,  95,  91,  95,  95,  69,  97,  95,\n",
       "         96,  99,  98,  97,  90,  95,  97,  92,  92,  73,  91,  95,  91,\n",
       "         95,  97,  92,  92,  92]),\n",
       " array([ 97,  92,  94,  93,  92,  99,  99,  99,  99,  83,  94,  99,  95,\n",
       "         93,  94,  97, 100,  97,  94,  95,  93,  98,  92,  92,  99,  97,\n",
       "         87,  97,  95,  92,  91,  99,  94,  95,  74,  98,  99,  85,  96,\n",
       "         98,  98,  98, 100,  95,  96,  83,  83,  95,  84,  88,  97,  95,\n",
       "         85,  88,  83,  93,  90]))"
      ]
     },
     "execution_count": 3,
     "metadata": {},
     "output_type": "execute_result"
    }
   ],
   "source": [
    "# Examine the output to see if things look right.\n",
    "midterm, final"
   ]
  },
  {
   "cell_type": "markdown",
   "metadata": {},
   "source": [
    "Compute the mean score for the midterms and the mean score for the finals."
   ]
  },
  {
   "cell_type": "code",
   "execution_count": 4,
   "metadata": {},
   "outputs": [
    {
     "data": {
      "text/plain": [
       "(92.614035087719301, 93.456140350877192)"
      ]
     },
     "execution_count": 4,
     "metadata": {},
     "output_type": "execute_result"
    }
   ],
   "source": [
    "midterm.mean(), final.mean()"
   ]
  },
  {
   "cell_type": "markdown",
   "metadata": {},
   "source": [
    "Compute how many students there are."
   ]
  },
  {
   "cell_type": "code",
   "execution_count": 5,
   "metadata": {},
   "outputs": [
    {
     "data": {
      "text/plain": [
       "(57,)"
      ]
     },
     "execution_count": 5,
     "metadata": {},
     "output_type": "execute_result"
    }
   ],
   "source": [
    "midterm.shape"
   ]
  },
  {
   "cell_type": "markdown",
   "metadata": {},
   "source": [
    "Create a boolean array called improving, which is True for students that score higher on the final than the midterm, and False for other students."
   ]
  },
  {
   "cell_type": "code",
   "execution_count": 6,
   "metadata": {},
   "outputs": [
    {
     "data": {
      "text/plain": [
       "array([False,  True,  True, False, False,  True,  True,  True,  True,\n",
       "       False,  True,  True, False,  True, False,  True,  True,  True,\n",
       "        True, False, False,  True, False,  True,  True, False,  True,\n",
       "       False, False, False,  True, False, False,  True, False,  True,\n",
       "        True, False,  True,  True, False, False,  True,  True,  True,\n",
       "       False, False,  True,  True, False,  True,  True, False, False,\n",
       "       False,  True, False], dtype=bool)"
      ]
     },
     "execution_count": 6,
     "metadata": {},
     "output_type": "execute_result"
    }
   ],
   "source": [
    "improving = final > midterm\n",
    "improving"
   ]
  },
  {
   "cell_type": "markdown",
   "metadata": {},
   "source": [
    "Next, look at **only** the students that did better on the final than the midterm, and find their mean final score."
   ]
  },
  {
   "cell_type": "code",
   "execution_count": 7,
   "metadata": {},
   "outputs": [
    {
     "data": {
      "text/plain": [
       "95.612903225806448"
      ]
     },
     "execution_count": 7,
     "metadata": {},
     "output_type": "execute_result"
    }
   ],
   "source": [
    "final[improving].mean()"
   ]
  },
  {
   "cell_type": "markdown",
   "metadata": {},
   "source": [
    "Do the same for the remaining students - those that did worse on the final, or the same on the midterm and the final."
   ]
  },
  {
   "cell_type": "code",
   "execution_count": 31,
   "metadata": {},
   "outputs": [
    {
     "data": {
      "text/plain": [
       "90.884615384615387"
      ]
     },
     "execution_count": 31,
     "metadata": {},
     "output_type": "execute_result"
    }
   ],
   "source": [
    "final[~improving].mean()"
   ]
  },
  {
   "cell_type": "markdown",
   "metadata": {},
   "source": [
    "Compute how many students dropped 10 points or more from their midterm score to their final score"
   ]
  },
  {
   "cell_type": "code",
   "execution_count": 33,
   "metadata": {},
   "outputs": [
    {
     "data": {
      "text/plain": [
       "5"
      ]
     },
     "execution_count": 33,
     "metadata": {},
     "output_type": "execute_result"
    }
   ],
   "source": [
    "np.sum(final-midterm <= -10)"
   ]
  },
  {
   "cell_type": "markdown",
   "metadata": {},
   "source": [
    "We become concerned that the average for the final is too low.  To correct this, we decide to randomly award some bonus points.  Specifically, for each student in the class, with probability 30%, we want to add a single bonus point to the final score.\n",
    "\n",
    "First, please set the random seed by executing the instruction below.  This will ensure that different groups get the same result.\n",
    "\n",
    "Second, generate an array of random numbers, each a uniform draw between zero and one.  (Check out np.random.rand)\n",
    "\n",
    "You have to figure out what the next steps are!  Store your result in a new ndarray called curved_final (don't overwrite the original final scores)."
   ]
  },
  {
   "cell_type": "code",
   "execution_count": 9,
   "metadata": {},
   "outputs": [],
   "source": [
    "np.random.seed(100)\n",
    "\n",
    "# Your code here"
   ]
  },
  {
   "cell_type": "code",
   "execution_count": 10,
   "metadata": {},
   "outputs": [
    {
     "data": {
      "text/plain": [
       "array([ 97,  93,  94,  93,  93, 100,  99,  99, 100,  83,  94, 100,  96,\n",
       "        94,  95,  97, 100,  98,  94,  96,  93,  98,  92,  92, 100,  97,\n",
       "        88,  98,  95,  93,  91,  99,  95,  95,  75,  98,  99,  86,  96,\n",
       "        98,  98,  98, 100,  96,  97,  83,  83,  96,  85,  88,  97,  95,\n",
       "        85,  88,  83,  93,  91])"
      ]
     },
     "execution_count": 10,
     "metadata": {},
     "output_type": "execute_result"
    }
   ],
   "source": [
    "bonus = (np.random.rand(midterm.shape[0])<.3).astype(np.int64)\n",
    "curved_final = final + bonus\n",
    "curved_final"
   ]
  },
  {
   "cell_type": "markdown",
   "metadata": {},
   "source": [
    "Run the instruction below to generate a scatterplot of midterm scores versus final scores"
   ]
  },
  {
   "cell_type": "code",
   "execution_count": 14,
   "metadata": {},
   "outputs": [
    {
     "data": {
      "text/plain": [
       "<matplotlib.collections.PathCollection at 0x114e0cb70>"
      ]
     },
     "execution_count": 14,
     "metadata": {},
     "output_type": "execute_result"
    },
    {
     "data": {
      "image/png": "[encoded data removed]",
      "text/plain": [
       "<matplotlib.figure.Figure at 0x114d1c240>"
      ]
     },
     "metadata": {},
     "output_type": "display_data"
    }
   ],
   "source": [
    "plt.scatter(midterm, final)"
   ]
  },
  {
   "cell_type": "markdown",
   "metadata": {},
   "source": [
    "Now place the score data into a two-dimensional array with two columns.\n",
    "\n",
    "You want each row to represent a different student.  You want the 0th column to represent the midterm score and the 1st column to represent the final score.  Call your new array all_grades"
   ]
  },
  {
   "cell_type": "code",
   "execution_count": 38,
   "metadata": {},
   "outputs": [
    {
     "data": {
      "text/plain": [
       "(57, 2)"
      ]
     },
     "execution_count": 38,
     "metadata": {},
     "output_type": "execute_result"
    }
   ],
   "source": [
    "all_grades = np.vstack((midterm, final)).T\n",
    "all_grades.shape"
   ]
  },
  {
   "cell_type": "markdown",
   "metadata": {},
   "source": [
    "Use array indexing on all_grades (square brackets) to pull out the array of scores for the student at index 10."
   ]
  },
  {
   "cell_type": "code",
   "execution_count": 59,
   "metadata": {},
   "outputs": [
    {
     "data": {
      "text/plain": [
       "array([90, 94])"
      ]
     },
     "execution_count": 59,
     "metadata": {},
     "output_type": "execute_result"
    }
   ],
   "source": [
    "all_grades[10]"
   ]
  },
  {
   "cell_type": "markdown",
   "metadata": {},
   "source": [
    "## Linear Modeling in Numpy"
   ]
  },
  {
   "cell_type": "markdown",
   "metadata": {},
   "source": [
    "You develop a linear model that predicts how a student will do in the class based on their midterm grade and final grade.  Your model is as follows:\n",
    "\n",
    "$$overall = w_1 midterm + w_2 final$$\n",
    "\n",
    "You write this as the product of matrices:\n",
    "\n",
    "$$overall = \\begin{bmatrix}\n",
    "    midterm & final\n",
    "\\end{bmatrix}\n",
    "\\begin{bmatrix}\n",
    "    w_1 \\\\ w_2\n",
    "\\end{bmatrix}\n",
    "$$\n",
    "\n",
    "If you remember your matrix algebra, these two equations mean exactly the same thing.\n",
    "\n",
    "You estimate $w_1=.4$ and $w_2 = .55$.\n",
    "\n",
    "Create a numpy array called w to hold the matrix above.  You will need to use reshape() to get it into the right dimensions.  Check w.shape to make sure it is (2,1). "
   ]
  },
  {
   "cell_type": "code",
   "execution_count": 60,
   "metadata": {},
   "outputs": [
    {
     "data": {
      "text/plain": [
       "(2, 1)"
      ]
     },
     "execution_count": 60,
     "metadata": {},
     "output_type": "execute_result"
    }
   ],
   "source": [
    "w = np.array((.4, .55)).reshape((2,1))\n",
    "w.shape"
   ]
  },
  {
   "cell_type": "markdown",
   "metadata": {},
   "source": [
    "Take the scores for student at the 10, and use reshape to make sure the shape is (1,2).  (These reshapes are important when doing matrix algebra, because numpy likes to drop dimensions when you're not looking, and that can lead to mistakes)\n",
    "\n",
    "Compute the matrix product of these scores with w (use np.dot).  This will give you the model prediction for the overall grade for this student."
   ]
  },
  {
   "cell_type": "code",
   "execution_count": 61,
   "metadata": {},
   "outputs": [
    {
     "data": {
      "text/plain": [
       "array([[ 87.7]])"
      ]
     },
     "execution_count": 61,
     "metadata": {},
     "output_type": "execute_result"
    }
   ],
   "source": [
    "np.dot( all_grades[10].reshape((1,2)), w)"
   ]
  },
  {
   "cell_type": "markdown",
   "metadata": {},
   "source": [
    "Next, find the matrix product of the entire matrix all_grades with w.   if you think about how matrix multiplication works, this will give you an array of predicted overall grades for each student.  Store the result in a variable called predicted."
   ]
  },
  {
   "cell_type": "code",
   "execution_count": 62,
   "metadata": {},
   "outputs": [],
   "source": [
    "predicted = np.dot( all_grades,w)"
   ]
  },
  {
   "cell_type": "markdown",
   "metadata": {},
   "source": [
    "Find the maximum overall grade predicted by your model."
   ]
  },
  {
   "cell_type": "code",
   "execution_count": 56,
   "metadata": {},
   "outputs": [
    {
     "data": {
      "text/plain": [
       "94.450000000000003"
      ]
     },
     "execution_count": 56,
     "metadata": {},
     "output_type": "execute_result"
    }
   ],
   "source": [
    "predicted.max()"
   ]
  }
 ],
 "metadata": {
  "hide_input": false,
  "kernelspec": {
   "display_name": "Python 3",
   "language": "python",
   "name": "python3"
  },
  "language_info": {
   "codemirror_mode": {
    "name": "ipython",
    "version": 3
   },
   "file_extension": ".py",
   "mimetype": "text/x-python",
   "name": "python",
   "nbconvert_exporter": "python",
   "pygments_lexer": "ipython3",
   "version": "3.7.4"
  }
 },
 "nbformat": 4,
 "nbformat_minor": 2
}
