{
 "cells": [
  {
   "cell_type": "markdown",
   "metadata": {},
   "source": [
    "<h2>Drills: <font color='red'>Functional</font> Programming</h2>"
   ]
  },
  {
   "cell_type": "markdown",
   "metadata": {},
   "source": [
    "Short question: What is a benefit of functional programming?"
   ]
  },
  {
   "cell_type": "markdown",
   "metadata": {},
   "source": [
    "Answer: The output of a function will always be the same. Unlike OOP, where we might overwrite a mutable object with the functional approach, we should not be able to alter the behavior."
   ]
  },
  {
   "cell_type": "markdown",
   "metadata": {},
   "source": [
    "- Given this snippet, would this be OOP or functional programming?\n",
    "\n",
    "```\n",
    "class Cat:\n",
    "    sound = \"meow\"\n",
    "    \n",
    "    def soundOff(self):\n",
    "        return \"The cat says %s \" % (self.sound)\n",
    "\n",
    "c = Cat()\n",
    "\n",
    "def petTheKitty(c):\n",
    "    print(c.soundOff())\n",
    "\n",
    "petTheKitty(c)\n",
    "c.sound = \"Woof\"\n",
    "petTheKitty(c)\n",
    "```"
   ]
  },
  {
   "cell_type": "markdown",
   "metadata": {},
   "source": [
    "##### Answer here"
   ]
  },
  {
   "cell_type": "markdown",
   "metadata": {},
   "source": [
    "- Write a quick function to accepts a value and return the cube of the number plus 1. Why is this considered to be functional programming?"
   ]
  },
  {
   "cell_type": "code",
   "execution_count": 7,
   "metadata": {},
   "outputs": [
    {
     "name": "stdout",
     "output_type": "stream",
     "text": [
      "125\n"
     ]
    }
   ],
   "source": [
    "def cube_sum(x):\n",
    "    return (x +1 ) ** 3\n",
    "\n",
    "print(cube_sum(4)) # should return 125"
   ]
  },
  {
   "cell_type": "markdown",
   "metadata": {},
   "source": [
    "##### Answer here"
   ]
  },
  {
   "cell_type": "markdown",
   "metadata": {},
   "source": [
    "<h4>Python&rsquo;s <font color='red'>map()</font> function</h4> \n",
    "\n",
    "Map applies a function to every item in an iterable (like a list)\n",
    "\n",
    "- Using the cube_sum() function made above - map this to a list of numbers ranged from 1-10\n",
    "- Hint: Remember if you get a map_object back you can turn it into a list by using ```list( <map_object> )```"
   ]
  },
  {
   "cell_type": "code",
   "execution_count": 18,
   "metadata": {},
   "outputs": [
    {
     "data": {
      "text/plain": [
       "[8, 27, 64, 125, 216, 343, 512, 729, 1000, 1331]"
      ]
     },
     "execution_count": 18,
     "metadata": {},
     "output_type": "execute_result"
    }
   ],
   "source": [
    "x = range(1,11)\n",
    "list(map(cube_sum, x ))"
   ]
  },
  {
   "cell_type": "code",
   "execution_count": 1,
   "metadata": {},
   "outputs": [],
   "source": [
    "# answer (function should return [8, 27, 64, 125, 216, 343, 512, 729, 1000, 1331])"
   ]
  },
  {
   "cell_type": "markdown",
   "metadata": {},
   "source": [
    "<h4>Python&rsquo;s <font color='red'>filter()</font> function</h4> \n",
    "\n",
    "Filter returns boolean values (t/f) depending on whether the data passed to it fulfills some criterion.  \n",
    "- Write a function to see if a number is even (returns True on even/ False on odd)"
   ]
  },
  {
   "cell_type": "code",
   "execution_count": 19,
   "metadata": {},
   "outputs": [
    {
     "name": "stdout",
     "output_type": "stream",
     "text": [
      "True\n"
     ]
    }
   ],
   "source": [
    "def is_even(number):\n",
    "    if number % 2 == 0:\n",
    "        return True\n",
    "    else:\n",
    "        return False\n",
    "\n",
    "print(is_even(6))  # should return False"
   ]
  },
  {
   "cell_type": "markdown",
   "metadata": {},
   "source": [
    "- To test our function, pass a list of numbers ranged from 1-10 to filter along with our is_even() function."
   ]
  },
  {
   "cell_type": "code",
   "execution_count": 20,
   "metadata": {},
   "outputs": [
    {
     "name": "stdout",
     "output_type": "stream",
     "text": [
      "[False, True, False, True, False, True, False, True, False, True]\n",
      "[2, 4, 6, 8, 10]\n"
     ]
    }
   ],
   "source": [
    "print(list(map(is_even, x)))\n",
    "print(list(filter(is_even, x)))"
   ]
  },
  {
   "cell_type": "code",
   "execution_count": 21,
   "metadata": {},
   "outputs": [],
   "source": [
    "# answer - should return [2, 4, 6, 8, 10]"
   ]
  },
  {
   "cell_type": "markdown",
   "metadata": {},
   "source": [
    "- Now let's do both at once - first map the cube_sum() function onto a list of numbers ranged from 1-10 than filter it with the is_even() function."
   ]
  },
  {
   "cell_type": "code",
   "execution_count": 23,
   "metadata": {},
   "outputs": [
    {
     "data": {
      "text/plain": [
       "[8, 64, 216, 512, 1000]"
      ]
     },
     "execution_count": 23,
     "metadata": {},
     "output_type": "execute_result"
    }
   ],
   "source": [
    "list(filter(is_even, map(cube_sum, x)))"
   ]
  },
  {
   "cell_type": "code",
   "execution_count": null,
   "metadata": {},
   "outputs": [],
   "source": [
    "# answer - should return [8, 64, 216, 512, 1000]"
   ]
  },
  {
   "cell_type": "markdown",
   "metadata": {},
   "source": [
    "<h4>More <font color='red'>lambda</font> functions</h4>\n",
    "\n",
    "Are useful for getting quick results or when you want to temporarily define a function.\n",
    "\n",
    "- Write a lambda function that replaces the commas and then converts the string to a number in ```string_list``` below.\n",
    "- Map that across the ```string_list``` to produce the list ```new_list```"
   ]
  },
  {
   "cell_type": "code",
   "execution_count": 28,
   "metadata": {},
   "outputs": [
    {
     "data": {
      "text/plain": [
       "[1000, 2000, 3000, 4000, 1000000, 70001, 81010, 82000]"
      ]
     },
     "execution_count": 28,
     "metadata": {},
     "output_type": "execute_result"
    }
   ],
   "source": [
    "string_list = ['1,000', '2,000', '3000', '4,000', '1,000,000', '70,001', '81010', '82,000']\n",
    "\n",
    "# answer should return [1000, 2000, 3000, 4000, 1000000, 70001, 81010, 82000]\n",
    "new_list = list(map(lambda z: int(z.replace(\",\",\"\")), string_list))\n",
    "new_list"
   ]
  },
  {
   "cell_type": "markdown",
   "metadata": {},
   "source": [
    "- Now write a lambda that filters the new_list made above keeping only the entries below 10,000"
   ]
  },
  {
   "cell_type": "code",
   "execution_count": 31,
   "metadata": {},
   "outputs": [
    {
     "data": {
      "text/plain": [
       "[1000, 2000, 3000, 4000]"
      ]
     },
     "execution_count": 31,
     "metadata": {},
     "output_type": "execute_result"
    }
   ],
   "source": [
    "list(filter(lambda z: z < 10000, new_list))"
   ]
  },
  {
   "cell_type": "code",
   "execution_count": null,
   "metadata": {},
   "outputs": [],
   "source": [
    "# answer should return [1000, 2000, 3000, 4000]"
   ]
  },
  {
   "cell_type": "markdown",
   "metadata": {},
   "source": [
    "- Finally take both lambdas you've made above - first map then filter the list below to get the answer!"
   ]
  },
  {
   "cell_type": "code",
   "execution_count": 44,
   "metadata": {},
   "outputs": [
    {
     "data": {
      "text/plain": [
       "[8000, 2000, 9000]"
      ]
     },
     "execution_count": 44,
     "metadata": {},
     "output_type": "execute_result"
    }
   ],
   "source": [
    "string_list2 = ['8,000', '2,000', '9000', '11,000', '1,500,000', '99,999', '132123', '84,000']\n",
    "list(filter(lambda x: x < 10000, map(lambda z: int(z.replace(\",\",\"\")), string_list2)))\n",
    "# answer should return [8000, 2000, 9000]"
   ]
  },
  {
   "cell_type": "code",
   "execution_count": null,
   "metadata": {},
   "outputs": [],
   "source": []
  }
 ],
 "metadata": {
  "kernelspec": {
   "display_name": "Python 3",
   "language": "python",
   "name": "python3"
  },
  "language_info": {
   "codemirror_mode": {
    "name": "ipython",
    "version": 3
   },
   "file_extension": ".py",
   "mimetype": "text/x-python",
   "name": "python",
   "nbconvert_exporter": "python",
   "pygments_lexer": "ipython3",
   "version": "3.7.4"
  }
 },
 "nbformat": 4,
 "nbformat_minor": 2
}
