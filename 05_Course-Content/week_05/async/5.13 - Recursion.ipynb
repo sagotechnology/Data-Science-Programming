{
 "cells": [
  {
   "cell_type": "markdown",
   "metadata": {},
   "source": [
    "## Recursion\n",
    "\n",
    "As we've seen, we can call functions from within other functions.  Each time we call a new function, Python adds a new frame to the execution stack, and that frame has its own namespace.  If you understand this process clearly, you're ready to understand the idea of recursion.  Consider the following code:"
   ]
  },
  {
   "cell_type": "code",
   "execution_count": 2,
   "metadata": {},
   "outputs": [],
   "source": [
    "def factorial(n):\n",
    "    if n==1:\n",
    "        return 1\n",
    "    return n * factorial(n-1)"
   ]
  },
  {
   "cell_type": "markdown",
   "metadata": {},
   "source": [
    "Here, we have a function called factorial, which includes a function call inside itself.  What's surprising is that the function being called is factorial itself.  Think about this: in Python, it's possible for a function to call itself.\n",
    "\n",
    "Try to follow what happens when you call this function for small inputs.  If you call the function with an argument of 1, it's easy to see that control enters the if clause and returns 1."
   ]
  },
  {
   "cell_type": "code",
   "execution_count": 5,
   "metadata": {},
   "outputs": [
    {
     "data": {
      "text/plain": [
       "1"
      ]
     },
     "execution_count": 5,
     "metadata": {},
     "output_type": "execute_result"
    }
   ],
   "source": [
    "factorial(1)"
   ]
  },
  {
   "cell_type": "markdown",
   "metadata": {},
   "source": [
    "Now think about what happens when you pass 2 into the function.  This time, control skips the if clause and goes straight to the return statement.  Since n is 2, the function is supposed to return ```2 * factorial(2-1) = 2 * factorial(1)```.\n",
    "\n",
    "To finish evaluating this expression, Python has to call the factorial function again, but passing in 1 this time.  As we already saw above, ```factorial(1)``` returns 1.  This means that our final answer will be ```2 * 1 = 2```."
   ]
  },
  {
   "cell_type": "code",
   "execution_count": 6,
   "metadata": {},
   "outputs": [
    {
     "data": {
      "text/plain": [
       "120"
      ]
     },
     "execution_count": 6,
     "metadata": {},
     "output_type": "execute_result"
    }
   ],
   "source": [
    "factorial(5)"
   ]
  },
  {
   "cell_type": "markdown",
   "metadata": {},
   "source": [
    "See if you can understand what would happen if you passed 3 into the function.  As we execute our program, the factorial function appears in the call stack multiple times.  In other words there are multiple copies of this function running at the same time.  You might worry that all these copies have a variable named n, but of course we know this isn't a problem.  Each function has its own unique n in its local namespace, and each of these n's has a different value.  In fact, every time we add a new factorial function to the call stack, the local n is exactly one less than the previous n."
   ]
  },
  {
   "cell_type": "markdown",
   "metadata": {},
   "source": [
    "As you can see, our function computes the factorial of a number.  The factorial of n is defined as the product of all the integers up to and including n, ```1 * 2 * 3 *... * n```.\n",
    "\n",
    "Each recursive algorithm needs two elements.\n",
    "\n",
    "1. A base case\n",
    "2. A recursive rule\n",
    "\n",
    "The base case is a simple version of the problem that we can solve immediately.  In our example, the base case is '''n==1'''.  When we reach the base case, we just return the answer right away.\n",
    "\n",
    "The recursive rule is a mathematical way to break the problem down into easier problems.  It's  a mathematical fact that we can write the factorial of n as follows:\n",
    "\n",
    "```factorial(n) = 1 * 2 * ...* (n-1) * n = n * factorial(n-1)```\n",
    "\n",
    "This is a mathematical relationship.  Notice, though, that it appears pretty much identically in the code of our function."
   ]
  },
  {
   "cell_type": "markdown",
   "metadata": {},
   "source": [
    "## Should you use recursion?\n",
    "\n",
    "At this point, you may be wondering why you would ever want to use recursion.  After all, you could have just written a factorial function using a loop.  In fact, this is a general principle: any recursive algorithm could be rewritten using loops instead of recursive function calls.\n",
    "\n",
    "In the case of computing factorials, the looping strategy is probably better than recursion.  There are, however, situations in which the recursive algorithm is much more elegant and easier to understand.  These situations are typically more advanced, and introductory programming courses normally don't cover them.\n",
    "\n",
    "For now, let's see just one more realistic example of recursion that's useful in data science.\n",
    "\n",
    "Below, we define a string that contains JSON data.  This is a popular file format that you will probably encounter when scraping data from websites or from public apis.  As you can see, it's a nested structure in which data at different levels is accessed by keys."
   ]
  },
  {
   "cell_type": "code",
   "execution_count": 12,
   "metadata": {},
   "outputs": [],
   "source": [
    "import json \n",
    "\n",
    "json_str = \"\"\"\n",
    "{\"widget\": {\n",
    "    \"debug\": \"on\",\n",
    "    \"window\": {\n",
    "        \"title\": \"Sample Konfabulator Widget\",\n",
    "        \"name\": \"main_window\",\n",
    "        \"width\": 500,\n",
    "        \"height\": 500\n",
    "    },\n",
    "    \"image\": { \n",
    "        \"src\": \"Images/Sun.png\",\n",
    "        \"name\": \"sun1\",\n",
    "        \"hOffset\": 250,\n",
    "        \"vOffset\": 250,\n",
    "        \"alignment\": \"center\"\n",
    "    },\n",
    "    \"text\": {\n",
    "        \"data\": \"Click Here\",\n",
    "        \"size\": 36,\n",
    "        \"style\": \"bold\",\n",
    "        \"name\": \"text1\",\n",
    "        \"hOffset\": 250,\n",
    "        \"vOffset\": 100,\n",
    "        \"alignment\": \"center\",\n",
    "        \"onMouseUp\": \"sun1.opacity = (sun1.opacity / 100) * 90;\"\n",
    "    }\n",
    "}}    \n",
    "\"\"\"\n",
    "\n",
    "data = json.loads(json_str)"
   ]
  },
  {
   "cell_type": "markdown",
   "metadata": {},
   "source": [
    "We use the json Python library to load this string into the variable data.  When we do this, the json structure is converted into a set of nested dictionaries."
   ]
  },
  {
   "cell_type": "code",
   "execution_count": 8,
   "metadata": {},
   "outputs": [
    {
     "data": {
      "text/plain": [
       "dict"
      ]
     },
     "execution_count": 8,
     "metadata": {},
     "output_type": "execute_result"
    }
   ],
   "source": [
    "type(data)"
   ]
  },
  {
   "cell_type": "code",
   "execution_count": 9,
   "metadata": {},
   "outputs": [
    {
     "data": {
      "text/plain": [
       "dict_keys(['widget'])"
      ]
     },
     "execution_count": 9,
     "metadata": {},
     "output_type": "execute_result"
    }
   ],
   "source": [
    "data.keys()"
   ]
  },
  {
   "cell_type": "code",
   "execution_count": 13,
   "metadata": {},
   "outputs": [
    {
     "data": {
      "text/plain": [
       "dict"
      ]
     },
     "execution_count": 13,
     "metadata": {},
     "output_type": "execute_result"
    }
   ],
   "source": [
    "type(data['widget'])"
   ]
  },
  {
   "cell_type": "markdown",
   "metadata": {},
   "source": [
    "Suppose we want to know the maximum depth of our data structure.  That is, how many layers of dictionaries are there?  This is a problem that would be very messy to solve using loops.  But there's a very elegant recursive algorithm to do this.  \n",
    "\n",
    "To design our recursive algorithm, a great first step is to write down a recursive relation.  The relation needs to break the problem down into simpler problems.  In this case, the recursive relation can be written as follows:\n",
    "\n",
    "```depth( data ) = 1 + max( depth(data[0]), depth(data[1]),.... ) ```\n",
    "\n",
    "In english, the depth of a dictionary is 1 (correponding to the current level) plus the maximum depth that any item of the dictionary has.\n",
    "\n",
    "We can write this in code as follows:"
   ]
  },
  {
   "cell_type": "code",
   "execution_count": 24,
   "metadata": {},
   "outputs": [],
   "source": [
    "def depth(data):\n",
    "    ans = 0\n",
    "    for item in data.values():\n",
    "        ans = max(ans, depth(item))\n",
    "    return ans"
   ]
  },
  {
   "cell_type": "markdown",
   "metadata": {},
   "source": [
    "Coding this as a comprehension can make it a lot more readable, because it highlights the recursive relation in a more mathematical form:"
   ]
  },
  {
   "cell_type": "code",
   "execution_count": 22,
   "metadata": {},
   "outputs": [],
   "source": [
    "def depth(data):\n",
    "    return 1 + max( [depth(items) for items in data.values()] )"
   ]
  },
  {
   "cell_type": "markdown",
   "metadata": {},
   "source": [
    "Finally, we need a base case, so that our function doesn't just call itself forever.  In this case, the base case is pretty clear: at some point, we get to an item in our data structure that isn't a dictionary.  When this happens, we can't keep looking deeper.  Instead, we just recognize that the depth of a single piece of data is 1, and we return the 1.\n",
    "\n",
    "Putting this all together, our function looks like this:"
   ]
  },
  {
   "cell_type": "code",
   "execution_count": 20,
   "metadata": {},
   "outputs": [],
   "source": [
    "def depth(data):\n",
    "    if type(data) == dict:\n",
    "        return 1 + max( [depth(items) for items in data.values()] )\n",
    "    return 1"
   ]
  },
  {
   "cell_type": "markdown",
   "metadata": {},
   "source": [
    "We can run this on our example data to test it."
   ]
  },
  {
   "cell_type": "code",
   "execution_count": 18,
   "metadata": {},
   "outputs": [
    {
     "data": {
      "text/plain": [
       "4"
      ]
     },
     "execution_count": 18,
     "metadata": {},
     "output_type": "execute_result"
    }
   ],
   "source": [
    "depth(data)"
   ]
  },
  {
   "cell_type": "markdown",
   "metadata": {},
   "source": [
    "Take a moment to think about how you would write the depth function without recursion.  You would need to write down a set of loops to iterate through each dictionary, but you don't know in advance how many loops you need.  As you can imagine, your code would get messy very quickly.  By contrast, the recursive algorithm only takes a few lines of code to write, and it's very declarative - you can see the mathematical logic right there in the code.\n",
    "\n",
    "We've only started to scratch the surface when it comes to recursion.  As you go on to study data structures, you will see more applications where recursion is really useful."
   ]
  }
 ],
 "metadata": {
  "kernelspec": {
   "display_name": "Python 3",
   "language": "python",
   "name": "python3"
  },
  "language_info": {
   "codemirror_mode": {
    "name": "ipython",
    "version": 3
   },
   "file_extension": ".py",
   "mimetype": "text/x-python",
   "name": "python",
   "nbconvert_exporter": "python",
   "pygments_lexer": "ipython3",
   "version": "3.7.4"
  }
 },
 "nbformat": 4,
 "nbformat_minor": 1
}
