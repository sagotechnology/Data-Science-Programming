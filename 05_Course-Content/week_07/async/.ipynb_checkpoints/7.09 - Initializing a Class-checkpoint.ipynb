{
 "cells": [
  {
   "cell_type": "markdown",
   "metadata": {
    "collapsed": true
   },
   "source": [
    "# Initializing a Class\n",
    "\n",
    "\n",
    "Add an __init__ magic method to initialize funding and employee data as instance (rather than class) attributes. \n",
    "\n",
    "- Require that one employee name is added at the opening of a company \n",
    "- Make the initial funding amount default to 0. \n",
    "- Don't forget your self arguments; instance attributes need self arguments!\n",
    "\n",
    "- Enhance your add employee method; if the method is called without an argument and the default value (employee_name == \"unnamed\") is used then do not add unnamed to the list and print a message to instruct the user to add a name. \n"
   ]
  },
  {
   "cell_type": "code",
   "execution_count": 15,
   "metadata": {},
   "outputs": [],
   "source": [
    "class Company():\n",
    "    '''\n",
    "    You can copy over your class from the last exercise and add the __init__() part\n",
    "    '''\n",
    "    \n",
    "    def __init__(self, employee_name = \"Jose\"):\n",
    "        self.employee_list = []\n",
    "        self.funding_list = []\n",
    "        self.employee_count = 1\n",
    "        self.employee_list.append(employee_name)\n",
    "        self.amount = 0\n",
    "        \n",
    "\n",
    "    \n",
    "    def add_employee_name(self, employee_name): \n",
    "        self.employee_list.append(employee_name)  \n",
    "        self.employee_count+=1\n",
    "            \n",
    "    def add_funding(self, amount):\n",
    "        self.funding_list.append(amount)\n",
    "        print('Your funding addition was {}'.format(amount))\n",
    "        print('Total funding is {}'.format(sum(self.funding_list))) "
   ]
  },
  {
   "cell_type": "code",
   "execution_count": 16,
   "metadata": {},
   "outputs": [
    {
     "name": "stdout",
     "output_type": "stream",
     "text": [
      "Your funding addition was 10000000\n",
      "Total funding is 10000000\n",
      "Your funding addition was 50000\n",
      "Total funding is 10050000\n"
     ]
    }
   ],
   "source": [
    "# try out your class with this code\n",
    "c1 = Company(\"Gunnar\")\n",
    "c1.add_employee_name('Samuel') # this should give an error message!\n",
    "\n",
    "c2 = Company(\"Chris\")\n",
    "c2.add_funding(10000000)\n",
    "c2.add_funding(50000)"
   ]
  },
  {
   "cell_type": "markdown",
   "metadata": {},
   "source": [
    "### Now the funding should correctly stay with the company that it was assigned!"
   ]
  },
  {
   "cell_type": "code",
   "execution_count": 17,
   "metadata": {},
   "outputs": [
    {
     "name": "stdout",
     "output_type": "stream",
     "text": [
      "False\n",
      "[]\n",
      "[10000000, 50000]\n"
     ]
    }
   ],
   "source": [
    "print(sum(c2.funding_list) == sum(c1.funding_list))\n",
    "print(c1.funding_list)\n",
    "print(c2.funding_list)"
   ]
  },
  {
   "cell_type": "code",
   "execution_count": 20,
   "metadata": {},
   "outputs": [],
   "source": [
    "c2.add_employee_name('Erkia')"
   ]
  },
  {
   "cell_type": "code",
   "execution_count": 23,
   "metadata": {},
   "outputs": [
    {
     "name": "stdout",
     "output_type": "stream",
     "text": [
      "['Gunnar', 'Samuel']\n",
      "['Chris', 'Erkia']\n"
     ]
    }
   ],
   "source": [
    "print(c1.employee_list)\n",
    "print(c2.employee_list)\n",
    "d3 = Company()"
   ]
  },
  {
   "cell_type": "code",
   "execution_count": 24,
   "metadata": {},
   "outputs": [
    {
     "name": "stdout",
     "output_type": "stream",
     "text": [
      "['Jose']\n"
     ]
    }
   ],
   "source": [
    "print(d3.employee_list)"
   ]
  },
  {
   "cell_type": "code",
   "execution_count": 27,
   "metadata": {},
   "outputs": [
    {
     "name": "stdout",
     "output_type": "stream",
     "text": [
      "1\n",
      "2\n",
      "2\n"
     ]
    }
   ],
   "source": [
    "print(d3.employee_count)\n",
    "print(c1.employee_count)\n",
    "print(c2.employee_count)"
   ]
  },
  {
   "cell_type": "code",
   "execution_count": null,
   "metadata": {},
   "outputs": [],
   "source": []
  }
 ],
 "metadata": {
  "kernelspec": {
   "display_name": "Python 3",
   "language": "python",
   "name": "python3"
  },
  "language_info": {
   "codemirror_mode": {
    "name": "ipython",
    "version": 3
   },
   "file_extension": ".py",
   "mimetype": "text/x-python",
   "name": "python",
   "nbconvert_exporter": "python",
   "pygments_lexer": "ipython3",
   "version": "3.7.4"
  }
 },
 "nbformat": 4,
 "nbformat_minor": 2
}
