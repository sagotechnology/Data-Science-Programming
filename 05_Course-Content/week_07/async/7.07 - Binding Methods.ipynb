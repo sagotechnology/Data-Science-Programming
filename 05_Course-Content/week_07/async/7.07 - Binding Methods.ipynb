{
 "cells": [
  {
   "cell_type": "markdown",
   "metadata": {},
   "source": [
    "## Binding Methods\n",
    "\n",
    "In this drill, we will build up a virtual startup company to practice the basic concepts in Object oriented programming (OOP). The drills will be progressive and follow the lecture material closely."
   ]
  },
  {
   "cell_type": "markdown",
   "metadata": {
    "collapsed": true
   },
   "source": [
    "Make a class \"company\"\n",
    "- Give it a docstring that describes the intent and fuction of the class\n",
    "- Make two methods to add some attributes on demand: ```add_employee_name     add_funding```\n",
    "- The methods should intake self and a default value (i.e. employee_name=\"unnamed\" or amount=0)\n",
    "- For the add employee method; append the new name to the list and add one to the employee count\n",
    "- For the funding amount append it to the list and increment the amount to the funding total\n",
    "- Don't bother with an __init__() method yet"
   ]
  },
  {
   "cell_type": "code",
   "execution_count": 116,
   "metadata": {},
   "outputs": [],
   "source": [
    "class Company():\n",
    "    '''\n",
    "    We are starting a new company.\n",
    "    '''\n",
    "    employee_list=[]\n",
    "    employee_count=0\n",
    "    funding_list=[]\n",
    "    \n",
    "    #Update these methods\n",
    "    def add_employee_name(self, employee_name=\"unnamed\"): \n",
    "        if employee_name != \"unnamed\":\n",
    "            self.employee_list.append(employee_name)\n",
    "            self.employee_count += 1\n",
    "        \n",
    "\n",
    "    def add_funding(self, amount=0):\n",
    "        self.funding_list.append(amount)\n",
    "        print('Your funding addition was {}'.format(amount))\n",
    "        print('Total funding is {}'.format(sum(self.funding_list)))\n",
    "    "
   ]
  },
  {
   "cell_type": "code",
   "execution_count": 117,
   "metadata": {},
   "outputs": [
    {
     "name": "stdout",
     "output_type": "stream",
     "text": [
      "Your funding addition was 100000\n",
      "Total funding is 100000\n",
      "Your funding addition was 500\n",
      "Total funding is 100500\n"
     ]
    }
   ],
   "source": [
    "# try out your class with this code\n",
    "c1 = Company()\n",
    "c2 = Company()\n",
    "c1.add_employee_name('Samuel')\n",
    "c2.add_employee_name('Erkia')\n",
    "c1.add_funding(100000)\n",
    "c1.add_funding(500)"
   ]
  },
  {
   "cell_type": "code",
   "execution_count": 118,
   "metadata": {},
   "outputs": [
    {
     "name": "stdout",
     "output_type": "stream",
     "text": [
      "Your funding addition was 10000000\n",
      "Total funding is 10100500\n",
      "Your funding addition was 50000\n",
      "Total funding is 10150500\n"
     ]
    }
   ],
   "source": [
    "# try out your class with this code\n",
    "\n",
    "\n",
    "c1.add_employee_name(\"Gunnar\")\n",
    "c1.add_employee_name(\"Jono\")\n",
    "\n",
    "c2.add_funding(10000000)\n",
    "c2.add_funding(50000)"
   ]
  },
  {
   "cell_type": "markdown",
   "metadata": {},
   "source": [
    "### Note that only company 2 got funding but company 1 also shows the same funding amount. Why is this?"
   ]
  },
  {
   "cell_type": "code",
   "execution_count": 119,
   "metadata": {},
   "outputs": [
    {
     "name": "stdout",
     "output_type": "stream",
     "text": [
      "True\n",
      "[100000, 500, 10000000, 50000]\n",
      "[100000, 500, 10000000, 50000]\n"
     ]
    }
   ],
   "source": [
    "print(sum(c2.funding_list) == sum(c1.funding_list))\n",
    "print(c1.funding_list)\n",
    "print(c2.funding_list)"
   ]
  },
  {
   "cell_type": "code",
   "execution_count": 120,
   "metadata": {},
   "outputs": [
    {
     "name": "stdout",
     "output_type": "stream",
     "text": [
      "3\n",
      "1\n",
      "['Samuel', 'Erkia', 'Gunnar', 'Jono']\n"
     ]
    }
   ],
   "source": [
    "print(c1.employee_count)\n",
    "print(c2.employee_count)\n",
    "print(c1.employee_list)"
   ]
  },
  {
   "cell_type": "code",
   "execution_count": null,
   "metadata": {},
   "outputs": [],
   "source": []
  }
 ],
 "metadata": {
  "kernelspec": {
   "display_name": "Python 3",
   "language": "python",
   "name": "python3"
  },
  "language_info": {
   "codemirror_mode": {
    "name": "ipython",
    "version": 3
   },
   "file_extension": ".py",
   "mimetype": "text/x-python",
   "name": "python",
   "nbconvert_exporter": "python",
   "pygments_lexer": "ipython3",
   "version": "3.7.4"
  }
 },
 "nbformat": 4,
 "nbformat_minor": 2
}
