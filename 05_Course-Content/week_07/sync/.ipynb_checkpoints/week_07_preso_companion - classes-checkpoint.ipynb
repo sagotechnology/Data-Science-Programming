{
 "cells": [
  {
   "cell_type": "markdown",
   "metadata": {},
   "source": [
    "### About Homework 6 (5)\n",
    "\n",
    "What is the complexity of this code?"
   ]
  },
  {
   "cell_type": "code",
   "execution_count": 1,
   "metadata": {},
   "outputs": [
    {
     "data": {
      "text/plain": [
       "0.5058369636535645"
      ]
     },
     "execution_count": 1,
     "metadata": {},
     "output_type": "execute_result"
    }
   ],
   "source": [
    "import time\n",
    "start = time.time()\n",
    "\n",
    "def do_something():\n",
    "    return None\n",
    "\n",
    "with open(\"sowpods.txt\",\"r\") as infile:\n",
    "    raw_input = infile.readlines()\n",
    "    all_words = [datum.strip('\\n') for datum in raw_input]\n",
    "    \n",
    "for word in all_words:\n",
    "    if len(word) <= 7:\n",
    "        for char in word:\n",
    "            do_something()\n",
    "        \n",
    "time.time() - start\n",
    "            "
   ]
  },
  {
   "cell_type": "markdown",
   "metadata": {},
   "source": [
    "### Re: Homework 5 Grading (7)\n",
    "\n",
    "Usually, do not print from with functions."
   ]
  },
  {
   "cell_type": "code",
   "execution_count": 2,
   "metadata": {},
   "outputs": [
    {
     "name": "stdout",
     "output_type": "stream",
     "text": [
      "18\n"
     ]
    }
   ],
   "source": [
    "def calculate(x, y):\n",
    "    return x**2 + y\n",
    "\n",
    "w = 5 + calculate(3, 4)\n",
    "print(w)"
   ]
  },
  {
   "cell_type": "code",
   "execution_count": 3,
   "metadata": {},
   "outputs": [
    {
     "name": "stdout",
     "output_type": "stream",
     "text": [
      "13\n",
      "18\n"
     ]
    }
   ],
   "source": [
    "def calculate(x, y):\n",
    "    result = x**2 + y\n",
    "    print(result)\n",
    "    return result\n",
    "\n",
    "w = 5 + calculate(3, 4)\n",
    "print(w)"
   ]
  },
  {
   "cell_type": "code",
   "execution_count": 4,
   "metadata": {},
   "outputs": [
    {
     "name": "stdout",
     "output_type": "stream",
     "text": [
      "18\n"
     ]
    }
   ],
   "source": [
    "def calculate(x, y, verbose=False):\n",
    "    result = x**2 + y\n",
    "    if verbose:\n",
    "        print(result)\n",
    "    return result\n",
    "\n",
    "w = 5 + calculate(3, 4)\n",
    "print(w)"
   ]
  },
  {
   "cell_type": "code",
   "execution_count": 5,
   "metadata": {},
   "outputs": [
    {
     "name": "stdout",
     "output_type": "stream",
     "text": [
      "13\n",
      "18\n"
     ]
    }
   ],
   "source": [
    "def calculate(x, y, verbose=False):\n",
    "    result = x**2 + y\n",
    "    if verbose:\n",
    "        print(result)\n",
    "    return result\n",
    "\n",
    "w = 5 + calculate(3, 4, verbose=True)\n",
    "print(w)"
   ]
  },
  {
   "cell_type": "markdown",
   "metadata": {},
   "source": [
    "### Re: Homework 5 Grading (8)\n",
    "\n",
    "Error check inputs, but usually do not error check function parameters"
   ]
  },
  {
   "cell_type": "code",
   "execution_count": 6,
   "metadata": {},
   "outputs": [
    {
     "data": {
      "text/plain": [
       "50"
      ]
     },
     "execution_count": 6,
     "metadata": {},
     "output_type": "execute_result"
    },
    {
     "name": "stdout",
     "output_type": "stream",
     "text": [
      "Error: not an integer\n"
     ]
    }
   ],
   "source": [
    "def times10(x):\n",
    "    if type(x) != int: # do not do this in a function definition\n",
    "        print(\"Error: not an integer\")\n",
    "        return None\n",
    "    return x*10\n",
    "        \n",
    "times10(5)\n",
    "times10(\"w\")"
   ]
  },
  {
   "cell_type": "code",
   "execution_count": 8,
   "metadata": {},
   "outputs": [
    {
     "name": "stdout",
     "output_type": "stream",
     "text": [
      "Enter an integer: wddd\n",
      "Error: some wrong with input\n"
     ]
    }
   ],
   "source": [
    "def times10(x):\n",
    "    return x*10\n",
    "    \n",
    "try:\n",
    "    i = int(input(\"Enter an integer: \"))\n",
    "    times10(i)\n",
    "except:\n",
    "    print(\"Error: some wrong with input\")"
   ]
  },
  {
   "cell_type": "markdown",
   "metadata": {},
   "source": [
    "### Classes (types) | ready to go vs custom (14,15)"
   ]
  },
  {
   "cell_type": "code",
   "execution_count": 9,
   "metadata": {},
   "outputs": [
    {
     "name": "stdout",
     "output_type": "stream",
     "text": [
      "7 <class 'int'>\n",
      "3.14 <class 'float'>\n",
      "hello <class 'str'>\n",
      "[1, 2, 3, 4] <class 'list'>\n",
      "{1, 2, 3, 4} <class 'set'>\n",
      "(1, 2, 3, 4) <class 'tuple'>\n",
      "{'A': 1, 'B': 2, 'C': 3} <class 'dict'>\n",
      "<function <lambda> at 0x0000028433E56D90> <class 'function'>\n"
     ]
    }
   ],
   "source": [
    "i = 7\n",
    "j = 3.14\n",
    "s = \"hello\"\n",
    "m = [1,2,3,4]\n",
    "a = {1,2,3,4}\n",
    "t = (1,2,3,4)\n",
    "d = {\"A\":1, \"B\":2, \"C\":3}\n",
    "f = lambda: None\n",
    "\n",
    "print(i, type(i))\n",
    "print(j, type(j))\n",
    "print(s, type(s))\n",
    "print(m, type(m))\n",
    "print(a, type(a))\n",
    "print(t, type(t))\n",
    "print(d, type(d))\n",
    "print(f, type(f))\n",
    "\n"
   ]
  },
  {
   "cell_type": "code",
   "execution_count": 10,
   "metadata": {},
   "outputs": [
    {
     "data": {
      "text/plain": [
       "dict_keys(['A', 'B', 'C'])"
      ]
     },
     "execution_count": 10,
     "metadata": {},
     "output_type": "execute_result"
    },
    {
     "data": {
      "text/plain": [
       "{'A': 1, 'B': 2, 'C': 3}"
      ]
     },
     "execution_count": 10,
     "metadata": {},
     "output_type": "execute_result"
    },
    {
     "data": {
      "text/plain": [
       "{'A': 1, 'B': 2, 'C': 3, 'D': 4}"
      ]
     },
     "execution_count": 10,
     "metadata": {},
     "output_type": "execute_result"
    }
   ],
   "source": [
    "d = {\"A\":1, \"B\":2, \"C\":3}\n",
    "\n",
    "d.keys()\n",
    "d\n",
    "\n",
    "d.update({\"D\":4})\n",
    "d"
   ]
  },
  {
   "cell_type": "code",
   "execution_count": 11,
   "metadata": {},
   "outputs": [
    {
     "name": "stdout",
     "output_type": "stream",
     "text": [
      "12:34:00.000010 <class 'datetime.time'>\n"
     ]
    },
    {
     "data": {
      "text/plain": [
       "12"
      ]
     },
     "execution_count": 11,
     "metadata": {},
     "output_type": "execute_result"
    },
    {
     "data": {
      "text/plain": [
       "34"
      ]
     },
     "execution_count": 11,
     "metadata": {},
     "output_type": "execute_result"
    }
   ],
   "source": [
    "from datetime import time\n",
    "x = time(12,34,0,10)\n",
    "\n",
    "print(x, type(x))\n",
    "\n",
    "x.hour\n",
    "x.minute"
   ]
  },
  {
   "cell_type": "markdown",
   "metadata": {},
   "source": [
    "### Class construction | the basics (17)"
   ]
  },
  {
   "cell_type": "code",
   "execution_count": 13,
   "metadata": {},
   "outputs": [
    {
     "name": "stdout",
     "output_type": "stream",
     "text": [
      "<__main__.Drone object at 0x0000028433E427B8> <class '__main__.Drone'>\n",
      "<__main__.Drone object at 0x0000028433E42710> <class '__main__.Drone'>\n"
     ]
    }
   ],
   "source": [
    "class Drone:\n",
    "    \"\"\"Base class for all drone aircraft\"\"\"\n",
    "    \n",
    "d1 = Drone()\n",
    "d2 = Drone()    \n",
    "print(d1, type(d1))\n",
    "print(d2, type(d2))"
   ]
  },
  {
   "cell_type": "code",
   "execution_count": 14,
   "metadata": {},
   "outputs": [
    {
     "data": {
      "text/plain": [
       "'Battery'"
      ]
     },
     "execution_count": 14,
     "metadata": {},
     "output_type": "execute_result"
    },
    {
     "data": {
      "text/plain": [
       "'Battery'"
      ]
     },
     "execution_count": 14,
     "metadata": {},
     "output_type": "execute_result"
    }
   ],
   "source": [
    "class Drone:\n",
    "    \"\"\"Base class for all drone aircraft\"\"\"\n",
    "    \n",
    "d1 = Drone()\n",
    "d2 = Drone()\n",
    "    \n",
    "Drone.power_system = \"Battery\"\n",
    "\n",
    "d1.power_system\n",
    "d2.power_system"
   ]
  },
  {
   "cell_type": "code",
   "execution_count": 15,
   "metadata": {},
   "outputs": [
    {
     "data": {
      "text/plain": [
       "('Gasoline', 100)"
      ]
     },
     "execution_count": 15,
     "metadata": {},
     "output_type": "execute_result"
    },
    {
     "data": {
      "text/plain": [
       "'Battery'"
      ]
     },
     "execution_count": 15,
     "metadata": {},
     "output_type": "execute_result"
    }
   ],
   "source": [
    "class Drone:\n",
    "    \"\"\"Base class for all drone aircraft\"\"\"\n",
    "    \n",
    "d1 = Drone()\n",
    "d2 = Drone()\n",
    "    \n",
    "Drone.power_system = \"Battery\"\n",
    "\n",
    "d1.power_system = \"Gasoline\"\n",
    "d1.altitude = 100\n",
    "\n",
    "d1.power_system, d1.altitude\n",
    "d2.power_system"
   ]
  },
  {
   "cell_type": "markdown",
   "metadata": {},
   "source": [
    "### Class information (18)"
   ]
  },
  {
   "cell_type": "code",
   "execution_count": 16,
   "metadata": {},
   "outputs": [
    {
     "data": {
      "text/plain": [
       "mappingproxy({'__dict__': <attribute '__dict__' of 'Drone' objects>,\n",
       "              '__doc__': 'Base class for all drone aircraft',\n",
       "              '__module__': '__main__',\n",
       "              '__weakref__': <attribute '__weakref__' of 'Drone' objects>,\n",
       "              'power_system': 'Battery'})"
      ]
     },
     "execution_count": 16,
     "metadata": {},
     "output_type": "execute_result"
    },
    {
     "data": {
      "text/plain": [
       "{'altitude': 100, 'power_system': 'Gasoline'}"
      ]
     },
     "execution_count": 16,
     "metadata": {},
     "output_type": "execute_result"
    },
    {
     "data": {
      "text/plain": [
       "{}"
      ]
     },
     "execution_count": 16,
     "metadata": {},
     "output_type": "execute_result"
    }
   ],
   "source": [
    "Drone.__dict__\n",
    "d1.__dict__\n",
    "d2.__dict__"
   ]
  },
  {
   "cell_type": "code",
   "execution_count": 17,
   "metadata": {},
   "outputs": [],
   "source": [
    "?Drone"
   ]
  },
  {
   "cell_type": "markdown",
   "metadata": {},
   "source": [
    "### Attributes (20)"
   ]
  },
  {
   "cell_type": "code",
   "execution_count": 19,
   "metadata": {},
   "outputs": [
    {
     "data": {
      "text/plain": [
       "(1, 0, 0)"
      ]
     },
     "execution_count": 19,
     "metadata": {},
     "output_type": "execute_result"
    },
    {
     "data": {
      "text/plain": [
       "(2, 100, 0)"
      ]
     },
     "execution_count": 19,
     "metadata": {},
     "output_type": "execute_result"
    },
    {
     "data": {
      "text/plain": [
       "2"
      ]
     },
     "execution_count": 19,
     "metadata": {},
     "output_type": "execute_result"
    }
   ],
   "source": [
    "class Drone():\n",
    "    \"\"\"Base class for all drone aircraft\"\"\"\n",
    "    \n",
    "    num_drones = 0\n",
    "    \n",
    "    def __init__(self, altitude=0):\n",
    "        self.altitude = altitude\n",
    "        self.ascend_count = 0\n",
    "        Drone.num_drones +=1\n",
    "    \n",
    "    \n",
    "d1 = Drone()\n",
    "Drone.num_drones, d1.altitude, d1.ascend_count\n",
    "\n",
    "d2 = Drone(100)\n",
    "Drone.num_drones, d2.altitude, d2.ascend_count\n",
    "\n",
    "Drone.num_drones"
   ]
  },
  {
   "cell_type": "code",
   "execution_count": 20,
   "metadata": {},
   "outputs": [
    {
     "name": "stdout",
     "output_type": "stream",
     "text": [
      "Drone flying at 300 feet.\n"
     ]
    }
   ],
   "source": [
    "class Drone():\n",
    "    \"\"\"Base class for all drone aircraft\"\"\"\n",
    "    \n",
    "    num_drones = 0\n",
    "    \n",
    "    def __init__(self, altitude=0):\n",
    "        self.altitude = altitude\n",
    "        self.ascend_count = 0\n",
    "        Drone.num_drones +=1\n",
    "    \n",
    "    def fly(self):\n",
    "        print(\"Drone flying at\", self.altitude, \"feet.\")\n",
    "    \n",
    "    \n",
    "d1 = Drone(300)\n",
    "d1.fly()\n"
   ]
  },
  {
   "cell_type": "code",
   "execution_count": 25,
   "metadata": {},
   "outputs": [
    {
     "data": {
      "text/plain": [
       "0"
      ]
     },
     "execution_count": 25,
     "metadata": {},
     "output_type": "execute_result"
    },
    {
     "name": "stdout",
     "output_type": "stream",
     "text": [
      "Drone flying at 400 feet.\n"
     ]
    },
    {
     "data": {
      "text/plain": [
       "1"
      ]
     },
     "execution_count": 25,
     "metadata": {},
     "output_type": "execute_result"
    },
    {
     "name": "stdout",
     "output_type": "stream",
     "text": [
      "Drone flying at 425 feet.\n"
     ]
    },
    {
     "data": {
      "text/plain": [
       "'USA'"
      ]
     },
     "execution_count": 25,
     "metadata": {},
     "output_type": "execute_result"
    }
   ],
   "source": [
    "class Drone():\n",
    "    \"\"\"Base class for all drone aircraft\"\"\"\n",
    "    \n",
    "    num_drones = 0\n",
    "    \n",
    "    def __init__(self, altitude=0):\n",
    "        self.altitude = altitude\n",
    "        self.ascend_count = 0\n",
    "        Drone.num_drones +=1\n",
    "    \n",
    "    def fly(self):\n",
    "        print(\"Drone flying at\", self.altitude, \"feet.\")\n",
    "\n",
    "    def ascend(self, change):\n",
    "        self.altitude += change\n",
    "        self.ascend_count += 1\n",
    "        self.location = \"USA\"\n",
    "        \n",
    "\n",
    "d2 = Drone()\n",
    "d2.ascend(25)\n",
    "        \n",
    "d1 = Drone(400)\n",
    "d1.ascend_count\n",
    "d1.fly()\n",
    "d1.ascend(25)\n",
    "d1.ascend_count\n",
    "d1.fly()\n",
    "d1.location"
   ]
  },
  {
   "cell_type": "markdown",
   "metadata": {},
   "source": [
    "### Methods | class-specific functions (21)"
   ]
  },
  {
   "cell_type": "code",
   "execution_count": 26,
   "metadata": {},
   "outputs": [
    {
     "data": {
      "text/plain": [
       "2"
      ]
     },
     "execution_count": 26,
     "metadata": {},
     "output_type": "execute_result"
    },
    {
     "data": {
      "text/plain": [
       "{'altitude': 125, 'ascend_count': 1}"
      ]
     },
     "execution_count": 26,
     "metadata": {},
     "output_type": "execute_result"
    },
    {
     "data": {
      "text/plain": [
       "{'altitude': 0, 'ascend_count': 0, 'power_system': 'Battery'}"
      ]
     },
     "execution_count": 26,
     "metadata": {},
     "output_type": "execute_result"
    },
    {
     "data": {
      "text/plain": [
       "{'altitude': 125, 'ascend_count': 1, 'power_system': 'Battery'}"
      ]
     },
     "execution_count": 26,
     "metadata": {},
     "output_type": "execute_result"
    }
   ],
   "source": [
    "# An alternative, clumsy implementation\n",
    "\n",
    "num_drones = 0\n",
    "\n",
    "def ascend(self, change):\n",
    "    return {\"altitude\":self[\"altitude\"] + change, \"ascend_count\":self[\"ascend_count\"] + 1}\n",
    "    \n",
    "num_drones += 1\n",
    "d1 = {\"altitude\":0, \"ascend_count\":0}\n",
    "\n",
    "num_drones += 1\n",
    "d2 = {\"altitude\":100, \"ascend_count\":0}\n",
    "\n",
    "num_drones\n",
    "d2 = ascend(d2, 25)\n",
    "d2\n",
    "\n",
    "d1[\"power_system\"] = \"Battery\"\n",
    "d1\n",
    "d2[\"power_system\"] = \"Battery\"\n",
    "d2\n"
   ]
  },
  {
   "cell_type": "markdown",
   "metadata": {},
   "source": [
    "### Get and set (25)\n",
    "\n",
    "Can add code to get and set methods"
   ]
  },
  {
   "cell_type": "code",
   "execution_count": 27,
   "metadata": {},
   "outputs": [
    {
     "data": {
      "text/plain": [
       "-25"
      ]
     },
     "execution_count": 27,
     "metadata": {},
     "output_type": "execute_result"
    },
    {
     "ename": "Exception",
     "evalue": "Drone cannot have a negative altitude.",
     "output_type": "error",
     "traceback": [
      "\u001b[1;31m---------------------------------------------------------------------------\u001b[0m",
      "\u001b[1;31mException\u001b[0m                                 Traceback (most recent call last)",
      "\u001b[1;32m<ipython-input-27-a52552237300>\u001b[0m in \u001b[0;36m<module>\u001b[1;34m()\u001b[0m\n\u001b[0;32m     29\u001b[0m \u001b[1;33m\u001b[0m\u001b[0m\n\u001b[0;32m     30\u001b[0m \u001b[0md2\u001b[0m \u001b[1;33m=\u001b[0m \u001b[0mDrone\u001b[0m\u001b[1;33m(\u001b[0m\u001b[1;33m)\u001b[0m\u001b[1;33m\u001b[0m\u001b[0m\n\u001b[1;32m---> 31\u001b[1;33m \u001b[0md2\u001b[0m\u001b[1;33m.\u001b[0m\u001b[0mset_altitude\u001b[0m\u001b[1;33m(\u001b[0m\u001b[1;33m-\u001b[0m\u001b[1;36m25\u001b[0m\u001b[1;33m)\u001b[0m\u001b[1;33m\u001b[0m\u001b[0m\n\u001b[0m",
      "\u001b[1;32m<ipython-input-27-a52552237300>\u001b[0m in \u001b[0;36mset_altitude\u001b[1;34m(self, new_altitude)\u001b[0m\n\u001b[0;32m     21\u001b[0m     \u001b[1;32mdef\u001b[0m \u001b[0mset_altitude\u001b[0m\u001b[1;33m(\u001b[0m\u001b[0mself\u001b[0m\u001b[1;33m,\u001b[0m \u001b[0mnew_altitude\u001b[0m\u001b[1;33m)\u001b[0m\u001b[1;33m:\u001b[0m\u001b[1;33m\u001b[0m\u001b[0m\n\u001b[0;32m     22\u001b[0m         \u001b[1;32mif\u001b[0m \u001b[0mnew_altitude\u001b[0m \u001b[1;33m<\u001b[0m \u001b[1;36m0\u001b[0m\u001b[1;33m:\u001b[0m\u001b[1;33m\u001b[0m\u001b[0m\n\u001b[1;32m---> 23\u001b[1;33m             \u001b[1;32mraise\u001b[0m \u001b[0mException\u001b[0m\u001b[1;33m(\u001b[0m\u001b[1;34m\"Drone cannot have a negative altitude.\"\u001b[0m\u001b[1;33m)\u001b[0m\u001b[1;33m\u001b[0m\u001b[0m\n\u001b[0m\u001b[0;32m     24\u001b[0m         \u001b[0mself\u001b[0m\u001b[1;33m.\u001b[0m\u001b[0maltitude\u001b[0m \u001b[1;33m=\u001b[0m \u001b[0mnew_altitude\u001b[0m\u001b[1;33m\u001b[0m\u001b[0m\n\u001b[0;32m     25\u001b[0m \u001b[1;33m\u001b[0m\u001b[0m\n",
      "\u001b[1;31mException\u001b[0m: Drone cannot have a negative altitude."
     ]
    }
   ],
   "source": [
    "class Drone():\n",
    "    \"\"\"Base class for all drone aircraft\"\"\"\n",
    "    \n",
    "    num_drones = 0\n",
    "    \n",
    "    def __init__(self, altitude=0):\n",
    "        self.altitude = altitude\n",
    "        self.ascend_count = 0\n",
    "        Drone.num_drones +=1\n",
    "    \n",
    "    def fly(self):\n",
    "        print(\"Drone flying at\", self.altitude, \"feet.\")\n",
    "\n",
    "    def ascend(self, change):\n",
    "        self.altitude += change\n",
    "        self.ascend_count += 1\n",
    "        \n",
    "    def get_altitude(self):\n",
    "        return self.altitude\n",
    "    \n",
    "    def set_altitude(self, new_altitude):\n",
    "        if new_altitude < 0:\n",
    "            raise Exception(\"Drone cannot have a negative altitude.\")\n",
    "        self.altitude = new_altitude\n",
    "        \n",
    "d1 = Drone()\n",
    "d1.altitude += -25\n",
    "d1.altitude\n",
    "\n",
    "d2 = Drone()\n",
    "d2.set_altitude(-25)"
   ]
  },
  {
   "cell_type": "markdown",
   "metadata": {},
   "source": [
    "### Hidden names (26)"
   ]
  },
  {
   "cell_type": "code",
   "execution_count": 28,
   "metadata": {},
   "outputs": [],
   "source": [
    "class Drone():\n",
    "    \"\"\"Base class for all drone aircraft\"\"\"\n",
    "    \n",
    "    num_drones = 0\n",
    "    \n",
    "    def __init__(self, altitude=0):\n",
    "        self.__altitude = altitude  ### hidden attribute\n",
    "        self.ascend_count = 0\n",
    "        Drone.num_drones +=1\n",
    "    \n",
    "    def fly(self):\n",
    "        print(\"Drone flying at\", self.__altitude, \"feet.\")\n",
    "\n",
    "    def ascend(self, change):\n",
    "        self.__altitude += change\n",
    "        self.ascend_count += 1\n",
    "        \n",
    "    def get_altitude(self):\n",
    "        return self.__altitude\n",
    "    \n",
    "    def set_altitude(self, new_altitude):\n",
    "        if new_altitude < 0:\n",
    "            raise Exception(\"Drone cannot have a negative altitude.\")\n",
    "        self.__altitude = new_altitude\n",
    "        "
   ]
  },
  {
   "cell_type": "code",
   "execution_count": 32,
   "metadata": {},
   "outputs": [
    {
     "data": {
      "text/plain": [
       "100"
      ]
     },
     "execution_count": 32,
     "metadata": {},
     "output_type": "execute_result"
    },
    {
     "name": "stdout",
     "output_type": "stream",
     "text": [
      "The altitude right now is 100\n"
     ]
    }
   ],
   "source": [
    "d1 = Drone()\n",
    "d1.set_altitude(100)\n",
    "d1.get_altitude()\n",
    "\n",
    "print(\"The altitude right now is\", d1.get_altitude())"
   ]
  },
  {
   "cell_type": "code",
   "execution_count": 30,
   "metadata": {},
   "outputs": [
    {
     "ename": "Exception",
     "evalue": "Drone cannot have a negative altitude.",
     "output_type": "error",
     "traceback": [
      "\u001b[1;31m---------------------------------------------------------------------------\u001b[0m",
      "\u001b[1;31mException\u001b[0m                                 Traceback (most recent call last)",
      "\u001b[1;32m<ipython-input-30-22ab1571ccfc>\u001b[0m in \u001b[0;36m<module>\u001b[1;34m()\u001b[0m\n\u001b[0;32m      1\u001b[0m \u001b[0md2\u001b[0m \u001b[1;33m=\u001b[0m \u001b[0mDrone\u001b[0m\u001b[1;33m(\u001b[0m\u001b[1;33m)\u001b[0m\u001b[1;33m\u001b[0m\u001b[0m\n\u001b[1;32m----> 2\u001b[1;33m \u001b[0md2\u001b[0m\u001b[1;33m.\u001b[0m\u001b[0mset_altitude\u001b[0m\u001b[1;33m(\u001b[0m\u001b[1;33m-\u001b[0m\u001b[1;36m25\u001b[0m\u001b[1;33m)\u001b[0m\u001b[1;33m\u001b[0m\u001b[0m\n\u001b[0m\u001b[0;32m      3\u001b[0m \u001b[0md2\u001b[0m\u001b[1;33m.\u001b[0m\u001b[0mget_altitude\u001b[0m\u001b[1;33m(\u001b[0m\u001b[1;33m)\u001b[0m\u001b[1;33m\u001b[0m\u001b[0m\n",
      "\u001b[1;32m<ipython-input-28-f07e8bd15399>\u001b[0m in \u001b[0;36mset_altitude\u001b[1;34m(self, new_altitude)\u001b[0m\n\u001b[0;32m     21\u001b[0m     \u001b[1;32mdef\u001b[0m \u001b[0mset_altitude\u001b[0m\u001b[1;33m(\u001b[0m\u001b[0mself\u001b[0m\u001b[1;33m,\u001b[0m \u001b[0mnew_altitude\u001b[0m\u001b[1;33m)\u001b[0m\u001b[1;33m:\u001b[0m\u001b[1;33m\u001b[0m\u001b[0m\n\u001b[0;32m     22\u001b[0m         \u001b[1;32mif\u001b[0m \u001b[0mnew_altitude\u001b[0m \u001b[1;33m<\u001b[0m \u001b[1;36m0\u001b[0m\u001b[1;33m:\u001b[0m\u001b[1;33m\u001b[0m\u001b[0m\n\u001b[1;32m---> 23\u001b[1;33m             \u001b[1;32mraise\u001b[0m \u001b[0mException\u001b[0m\u001b[1;33m(\u001b[0m\u001b[1;34m\"Drone cannot have a negative altitude.\"\u001b[0m\u001b[1;33m)\u001b[0m\u001b[1;33m\u001b[0m\u001b[0m\n\u001b[0m\u001b[0;32m     24\u001b[0m         \u001b[0mself\u001b[0m\u001b[1;33m.\u001b[0m\u001b[0m__altitude\u001b[0m \u001b[1;33m=\u001b[0m \u001b[0mnew_altitude\u001b[0m\u001b[1;33m\u001b[0m\u001b[0m\n\u001b[0;32m     25\u001b[0m \u001b[1;33m\u001b[0m\u001b[0m\n",
      "\u001b[1;31mException\u001b[0m: Drone cannot have a negative altitude."
     ]
    }
   ],
   "source": [
    "d2 = Drone()\n",
    "d2.set_altitude(-25)\n",
    "d2.get_altitude()"
   ]
  },
  {
   "cell_type": "code",
   "execution_count": 33,
   "metadata": {},
   "outputs": [
    {
     "data": {
      "text/plain": [
       "100"
      ]
     },
     "execution_count": 33,
     "metadata": {},
     "output_type": "execute_result"
    }
   ],
   "source": [
    "d3 = Drone()\n",
    "d3.__altitude = 100\n",
    "d3.__altitude"
   ]
  },
  {
   "cell_type": "code",
   "execution_count": 36,
   "metadata": {},
   "outputs": [
    {
     "name": "stdout",
     "output_type": "stream",
     "text": [
      "-25\n",
      "Drone flying at 0 feet.\n"
     ]
    },
    {
     "ename": "AttributeError",
     "evalue": "'Drone' object has no attribute '__altitude'",
     "output_type": "error",
     "traceback": [
      "\u001b[1;31m---------------------------------------------------------------------------\u001b[0m",
      "\u001b[1;31mAttributeError\u001b[0m                            Traceback (most recent call last)",
      "\u001b[1;32m<ipython-input-36-f59ad47cfaef>\u001b[0m in \u001b[0;36m<module>\u001b[1;34m()\u001b[0m\n\u001b[0;32m      3\u001b[0m \u001b[0mprint\u001b[0m\u001b[1;33m(\u001b[0m\u001b[0md4\u001b[0m\u001b[1;33m.\u001b[0m\u001b[0maltitude\u001b[0m\u001b[1;33m)\u001b[0m \u001b[1;31m### appropriately causes error even though without print it would be handled\u001b[0m\u001b[1;33m\u001b[0m\u001b[0m\n\u001b[0;32m      4\u001b[0m \u001b[0md4\u001b[0m\u001b[1;33m.\u001b[0m\u001b[0mfly\u001b[0m\u001b[1;33m(\u001b[0m\u001b[1;33m)\u001b[0m\u001b[1;33m\u001b[0m\u001b[0m\n\u001b[1;32m----> 5\u001b[1;33m \u001b[0md4\u001b[0m\u001b[1;33m.\u001b[0m\u001b[0m__altitude\u001b[0m\u001b[1;33m\u001b[0m\u001b[0m\n\u001b[0m",
      "\u001b[1;31mAttributeError\u001b[0m: 'Drone' object has no attribute '__altitude'"
     ]
    }
   ],
   "source": [
    "d4 = Drone()\n",
    "d4.altitude = -25\n",
    "print(d4.altitude) ### appropriately causes error even though without print it would be handled\n",
    "d4.fly()\n",
    "d4.__altitude\n"
   ]
  },
  {
   "cell_type": "code",
   "execution_count": null,
   "metadata": {},
   "outputs": [],
   "source": [
    "d4.__dict__"
   ]
  },
  {
   "cell_type": "markdown",
   "metadata": {},
   "source": [
    "### Properties and decorators (27)"
   ]
  },
  {
   "cell_type": "code",
   "execution_count": 37,
   "metadata": {},
   "outputs": [],
   "source": [
    "class Drone():\n",
    "    \"\"\"Base class for all drone aircraft\"\"\"\n",
    "    \n",
    "    num_drones = 0\n",
    "    \n",
    "    def __init__(self, altitude=0):\n",
    "        self.__altitude = altitude  ### hidden attribute\n",
    "        self.ascend_count = 0\n",
    "        Drone.num_drones +=1\n",
    "    \n",
    "    def fly(self):\n",
    "        print(\"Drone flying at\", self.altitude, \"feet.\")\n",
    "\n",
    "    def ascend(self, change):\n",
    "        self.__altitude += change\n",
    "        self.ascend_count += 1\n",
    "        \n",
    "    def get_altitude(self):\n",
    "        return self.__altitude\n",
    "    \n",
    "    def set_altitude(self, new_altitude):\n",
    "        if new_altitude < 0:\n",
    "            raise Exception(\"Drone cannot have a negative altitude.\")\n",
    "        self.__altitude = new_altitude\n",
    "        \n",
    "    altitude = property(get_altitude, set_altitude)"
   ]
  },
  {
   "cell_type": "code",
   "execution_count": 38,
   "metadata": {},
   "outputs": [
    {
     "ename": "Exception",
     "evalue": "Drone cannot have a negative altitude.",
     "output_type": "error",
     "traceback": [
      "\u001b[1;31m---------------------------------------------------------------------------\u001b[0m",
      "\u001b[1;31mException\u001b[0m                                 Traceback (most recent call last)",
      "\u001b[1;32m<ipython-input-38-8a8f6e2cf3df>\u001b[0m in \u001b[0;36m<module>\u001b[1;34m()\u001b[0m\n\u001b[0;32m      1\u001b[0m \u001b[0md1\u001b[0m \u001b[1;33m=\u001b[0m \u001b[0mDrone\u001b[0m\u001b[1;33m(\u001b[0m\u001b[1;33m)\u001b[0m\u001b[1;33m\u001b[0m\u001b[0m\n\u001b[1;32m----> 2\u001b[1;33m \u001b[0md1\u001b[0m\u001b[1;33m.\u001b[0m\u001b[0maltitude\u001b[0m \u001b[1;33m=\u001b[0m \u001b[1;33m-\u001b[0m\u001b[1;36m25\u001b[0m\u001b[1;33m\u001b[0m\u001b[0m\n\u001b[0m",
      "\u001b[1;32m<ipython-input-37-175d75751ebb>\u001b[0m in \u001b[0;36mset_altitude\u001b[1;34m(self, new_altitude)\u001b[0m\n\u001b[0;32m     21\u001b[0m     \u001b[1;32mdef\u001b[0m \u001b[0mset_altitude\u001b[0m\u001b[1;33m(\u001b[0m\u001b[0mself\u001b[0m\u001b[1;33m,\u001b[0m \u001b[0mnew_altitude\u001b[0m\u001b[1;33m)\u001b[0m\u001b[1;33m:\u001b[0m\u001b[1;33m\u001b[0m\u001b[0m\n\u001b[0;32m     22\u001b[0m         \u001b[1;32mif\u001b[0m \u001b[0mnew_altitude\u001b[0m \u001b[1;33m<\u001b[0m \u001b[1;36m0\u001b[0m\u001b[1;33m:\u001b[0m\u001b[1;33m\u001b[0m\u001b[0m\n\u001b[1;32m---> 23\u001b[1;33m             \u001b[1;32mraise\u001b[0m \u001b[0mException\u001b[0m\u001b[1;33m(\u001b[0m\u001b[1;34m\"Drone cannot have a negative altitude.\"\u001b[0m\u001b[1;33m)\u001b[0m\u001b[1;33m\u001b[0m\u001b[0m\n\u001b[0m\u001b[0;32m     24\u001b[0m         \u001b[0mself\u001b[0m\u001b[1;33m.\u001b[0m\u001b[0m__altitude\u001b[0m \u001b[1;33m=\u001b[0m \u001b[0mnew_altitude\u001b[0m\u001b[1;33m\u001b[0m\u001b[0m\n\u001b[0;32m     25\u001b[0m \u001b[1;33m\u001b[0m\u001b[0m\n",
      "\u001b[1;31mException\u001b[0m: Drone cannot have a negative altitude."
     ]
    }
   ],
   "source": [
    "d1 = Drone()\n",
    "d1.altitude = -25"
   ]
  },
  {
   "cell_type": "code",
   "execution_count": null,
   "metadata": {},
   "outputs": [],
   "source": [
    "class Drone():\n",
    "    \"\"\"Base class for all drone aircraft\"\"\"\n",
    "    \n",
    "    num_drones = 0\n",
    "    \n",
    "    def __init__(self, altitude=0):\n",
    "        self.__altitude = altitude  ### hidden attribute\n",
    "        self.ascend_count = 0\n",
    "        Drone.num_drones +=1\n",
    "    \n",
    "    def fly(self):\n",
    "        print(\"Drone flying at\", self.altitude, \"feet.\")\n",
    "\n",
    "    def ascend(self, change):\n",
    "        self.__altitude += change\n",
    "        self.ascend_count += 1\n",
    "        \n",
    "    @property\n",
    "    def altitude(self):\n",
    "        return self.__altitude\n",
    "    \n",
    "    @altitude.setter\n",
    "    def altitude(self, new_altitude):\n",
    "        if new_altitude < 0:\n",
    "            raise Exception(\"Drone cannot have a negative altitude.\")\n",
    "        self.__altitude = new_altitude\n",
    "        "
   ]
  },
  {
   "cell_type": "code",
   "execution_count": null,
   "metadata": {},
   "outputs": [],
   "source": [
    "d1 = Drone()\n",
    "d1.altitude = -25"
   ]
  },
  {
   "cell_type": "markdown",
   "metadata": {},
   "source": [
    "### Other method types (28)"
   ]
  },
  {
   "cell_type": "code",
   "execution_count": null,
   "metadata": {},
   "outputs": [],
   "source": [
    "class Drone():\n",
    "    \"\"\"Base class for all drone aircraft\"\"\"\n",
    "    \n",
    "    __num_drones = 0\n",
    "    \n",
    "    def __init__(self, altitude=0):\n",
    "        self.__altitude = altitude  ### hidden attribute\n",
    "        self.ascend_count = 0\n",
    "        Drone.__num_drones +=1\n",
    "    \n",
    "    def fly(self):\n",
    "        print(\"Drone flying at\", self.altitude, \"feet.\")\n",
    "\n",
    "    def ascend(self, change):\n",
    "        self.__altitude += change\n",
    "        self.ascend_count += 1\n",
    "        \n",
    "    @classmethod    \n",
    "    def get_num_drones(cls):\n",
    "        return cls.__num_drones"
   ]
  },
  {
   "cell_type": "code",
   "execution_count": null,
   "metadata": {},
   "outputs": [],
   "source": [
    "d1 = Drone()\n",
    "Drone.get_num_drones()"
   ]
  },
  {
   "cell_type": "code",
   "execution_count": null,
   "metadata": {},
   "outputs": [],
   "source": [
    "class Drone():\n",
    "    \"\"\"Base class for all drone aircraft\"\"\"\n",
    "    \n",
    "    __num_drones = 0\n",
    "    \n",
    "    def __init__(self, altitude=0):\n",
    "        self.__altitude = altitude  ### hidden attribute\n",
    "        self.ascend_count = 0\n",
    "        Drone.__num_drones +=1\n",
    "    \n",
    "    def fly(self):\n",
    "        print(\"Drone flying at\", self.altitude, \"feet.\")\n",
    "\n",
    "    def ascend(self, change):\n",
    "        self.__altitude += change\n",
    "        self.ascend_count += 1\n",
    "        \n",
    "    @staticmethod    \n",
    "    def feet_from_meters(meters):\n",
    "        return meters * 3.28084"
   ]
  },
  {
   "cell_type": "code",
   "execution_count": null,
   "metadata": {},
   "outputs": [],
   "source": [
    "Drone.feet_from_meters(100)"
   ]
  }
 ],
 "metadata": {
  "hide_input": false,
  "kernelspec": {
   "display_name": "Python 3",
   "language": "python",
   "name": "python3"
  },
  "language_info": {
   "codemirror_mode": {
    "name": "ipython",
    "version": 3
   },
   "file_extension": ".py",
   "mimetype": "text/x-python",
   "name": "python",
   "nbconvert_exporter": "python",
   "pygments_lexer": "ipython3",
   "version": "3.7.4"
  },
  "latex_envs": {
   "LaTeX_envs_menu_present": false,
   "autocomplete": true,
   "bibliofile": "biblio.bib",
   "cite_by": "apalike",
   "current_citInitial": 1,
   "eqLabelWithNumbers": false,
   "eqNumInitial": 1,
   "hotkeys": {
    "equation": "Ctrl-E",
    "itemize": "Ctrl-I"
   },
   "labels_anchors": false,
   "latex_user_defs": false,
   "report_style_numbering": false,
   "user_envs_cfg": true
  }
 },
 "nbformat": 4,
 "nbformat_minor": 2
}
