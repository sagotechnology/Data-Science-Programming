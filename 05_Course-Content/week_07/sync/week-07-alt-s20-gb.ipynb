{
 "cells": [
  {
   "cell_type": "markdown",
   "metadata": {},
   "source": [
    "<h2>Week 07 Classes &amp; Objects</h2>\n",
    "<blockquote>A trial of a new live session</blockquote>"
   ]
  },
  {
   "cell_type": "markdown",
   "metadata": {},
   "source": [
    "<h3>Notes for today (Spring 2020)</h3>\n",
    "<ol><li>Check out Python 3.8 new features</li>\n",
    "    <li>Official Activity for this week continues thru week 8</li>\n",
    "    <li>Question about ways to control large data streams</li>\n",
    "    <li>Best Practices (a draft)</li>\n",
    "    <li>Classes - overview</li>\n",
    "    <li>Testing an alternative activity</li>\n",
    "</ol>\n",
    "<img src=\"elephant.jpg\"/>"
   ]
  },
  {
   "cell_type": "markdown",
   "metadata": {},
   "source": [
    "<h3>1.  Python 3.8 new features</h3>\n",
    "<a href=\"https://docs.python.org/3/whatsnew/3.8.html\" target=\"new\">Changes in 3.8 - lots!</a>"
   ]
  },
  {
   "cell_type": "markdown",
   "metadata": {},
   "source": [
    "<h3>2.  Official Activity - in week_07 GitHub</h3>"
   ]
  },
  {
   "cell_type": "markdown",
   "metadata": {},
   "source": [
    "<h3>3.  Controlling data ingesting ... </h3>\n",
    "<a href=\"\" target=\"new\">[to be added]</a><br />\n",
    "<a href=\"https://towardsdatascience.com/lets-build-a-streaming-data-pipeline-e873d671fc57\" target=\"new\">From Lets Learn DataSci</a><br />\n",
    "<a href=\"https://www.dataquest.io/blog/streaming-data-python/\" target=\"new\">For Twitter Data</a><br />\n"
   ]
  },
  {
   "cell_type": "code",
   "execution_count": 5,
   "metadata": {},
   "outputs": [],
   "source": [
    "import argparse\n",
    "import os\n",
    "\n",
    "class FileReader:\n",
    "\t\"\"\" Get the data from file and read as needed \"\"\"\n",
    "\tdef __init__(self, file):\n",
    "\t\tself.file = file\n",
    "\t\tself.fh = open(file)\n",
    "\t\tself.lineno = 0\n",
    "\t\t\n",
    "\tdef readline(self):\n",
    "\t\tself.lineno = self.lineno + 1\n",
    "\t\tline = self.fh.readline()\n",
    "\t\tif not line:\n",
    "\t\t\treturn None\n",
    "\t\tif line.endswith(\"\\n\"):\n",
    "\t\t\tline = line[:-1]\n",
    "\t\treturn \"%d: %s\" % (self.lineno, line)\n",
    "\t\n",
    "\tdef __getstate__(self):\n",
    "\t\todict = self.__dict__.copy()\t# copy the dict since we change it\n",
    "\t\tdel odict['fh']\t\t\t\t\t# remove filehandle entry\n",
    "\t\treturn odict\n",
    "\t\n",
    "\tdef __setstate__(self, dict):\t\t# reopen file\n",
    "\t\tfh = open(dict['file'])\t\t\t# read from file ... \n",
    "\t\tcount = dict['lineno']\t\t\t# until line count is restored\n",
    "\t\twhile count:\n",
    "\t\t\tfh.radline()\n",
    "\t\t\tcount = count-1\n",
    "\t\tself.__dict__update(dict)\t\t# update attributes\n",
    "\t\tself.fh = fh\t\t\t\t\t# save the file object"
   ]
  },
  {
   "cell_type": "code",
   "execution_count": 6,
   "metadata": {},
   "outputs": [],
   "source": [
    "class Email:\n",
    "    def __init__(self):\n",
    "        self.is_sent = False\n",
    "    def send_email(self):\n",
    "        self.is_sent = True\n",
    "# mymail = Email()\n",
    "# mymail.is_sent -> false\n",
    "# mymail.send_email()"
   ]
  },
  {
   "cell_type": "markdown",
   "metadata": {},
   "source": [
    "<h3>Class Objects</h3>\n",
    "<blockquote>consist of docstring, attribute references (e.g., myclass.name), and instantiation (__init__).<br />\n",
    "    We can reference attribute references through the name or get/set.  Some people prefer thru name.\n",
    "</blockquote>\n",
    "\n",
    "<h3>Discussion: identifying attributes and behaviors</h3>\n",
    "<p>Let's use an example from the class for a few minutes' discussion about what to capture and what not to capture - and how.</p>"
   ]
  },
  {
   "cell_type": "code",
   "execution_count": 10,
   "metadata": {},
   "outputs": [
    {
     "name": "stdout",
     "output_type": "stream",
     "text": [
      "test\n"
     ]
    }
   ],
   "source": [
    "import sys\n",
    "import csv\n",
    "from collections import Counter\n",
    "import heapq\n",
    "\n",
    "SCORES  = {'A': 1, 'C': 3, 'B': 3, 'E': 1, 'D': 2, 'G': 2,\n",
    "         'F': 4, 'I': 1, 'H': 4, 'K': 5, 'J': 8, 'M': 3,\n",
    "         'L': 1, 'O': 1, 'N': 1, 'Q': 10, 'P': 3, 'S': 1,\n",
    "         'R': 1, 'U': 1, 'T': 1, 'W': 4, 'V': 4, 'Y': 4,\n",
    "         'X': 8, 'Z': 10}\n",
    "\n",
    "\n",
    "NUM_WILDCARDS = sys.argv[1].count('@')\n",
    "HAND_CHAR = sys.argv[1].replace('@', '')\n",
    "HAND_CHAR = HAND_CHAR.upper()\n",
    "HAND_COUNT = Counter(HAND_CHAR)\n",
    "\n",
    "\n",
    "# print(NUM_WILDCARDS, HAND_CHAR, HAND_COUNT)\n",
    "\n",
    "def word_generator():\n",
    "    with open('sowpods.txt','r') as f: # open by default mode='r' (read)\n",
    "        reader = csv.reader(f)\n",
    "        for line in reader:\n",
    "            yield line[0]\n",
    "\n",
    "def score(word):\n",
    "    ''' (str) -> int\n",
    "    Return the score of a word, taking into account the wildecards (0)'''\n",
    "    return sum((min(HAND_COUNT.get(c, 0), word.count(c)) * SCORES[c] for c in set(word)))\n",
    "\n",
    "def is_word(word):\n",
    "    ''' (str) -> bool\n",
    "    Return True taking the wildecards into account\n",
    "    '''\n",
    "    used_wildecards = 0\n",
    "    for c in set(word):\n",
    "        used_wildecards +=  max(word.count(c) - HAND_COUNT.get(c, 0), 0)\n",
    "        if used_wildecards > NUM_WILDCARDS:\n",
    "            return False\n",
    "    return True\n",
    "\n",
    "def cheater_generator():\n",
    "    ''' () -> generator\n",
    "    Returns a generator of pairs (score, word)\n",
    "    '''\n",
    "    for word in word_generator():\n",
    "        if is_word(word):\n",
    "            yield (-score(word), word)\n",
    "\n",
    "\n",
    "if __name__ == '__main__':\n",
    "    result = []\n",
    "    for pair in cheater_generator():\n",
    "        heapq.heappush(result, pair)\n",
    "\n",
    "    for i in range(min(len(result), 10)):\n",
    "        minus_score, word = heapq.heappop(result)\n",
    "        print(abs(minus_score), word)\n",
    "    print('test')"
   ]
  },
  {
   "cell_type": "markdown",
   "metadata": {},
   "source": [
    "<h3>Definition and Instantiation of a Class</h3>"
   ]
  },
  {
   "cell_type": "code",
   "execution_count": 6,
   "metadata": {},
   "outputs": [],
   "source": [
    "class Drinks:\n",
    "    kind = \"coffee\"      # attribute reference\n",
    "    \n",
    "    def what_is_your_order(self, order):   # also an attribute ref\n",
    "        self.order = order"
   ]
  },
  {
   "cell_type": "markdown",
   "metadata": {},
   "source": [
    "<h3>Instance and Class variables</h3>\n",
    "<blockquote>Instance variables are unique to <i>each instance of a Class</i>.\n",
    "    Class variables are <i>shared by all instances</i> of the class."
   ]
  },
  {
   "cell_type": "code",
   "execution_count": 5,
   "metadata": {},
   "outputs": [],
   "source": [
    "class Drinks:\n",
    "    kind = \"coffee\"     # shared by all instances\n",
    "    \n",
    "    def __init__(self, order):\n",
    "        self.order = order  # instance unique to each instance\n",
    "        self.orders = []\n",
    "        \n",
    "    def new_order(self, order):\n",
    "        self.orders.append(order)"
   ]
  },
  {
   "cell_type": "markdown",
   "metadata": {},
   "source": [
    "<h3>Inheritance</h3>\n",
    "<blockquote>Define a base class of the most shared properties/attributes and behaviors (methods).  Spin off children as needed.</blockquote>"
   ]
  },
  {
   "cell_type": "code",
   "execution_count": 8,
   "metadata": {},
   "outputs": [],
   "source": [
    "class Drinks:\n",
    "    def __init__(self, order):\n",
    "        self.orders = []\n",
    "        self.__update(order)\n",
    "    \n",
    "    def update(self, order):\n",
    "        for item in orders:\n",
    "            self.orders.append(item)\n",
    "    \n",
    "    __update = update        # acts like a private copy of the original update()\n",
    "    \n",
    "class Drinks_at_Bar(Drinks):\n",
    "    def update(self, keys, values):\n",
    "        # makes a new signature for update.\n",
    "        for item in zip(keys, values):\n",
    "            self.orders.append(oritemder)"
   ]
  },
  {
   "cell_type": "markdown",
   "metadata": {},
   "source": [
    "<h3>Abstract (Empty) Classes</h3>\n",
    "<blockquote>Useful for placeholders during development.  Requires <code>pass</code></blockquote>"
   ]
  },
  {
   "cell_type": "code",
   "execution_count": 10,
   "metadata": {},
   "outputs": [
    {
     "name": "stdout",
     "output_type": "stream",
     "text": [
      "Tom Jones\n"
     ]
    }
   ],
   "source": [
    "class Staff:\n",
    "    pass\n",
    "\n",
    "s = Staff()\n",
    "s.lname = \"Jones\"\n",
    "s.fname = \"Tom\"\n",
    "s.idno  = \"9382\"\n",
    "\n",
    "print(s.fname, s.lname)"
   ]
  },
  {
   "cell_type": "markdown",
   "metadata": {},
   "source": [
    "<h3>args and kwargs</h3>\n",
    "<blockquote><ul><li>*args and *kwargs are special keyword which allows function to take variable length argument.</li>\n",
    "<li>*args passes variable number of non-keyworded arguments list and on which operation of the list can be performed.</li>\n",
    "<li>**kwargs passes variable number of keyword arguments dictionary to function on which operation of a dictionary can be performed.</li>\n",
    "    <li>*args and **kwargs make the function flexible.</li>\n",
    "    </ul>\n",
    "    </blockquote>"
   ]
  },
  {
   "cell_type": "code",
   "execution_count": 4,
   "metadata": {},
   "outputs": [],
   "source": [
    "\"\"\" args and kwargs \"\"\"\n",
    "\n",
    "# correct_function_definition.py\n",
    "def my_function(a, b, *args, **kwargs):\n",
    "    pass\n"
   ]
  },
  {
   "cell_type": "code",
   "execution_count": 4,
   "metadata": {},
   "outputs": [
    {
     "name": "stdout",
     "output_type": "stream",
     "text": [
      "\n",
      "Data type of argument: <class 'dict'>\n",
      "Firstname is Gunnar\n",
      "Lastname is Kleemann\n",
      "Age is 32\n",
      "Phone is 1234567890\n",
      "\n",
      "Data type of argument: <class 'dict'>\n",
      "Firstname is Chris\n",
      "Lastname is Llop\n",
      "Email is llop@partyon.com\n",
      "Country is USA\n",
      "Age is 25\n",
      "Phone is 9876543210\n"
     ]
    }
   ],
   "source": [
    "def intro(**data):\n",
    "    print(\"\\nData type of argument:\",type(data))\n",
    "    for key, value in data.items():\n",
    "        print(\"{} is {}\".format(key,value))\n",
    "intro(Firstname=\"Gunnar\", Lastname=\"Kleemann\", Age=32, Phone=1234567890)\n",
    "intro(Firstname=\"Chris\", Lastname=\"Llop\", Email=\"llop@partyon.com\", Country=\"USA\", Age=25, Phone=9876543210)"
   ]
  },
  {
   "cell_type": "markdown",
   "metadata": {},
   "source": [
    "<h3>Meanwhile, </h3><blockquote>\n",
    "as mentioned when we use or inherit a class, we gain all the methods and instane vars that we might not even know are part of the class.  Hence, check out the documentation.\n",
    "    <p>The <code>for</code> actually employs some built-in methods, like <code>__next__()</code>, that you can use as <code>next()</code>.  And how to know when to stop?  The built-in <code>StopInteraction</code> exception."
   ]
  },
  {
   "cell_type": "code",
   "execution_count": 19,
   "metadata": {},
   "outputs": [
    {
     "name": "stdout",
     "output_type": "stream",
     "text": [
      "k\n",
      "a\n",
      "e\n",
      "r\n",
      "b\n",
      "e\n",
      "e\n",
      "f\n",
      "f\n",
      "o\n",
      "c\n",
      "--------------------------------------------------\n",
      "d\n",
      "o\n",
      "o\n",
      "f\n",
      "t\n",
      "a\n",
      "c\n"
     ]
    }
   ],
   "source": [
    "class Reverse:\n",
    "    \"\"\" iterator for looping over a sequence backwards \"\"\"\n",
    "    def __init__(self, input_data):\n",
    "        self.input_data = input_data\n",
    "        self.index = len(input_data)\n",
    "        \n",
    "    def __iter__(self):\n",
    "        return self\n",
    "    \n",
    "    def __next__(self):\n",
    "        if self.index == 0:\n",
    "            raise StopIteration\n",
    "        self.index = self.index - 1\n",
    "        return self.input_data[self.index]\n",
    "    \n",
    "rev = Reverse(\"coffeebreak\")\n",
    "iter(rev)\n",
    "for char in rev:\n",
    "    print(char)\n",
    "    \n",
    "print(\"-\"*50)\n",
    "''' compare to this python programmer view '''\n",
    "def reverse(input_data):\n",
    "    for i in range(len(input_data)-1, -1, -1):\n",
    "        yield input_data[i]          # NOTE the special new word\n",
    "\n",
    "for char in reverse(\"catfood\"):\n",
    "    print(char)"
   ]
  },
  {
   "cell_type": "code",
   "execution_count": 20,
   "metadata": {},
   "outputs": [
    {
     "name": "stdout",
     "output_type": "stream",
     "text": [
      "1\n"
     ]
    }
   ],
   "source": [
    "\"\"\" Another Example of iterators ... \"\"\"\n",
    "class NumberIncrease:\n",
    "    def __iter__(self):\n",
    "        self.a = 1\n",
    "        return self\n",
    "    def __next__(self):\n",
    "        x = self.a\n",
    "        self.a += 1\n",
    "        return x\n",
    "\n",
    "ni_test = NumberIncrease()\n",
    "ni_test_output = iter(ni_test)\n",
    "\n",
    "print(next(ni_test_output))\n",
    "print(next(ni_test_output))"
   ]
  },
  {
   "cell_type": "markdown",
   "metadata": {},
   "source": [
    "<h3>Once we have classes we can communicate between them</h3>\n",
    "<blockquote><ul><li>The child class can call upon Mom, using the <code>super()</code> reserved word.\n",
    "    <li>We can add methods and instances to to the child class even tho we're using <code>super()</code></li>\n",
    "        <li>And add methods <i>in</i> methods to access private variables.\n",
    "    </ul></blockquote>"
   ]
  },
  {
   "cell_type": "code",
   "execution_count": 26,
   "metadata": {},
   "outputs": [],
   "source": [
    "\"\"\" Base Class \"\"\"\n",
    "class Employee:\n",
    "    def __init__(self):\n",
    "        pass\n",
    "\n",
    "\"\"\" Calling super() \"\"\"\n",
    "class Staff(Employee):\n",
    "    def __init__(self, fname, lname):\n",
    "        super().__init__(fname, lname)\n",
    "        \n",
    "\"\"\" Add properties to the child \"\"\"\n",
    "\"\"\" the below overwrites the earlier Staff \"\"\"\n",
    "class Staff(Employee):\n",
    "    def __init__(self, fname, lname):\n",
    "        super().__init__(fname, lname)\n",
    "        self.office_location = \"Paris\"\n",
    "        \n",
    "\"\"\" add methods, too \"\"\"\n",
    "class Staff(Employee):\n",
    "    def __init__(fname, lname, office_location):\n",
    "        super().__init__(self, fname, lname)\n",
    "        self.office_location = \"Paris\"\n",
    "    \n",
    "    def infobox(self):\n",
    "        print(\"Bienvenue, \",self.fname, self.lname, \" au bureau principal parisien.\")"
   ]
  },
  {
   "cell_type": "code",
   "execution_count": 27,
   "metadata": {},
   "outputs": [
    {
     "ename": "NameError",
     "evalue": "name 'self' is not defined",
     "output_type": "error",
     "traceback": [
      "\u001b[0;31m---------------------------------------------------------------------------\u001b[0m",
      "\u001b[0;31mNameError\u001b[0m                                 Traceback (most recent call last)",
      "\u001b[0;32m<ipython-input-27-0f9b5ae16271>\u001b[0m in \u001b[0;36m<module>\u001b[0;34m()\u001b[0m\n\u001b[0;32m----> 1\u001b[0;31m \u001b[0ms\u001b[0m \u001b[0;34m=\u001b[0m \u001b[0mStaff\u001b[0m\u001b[0;34m(\u001b[0m\u001b[0;34m\"Collette\"\u001b[0m\u001b[0;34m,\u001b[0m\u001b[0;34m\"Channel\"\u001b[0m\u001b[0;34m)\u001b[0m\u001b[0;34m\u001b[0m\u001b[0m\n\u001b[0m",
      "\u001b[0;32m<ipython-input-26-1edce457d633>\u001b[0m in \u001b[0;36m__init__\u001b[0;34m(fname, lname, office_location)\u001b[0m\n\u001b[1;32m     19\u001b[0m \u001b[0;32mclass\u001b[0m \u001b[0mStaff\u001b[0m\u001b[0;34m(\u001b[0m\u001b[0mEmployee\u001b[0m\u001b[0;34m)\u001b[0m\u001b[0;34m:\u001b[0m\u001b[0;34m\u001b[0m\u001b[0m\n\u001b[1;32m     20\u001b[0m     \u001b[0;32mdef\u001b[0m \u001b[0m__init__\u001b[0m\u001b[0;34m(\u001b[0m\u001b[0mfname\u001b[0m\u001b[0;34m,\u001b[0m \u001b[0mlname\u001b[0m\u001b[0;34m,\u001b[0m \u001b[0moffice_location\u001b[0m\u001b[0;34m)\u001b[0m\u001b[0;34m:\u001b[0m\u001b[0;34m\u001b[0m\u001b[0m\n\u001b[0;32m---> 21\u001b[0;31m         \u001b[0msuper\u001b[0m\u001b[0;34m(\u001b[0m\u001b[0;34m)\u001b[0m\u001b[0;34m.\u001b[0m\u001b[0m__init__\u001b[0m\u001b[0;34m(\u001b[0m\u001b[0mself\u001b[0m\u001b[0;34m,\u001b[0m \u001b[0mfname\u001b[0m\u001b[0;34m,\u001b[0m \u001b[0mlname\u001b[0m\u001b[0;34m)\u001b[0m\u001b[0;34m\u001b[0m\u001b[0m\n\u001b[0m\u001b[1;32m     22\u001b[0m         \u001b[0mself\u001b[0m\u001b[0;34m.\u001b[0m\u001b[0moffice_location\u001b[0m \u001b[0;34m=\u001b[0m \u001b[0;34m\"Paris\"\u001b[0m\u001b[0;34m\u001b[0m\u001b[0m\n\u001b[1;32m     23\u001b[0m \u001b[0;34m\u001b[0m\u001b[0m\n",
      "\u001b[0;31mNameError\u001b[0m: name 'self' is not defined"
     ]
    }
   ],
   "source": [
    "s = Staff(\"Collette\",\"Channel\")"
   ]
  },
  {
   "cell_type": "markdown",
   "metadata": {},
   "source": [
    "<h3><code>global</code> keyword</h3>\n",
    "<blockquote>Global promotes a var with local scope to a global scope.  When? Depends...</blockquote>"
   ]
  },
  {
   "cell_type": "code",
   "execution_count": 28,
   "metadata": {},
   "outputs": [
    {
     "name": "stdout",
     "output_type": "stream",
     "text": [
      "Trump Royal Palace, 1600 Penn Ave\n"
     ]
    }
   ],
   "source": [
    "def AllEmployees():\n",
    "    global office_location\n",
    "    office_location = \"Trump Royal Palace, 1600 Penn Ave\"\n",
    "\n",
    "AllEmployees()\n",
    "print(office_location)"
   ]
  },
  {
   "cell_type": "markdown",
   "metadata": {},
   "source": [
    "<h3>In-class activity - can you fix or explain what to improve?</h3><blockquote>Goal is to think about integrating supposed best practices, Python's object tools, exception catching, etc.\n",
    "    <ol><li>integrate Python's new Date object features</li>\n",
    "        <li>How would you change the code to include a try/catch for the main() statement?</li>\n",
    "        <li>Is the code stylistically consistent?</li>\n",
    "        <li>conforms to various PEPx?</li>\n",
    "        <li>options for communicating errors/progress to end-user?</li>\n",
    "        <li>For the CalculateValues part open this .json file and write something to cluster by \"source\" and \"target\" and write a lambda to determine a value.</li>\n",
    "        <li>How might you use __dict__, __doc__, __str__, __repr__ to create documentation?</li>\n",
    "        <li>Can you integrate Python reserved words for capturing arguments? kwarg</li>\n",
    "        <li>Add <strong>decorators</strong></li>\n",
    "    </ol></blockquote>\n",
    "Say our goal is to create <a href=\"https://bix.digital/demos/plotly.html\" target=\"new\">Sankey Diagram</a>"
   ]
  },
  {
   "cell_type": "code",
   "execution_count": 1,
   "metadata": {},
   "outputs": [
    {
     "ename": "TabError",
     "evalue": "inconsistent use of tabs and spaces in indentation (<ipython-input-1-697889d13159>, line 36)",
     "output_type": "error",
     "traceback": [
      "\u001b[0;36m  File \u001b[0;32m\"<ipython-input-1-697889d13159>\"\u001b[0;36m, line \u001b[0;32m36\u001b[0m\n\u001b[0;31m    pass\u001b[0m\n\u001b[0m        ^\u001b[0m\n\u001b[0;31mTabError\u001b[0m\u001b[0;31m:\u001b[0m inconsistent use of tabs and spaces in indentation\n"
     ]
    }
   ],
   "source": [
    "import os\n",
    "import platform\n",
    "\n",
    "class LoadData:\n",
    "    is_okay = False\n",
    "\n",
    "    def __init__(self, filename, file_option = \"0\"):\n",
    "        self.filename = filename\n",
    "        self.file_option = file_option\n",
    "\n",
    "        \"\"\" read all lines \"\"\"\n",
    "        if file_option == 1:\n",
    "            fh = open(filename, \"r\")\n",
    "            lines = fh.read()\n",
    "            fh.close()\n",
    "            is_okay = True\n",
    "\n",
    "        elif file_option == 0:\n",
    "            try:\n",
    "                f = open(filename, \"r\")\n",
    "                print(f.read())\n",
    "                f.close()\n",
    "            except IOError:\n",
    "                print(\"File not found.\")\n",
    "            finally:\n",
    "                print(\"\\nDone\\n\")\n",
    "\n",
    "    \n",
    "    def x(self):\n",
    "        print(\"this is x\")\n",
    "\n",
    "class Log_Error:\n",
    "    \"\"\" write out errors to a csv file. \n",
    "    What data would you capture?\n",
    "    \"\"\"\n",
    "\tpass\n",
    "\t\n",
    "class UpdateUser:\n",
    "    def __init__(self, message = \"Message\"):\n",
    "        self.message = message\n",
    "\n",
    "    def clear_the_screen(self):\n",
    "    \tif platform.system() != \"Windows\":\n",
    "            os.system('clear')\n",
    "        else:\n",
    "            os.system('cls')\n",
    "\n",
    "    def show_message(self, message):    # print(\"MESSAGE\", message)\n",
    "        pass\n",
    "\n",
    "class CopyTemplate:\n",
    "    def __init__(self, action = \"0\"):\n",
    "        self.action = action\n",
    "        \n",
    "        if action == 0:\n",
    "            with open(\"template_top.txt\") as f1, open(\"output-top.txt\", \"w\") as f2:\n",
    "                f2.write(f1.read().strip())\n",
    "        else:\n",
    "            with open(\"template_foot.txt\") as f1, open(\"output-top.txt\", \"a\") as f2:\n",
    "                f2.write(f1.read().strip())\n",
    "\n",
    "class CalculateValues:\n",
    "    def __init__(self):\n",
    "        uu.show_message(\"\\nhere the values (source, target, value) are calculated. \")\n",
    "        uu.show_message(\"\\nAnd we'll need the names for the labels.\")\n",
    "\n",
    "        \n",
    "if __name__ == \"__main__\":\n",
    "\n",
    "    uu = UpdateUser(\"starting\")\n",
    "    \n",
    "    ld = LoadData(\"cv1.txt\", 1)\n",
    "    ld.x()\n",
    "    \n",
    "    if ld.is_okay:\n",
    "        print(\"hurray.\")\n",
    "\n",
    "    uu.clear_the_screen()\n",
    "    uu.show_message(\"Setting up the new visualization\")\n",
    "\n",
    "    CopyTemplate(0)\n",
    "    CalculateValues()\n",
    "    CopyTemplate(1)"
   ]
  },
  {
   "cell_type": "markdown",
   "metadata": {},
   "source": [
    "<h3>Multiple Inheritance</h3>\n",
    "<blockquote>Yes, you can do multiple inheritance in python.</blockquote>\n"
   ]
  },
  {
   "cell_type": "code",
   "execution_count": null,
   "metadata": {},
   "outputs": [],
   "source": [
    "from datetime import date\n",
    "\n",
    "class Projects:\n",
    "\ttoday = date.today()\n",
    "\t\n",
    "\tdef __init__(self, name, assigned_to):\n",
    "\t\tself.name = name\n",
    "\t\tself.assigned_to = assigned_to\n",
    "\t\tself.open_projects = []   \t# new empty list for each project\n",
    "\t\tself.__projectID = []# private var\n",
    "\t\t\n",
    "\tdef projectID(self, today):\n",
    "\t\tself.__projectID.append(today+1)\n",
    "\t\n",
    "\t__projectID = projectID\t# private copy of original projectID() method\n",
    "\t\n",
    "\tdef add_project(self, new_project):\n",
    "\t\tself.open_projects.append(new_project)\n",
    "\n",
    "class Reports:\n",
    "\tdef __init__(self):\n",
    "\t\tself.data = []\n",
    "\t\t\n",
    "\tdef add(self, x):\n",
    "\t\tself.data.append(x)\n",
    "\t\n",
    "class Annual_Report(Projects, Reports):\t# multiple inheritance\n",
    "\tpass\n",
    "\n",
    "p1 = Projects(\"Hiring\", \"Dave\")\n",
    "p2 = Projects(\"Promotion\", \"Jane\")\n",
    "\n",
    "p1.add_project(\"get new desk\")\n",
    "p2.add_project(\"10% raise\")\n",
    "\n",
    "print(p1.open_projects)\n",
    "print(p2.assigned_to)\n",
    "\n",
    "print(\"-\"*60)\n",
    "print(p1.open_projects)\n",
    "print(p2.open_projects)\n"
   ]
  }
 ],
 "metadata": {
  "kernelspec": {
   "display_name": "Python 3",
   "language": "python",
   "name": "python3"
  },
  "language_info": {
   "codemirror_mode": {
    "name": "ipython",
    "version": 3
   },
   "file_extension": ".py",
   "mimetype": "text/x-python",
   "name": "python",
   "nbconvert_exporter": "python",
   "pygments_lexer": "ipython3",
   "version": "3.7.4"
  }
 },
 "nbformat": 4,
 "nbformat_minor": 2
}
