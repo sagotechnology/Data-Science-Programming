{
 "cells": [
  {
   "cell_type": "markdown",
   "metadata": {},
   "source": [
    "# More Class Inheritance\n",
    " \n",
    "- Let's change the ```Company``` class we made in Unit 7 to be the abstract base class for a hierarchy of different companies.\n",
    " \n",
    "- Our class ```Company``` is below but you can copy/paste yours from Unit 7 if you would prefer. "
   ]
  },
  {
   "cell_type": "code",
   "execution_count": 12,
   "metadata": {},
   "outputs": [],
   "source": [
    "class Company():\n",
    "    \n",
    "    '''An entity that represents a startup company it contains employee and funding data\n",
    "    Attributes:\n",
    "    employee_list\n",
    "    employee_count\n",
    "    funding_list\n",
    "    \n",
    "    Methods:\n",
    "    add_employee_name()\n",
    "    add_funding()'''\n",
    "    \n",
    "    def __init__(self, employee_name, amount=0):\n",
    "        self.employee_list=[]\n",
    "        self.employee_count=0\n",
    "        self.funding_list=[]\n",
    "        if amount > 0:\n",
    "            self.funding_list.append(amount)\n",
    "        self.employee_list.append(employee_name)  \n",
    "        self.employee_count+=1\n",
    "        self.__client_list=[]\n",
    "    \n",
    "    def add_employee_name(self, employee_name=\"unnamed\"): \n",
    "        if employee_name != \"unnamed\":\n",
    "            self.employee_list.append(employee_name)  \n",
    "            self.employee_count+=1\n",
    "        else:\n",
    "            print (\"Don't forget to add an employee name!\")\n",
    "    \n",
    "    def add_funding(self, amount=0):\n",
    "        self.funding_list.append(amount)\n",
    "        print('Your funding addition was {}'.format(amount))\n",
    "        print('Total funding is {}'.format(sum(self.funding_list)))    \n",
    "        \n",
    "\n",
    "    \n",
    "    @property\n",
    "    def clientlist(self):\n",
    "        return self.__client_list\n",
    "    \n",
    "    @clientlist.setter\n",
    "    def clientlist(self, new_client=\"None\"):\n",
    "        if new_client == \"None\":\n",
    "            return print(\"Please add a client when setting a client\")\n",
    "        self.__client_list.append(new_client)\n",
    "\n"
   ]
  },
  {
   "cell_type": "markdown",
   "metadata": {},
   "source": [
    "- Using ```Company``` as the parent class, design two child company classes ```Finance_co``` and ```Entertain_co```\n",
    " \n",
    "\n",
    "- Add a method named ```invest_money``` to the ```Finance_co``` class. This method will:\n",
    "   - Accept a passed int variable as money to invest\n",
    "   - Take that investment money out of the company funds and invest them in the stock market\n",
    "   - Add back to funds the invested money multiplied by a random float between -0.5 and 0.5. Print a message stating how much  the investment returned. \n",
    "   - Remember to put some error checking to ensure the funds are there!\n",
    "   \n",
    "\n",
    "- Add a method named ```add_shows``` to the ```Entertain_co``` class. This method will:\n",
    "  - Accept a string for the name of the show\n",
    "  - The number of employees is a random number between 1-10\n",
    "  - Call the Company method to add_employee_name to add the number of employees as above (you can use the name of the show as their name)\n",
    "  - Print out a message stating how many employees were added with the show"
   ]
  },
  {
   "cell_type": "code",
   "execution_count": 25,
   "metadata": {},
   "outputs": [],
   "source": [
    "# Add code for Finance_co and Entertain_co here!\n",
    "import random\n",
    "\n",
    "class Finance_co(Company):\n",
    "\n",
    "    def __init__(self, employee_name, amount=0):\n",
    "        super().__init__(employee_name, amount)\n",
    "    \n",
    "    def invest_money(self, invest):\n",
    "        if invest < 1:\n",
    "            print(\"Unable to invest less than 1 dollar\")\n",
    "        elif invest > sum(self.funding_list):\n",
    "            print(\"You can not invest\", invest, \"your funds are\", sum(self.funding_list),\",sorry.\")\n",
    "        else:\n",
    "            print(self.funding_list)\n",
    "\n",
    "class Entertain_co(Company):\n",
    "    \n",
    "    def __init__(self, employee_name, amount = 0):\n",
    "        super().__init__(employee_name, amount)\n",
    "    \n",
    "    def add_shows(self, show_name = '?'):\n",
    "        if show_name != '?':\n",
    "            employees = random.randint(1,10)\n",
    "            for num in range(employees):\n",
    "                new_name = show_name + str(num)\n",
    "                self.add_employee_name(new_name)\n",
    "            print('The new show', show_name, 'was added, so were', employees, \"employees.\")\n",
    "        else:\n",
    "            print(\"You must add the name of the show\")"
   ]
  },
  {
   "cell_type": "code",
   "execution_count": 4,
   "metadata": {},
   "outputs": [
    {
     "name": "stdout",
     "output_type": "stream",
     "text": [
      "[10000]\n",
      "['Samuel', 'Jonathan']\n"
     ]
    }
   ],
   "source": [
    "f = Finance_co(\"Samuel\", 10000)\n",
    "print(f.funding_list)\n",
    "f.add_employee_name(\"Jonathan\")\n",
    "print(f.employee_list)"
   ]
  },
  {
   "cell_type": "code",
   "execution_count": 5,
   "metadata": {},
   "outputs": [
    {
     "name": "stdout",
     "output_type": "stream",
     "text": [
      "[10000]\n"
     ]
    }
   ],
   "source": [
    "f.invest_money(200)"
   ]
  },
  {
   "cell_type": "code",
   "execution_count": 6,
   "metadata": {},
   "outputs": [
    {
     "name": "stdout",
     "output_type": "stream",
     "text": [
      "[100000]\n"
     ]
    },
    {
     "data": {
      "text/plain": [
       "[100000]"
      ]
     },
     "execution_count": 6,
     "metadata": {},
     "output_type": "execute_result"
    }
   ],
   "source": [
    "# Test code for your Finance_co\n",
    "\n",
    "f = Finance_co('Chris', 100000)\n",
    "f.invest_money(10000)\n",
    "f.funding_list"
   ]
  },
  {
   "cell_type": "code",
   "execution_count": 26,
   "metadata": {},
   "outputs": [
    {
     "name": "stdout",
     "output_type": "stream",
     "text": [
      "The new show Python was added, so were 3 employees.\n"
     ]
    },
    {
     "data": {
      "text/plain": [
       "['Gunnar', 'Python0', 'Python1', 'Python2']"
      ]
     },
     "execution_count": 26,
     "metadata": {},
     "output_type": "execute_result"
    }
   ],
   "source": [
    "# Test code for your Entertain_co\n",
    "\n",
    "e = Entertain_co('Gunnar', 10000)\n",
    "e.add_shows('Python')\n",
    "e.employee_list"
   ]
  },
  {
   "cell_type": "code",
   "execution_count": null,
   "metadata": {},
   "outputs": [],
   "source": []
  }
 ],
 "metadata": {
  "kernelspec": {
   "display_name": "Python 3",
   "language": "python",
   "name": "python3"
  },
  "language_info": {
   "codemirror_mode": {
    "name": "ipython",
    "version": 3
   },
   "file_extension": ".py",
   "mimetype": "text/x-python",
   "name": "python",
   "nbconvert_exporter": "python",
   "pygments_lexer": "ipython3",
   "version": "3.7.4"
  }
 },
 "nbformat": 4,
 "nbformat_minor": 2
}
