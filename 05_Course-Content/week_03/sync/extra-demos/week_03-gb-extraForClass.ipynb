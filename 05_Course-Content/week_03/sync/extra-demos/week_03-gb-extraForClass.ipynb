{
 "cells": [
  {
   "cell_type": "markdown",
   "metadata": {},
   "source": [
    "<h2 style=color=\"red\">Week 03 - Some in-class questions ... </h2>\n",
    "<hr />\n",
    "quick romp around the virtual classroom ... "
   ]
  },
  {
   "cell_type": "code",
   "execution_count": null,
   "metadata": {},
   "outputs": [],
   "source": [
    "# make an empty dictionary:\n",
    "# make a dictionary with keys, numbered 0-6.\n",
    "# get an element from the dict by key\n",
    "# add a value to the dictionary - can do that?\n",
    "# write a loop thru dictionary "
   ]
  },
  {
   "cell_type": "code",
   "execution_count": 2,
   "metadata": {},
   "outputs": [
    {
     "name": "stdout",
     "output_type": "stream",
     "text": [
      "{'dave': 1956, 'babyKitty': 2018, 'asa': 1999, 'nancy': 1954}\n"
     ]
    }
   ],
   "source": [
    "bdays = {\n",
    "\t\"dave\" : 1956,\n",
    "\t\"babyKitty\" : 2018,\n",
    "\t\"asa\" : 1999,\n",
    "\t\"nancy\" : 1954\n",
    "\t}\n",
    "print(bdays)"
   ]
  },
  {
   "cell_type": "markdown",
   "metadata": {},
   "source": [
    "<img src=\"queenliz.jpg\" />"
   ]
  },
  {
   "cell_type": "code",
   "execution_count": 3,
   "metadata": {},
   "outputs": [
    {
     "name": "stdout",
     "output_type": "stream",
     "text": [
      "Yup, she's here!\n"
     ]
    }
   ],
   "source": [
    "bdays['elizabeth'] = 1558\n",
    "for name in bdays:\n",
    "    if \"elizabeth\" in bdays:\n",
    "        print(\"Yup, she's here!\")\n",
    "        break\n",
    "    else:\n",
    "        print(\"Rats!\")"
   ]
  },
  {
   "cell_type": "code",
   "execution_count": 4,
   "metadata": {},
   "outputs": [
    {
     "name": "stdout",
     "output_type": "stream",
     "text": [
      "none\n"
     ]
    }
   ],
   "source": [
    "print(bdays.get('elizabeth', 'none'))"
   ]
  },
  {
   "cell_type": "code",
   "execution_count": 8,
   "metadata": {},
   "outputs": [
    {
     "name": "stdout",
     "output_type": "stream",
     "text": [
      "dict_keys(['dave', 'babyKitty', 'asa', 'nancy', 'elizabeth'])\n"
     ]
    }
   ],
   "source": [
    "# get only the keys\n",
    "bdaykeys = bdays.keys()\n",
    "print(bdaykeys)"
   ]
  },
  {
   "cell_type": "code",
   "execution_count": 9,
   "metadata": {},
   "outputs": [
    {
     "name": "stdout",
     "output_type": "stream",
     "text": [
      "1558\n"
     ]
    }
   ],
   "source": [
    "if \"elizabeth\" in bdays:\n",
    "    print(bdays.get('elizabeth'))"
   ]
  },
  {
   "cell_type": "code",
   "execution_count": 11,
   "metadata": {},
   "outputs": [
    {
     "name": "stdout",
     "output_type": "stream",
     "text": [
      "{'dave': 1956, 'babyKitty': 2018, 'asa': 1999, 'nancy': 1954, 'elizabeth': '1553'}\n"
     ]
    }
   ],
   "source": [
    "bdays['elizabeth'] = '1553'\n",
    "print(bdays)"
   ]
  },
  {
   "cell_type": "code",
   "execution_count": null,
   "metadata": {},
   "outputs": [],
   "source": [
    "for x in bdays:\n",
    "    print(bdays[x])\n",
    "\n",
    "# same as\n",
    "for x in bdays.values():\n",
    "    print(x)\n",
    "    \n",
    "# print 'em all:\n",
    "for x, y in bdays.items():\n",
    "    print(x, y)\n"
   ]
  },
  {
   "cell_type": "markdown",
   "metadata": {},
   "source": [
    "<img src=\"bachkids.jpg\" />"
   ]
  },
  {
   "cell_type": "code",
   "execution_count": 12,
   "metadata": {},
   "outputs": [
    {
     "name": "stdout",
     "output_type": "stream",
     "text": [
      "{'bach': {'name': 'js', 'year': 1500}, 'bach-jf': {'name': 'johann', 'year': 1520}, 'bach-london': {'name': 'carl phillip emmanuel', 'year': 1540}}\n"
     ]
    }
   ],
   "source": [
    "''' some differences in creating dictionaries '''\n",
    "''' and please notice the structure - we can input/output .json '''\n",
    "\n",
    "musicians = {\n",
    "  \"bach\" : {\n",
    "    \"name\" : \"js\",\n",
    "    \"year\" : 1500\n",
    "  },\n",
    "  \"bach_jf\" : {\n",
    "    \"name\" : \"johann\",\n",
    "    \"year\" : 1520\n",
    "  },\n",
    "  \"bach_london\" : {\n",
    "    \"name\" : \"carl phillip emmanuel\",\n",
    "    \"year\" : 1540\n",
    "  }\n",
    "}\n",
    "print(musicians)"
   ]
  },
  {
   "cell_type": "code",
   "execution_count": 15,
   "metadata": {},
   "outputs": [
    {
     "name": "stdout",
     "output_type": "stream",
     "text": [
      "{'Greatest': {'name': 'js', 'year': 1500}, 'Okay': {'name': 'johann', 'year': 1520}, 'Nice': {'name': 'carl phillip emmanuel', 'year': 1540}}\n"
     ]
    }
   ],
   "source": [
    "bach = {\n",
    "  \"name\" : \"js\",\n",
    "  \"year\" : 1500\n",
    "}\n",
    "bach_jf = {\n",
    "  \"name\" : \"johann\",\n",
    "  \"year\" : 1520\n",
    "}\n",
    "bach_london = {\n",
    "  \"name\" : \"carl phillip emmanuel\",\n",
    "  \"year\" : 1540\n",
    "}\n",
    "\n",
    "mymusic = {\n",
    "  \"Greatest\" : bach,\n",
    "  \"Okay\" : bach_jf,\n",
    "  \"Nice\" : bach_london\n",
    "}\n",
    "\n",
    "techStock = { xxxx }\n",
    "suzyCo = { y y y y y  }\n",
    "\n",
    "print(mymusic)"
   ]
  },
  {
   "cell_type": "code",
   "execution_count": null,
   "metadata": {},
   "outputs": [],
   "source": [
    "# pseudocoding ... \"structured English\"\n",
    "''' lets make a box \n",
    "\n",
    "[ ][4][ ]\n",
    "[ ][ ][ ]\n",
    "and stick values in those boxes ... \n",
    "[2][4][6]\n",
    "[8][10][12]\n",
    "\n",
    "\n",
    "step 1 = \"2\"\n",
    "step 2 = take step 1 and add 2\n",
    "step 3 = take step 2 and add 2 ... \n",
    "\n",
    "constant = 2\n",
    "\n",
    "i = 2\n",
    "i + constant\n",
    "j = i + constant # store in j...\n",
    "then increment by box ...\n",
    "\n",
    "\n",
    "\n",
    "i holds the current value;\n",
    "j = i + step\n",
    "replace i with j;\n",
    "increment and repeat...\n",
    "\n",
    "i and j.\n",
    "\n",
    "----------------------\n",
    "Think about how you'd tackle this ... define the structure and \n",
    "then the values?  Print a value and then advance thru the structure?\n",
    "Point? Don't rush to create a solution - draw it (literally) and \n",
    "think about how you'd write the steps ... first do this, then do that... \n",
    "----------------------\n",
    "Why would you use this?\n",
    "Checkers, Chessboard\n",
    "Fibonnaci sequences\n",
    "leading us later to matrices ... '''"
   ]
  }
 ],
 "metadata": {
  "kernelspec": {
   "display_name": "Python 3",
   "language": "python",
   "name": "python3"
  },
  "language_info": {
   "codemirror_mode": {
    "name": "ipython",
    "version": 3
   },
   "file_extension": ".py",
   "mimetype": "text/x-python",
   "name": "python",
   "nbconvert_exporter": "python",
   "pygments_lexer": "ipython3",
   "version": "3.7.3"
  }
 },
 "nbformat": 4,
 "nbformat_minor": 2
}
