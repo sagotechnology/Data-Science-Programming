{
 "cells": [
  {
   "cell_type": "markdown",
   "metadata": {},
   "source": [
    "<img src=\"week_03_title.png\" />"
   ]
  },
  {
   "cell_type": "markdown",
   "metadata": {},
   "source": [
    "<h1 style=\"color:white;background-color:blue;border-radius:5px;padding:5px;\">Week 3: Sequences &amp; other types</h1>\n",
    "\n",
    "<blockquote><ul><li>Lists, Ranges, Tuples, and Sets</li><li>Dictionaries</li><li>Mutability &amp; Gotchas</li></ul><hr />3 Activities</blockquote>\n"
   ]
  },
  {
   "cell_type": "markdown",
   "metadata": {},
   "source": [
    "<h3>What <i>is</i> a sequence?</h3><blockquote>\n",
    "    A genertic term for an <b>ordered</b> group of objects:\n",
    "    <ol><li>lists</li><li>tuples</li><li>strings</li></ol>\n",
    "    </blockquote>"
   ]
  },
  {
   "cell_type": "code",
   "execution_count": 2,
   "metadata": {},
   "outputs": [],
   "source": [
    "def prettify(data): \n",
    "    print(\"–\"*50)\n",
    "    print(\"Output is: \", data)"
   ]
  },
  {
   "cell_type": "code",
   "execution_count": 7,
   "metadata": {},
   "outputs": [
    {
     "name": "stdout",
     "output_type": "stream",
     "text": [
      "5\n",
      "––––––––––––––––––––––––––––––––––––––––––––––––––\n",
      "Output is:  5\n",
      "––––––––––––––––––––––––––––––––––––––––––––––––––\n",
      "Output is:  True\n",
      "––––––––––––––––––––––––––––––––––––––––––––––––––\n",
      "Output is:  😀\n",
      "––––––––––––––––––––––––––––––––––––––––––––––––––\n",
      "Output is:  Toby\n",
      "––––––––––––––––––––––––––––––––––––––––––––––––––\n",
      "Output is:  ['Chris', 'Rob', 'Haerang', 'Brian', 'Mark', 'Toby']\n"
     ]
    }
   ],
   "source": [
    "''' very useful! - a list with data '''\n",
    "list1 = ['Chris', 'Rob', 'Haerang', 'Brian', 'Mark']\n",
    "# how many items in the list?\n",
    "print(len(list1))   # how many \n",
    "\n",
    "# what's the first item in the list?\n",
    "prettify( len(list1) )\n",
    "\n",
    "# is an element in the list?\n",
    "prettify(('Rob' in list1))\n",
    "\n",
    "# if Rob is in the list, share the joy!\n",
    "if ('Rob' in list1):\n",
    "    prettify(\"\\U0001f600\")\n",
    "    \n",
    "''' let's add another list and concatenate 'em '''\n",
    "list2 = list()      # an empty list\n",
    "list2.append(\"Toby\")\n",
    "prettify( list2[0] )\n",
    "\n",
    "''' finally lets concatenate the lists '''\n",
    "prettify( list1 + list2)"
   ]
  },
  {
   "cell_type": "markdown",
   "metadata": {},
   "source": [
    "<hr/><h2 style=\"color:red\">Lists</h2>\n",
    "<i>Lots of methods to learn about the number, min/max, membership, \n",
    "etc.</i>\n",
    "<hr />"
   ]
  },
  {
   "cell_type": "code",
   "execution_count": 8,
   "metadata": {},
   "outputs": [
    {
     "name": "stdout",
     "output_type": "stream",
     "text": [
      "Min value element:  Brian\n",
      "Max value element:  Rob\n",
      "Index of ...:  3\n",
      "How many 'Robs' have we got?:  1\n"
     ]
    },
    {
     "ename": "NameError",
     "evalue": "name 'count' is not defined",
     "output_type": "error",
     "traceback": [
      "\u001b[0;31m---------------------------------------------------------------------------\u001b[0m",
      "\u001b[0;31mNameError\u001b[0m                                 Traceback (most recent call last)",
      "\u001b[0;32m<ipython-input-8-751803436bab>\u001b[0m in \u001b[0;36m<module>\u001b[0;34m\u001b[0m\n\u001b[1;32m      3\u001b[0m \u001b[0mprint\u001b[0m\u001b[0;34m(\u001b[0m\u001b[0;34m\"Index of ...: \"\u001b[0m\u001b[0;34m,\u001b[0m \u001b[0mlist1\u001b[0m\u001b[0;34m.\u001b[0m\u001b[0mindex\u001b[0m\u001b[0;34m(\u001b[0m\u001b[0;34m\"Brian\"\u001b[0m\u001b[0;34m)\u001b[0m\u001b[0;34m)\u001b[0m\u001b[0;34m\u001b[0m\u001b[0;34m\u001b[0m\u001b[0m\n\u001b[1;32m      4\u001b[0m \u001b[0mprint\u001b[0m\u001b[0;34m(\u001b[0m\u001b[0;34m\"How many 'Robs' have we got?: \"\u001b[0m\u001b[0;34m,\u001b[0m \u001b[0mlist1\u001b[0m\u001b[0;34m.\u001b[0m\u001b[0mcount\u001b[0m\u001b[0;34m(\u001b[0m\u001b[0;34m'Rob'\u001b[0m\u001b[0;34m)\u001b[0m\u001b[0;34m)\u001b[0m\u001b[0;34m\u001b[0m\u001b[0;34m\u001b[0m\u001b[0m\n\u001b[0;32m----> 5\u001b[0;31m \u001b[0mprint\u001b[0m\u001b[0;34m(\u001b[0m\u001b[0mcount\u001b[0m\u001b[0;34m(\u001b[0m\u001b[0mlist1\u001b[0m\u001b[0;34m)\u001b[0m\u001b[0;34m)\u001b[0m\u001b[0;34m\u001b[0m\u001b[0;34m\u001b[0m\u001b[0m\n\u001b[0m",
      "\u001b[0;31mNameError\u001b[0m: name 'count' is not defined"
     ]
    }
   ],
   "source": [
    "print(\"Min value element: \", min(list1))\n",
    "print(\"Max value element: \", max(list1))\n",
    "print(\"Index of ...: \", list1.index(\"Brian\"))\n",
    "print(\"How many 'Robs' have we got?: \", list1.count('Rob'))"
   ]
  },
  {
   "cell_type": "markdown",
   "metadata": {},
   "source": [
    "<i>Note that we have more efficient counting and indexing tools \n",
    "    when we start using the Numpy and Pandas libraries</i>\n",
    "    "
   ]
  },
  {
   "cell_type": "markdown",
   "metadata": {},
   "source": [
    "<h2 style=\"color:red\">Using Lists in Lists - Composites</h2>\n",
    "<hr />\n",
    "<i>Composite types compresses of other types: list, tuples, and dictionaries are composite because they can contain other objects ... <strong>int, float, string</strong> are <u>not</u> composites.</i>\n",
    "<code>demo = ['cat', 'dog', 33, ['a', 'b', 'c'] ]</code>\n",
    "<p>\n",
    "    demo = <font color='orange'>['cat', 'dog', 33,</font>\n",
    "    <font color='olive'>['a', 'b', 'c']</font>\n",
    "    <font color='orange'>]</font>\n",
    "</p>\n",
    "What would <pre>demo[3]</pre> return?"
   ]
  },
  {
   "cell_type": "markdown",
   "metadata": {},
   "source": [
    "<h2 style=\"color:red\">Lists - Methods</h2>\n",
    "<i>list</i>.<u>insert(index, value)</u>"
   ]
  },
  {
   "cell_type": "code",
   "execution_count": 83,
   "metadata": {},
   "outputs": [
    {
     "name": "stdout",
     "output_type": "stream",
     "text": [
      "['BabyKitty', 'Brian', 'Chris', 'Haerang', 'Mark', 'Rob', 'Toby']\n"
     ]
    },
    {
     "data": {
      "text/plain": [
       "list"
      ]
     },
     "execution_count": 83,
     "metadata": {},
     "output_type": "execute_result"
    }
   ],
   "source": [
    "list1 = ['Chris', 'BabyKitty', 'Rob', 'Haerang', 'Brian', 'Toby', 'Mark']\n",
    "\n",
    "list1.pop()                # pops last value by default\n",
    "list1.pop(3)               # or pass a value\n",
    "list1.remove('Toby')       # eliminates first instance of value\n",
    "list1.reverse()            # output in reverse order\n",
    "list1.sort()               # sorts in ascending order - mutate the list\n",
    "\n",
    "list1.append('Xena')       # adds 'Xena' to end of list\n",
    "list1.extend(list2)        # adds items from list2 to end of list1\n",
    "list1[0] = 'Picard'        # swaps out item at 0 with 'Picard'\n",
    "\n",
    "list1.clear()              # clears out the elements in the list\n",
    "#del(list1[Toby])           # will this work?\n",
    "\n",
    "''' nope! because Toby is already gone! '''\n",
    "\n",
    "alist = ['Chris', 'BabyKitty', 'Rob', 'Haerang', 'Brian', 'Toby', 'Mark']\n",
    "aNewList = sorted(alist)   # returns a new list\n",
    "print(aNewList)\n",
    "\n",
    "type(aNewList)"
   ]
  },
  {
   "cell_type": "markdown",
   "metadata": {},
   "source": [
    "<h2 style=\"color:red\">Ranges</h2>\n",
    "<i>A range is a </i>sequence</i> and needs to be listed to yield the elements:\n",
    "    <pre>range(<i>start</i>, <i>stop</i>, <i>step</i>)</pre>    \n"
   ]
  },
  {
   "cell_type": "code",
   "execution_count": 5,
   "metadata": {},
   "outputs": [
    {
     "name": "stdout",
     "output_type": "stream",
     "text": [
      "range(0, 9)\n",
      "––––––––––––––––––––––––––––––––––––––––––––––––––\n",
      "Output is:  <class 'range'>\n",
      "––––––––––––––––––––––––––––––––––––––––––––––––––\n",
      "Output is:  <class 'list'>\n",
      "range(0, 9)\n",
      "[0, 1, 2, 3, 4, 5, 6, 7, 8]\n"
     ]
    }
   ],
   "source": [
    "a = range(0, 9)\n",
    "print(a)\n",
    "\n",
    "list(a)\n",
    "\n",
    "prettify(type(a))\n",
    "prettify(type(list(a)))\n",
    "\n",
    "print(a)\n",
    "print(list(a))"
   ]
  },
  {
   "cell_type": "markdown",
   "metadata": {},
   "source": [
    "<h2 style=\"color:red\">Typles</h2>\n",
    "<i>A tuple is a </i>sequence</i> but is <strong>immutable</strong> (like a list).    \n",
    "<hr />\n",
    "<pre>myTuple = (1, 2, 3)</pre>\n",
    "<pre>myTuple2(1, 2, 3)</pre>\n"
   ]
  },
  {
   "cell_type": "code",
   "execution_count": 85,
   "metadata": {},
   "outputs": [
    {
     "name": "stdout",
     "output_type": "stream",
     "text": [
      "<class 'tuple'>\n",
      "([1, 2, 3, 5], 2, 3)\n",
      "<class 'tuple'>\n"
     ]
    },
    {
     "ename": "TypeError",
     "evalue": "'tuple' object does not support item assignment",
     "output_type": "error",
     "traceback": [
      "\u001b[0;31m---------------------------------------------------------------------------\u001b[0m",
      "\u001b[0;31mTypeError\u001b[0m                                 Traceback (most recent call last)",
      "\u001b[0;32m<ipython-input-85-e463e81abfd7>\u001b[0m in \u001b[0;36m<module>\u001b[0;34m\u001b[0m\n\u001b[1;32m      8\u001b[0m \u001b[0;34m\u001b[0m\u001b[0m\n\u001b[1;32m      9\u001b[0m \u001b[0;34m''' will throw an exception '''\u001b[0m\u001b[0;34m\u001b[0m\u001b[0;34m\u001b[0m\u001b[0m\n\u001b[0;32m---> 10\u001b[0;31m \u001b[0ma\u001b[0m\u001b[0;34m[\u001b[0m\u001b[0;36m1\u001b[0m\u001b[0;34m]\u001b[0m \u001b[0;34m=\u001b[0m \u001b[0;36m10\u001b[0m\u001b[0;34m\u001b[0m\u001b[0;34m\u001b[0m\u001b[0m\n\u001b[0m",
      "\u001b[0;31mTypeError\u001b[0m: 'tuple' object does not support item assignment"
     ]
    }
   ],
   "source": [
    "a = ([1, 2, 3,], 2, 3)\n",
    "print(type(a))\n",
    "\n",
    "a[0].append(5)\n",
    "print(a)\n",
    "\n",
    "print(type(a))\n",
    "\n",
    "''' will throw an exception '''\n",
    "a[1] = 10"
   ]
  },
  {
   "cell_type": "markdown",
   "metadata": {},
   "source": [
    "<h2 style=\"color:red\">Sets</h2>\n",
    "<i>Are <strong>unordered</strong> and <strong>mutable</strong>.  \n",
    "Keys must be unique."
   ]
  },
  {
   "cell_type": "code",
   "execution_count": 87,
   "metadata": {},
   "outputs": [
    {
     "name": "stdout",
     "output_type": "stream",
     "text": [
      "10 20\n"
     ]
    }
   ],
   "source": [
    "low, high = 10, 20\n",
    "print(low, high)"
   ]
  },
  {
   "cell_type": "markdown",
   "metadata": {},
   "source": [
    "<hr />\n",
    "<h1 style=\"color:gold;\">Activity 1:</h1>\n",
    "<pre>range(start, stop(exclusive), step)\n",
    "Practice creating these outputs: [1, 2, 3, 4, 5, 6, 7, 8, 9]\n",
    "[0, 1, 2, 3, 4, 5, 6, 7, 8, 9, 10]\n",
    "[2, 4, 6, 8, 10, 12]\n",
    "[2, 4, 6, 8, 10, 12, 13, 14, 15, 17, 19, 21] [-1, 0, 1, 2, 3]\n",
    "[10, 9, 8, 7, 6, 5, 4, 3, 2, 1]\n",
    "</pre>"
   ]
  },
  {
   "cell_type": "markdown",
   "metadata": {},
   "source": [
    "<h2 style=\"color:red\">Dictionaries</h2>\n",
    "<i>are very useful!  and can be instantiated in many ways.\n",
    "Note that we can use a \"dictionary literal\", or as a \"list of tuples\".\n",
    "</i>\n",
    "We can get the <u>value by using a key name</u>:\n",
    "    <pre>dict1['fred'] would return an index.</pre>"
   ]
  },
  {
   "cell_type": "code",
   "execution_count": 10,
   "metadata": {},
   "outputs": [],
   "source": [
    "d1 = {'toby': 1, 'brian': 4, 'dave': 2, 'swapna': 5} # dict literal\n",
    "d2 = dict([ ('lars', 1), ('rob', 4), ('roberto', 2), ('haerang', 5)]) \n",
    "# list of tuples"
   ]
  },
  {
   "cell_type": "code",
   "execution_count": 11,
   "metadata": {},
   "outputs": [
    {
     "name": "stdout",
     "output_type": "stream",
     "text": [
      "{'toby': 1, 'brian': 4, 'dave': 2, 'swapna': 5}\n",
      "{'lars': 1, 'rob': 4, 'roberto': 2, 'haerang': 5}\n"
     ]
    },
    {
     "data": {
      "text/plain": [
       "2"
      ]
     },
     "execution_count": 11,
     "metadata": {},
     "output_type": "execute_result"
    }
   ],
   "source": [
    "print(d1)\n",
    "print(d2)\n",
    "''' indexing by key name '''\n",
    "d1['dave']"
   ]
  },
  {
   "cell_type": "markdown",
   "metadata": {},
   "source": [
    "<h2 style=\"color:red\">Dictionaries - Methods</h2>\n",
    "<i>Here are a list of common methods</i>\n",
    "<hr/>What might be the methods to ...\n",
    "<ul><li>Delete a key reference?</li>\n",
    "    <li>pop the value for key from dictionary. If the key doesn’t exist, the function will return the default</li>\n",
    "    <li>Append a section dictionary to the first</li>\n",
    "    <li>get the <u>key:value</u> pairs\n",
    "</ul>"
   ]
  },
  {
   "cell_type": "code",
   "execution_count": 13,
   "metadata": {},
   "outputs": [
    {
     "name": "stdout",
     "output_type": "stream",
     "text": [
      "1\n",
      "keys:  --------------------------------------------------\n",
      "dict_keys(['lars', 'roberto', 'haerang', 'azelia', 'roses', 'mum'])\n",
      "values:  --------------------------------------------------\n",
      "dict_values([1, 2, 5, 1, 4, 2])\n",
      "items:  --------------------------------------------------\n",
      "dict_items([('lars', 1), ('roberto', 2), ('haerang', 5), ('azelia', 1), ('roses', 4), ('mum', 2)])\n",
      "{'lars': 1, 'roberto': 2, 'haerang': 5, 'azelia': 1, 'roses': 4, 'mum': 2}\n"
     ]
    }
   ],
   "source": [
    "dflowers = {'azelia': 1, 'roses': 4, 'mum': 2}\n",
    "d2 = dict([ ('lars', 1), ('rob', 4), ('roberto', 2), ('haerang', 5)])\n",
    "del(d2['rob'])\n",
    "# d2.pop('key', 'default_value')\n",
    "# d2.get('key', 'default_value')\n",
    "print(d2.get('lars'))  # 1\n",
    "\n",
    "d1.clear()\n",
    "d2.update(dflowers)     # append a second dictionary\n",
    "print('keys: ', \"-\"*50)\n",
    "print(d2.keys())\n",
    "print('values: ', \"-\"*50)\n",
    "print(d2.values())\n",
    "print('items: ', \"-\"*50)\n",
    "print(d2.items())\n",
    "print(d2)"
   ]
  },
  {
   "cell_type": "markdown",
   "metadata": {},
   "source": [
    "<h2 style=\"color:red\">Dictionaries and .JSON</h2>\n",
    "<i>Just a note in passing ... JavaScript Object Notation (.json) \n",
    "    files are used a lot to share data between systems.\n",
    "    Notice that GitHub itself uses .json (if you view the raw mode).\n",
    "<br />Important to note the syntax and { } for blocks in .json - \n",
    "    the file won't work if not perfect.\n",
    "   "
   ]
  },
  {
   "cell_type": "markdown",
   "metadata": {},
   "source": [
    "<pre>\n",
    "{\"menu\":\n",
    "    { \"id\": \"file\",\n",
    "      \"value\": \"File\",\n",
    "      \"popup\":\n",
    "           { \"menuitem\": [ {\"value\": \"New\",\n",
    "             \"onclick\": \"CreateNewDoc()”\n",
    "           },\n",
    "           { \"value\": \"Open\", \n",
    "             \"onclick\": \"OpenDoc()”\n",
    "           },\n",
    "           { \"value\": \"Close\",\n",
    "             \"onclick\": \"CloseDoc()” }]\n",
    "           {\"menu\":\n",
    "              { \"id\": \"file\",\n",
    "              } \n",
    "           }\n",
    "   }\n",
    "}\n",
    "</pre>\n",
    "<hr />\n",
    "<code>\n",
    "{ people\n",
    "     [name, tom]\n",
    "     [name, fifi]\n",
    "}\n",
    "</code>"
   ]
  },
  {
   "cell_type": "markdown",
   "metadata": {},
   "source": [
    "<hr/>\n",
    "<h1 style=\"color:#191970;background-color:gold;border-radius:5px;padding:5px;\">Activity 2:  Mutability and Implications</h1>\n",
    "<p>Mutable, what does that imply?</p>\n",
    "<p>Not a sequence, what does that mean?</p>\n",
    "<p>Maps keys to values # aka: <code>map, key:value store<br />\n",
    "a = {‘fred’:1, ‘frank’:3, ‘ben’:1}<br />\n",
    "book = {‘changjing’:’555-1212’, ‘jim’:’333-234’}<br />\n",
    "    a = {‘names’: {‘fred’:404, ‘frank’:3, ‘ben’:1}} </code>\n",
    "    # can be nested (JSON) Values can be any type<br />\n",
    "</p>\n",
    "<p>\n",
    "Keys need to be hashable # should be immutable</p>\n",
    "<p>Python uses a hash function to quickly locate items stored in a dictionary. The key, when passed through the hash function, points to a unique place in the computer’s memory.  This makes finding the value extremely fast. Keys cannot be mutable, since if they were, the hash function would not return the same result.\n",
    "</p>"
   ]
  },
  {
   "cell_type": "markdown",
   "metadata": {},
   "source": [
    "<h2 style=\"color:red\">Mutability, Copies, and RAM</h2>\n",
    "<blockquote>A list is a mutable object - meaning the length and contents can be altered.  \n",
    "As a review - what data types are mutable and which immutable?\n",
    "<hr />\n",
    "<strong>Mutable</strong>: \n",
    "    <ul><li>list</li>\n",
    "        <li>dict</li>\n",
    "        <li>set</li>\n",
    "        <li>byte array</li>\n",
    "        <li>user-defined classes</li>\n",
    "    </ul>\n",
    "    <strong>Immutable</strong>:\n",
    "    <ul>\n",
    "        <li>int</li>\n",
    "        <li>float</li>\n",
    "        <li>long</li>\n",
    "        <li>complex</li>\n",
    "        <li>string tuple</li>\n",
    "        <li>boolean\n",
    "        </li>\n",
    "    </ul>\n",
    "\n",
    "</blockquote>\n",
    "<hr />"
   ]
  },
  {
   "cell_type": "code",
   "execution_count": 93,
   "metadata": {},
   "outputs": [
    {
     "name": "stdout",
     "output_type": "stream",
     "text": [
      "Immutable Objects: \n",
      "a is  50\n",
      "––––––––––––––––––––––––––––––––––––––––––––––––––\n",
      "Output is:  4493216704\n",
      "––––––––––––––––––––––––––––––––––––––––––––––––––\n",
      "Output is:  51\n",
      "––––––––––––––––––––––––––––––––––––––––––––––––––\n",
      "Output is:  4493216736\n"
     ]
    }
   ],
   "source": [
    "''' Side note</i>: use of <code>id()</code> to return the runtime's actual identifier:\n",
    "'''\n",
    "print(\"Immutable Objects: \")\n",
    "a = 50\n",
    "print(\"a is \", a)\n",
    "prettify(id(a))\n",
    "\n",
    "a = 50 + 1\n",
    "prettify(a)\n",
    "\n",
    "prettify(id(a))\n"
   ]
  },
  {
   "cell_type": "code",
   "execution_count": 2,
   "metadata": {},
   "outputs": [
    {
     "name": "stdout",
     "output_type": "stream",
     "text": [
      "Mutable Objects: \n",
      "[1, 2, 3, 4, 5]  and the id:  4592796040\n",
      "[1, 2, 3, 4, 5, 5]  and the id - should be the same:  4592796040\n"
     ]
    }
   ],
   "source": [
    "''' Side note</i>: use of <code>id()</code> to return the runtime's actual identifier:\n",
    "'''\n",
    "print(\"Mutable Objects: \")\n",
    "alist = [1, 2, 3, 4, 5]\n",
    "print(alist, \" and the id: \", id(alist))\n",
    "\n",
    "alist += [5]\n",
    "print(alist, \" and the id - should be the same: \", id(alist))"
   ]
  },
  {
   "cell_type": "code",
   "execution_count": 66,
   "metadata": {},
   "outputs": [
    {
     "name": "stdout",
     "output_type": "stream",
     "text": [
      "['BabyKitty']\n",
      "['a', 'b', 'c']\n",
      "['BabyKitty', 'a', 'b', 'c']\n"
     ]
    }
   ],
   "source": [
    "alist = []                       # notice the use of the [ ]\n",
    "alist.append(\"BabyKitty\")        # the . method approach  .append()\n",
    "print(alist)\n",
    "\n",
    "blist = ['a', 'b', 'c']          # construct and populate the list\n",
    "print(blist)\n",
    "alist.extend(blist)              # add slots at the end and populate them\n",
    "\n",
    "print(alist)"
   ]
  },
  {
   "cell_type": "markdown",
   "metadata": {},
   "source": [
    "See the mutability gotchas slides."
   ]
  },
  {
   "cell_type": "markdown",
   "metadata": {},
   "source": [
    "<h2 style=\"color:orange\">OPTIONAL Read this at your leisure ... A side note about memory management ... </h2>\n",
    "from Tanya Kryukova\n",
    "<p>\n",
    "In C, when we assign a variable, we first declare it, thereby reserving a space in memory, and then store the value in the memory spot allocated. We can create another variable with the same value by repeating the process, ending up with two spots in memory, each with its own value that is equivalent to the other’s.\n",
    "</p>\n",
    "<p>\n",
    "Python employs a different approach. Instead of storing values in the memory space reserved by the variable, Python has the variable refer to the value. Similar to pointers in C, variables in Python refer to values (or objects) stored somewhere in memory. In fact, <i>all variable names in Python are said to be references to the values,</i> some of which are front loaded by Python and therefore exist before the name references occur (more on this later). Python keeps an internal counter on how many references an object has. Once the counter goes to zero — meaning that no reference is made to the object — the garbage collector in Python removes the object , thus freeing up the memory.\n",
    "</p>\n",
    "<p>\n",
    "One may like to take a look at this article written by Sreejith Kesavanwith that provide nice analogy and clear visuals in illustrating the differences in how C and Python approach variable assignments.\n",
    "</p>\n",
    "<strong>Making References to Values</strong>\n",
    "\n",
    "Each time we create a variable that refers to an object, a new object is created.\n",
    "For example:\n",
    "<pre>\n",
    ">>> L1 = [1, 2, 3]\n",
    ">>> L2 = [1, 2, 3]\n",
    ">>> L1 == L2\n",
    "True             # L1 and L2 have the same value\n",
    ">>> L1 is L2\n",
    "False            # L1 and L2 do not refer to the same object!\n",
    "</pre>\n",
    "<p>\n",
    "We can, however, have two variables refer to the same object through a process called “aliasing”: assigning one variable the value of the other variable. In other words, one variable now serves as an alias for the other, since both of them now refer to the same object.\n",
    "Here is an example:\n",
    "</p>\n",
    "<pre>\n",
    ">>> L1 = [1, 2, 3]\n",
    ">>> L2 = L1         # L2 now refers to the same object as L1\n",
    ">>> L1 == L2\n",
    "True\n",
    ">>> L1 is L2\n",
    "True\n",
    ">>> L1.append(4)\n",
    ">>> print(L2)   \n",
    "[1, 2, 3, 4]\n",
    "</pre>\n",
    "<p>\n",
    "Since L1 and L2 both refer to the same object, modifying L1 results in the same change in L2.\n",
    "The example at the beginning of this article should start to make sense:\n",
    "</p>\n",
    "<pre>\n",
    ">>> x = 8\n",
    ">>> y = x         # y refers to the same object (number 8) as x\n",
    ">>> x = 100       # x now refers to a different object (number 100), \n",
    "                    since integers are immutable\n",
    ">>> y             # but y is still referring to the same object\n",
    "8\n",
    "</pre></p>\n",
    "<strong>Exceptions with Immutable Objects</strong>\n",
    "<p>\n",
    "While it is true that a new object is created each time we have a variable that makes reference to it, there are few notable exceptions:\n",
    "<ol><li>some strings</li>\n",
    "    <li>Integers between -5 and 256 (inclusive)</li>\n",
    "    <li>empty immutable containers (e.g. tuples)</li>\n",
    "</ol>\n",
    "<p>\n",
    "These exceptions arise as a result of memory optimization in Python implementation. After all, if two variables refer to objects with the same value, why wasting memory creating a new object for the second variable? Why not simply have the second variable refer to the same object in memory ?\n",
    "</p>\n",
    "String Interning\n",
    "<pre>\n",
    ">>> a = \"python is cool!\"\n",
    ">>> b = \"python is cool!\"\n",
    ">>> a is b\n",
    "False\n",
    "</pre>\n",
    "<p>\n",
    "This should not be surprising, since it obeys the “new objects are created each time” rule.</p>\n",
    "<pre>\n",
    ">>> a = \"python\"\n",
    ">>> b = \"python\"\n",
    ">>> a is b\n",
    "True   # a and b refer to the same object!\n",
    "</pre>\n",
    "<p>\n",
    "This is a result of string interning, which allows two variables to refer to the same string object. Python automatically does this, although the exact rules remain fuzzy. One can also forcibly intern strings by calling the intern() function. Guillo’s article provides an in-depth look into string interning.\n",
    "</p>\n",
    "<strong>\n",
    "2. Integer Caching</strong>\n",
    "<p>\n",
    "The Python implementation front loads an array of integers between -5 to 256. Hence, variables referring to an integer within the range would be pointing to the same object that already exists in memory:</p>\n",
    "<pre>\n",
    ">>> a = 256\n",
    ">>> b = 256\n",
    ">>> a is b\n",
    "True\n",
    "This is not the case if the object referred to is outside the range:\n",
    ">>> a = 257\n",
    ">>> b = 257\n",
    ">>> a is b\n",
    "False\n",
    "</pre>\n",
    "<p>\n",
    "    <strong>\n",
    "        3. Empty Immutable Objects</strong>\n",
    "    \n",
    "Let’s take a look at empty tuples, which are immutable:\n",
    "<pre>\n",
    ">>> a = ()\n",
    ">>> b = ()\n",
    ">>> a is b\n",
    "True  # a and b both refer to the same object in memory\n",
    "</pre>\n",
    "</p>\n",
    "\n",
    "<p>\n",
    "However, for non-empty tuples, new objects are created, even though both objects have the same value:</p>\n",
    "<pre>\n",
    "&gt;&gt;&gt; a = (1, )\n",
    "&gt;&gt;&gt; b = (1, )\n",
    "&gt;&gt;&gt; a == b\n",
    "True\n",
    "&gt;&gt;&gt; a is b\n",
    "False\n",
    "</pre>\n",
    "One last thing before we finish…\n",
    "</p>\n",
    "<p><i>\n",
    "    The Tricky Case with Operators</i>\n",
    "    </p><p>\n",
    "We have seen in the earlier example that given a list L, we can modify it in place using \n",
    "<pre>L += [x]</pre>, which is equivalent to \n",
    "<pre>L.append(x)</pre>. \n",
    "But how about \n",
    "<pre>L = L + [x]\n",
    "&gt;&gt;&gt; L = [1, 2, 3]\n",
    "&gt;&gt;&gt; id(L)\n",
    "4431388424\n",
    "&gt;&gt;&gt; L = L + [4]\n",
    "&gt;&gt;&gt; id(L)\n",
    "4434330504     # L now refers to a different object from before!\n",
    "</pre>\n",
    "</p>\n",
    "<p>\n",
    "Why does this happen?\n",
    "The answer lies in the subtle difference behind the operators. The + operator calls the <pre>__add__</pre> magic method (these are methods automatically called instead of having to be explicitly invoked), which does not modify either arguments. Hence, the expression <pre>L + [4]</pre> creates a new object with the value <pre>[1, 2, 3, 4]</pre>, which L on the left hand side now refers to. On the other hand, the += operator calls <pre>__iadd__</pre> that modifies the arguments in place.\n",
    "</p>"
   ]
  },
  {
   "cell_type": "markdown",
   "metadata": {},
   "source": [
    "<img src=\"namespace1.png\" />\n",
    "<img src="
   ]
  },
  {
   "cell_type": "markdown",
   "metadata": {},
   "source": [
    "<img src = \"namespace2.png\" />\n",
    "<img src=\"namespace3.png\" />"
   ]
  },
  {
   "cell_type": "code",
   "execution_count": 3,
   "metadata": {},
   "outputs": [
    {
     "data": {
      "text/html": [
       "<text style=color:black>foo <text style=color:red>abc</text> bar</text>"
      ],
      "text/plain": [
       "<IPython.core.display.HTML object>"
      ]
     },
     "execution_count": 3,
     "metadata": {},
     "output_type": "execute_result"
    }
   ],
   "source": [
    "from IPython.display import HTML as html_print\n",
    "\n",
    "def cstr(s, color='black'):\n",
    "    return \"<text style=color:{}>{}</text>\".format(color, s)\n",
    "\n",
    "left, word, right = 'foo' , 'abc' , 'bar'\n",
    "html_print(cstr(' '.join([left, cstr(word, color='red'), right]), color='black') )"
   ]
  },
  {
   "cell_type": "markdown",
   "metadata": {},
   "source": [
    "<h2 style=\"color:red\">Back to the show - Copy &amp; Deepcopy</h2>\n",
    "What does copy do?  How does it differ from deepcopy?\n",
    "<ul><li>copy creates an independent copy of all list elements at <u>the first level</u> of the list.</li>\n",
    "<li>Deepcopy creates an independent copy of all list elements at <u>all levels</u> of the list.\n",
    "</li>\n",
    "</ul>\n",
    "<hr />\n",
    "<pre>\n",
    "list1 = [1, 2, 3, ['Chris', 'Rob']]\n",
    "list1_copy = list1.copy()\n",
    "print(list1)\n",
    "print(list1_copy)\n",
    "\n",
    "from copy import deepcopy\n",
    "list1_deepcopy = deepcopy(list1)\n",
    "print(list1_deepcopy)\n",
    "\n",
    "list1[3][1] = 'Walid'\n",
    "</pre>"
   ]
  },
  {
   "cell_type": "code",
   "execution_count": 10,
   "metadata": {},
   "outputs": [
    {
     "name": "stdout",
     "output_type": "stream",
     "text": [
      "list1 =  [1, 2, 3, ['Chris', 'Rob']]\n",
      "\n",
      "list1_copy =  [1, 2, 3, ['Chris', 'Rob']]\n",
      "\n",
      " deep copy of list1 =  [1, 2, 3, ['Chris', 'Rob']]\n",
      "\n",
      " [1, 2, 3, ['Chris', 'Walid']]\n"
     ]
    }
   ],
   "source": [
    "list1 = [1, 2, 3, ['Chris', 'Rob']]\n",
    "list1_copy = list1.copy()\n",
    "\n",
    "print(\"list1 = \", list1)\n",
    "print(\"\\nlist1_copy = \", list1_copy)\n",
    "\n",
    "\n",
    "\n",
    "from copy import deepcopy             # notice our importation of a library\n",
    "\n",
    "list1_deepcopy = deepcopy(list1)\n",
    "print(\"\\n deep copy of list1 = \", list1_deepcopy)\n",
    "\n",
    "list1[3][1] = 'Walid'\n",
    "print(\"\\n\", list1)"
   ]
  },
  {
   "cell_type": "markdown",
   "metadata": {},
   "source": [
    "<h2 style=\"color:red\">List &amp; Dictionary Activity</h2>\n",
    "<p>One of the first steps in any project is getting to know the data ... and counting is important skill \n",
    "for clustering &amp; classification, data cleaning, statistics, full-text retrieval, \n",
    "endless uses.</p>\n",
    "<p>For this activity we tackle <strong>a very popular problem: how do we count the tokens (terms or words) in a document</strong>?\n",
    "</p>\n",
    "<p><i>While the solution here is simple, you will see in later courses that this is an excellent first problem when learning how to massively parallelize your code across a cluster of computers.\n",
    "The activity will guide you to the solution in a series of steps.</i>\n",
    "</p>\n",
    "<p><strong>\n",
    "As you will see next week, the “while” loop in this activity could be better represented by a “for” loop. For now, please work with the <font color=\"red\">“while”</font> loop.\n",
    "</strong></p>"
   ]
  },
  {
   "cell_type": "markdown",
   "metadata": {},
   "source": [
    "<h1 style=\"color:#191970;background-color:gold;border-radius:5px;padding:5px;\">Activity 3 - Mutability</h1>\n",
    "<p>Read about and update a scoreboard reporting ranking and team color of contestants.</p>\n",
    "<pre>\n",
    "Contestants = [{“name”;”fred”, “teamColor”:”Red”}, <br />\n",
    "               {“name”:”Layla”, “teamColor”:”Yellow”}, <br />\n",
    "               {“name”:”Tammy”, “teamColor”:”Green”}, <br />\n",
    "               {“name”:”Buba”, “teamColor”:”Blue”}]</pre>\n",
    "\n",
    "\n",
    "Your job? Programmatically change the scoreboard as indicated.  \n",
    "Hint! Use <span style=\"font-family:Courier;\">copy</span>  and/or <span style=\"font-family:Courier;\">deepcopy</span>  if required."
   ]
  },
  {
   "cell_type": "code",
   "execution_count": 20,
   "metadata": {},
   "outputs": [
    {
     "data": {
      "text/html": [
       "<img src=\"babyKitty.jpg\" /> good luck!\n"
      ],
      "text/plain": [
       "<IPython.core.display.HTML object>"
      ]
     },
     "metadata": {},
     "output_type": "display_data"
    }
   ],
   "source": [
    "%%html\n",
    "<img src=\"babyKitty.jpg\" /> good luck!"
   ]
  },
  {
   "cell_type": "code",
   "execution_count": null,
   "metadata": {},
   "outputs": [],
   "source": []
  }
 ],
 "metadata": {
  "kernelspec": {
   "display_name": "Python 3",
   "language": "python",
   "name": "python3"
  },
  "language_info": {
   "codemirror_mode": {
    "name": "ipython",
    "version": 3
   },
   "file_extension": ".py",
   "mimetype": "text/x-python",
   "name": "python",
   "nbconvert_exporter": "python",
   "pygments_lexer": "ipython3",
   "version": "3.7.3"
  }
 },
 "nbformat": 4,
 "nbformat_minor": 2
}
