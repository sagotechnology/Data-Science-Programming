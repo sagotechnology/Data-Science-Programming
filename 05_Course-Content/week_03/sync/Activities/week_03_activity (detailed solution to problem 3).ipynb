{
 "cells": [
  {
   "cell_type": "markdown",
   "metadata": {},
   "source": [
    "# Week 3 Activities\n",
    "\n",
    "Detailed illustration of problem 3 solution"
   ]
  },
  {
   "cell_type": "markdown",
   "metadata": {},
   "source": [
    "### 3. The mutability exercise\n",
    " \n",
    "Your client wants a scoreboard that reports the rank (order), name and team color\n",
    "of contestants over a week long contest. They give you a list of dictionaries.\n",
    "The scoreboard is initialized with the predicted rankings.  Your job is to change \n",
    "the scoreboard to reflect changes that occured during the contest. \n",
    "\n",
    "* hint you may need to use copy or deep copy.\n",
    "\n",
    "Changes that occured:\n",
    "\n",
    "* On **Tuesday**, Fred decided that his name will be \"The Last Cyborg\" for the remainder of the competition.\n",
    "* On **Wednesday** Buba took first place pushing \"The Last Cyborg\" down one ranking.\n",
    "* On **Wednesday**, Buba changed his team color to purple and his name to \"Rocky\"\n",
    "\n",
    "To do:\n",
    "- The scoreboard is represented as a set of dictionaries where order represents rank. Modfiy them to represent the 3 events above on the correct days. "
   ]
  },
  {
   "cell_type": "code",
   "execution_count": 30,
   "metadata": {},
   "outputs": [],
   "source": [
    "from copy import deepcopy"
   ]
  },
  {
   "cell_type": "code",
   "execution_count": 31,
   "metadata": {},
   "outputs": [],
   "source": [
    "Contestants = [{\"name\":\"Fred\", \"teamColor\":\"Red\"}, \n",
    "               {\"name\":\"Layla\", \"teamColor\":\"Yellow\"}, \n",
    "               {\"name\":\"Tammy\", \"teamColor\":\"Green\"}, \n",
    "               {\"name\":\"Buba\", \"teamColor\":\"Blue\"}]"
   ]
  },
  {
   "cell_type": "markdown",
   "metadata": {},
   "source": [
    "![](Activity 3 Problem 3 Diagram 1.jpg)\n",
    "<br><br>"
   ]
  },
  {
   "cell_type": "code",
   "execution_count": 32,
   "metadata": {},
   "outputs": [],
   "source": [
    "RankMon=[Contestants[0],Contestants[1],Contestants[2],Contestants[3]]\n",
    "RankTues=RankMon\n",
    "RankWed=RankTues\n",
    "RankThurs=RankWed\n",
    "RankFri=RankThurs"
   ]
  },
  {
   "cell_type": "markdown",
   "metadata": {},
   "source": [
    "![](Activity 3 Problem 3 Diagram 2.jpg)\n",
    "<br><br>"
   ]
  },
  {
   "cell_type": "code",
   "execution_count": 33,
   "metadata": {},
   "outputs": [],
   "source": [
    "# you can change any of them and it changes all\n",
    "RankMon[0][\"name\"]= \"The Last Cyborg\""
   ]
  },
  {
   "cell_type": "markdown",
   "metadata": {},
   "source": [
    "![](Activity 3 Problem 3 Diagram 3.jpg)\n",
    "<br><br>"
   ]
  },
  {
   "cell_type": "code",
   "execution_count": 34,
   "metadata": {},
   "outputs": [],
   "source": [
    "# then change monday\n",
    "RankMon2=deepcopy(RankMon)"
   ]
  },
  {
   "cell_type": "markdown",
   "metadata": {},
   "source": [
    "![](Activity 3 Problem 3 Diagram 4a.jpg)\n",
    "<br><br>"
   ]
  },
  {
   "cell_type": "code",
   "execution_count": 35,
   "metadata": {},
   "outputs": [],
   "source": [
    "# then change monday (continued)\n",
    "RankMon2[0][\"name\"]=\"Fred\""
   ]
  },
  {
   "cell_type": "markdown",
   "metadata": {},
   "source": [
    "![](Activity 3 Problem 3 Diagram 4b.jpg)\n",
    "<br><br>"
   ]
  },
  {
   "cell_type": "code",
   "execution_count": 36,
   "metadata": {},
   "outputs": [],
   "source": [
    "# then change monday (continued)\n",
    "RankMon=RankMon2"
   ]
  },
  {
   "cell_type": "markdown",
   "metadata": {},
   "source": [
    "![](Activity 3 Problem 3 Diagram 5.jpg)\n",
    "<br><br>"
   ]
  },
  {
   "cell_type": "code",
   "execution_count": 37,
   "metadata": {},
   "outputs": [],
   "source": [
    "# make an independant copy of wednesday\n",
    "RankWed2 = deepcopy(RankWed)"
   ]
  },
  {
   "cell_type": "markdown",
   "metadata": {},
   "source": [
    "![](Activity 3 Problem 3 Diagram 6a.jpg)\n",
    "<br><br>"
   ]
  },
  {
   "cell_type": "code",
   "execution_count": 38,
   "metadata": {},
   "outputs": [],
   "source": [
    "# make an independant copy of wednesday (continued)\n",
    "RankWed2[3][\"teamColor\"]=\"Purple\"\n",
    "RankWed2[3][\"name\"]=\"Rocky\""
   ]
  },
  {
   "cell_type": "markdown",
   "metadata": {},
   "source": [
    "![](Activity 3 Problem 3 Diagram 6b.jpg)\n",
    "<br><br>"
   ]
  },
  {
   "cell_type": "code",
   "execution_count": 39,
   "metadata": {},
   "outputs": [],
   "source": [
    "#reorder\n",
    "RankWed2=(RankWed2[3],RankWed2[0],RankWed2[1],RankWed2[2])"
   ]
  },
  {
   "cell_type": "markdown",
   "metadata": {},
   "source": [
    "![](Activity 3 Problem 3 Diagram 7.jpg)\n",
    "<br><br>"
   ]
  },
  {
   "cell_type": "code",
   "execution_count": 40,
   "metadata": {},
   "outputs": [],
   "source": [
    "# overwrite the old copies\n",
    "RankWed=RankWed2\n",
    "RankThurs=RankWed2\n",
    "RankFri=RankWed2"
   ]
  },
  {
   "cell_type": "markdown",
   "metadata": {},
   "source": [
    "![](Activity 3 Problem 3 Diagram 8.jpg)\n",
    "<br><br>"
   ]
  },
  {
   "cell_type": "code",
   "execution_count": 41,
   "metadata": {},
   "outputs": [
    {
     "name": "stdout",
     "output_type": "stream",
     "text": [
      "Monday Scores:\n",
      "-------\n",
      "Name: Fred \tteamColor: Red\n",
      "Name: Layla \tteamColor: Yellow\n",
      "Name: Tammy \tteamColor: Green\n",
      "Name: Buba \tteamColor: Blue\n",
      "\n",
      "Tuesday Scores:\n",
      "-------\n",
      "Name: The Last Cyborg \tteamColor: Red\n",
      "Name: Layla \tteamColor: Yellow\n",
      "Name: Tammy \tteamColor: Green\n",
      "Name: Buba \tteamColor: Blue\n",
      "\n",
      "Wednesday Scores:\n",
      "-------\n",
      "Name: Rocky \tteamColor: Purple\n",
      "Name: The Last Cyborg \tteamColor: Red\n",
      "Name: Layla \tteamColor: Yellow\n",
      "Name: Tammy \tteamColor: Green\n",
      "\n",
      "Thursday Scores:\n",
      "-------\n",
      "Name: Rocky \tteamColor: Purple\n",
      "Name: The Last Cyborg \tteamColor: Red\n",
      "Name: Layla \tteamColor: Yellow\n",
      "Name: Tammy \tteamColor: Green\n",
      "\n",
      "Friday Scores:\n",
      "-------\n",
      "Name: Rocky \tteamColor: Purple\n",
      "Name: The Last Cyborg \tteamColor: Red\n",
      "Name: Layla \tteamColor: Yellow\n",
      "Name: Tammy \tteamColor: Green\n",
      "\n"
     ]
    }
   ],
   "source": [
    "#Output (this is a \"for\" loop, which you will learn next week)\n",
    "\n",
    "for day, var in [(\"Monday\", RankMon),(\"Tuesday\", RankTues),(\"Wednesday\", RankWed),\\\n",
    "                 (\"Thursday\", RankThurs),(\"Friday\", RankFri)]:\n",
    "    print (day + \" Scores:\")\n",
    "    print (\"-------\")\n",
    "    for n in range(len(var)):\n",
    "        print (\"Name: \" + (var[n]['name']), \"\\tteamColor: \" + var[n]['teamColor'])\n",
    "    print()    "
   ]
  }
 ],
 "metadata": {
  "anaconda-cloud": {},
  "hide_input": false,
  "kernelspec": {
   "display_name": "Python 3",
   "language": "python",
   "name": "python3"
  },
  "language_info": {
   "codemirror_mode": {
    "name": "ipython",
    "version": 3
   },
   "file_extension": ".py",
   "mimetype": "text/x-python",
   "name": "python",
   "nbconvert_exporter": "python",
   "pygments_lexer": "ipython3",
   "version": "3.6.3"
  },
  "latex_envs": {
   "LaTeX_envs_menu_present": false,
   "autocomplete": true,
   "bibliofile": "biblio.bib",
   "cite_by": "apalike",
   "current_citInitial": 1,
   "eqLabelWithNumbers": false,
   "eqNumInitial": 1,
   "hotkeys": {
    "equation": "Ctrl-E",
    "itemize": "Ctrl-I"
   },
   "labels_anchors": false,
   "latex_user_defs": false,
   "report_style_numbering": false,
   "user_envs_cfg": true
  }
 },
 "nbformat": 4,
 "nbformat_minor": 1
}
