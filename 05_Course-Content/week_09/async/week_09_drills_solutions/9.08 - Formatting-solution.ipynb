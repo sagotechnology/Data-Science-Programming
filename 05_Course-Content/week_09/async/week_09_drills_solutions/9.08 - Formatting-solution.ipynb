{
 "cells": [
  {
   "cell_type": "markdown",
   "metadata": {},
   "source": [
    "### Formatting\n",
    "\n",
    "Sample answers are in a separate folder with an explanation (there might be multiple ways to solve a problem though!)"
   ]
  },
  {
   "cell_type": "markdown",
   "metadata": {},
   "source": [
    "1. Format the following lists into a nice table, with the float numbers having an accuracy to 2 decimals places. Use the ```%``` method.  The titles are printed first and then the list of items."
   ]
  },
  {
   "cell_type": "code",
   "execution_count": 1,
   "metadata": {
    "scrolled": true
   },
   "outputs": [],
   "source": [
    "table_title = ['word', 'word count', '# of documents', 'average word count per document']\n",
    "table_list = [['the', 10000, 827, 12.09789842],\n",
    "              ['a', 9876, 826, 11.95641646],\n",
    "              ['glue', 1234, 40, 30.85],\n",
    "              ['Mississippi', 1, 1, 1 ]]"
   ]
  },
  {
   "cell_type": "code",
   "execution_count": 3,
   "metadata": {},
   "outputs": [
    {
     "name": "stdout",
     "output_type": "stream",
     "text": [
      "word          word count  # of documents   average word count per document\n",
      "--------------------------------------------------------------------------------\n",
      "the           10000                827                 12.10\n",
      "a             9876                 826                 11.96\n",
      "glue          1234                  40                 30.85\n",
      "Mississippi   1                      1                  1.00\n"
     ]
    }
   ],
   "source": [
    "print(\"%-12s  %-10s  %-15s  %-20s\" % \n",
    "      (table_title[0],\n",
    "       table_title[1],\n",
    "       table_title[2],\n",
    "       table_title[3]))\n",
    "\n",
    "print('-' * 80)\n",
    "for item in table_list:\n",
    "    table = (\"%-12s  %-10.0f  %12.0f  %20.2f\" % \n",
    "          (item[0], \n",
    "           item[1], \n",
    "           item[2], \n",
    "           item[3])) \n",
    "    print(table)"
   ]
  },
  {
   "cell_type": "markdown",
   "metadata": {},
   "source": [
    "2. Now use the ```{}``` method to format the list of dictionaries below!"
   ]
  },
  {
   "cell_type": "code",
   "execution_count": 4,
   "metadata": {},
   "outputs": [],
   "source": [
    "table_title = ['word', 'word count', '# of documents', 'average word count per document']\n",
    "table_dict = [{'word':'the', 'count':10000, 'doc':827, 'avg':12.09789842},\n",
    "              {'word':'a', 'count':9876, 'doc':826, 'avg':11.95641646},\n",
    "              {'word':'glue', 'count':1234, 'doc':40, 'avg':30.85},\n",
    "              {'word':'Mississippi', 'count':1, 'doc':1, 'avg':1 }]"
   ]
  },
  {
   "cell_type": "code",
   "execution_count": 10,
   "metadata": {},
   "outputs": [
    {
     "name": "stdout",
     "output_type": "stream",
     "text": [
      "word          word count  # of documents   average word count per document\n",
      "--------------------------------------------------------------------------------\n"
     ]
    },
    {
     "ename": "KeyError",
     "evalue": "'doc'",
     "output_type": "error",
     "traceback": [
      "\u001b[0;31m---------------------------------------------------------------------------\u001b[0m",
      "\u001b[0;31mKeyError\u001b[0m                                  Traceback (most recent call last)",
      "\u001b[0;32m<ipython-input-10-fd0f01f7a140>\u001b[0m in \u001b[0;36m<module>\u001b[0;34m\u001b[0m\n\u001b[1;32m     11\u001b[0m         \u001b[0mcount\u001b[0m\u001b[0;34m=\u001b[0m\u001b[0mitem\u001b[0m\u001b[0;34m[\u001b[0m\u001b[0;34m'count'\u001b[0m\u001b[0;34m]\u001b[0m\u001b[0;34m,\u001b[0m\u001b[0;34m\u001b[0m\u001b[0;34m\u001b[0m\u001b[0m\n\u001b[1;32m     12\u001b[0m         \u001b[0mdocs\u001b[0m\u001b[0;34m=\u001b[0m\u001b[0mitem\u001b[0m\u001b[0;34m[\u001b[0m\u001b[0;34m'doc'\u001b[0m\u001b[0;34m]\u001b[0m\u001b[0;34m,\u001b[0m\u001b[0;34m\u001b[0m\u001b[0;34m\u001b[0m\u001b[0m\n\u001b[0;32m---> 13\u001b[0;31m         \u001b[0mavg\u001b[0m\u001b[0;34m=\u001b[0m\u001b[0mitem\u001b[0m\u001b[0;34m[\u001b[0m\u001b[0;34m'avg'\u001b[0m\u001b[0;34m]\u001b[0m\u001b[0;34m\u001b[0m\u001b[0;34m\u001b[0m\u001b[0m\n\u001b[0m\u001b[1;32m     14\u001b[0m     )\n\u001b[1;32m     15\u001b[0m     \u001b[0mprint\u001b[0m\u001b[0;34m(\u001b[0m\u001b[0mtable\u001b[0m\u001b[0;34m)\u001b[0m\u001b[0;34m\u001b[0m\u001b[0;34m\u001b[0m\u001b[0m\n",
      "\u001b[0;31mKeyError\u001b[0m: 'doc'"
     ]
    }
   ],
   "source": [
    "print(\"{:<12s}  {:<10s}  {:<15s}  {:<20s}\".format( \n",
    "      table_title[0],\n",
    "      table_title[1],\n",
    "      table_title[2],\n",
    "      table_title[3]))\n",
    "\n",
    "print('-' * 80)\n",
    "for item in table_dict:\n",
    "    table = \"{word:<12s} {count:10.0f} {doc:12.0f} {avg:20.2f}\".format(\n",
    "        word=item['word'], \n",
    "        count=item['count'],\n",
    "        docs=item['doc'],\n",
    "        avg=item['avg']\n",
    "    )\n",
    "    print(table)"
   ]
  },
  {
   "cell_type": "code",
   "execution_count": null,
   "metadata": {},
   "outputs": [],
   "source": []
  }
 ],
 "metadata": {
  "kernelspec": {
   "display_name": "Python 3",
   "language": "python",
   "name": "python3"
  },
  "language_info": {
   "codemirror_mode": {
    "name": "ipython",
    "version": 3
   },
   "file_extension": ".py",
   "mimetype": "text/x-python",
   "name": "python",
   "nbconvert_exporter": "python",
   "pygments_lexer": "ipython3",
   "version": "3.7.4"
  }
 },
 "nbformat": 4,
 "nbformat_minor": 2
}
