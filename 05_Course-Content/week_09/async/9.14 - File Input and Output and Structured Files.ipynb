{
 "cells": [
  {
   "cell_type": "markdown",
   "metadata": {},
   "source": [
    "### File Input and Output and Structured Files\n",
    "\n",
    "Sample answers are in a separate folder with an explanation (there might be multiple ways to solve a problem though!)"
   ]
  },
  {
   "cell_type": "markdown",
   "metadata": {},
   "source": [
    "1. Open the file 'File_910.txt' and print the contents."
   ]
  },
  {
   "cell_type": "code",
   "execution_count": 21,
   "metadata": {},
   "outputs": [
    {
     "name": "stdout",
     "output_type": "stream",
     "text": [
      "in the superlative degree of comparison only.\n"
     ]
    }
   ],
   "source": [
    "with open(\"File_910.txt\", \"rt\") as file_910_read:\n",
    "    print(file_910_read.read())\n",
    "\n",
    "#file_910_read = open(\"file_910_copy.txt\", \"rt\")\n",
    "#file_910 = file_910_read.read()\n",
    "#file_910_read.close()\n",
    "#print(file_910)"
   ]
  },
  {
   "cell_type": "code",
   "execution_count": 10,
   "metadata": {},
   "outputs": [
    {
     "name": "stdout",
     "output_type": "stream",
     "text": [
      "9.03 - Encoding Text.pptx\r\n",
      "9.04 - Unicode Strings.ipynb\r\n",
      "9.05 - Encoding.ipynb\r\n",
      "9.06 - Encoding.ipynb\r\n",
      "9.07 - Formatting.ipynb\r\n",
      "9.08 - Formatting.ipynb\r\n",
      "9.09 - Regular Expressions.ipynb\r\n",
      "9.10 - Regular Expressions.ipynb\r\n",
      "9.11 - Binary Data.ipynb\r\n",
      "9.12 - File Input and Output.ipynb\r\n",
      "9.13 - Structured Text Files.ipynb\r\n",
      "9.14 - File Input and Output and Structured Files.ipynb\r\n",
      "File_910 copy.txt\r\n",
      "File_910.txt\r\n",
      "binary\r\n",
      "grades.xml\r\n",
      "shakespeare.txt\r\n",
      "spills.csv\r\n",
      "\u001b[34mweek_09_drills_solutions\u001b[m\u001b[m\r\n"
     ]
    }
   ],
   "source": [
    "!ls"
   ]
  },
  {
   "cell_type": "markdown",
   "metadata": {},
   "source": [
    "2. Append the line below to the file."
   ]
  },
  {
   "cell_type": "code",
   "execution_count": 22,
   "metadata": {},
   "outputs": [],
   "source": [
    "new_line = '''A Tale of Two Cities by Charles Dickens'''"
   ]
  },
  {
   "cell_type": "code",
   "execution_count": 24,
   "metadata": {},
   "outputs": [],
   "source": [
    "with open(\"File_910.txt\", \"at\") as file:\n",
    "    file.write(\"\\n\")\n",
    "    file.write(new_line)"
   ]
  },
  {
   "cell_type": "markdown",
   "metadata": {},
   "source": [
    "3. From your newly created file, open it and count how many commas the file contains."
   ]
  },
  {
   "cell_type": "code",
   "execution_count": 30,
   "metadata": {
    "scrolled": true
   },
   "outputs": [
    {
     "name": "stdout",
     "output_type": "stream",
     "text": [
      "# of commas: 2\n"
     ]
    }
   ],
   "source": [
    "import re\n",
    "\n",
    "with open(\"File_910.txt\", \"rt\") as file_read:\n",
    "    contents = file_read.read()\n",
    "comp = re.compile(\",\")\n",
    "result = comp.findall(contents)\n",
    "print(\"# of commas:\", len(result))"
   ]
  },
  {
   "cell_type": "markdown",
   "metadata": {},
   "source": [
    "4. Open the file 'spills.csv' which shows the numbers of Oil and Gas Spills in Colorado per year.  What are the total number of spills recorded?"
   ]
  },
  {
   "cell_type": "code",
   "execution_count": 55,
   "metadata": {},
   "outputs": [
    {
     "name": "stdout",
     "output_type": "stream",
     "text": [
      "The number of total spills is: 7819\n"
     ]
    }
   ],
   "source": [
    "import csv\n",
    "\n",
    "spills_csv_read = open(\"spills.csv\", \"rt\")\n",
    "spills_csv = csv.reader(spills_csv_read)\n",
    "\n",
    "total_spills = 0\n",
    "\n",
    "for row in spills_csv:\n",
    "    try:\n",
    "        num = (int(row[1]))\n",
    "        total_spills += num\n",
    "    except:\n",
    "        ValueError\n",
    "print(\"The number of total spills is:\", total_spills)"
   ]
  },
  {
   "cell_type": "markdown",
   "metadata": {},
   "source": [
    "5. From the spills.csv file what company appears the most as the company with the most number of spills in a year?"
   ]
  },
  {
   "cell_type": "code",
   "execution_count": 3,
   "metadata": {},
   "outputs": [
    {
     "name": "stdout",
     "output_type": "stream",
     "text": [
      "defaultdict(<class 'int'>, {'Top_Company': 1, 'CHEVRON USA ': 2, 'HS RESOURCES ': 2, 'KERR MCGEE OIL & GAS': 9, 'NOBLE ENERGY': 5, 'ENCANA OIL & GAS (USA) ': 1, ' NOBLE ENERGY': 1})\n",
      "\n",
      "[('Top_Company', 1), ('ENCANA OIL & GAS (USA) ', 1), (' NOBLE ENERGY', 1), ('CHEVRON USA ', 2), ('HS RESOURCES ', 2), ('NOBLE ENERGY', 5), ('KERR MCGEE OIL & GAS', 9)]\n",
      "('KERR MCGEE OIL & GAS', 9)\n"
     ]
    }
   ],
   "source": [
    "import csv \n",
    "from collections import defaultdict\n",
    "\n",
    "spills_csv_read = open('spills.csv', 'rt')\n",
    "spills_csv = csv.reader(spills_csv_read)\n",
    "\n",
    "company_dict = defaultdict(int)\n",
    "\n",
    "for row in spills_csv:\n",
    "    company_dict[row[2]] += 1\n",
    "    \n",
    "print(company_dict)\n",
    "print()\n",
    "sorted_dict = sorted(company_dict.items(), key=lambda kv: kv[1])\n",
    "print(sorted_dict)\n",
    "print(sorted_dict.pop())"
   ]
  },
  {
   "cell_type": "markdown",
   "metadata": {},
   "source": [
    "6. Add the following 2018 data: \n",
    "\n",
    "```2018 301 NOBLE ENERGY 87```"
   ]
  },
  {
   "cell_type": "code",
   "execution_count": 65,
   "metadata": {},
   "outputs": [],
   "source": [
    "with open('spills.csv', 'at') as spills:\n",
    "    spills.write('2018, 301, NOBLE ENERGY, 87')"
   ]
  },
  {
   "cell_type": "code",
   "execution_count": 68,
   "metadata": {},
   "outputs": [
    {
     "name": "stdout",
     "output_type": "stream",
     "text": [
      "['\\ufeffYear', 'Total_Spills', 'Top_Company', 'Spills_By_Top_Company']\n",
      "['1999', '188', 'CHEVRON USA ', '87']\n",
      "['2000', '274', 'HS RESOURCES ', '78']\n",
      "['2001', '203', 'HS RESOURCES ', '39']\n",
      "['2002', '212', 'KERR MCGEE OIL & GAS', '36']\n",
      "['2003', '227', 'KERR MCGEE OIL & GAS', '36']\n",
      "['2004', '227', 'KERR MCGEE OIL & GAS', '43']\n",
      "['2005', '324', 'KERR MCGEE OIL & GAS', '50']\n",
      "['2006', '342', 'CHEVRON USA ', '57']\n",
      "['2007', '333', 'KERR MCGEE OIL & GAS', '52']\n",
      "['2008', '426', 'KERR MCGEE OIL & GAS', '60']\n",
      "['2009', '384', 'KERR MCGEE OIL & GAS', '54']\n",
      "['2010', '497', 'NOBLE ENERGY', '79']\n",
      "['2011', '526', 'ENCANA OIL & GAS (USA) ', '73']\n",
      "['2012', '408', 'NOBLE ENERGY', '72']\n",
      "['2013', '594', 'NOBLE ENERGY', '108']\n",
      "['2014', '845', 'NOBLE ENERGY', '137']\n",
      "['2015', '656', 'KERR MCGEE OIL & GAS', '88']\n",
      "['2016', '535', 'NOBLE ENERGY', '83']\n",
      "['2017', '618', 'KERR MCGEE OIL & GAS', '98']\n",
      "['2018', ' 301', ' NOBLE ENERGY', ' 87']\n"
     ]
    }
   ],
   "source": [
    "import csv\n",
    "\n",
    "spills_csv = open(\"spills.csv\", 'rt')\n",
    "spills = csv.reader(spills_csv)\n",
    "\n",
    "for row in spills:\n",
    "    print(row)"
   ]
  },
  {
   "cell_type": "markdown",
   "metadata": {},
   "source": [
    "7. Save the file in .json format."
   ]
  },
  {
   "cell_type": "code",
   "execution_count": 71,
   "metadata": {},
   "outputs": [
    {
     "name": "stdout",
     "output_type": "stream",
     "text": [
      "[{\"﻿Year\": 1999,\"Total_Spills\": 188,\"Top_Company\": \"CHEVRON USA \",\"Spills_By_Top_Company\": 87},{\"﻿Year\": 2000,\"Total_Spills\": 274,\"Top_Company\": \"HS RESOURCES \",\"Spills_By_Top_Company\": 78},{\"﻿Year\": 2001,\"Total_Spills\": 203,\"Top_Company\": \"HS RESOURCES \",\"Spills_By_Top_Company\": 39},{\"﻿Year\": 2002,\"Total_Spills\": 212,\"Top_Company\": \"KERR MCGEE OIL & GAS\",\"Spills_By_Top_Company\": 36},{\"﻿Year\": 2003,\"Total_Spills\": 227,\"Top_Company\": \"KERR MCGEE OIL & GAS\",\"Spills_By_Top_Company\": 36},{\"﻿Year\": 2004,\"Total_Spills\": 227,\"Top_Company\": \"KERR MCGEE OIL & GAS\",\"Spills_By_Top_Company\": 43},{\"﻿Year\": 2005,\"Total_Spills\": 324,\"Top_Company\": \"KERR MCGEE OIL & GAS\",\"Spills_By_Top_Company\": 50},{\"﻿Year\": 2006,\"Total_Spills\": 342,\"Top_Company\": \"CHEVRON USA \",\"Spills_By_Top_Company\": 57},{\"﻿Year\": 2007,\"Total_Spills\": 333,\"Top_Company\": \"KERR MCGEE OIL & GAS\",\"Spills_By_Top_Company\": 52},{\"﻿Year\": 2008,\"Total_Spills\": 426,\"Top_Company\": \"KERR MCGEE OIL & GAS\",\"Spills_By_Top_Company\": 60},{\"﻿Year\": 2009,\"Total_Spills\": 384,\"Top_Company\": \"KERR MCGEE OIL & GAS\",\"Spills_By_Top_Company\": 54},{\"﻿Year\": 2010,\"Total_Spills\": 497,\"Top_Company\": \"NOBLE ENERGY\",\"Spills_By_Top_Company\": 79},{\"﻿Year\": 2011,\"Total_Spills\": 526,\"Top_Company\": \"ENCANA OIL & GAS (USA) \",\"Spills_By_Top_Company\": 73},{\"﻿Year\": 2012,\"Total_Spills\": 408,\"Top_Company\": \"NOBLE ENERGY\",\"Spills_By_Top_Company\": 72},{\"﻿Year\": 2013,\"Total_Spills\": 594,\"Top_Company\": \"NOBLE ENERGY\",\"Spills_By_Top_Company\": 108},{\"﻿Year\": 2014,\"Total_Spills\": 845,\"Top_Company\": \"NOBLE ENERGY\",\"Spills_By_Top_Company\": 137},{\"﻿Year\": 2015,\"Total_Spills\": 656,\"Top_Company\": \"KERR MCGEE OIL & GAS\",\"Spills_By_Top_Company\": 88},{\"﻿Year\": 2016,\"Total_Spills\": 535,\"Top_Company\": \"NOBLE ENERGY\",\"Spills_By_Top_Company\": 83},{\"﻿Year\": 2017,\"Total_Spills\": 618,\"Top_Company\": \"KERR MCGEE OIL & GAS\",\"Spills_By_Top_Company\": 98},{\"﻿Year\": 2018,\"Total_Spills\":  301,\"Top_Company\": \" NOBLE ENERGY\",\"Spills_By_Top_Company\":  87}]\n"
     ]
    }
   ],
   "source": [
    "import json\n",
    "import csv\n",
    "\n",
    "# open the csv and read in the contents\n",
    "spills_csv = open('spills.csv', 'rt')\n",
    "spills = csv.reader(spills_csv)\n",
    "\n",
    "\n",
    "# The hard part is to get the format correct to a json style\n",
    "# I'm doing this the very manual way of making a large string of all the values\n",
    "\n",
    "json_str = '['\n",
    "header = False\n",
    "for row in spills:\n",
    "    if not header:\n",
    "        header = row\n",
    "        continue\n",
    "    json_str += '{\"' + str(header[0][0:]) + '\": ' + str(row[0]) + ',' \n",
    "    json_str += '\"' + str(header[1]) + '\": ' + str(row[1]) + ',' \n",
    "    json_str += '\"' + str(header[2]) + '\": \"' + str(row[2]) + '\",' \n",
    "    json_str += '\"' + str(header[3]) + '\": ' + str(row[3]) + '},' \n",
    "    \n",
    "json_str = json_str[:-1]\n",
    "json_str += ']'\n",
    "print(json_str)\n",
    "json_file = open('spills.json', 'wt')\n",
    "json_file.write(json_str)\n",
    "json_file.close()"
   ]
  },
  {
   "cell_type": "code",
   "execution_count": null,
   "metadata": {},
   "outputs": [],
   "source": []
  }
 ],
 "metadata": {
  "kernelspec": {
   "display_name": "Python 3",
   "language": "python",
   "name": "python3"
  },
  "language_info": {
   "codemirror_mode": {
    "name": "ipython",
    "version": 3
   },
   "file_extension": ".py",
   "mimetype": "text/x-python",
   "name": "python",
   "nbconvert_exporter": "python",
   "pygments_lexer": "ipython3",
   "version": "3.7.4"
  }
 },
 "nbformat": 4,
 "nbformat_minor": 2
}
