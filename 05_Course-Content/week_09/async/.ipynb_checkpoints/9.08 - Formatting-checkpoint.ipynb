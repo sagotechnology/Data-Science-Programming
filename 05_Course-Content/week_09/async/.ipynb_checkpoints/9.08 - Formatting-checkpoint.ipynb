{
 "cells": [
  {
   "cell_type": "markdown",
   "metadata": {},
   "source": [
    "### Formatting\n",
    "\n",
    "Sample answers are in a separate folder with an explanation (there might be multiple ways to solve a problem though!)"
   ]
  },
  {
   "cell_type": "markdown",
   "metadata": {},
   "source": [
    "1. Format the following list into a nice table, with the float numbers having an accuracy to 2 decimals places. Use the ```%``` method."
   ]
  },
  {
   "cell_type": "code",
   "execution_count": 1,
   "metadata": {
    "scrolled": true
   },
   "outputs": [],
   "source": [
    "table_list = ['word', 'word count', '# of documents', 'average word count per document',\n",
    "              'the', 10000, 827, 12.09789842,\n",
    "              'a', 9876, 826, 11.95641646,\n",
    "              'glue', 1234, 40, 30.85,\n",
    "              'Mississippi', 1, 1, 1 ]"
   ]
  },
  {
   "cell_type": "code",
   "execution_count": null,
   "metadata": {},
   "outputs": [],
   "source": [
    "for table_data in table_list:\n",
    "    tabel_data = (\"%-20s %-20s %-5.0f %-5.0f %-5s\" % \n",
    "          (student[\"name\"], \n",
    "           student[\"email\"], \n",
    "           student[\"midterm\"], \n",
    "           student[\"final\"], \n",
    "           student[\"grade\"])) \n",
    "    print(student_data)"
   ]
  },
  {
   "cell_type": "markdown",
   "metadata": {},
   "source": [
    "2. Now use the ```{}``` method to format the same list!"
   ]
  },
  {
   "cell_type": "code",
   "execution_count": null,
   "metadata": {
    "collapsed": true
   },
   "outputs": [],
   "source": []
  }
 ],
 "metadata": {
  "kernelspec": {
   "display_name": "Python 3",
   "language": "python",
   "name": "python3"
  },
  "language_info": {
   "codemirror_mode": {
    "name": "ipython",
    "version": 3
   },
   "file_extension": ".py",
   "mimetype": "text/x-python",
   "name": "python",
   "nbconvert_exporter": "python",
   "pygments_lexer": "ipython3",
   "version": "3.7.4"
  }
 },
 "nbformat": 4,
 "nbformat_minor": 2
}
