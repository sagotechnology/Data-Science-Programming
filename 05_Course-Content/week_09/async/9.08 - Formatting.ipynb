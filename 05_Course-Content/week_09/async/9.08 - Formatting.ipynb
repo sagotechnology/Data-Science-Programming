{
 "cells": [
  {
   "cell_type": "markdown",
   "metadata": {},
   "source": [
    "### Formatting\n",
    "\n",
    "Sample answers are in a separate folder with an explanation (there might be multiple ways to solve a problem though!)"
   ]
  },
  {
   "cell_type": "markdown",
   "metadata": {},
   "source": [
    "1. Format the following list into a nice table, with the float numbers having an accuracy to 2 decimals places. Use the ```%``` method."
   ]
  },
  {
   "cell_type": "code",
   "execution_count": 52,
   "metadata": {
    "scrolled": true
   },
   "outputs": [],
   "source": [
    "table_title = ['word', 'word count', '# of documents', 'average word count per document']\n",
    "table_list = [['the', 10000, 827, 12.09789842,],\n",
    "              ['a', 9876, 826, 11.95641646,],\n",
    "              ['glue', 1234, 40, 30.85,],\n",
    "              ['Mississippi', 1, 1, 1]]"
   ]
  },
  {
   "cell_type": "code",
   "execution_count": 68,
   "metadata": {},
   "outputs": [
    {
     "name": "stdout",
     "output_type": "stream",
     "text": [
      "word            word count      # of documents       average word count per document         \n",
      "_____________________________________________________________________________________\n",
      "the             10000           827                  12.10\n",
      "a               9876            826                  11.96\n",
      "glue            1234            40                   30.85\n",
      "Mississippi     1               1                    1.00\n"
     ]
    }
   ],
   "source": [
    "print(\"%-15s %-15s %-20s %-40s\" % \n",
    "          (table_title[0], \n",
    "           table_title[1], \n",
    "           table_title[2], \n",
    "           table_title[3])) \n",
    "print('_' * 85)\n",
    "\n",
    "for item in table_list:\n",
    "    table_data = (\"%-15s %-15.0f %-20.0f %4.2f\" %\n",
    "         (item[0],\n",
    "          item[1],\n",
    "          item[2],\n",
    "          item[3]))\n",
    "    print(table_data)"
   ]
  },
  {
   "cell_type": "markdown",
   "metadata": {},
   "source": [
    "2. Now use the ```{}``` method to format the same list!"
   ]
  },
  {
   "cell_type": "code",
   "execution_count": 96,
   "metadata": {},
   "outputs": [],
   "source": [
    "table_title = ['word', 'word count', '# of documents', 'average word count per document']\n",
    "table_dict = [{'word':'the', 'count':10000, 'docs':827, 'avg':12.09789842},\n",
    "              {'word':'a', 'count':9876, 'docs':826, 'avg':11.95641646},\n",
    "              {'word':'glue', 'count':1234, 'docs':40, 'avg':30.85},\n",
    "              {'word':'Mississippi', 'count':1, 'docs':1, 'avg':1}]"
   ]
  },
  {
   "cell_type": "code",
   "execution_count": 97,
   "metadata": {},
   "outputs": [
    {
     "name": "stdout",
     "output_type": "stream",
     "text": [
      "word       word count      # of documents       average word count per document\n",
      "________________________________________________________________________________\n",
      "the                  10000   827                12.10\n",
      "a                     9876   826                11.96\n",
      "glue                  1234    40                30.85\n",
      "Mississippi               1     1                 1.00\n"
     ]
    }
   ],
   "source": [
    "print(\"{:<10s} {:<15s} {:<20s} {:<20s}\".format(\n",
    "        table_title[0],\n",
    "        table_title[1],\n",
    "        table_title[2],\n",
    "        table_title[3]))\n",
    "\n",
    "print(\"_\" * 80)\n",
    "\n",
    "for item in table_dict:\n",
    "    table_data = \"{word:<10s} {count:15.0f} {docs:5.0f} {avg:20.2f}\".format(\n",
    "        word = item['word'],\n",
    "        count = item['count'],\n",
    "        docs = item['docs'],\n",
    "        avg = item['avg'])\n",
    "    print(table_data)"
   ]
  },
  {
   "cell_type": "code",
   "execution_count": null,
   "metadata": {},
   "outputs": [],
   "source": []
  }
 ],
 "metadata": {
  "kernelspec": {
   "display_name": "Python 3",
   "language": "python",
   "name": "python3"
  },
  "language_info": {
   "codemirror_mode": {
    "name": "ipython",
    "version": 3
   },
   "file_extension": ".py",
   "mimetype": "text/x-python",
   "name": "python",
   "nbconvert_exporter": "python",
   "pygments_lexer": "ipython3",
   "version": "3.7.4"
  }
 },
 "nbformat": 4,
 "nbformat_minor": 2
}
