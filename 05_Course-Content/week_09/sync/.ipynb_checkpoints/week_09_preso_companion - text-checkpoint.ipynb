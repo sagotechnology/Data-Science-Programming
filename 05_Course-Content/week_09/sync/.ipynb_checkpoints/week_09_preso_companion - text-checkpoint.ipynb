{
 "cells": [
  {
   "cell_type": "markdown",
   "metadata": {},
   "source": [
    "# Week 9 Presentation Companion\n",
    "\n",
    "### Working with Text & Binary\n",
    "___"
   ]
  },
  {
   "cell_type": "code",
   "execution_count": null,
   "metadata": {},
   "outputs": [],
   "source": [
    "from IPython.core.interactiveshell import InteractiveShell\n",
    "InteractiveShell.ast_node_interactivity = \"all\""
   ]
  },
  {
   "cell_type": "markdown",
   "metadata": {},
   "source": [
    "### Number Representations"
   ]
  },
  {
   "cell_type": "code",
   "execution_count": 4,
   "metadata": {},
   "outputs": [
    {
     "data": {
      "text/plain": [
       "226"
      ]
     },
     "execution_count": 4,
     "metadata": {},
     "output_type": "execute_result"
    },
    {
     "data": {
      "text/plain": [
       "226"
      ]
     },
     "execution_count": 4,
     "metadata": {},
     "output_type": "execute_result"
    },
    {
     "data": {
      "text/plain": [
       "226"
      ]
     },
     "execution_count": 4,
     "metadata": {},
     "output_type": "execute_result"
    },
    {
     "data": {
      "text/plain": [
       "226"
      ]
     },
     "execution_count": 4,
     "metadata": {},
     "output_type": "execute_result"
    }
   ],
   "source": [
    "int(\"226\")\n",
    "int(\"11100010\", 2) # binary (base 2)\n",
    "int(\"342\", 8) # 3 binary digits per 1 octal (base 8) digit \n",
    "int(\"E2\", 16) # 4 binary digits per 1 hexadecimal (base 16) digit\n"
   ]
  },
  {
   "cell_type": "code",
   "execution_count": 5,
   "metadata": {},
   "outputs": [
    {
     "data": {
      "text/plain": [
       "226"
      ]
     },
     "execution_count": 5,
     "metadata": {},
     "output_type": "execute_result"
    },
    {
     "data": {
      "text/plain": [
       "226"
      ]
     },
     "execution_count": 5,
     "metadata": {},
     "output_type": "execute_result"
    }
   ],
   "source": [
    "# Note the binary is decoded like this\n",
    "\n",
    "1*2**7 + 1*2**6 + 1*2**5 + 0*2**4 + 0*2**3 + 0*2**2 + 1*2**1 + 0*2**0\n",
    "\n",
    "# the hexadecimal like this\n",
    "\n",
    "14*16**1 + 2*16**0"
   ]
  },
  {
   "cell_type": "markdown",
   "metadata": {},
   "source": [
    "### Character code points in ASCII.\n",
    "\n",
    "* Each unique character code requires $\\le$ 7 bits.\n",
    "* The ASCII character set comprises 128 unique characters."
   ]
  },
  {
   "cell_type": "code",
   "execution_count": 8,
   "metadata": {},
   "outputs": [
    {
     "data": {
      "text/plain": [
       "'T'"
      ]
     },
     "execution_count": 8,
     "metadata": {},
     "output_type": "execute_result"
    },
    {
     "data": {
      "text/plain": [
       "84"
      ]
     },
     "execution_count": 8,
     "metadata": {},
     "output_type": "execute_result"
    },
    {
     "data": {
      "text/plain": [
       "'0b1010100'"
      ]
     },
     "execution_count": 8,
     "metadata": {},
     "output_type": "execute_result"
    },
    {
     "data": {
      "text/plain": [
       "'1010100'"
      ]
     },
     "execution_count": 8,
     "metadata": {},
     "output_type": "execute_result"
    },
    {
     "data": {
      "text/plain": [
       "'124'"
      ]
     },
     "execution_count": 8,
     "metadata": {},
     "output_type": "execute_result"
    },
    {
     "data": {
      "text/plain": [
       "'54'"
      ]
     },
     "execution_count": 8,
     "metadata": {},
     "output_type": "execute_result"
    },
    {
     "data": {
      "text/plain": [
       "'T'"
      ]
     },
     "execution_count": 8,
     "metadata": {},
     "output_type": "execute_result"
    },
    {
     "data": {
      "text/plain": [
       "'T'"
      ]
     },
     "execution_count": 8,
     "metadata": {},
     "output_type": "execute_result"
    }
   ],
   "source": [
    "\"T\"                # outputs glyph\n",
    "ord(\"T\")           # outputs decimal representation of code point \n",
    "bin(ord(\"T\"))      # with the type code \n",
    "bin(ord(\"T\"))[2:]  # outputs binary representation of code point\n",
    "oct(ord(\"T\"))[2:]  # outputs octal representation of code point\n",
    "hex(ord(\"T\"))[2:]  # outputs hexadecimal representation of code point\n",
    "\n",
    "chr(84)            # outputs glyph, provided decimal representation of code point\n",
    "\"\\u0054\"           # outputs glyph, provided hexadecimal representation of code point (lower case \\u for 16 bits)"
   ]
  },
  {
   "cell_type": "markdown",
   "metadata": {},
   "source": [
    "### Character code points in Unicode.\n",
    "\n",
    "* Each unique character code point is a number 0-10FFFF hexadecimal (0-1,114,111 decimal).\n",
    "* The Unicode character set now comprises 109,384 unique characters with room left for up to 1,114,112 unique characters."
   ]
  },
  {
   "cell_type": "code",
   "execution_count": 5,
   "metadata": {},
   "outputs": [
    {
     "data": {
      "text/plain": [
       "'𓀀'"
      ]
     },
     "execution_count": 5,
     "metadata": {},
     "output_type": "execute_result"
    },
    {
     "data": {
      "text/plain": [
       "77824"
      ]
     },
     "execution_count": 5,
     "metadata": {},
     "output_type": "execute_result"
    },
    {
     "data": {
      "text/plain": [
       "'10011000000000000'"
      ]
     },
     "execution_count": 5,
     "metadata": {},
     "output_type": "execute_result"
    },
    {
     "data": {
      "text/plain": [
       "'230000'"
      ]
     },
     "execution_count": 5,
     "metadata": {},
     "output_type": "execute_result"
    },
    {
     "data": {
      "text/plain": [
       "'13000'"
      ]
     },
     "execution_count": 5,
     "metadata": {},
     "output_type": "execute_result"
    },
    {
     "data": {
      "text/plain": [
       "'𓀀'"
      ]
     },
     "execution_count": 5,
     "metadata": {},
     "output_type": "execute_result"
    },
    {
     "data": {
      "text/plain": [
       "'𓀀'"
      ]
     },
     "execution_count": 5,
     "metadata": {},
     "output_type": "execute_result"
    }
   ],
   "source": [
    "\"𓀀\"                # outputs glyph\n",
    "ord(\"𓀀\")           # outputs decimal representation of code point\n",
    "bin(ord(\"𓀀\"))[2:]  # outputs binary representation of code point\n",
    "oct(ord(\"𓀀\"))[2:]  # outputs octal representation of code point\n",
    "hex(ord(\"𓀀\"))[2:]  # outputs hexadecimal representation of code point\n",
    "\n",
    "chr(77824)         # outputs glyph, provided decimal representation of code point\n",
    "\"\\U00013000\"       # outputs glyph, provided hexaecimal representation of code point (upper case \\U for 32 bits)"
   ]
  },
  {
   "cell_type": "code",
   "execution_count": 6,
   "metadata": {},
   "outputs": [
    {
     "data": {
      "text/plain": [
       "'𐚩'"
      ]
     },
     "execution_count": 6,
     "metadata": {},
     "output_type": "execute_result"
    }
   ],
   "source": [
    "\"\\U000106A9\" # this glyph is not supported by the system, though the code point is supported by the system"
   ]
  },
  {
   "cell_type": "markdown",
   "metadata": {},
   "source": [
    "### Character names in Unicode."
   ]
  },
  {
   "cell_type": "code",
   "execution_count": 7,
   "metadata": {},
   "outputs": [
    {
     "data": {
      "text/plain": [
       "'LATIN CAPITAL LETTER T'"
      ]
     },
     "execution_count": 7,
     "metadata": {},
     "output_type": "execute_result"
    },
    {
     "data": {
      "text/plain": [
       "'LATIN CAPITAL LETTER T'"
      ]
     },
     "execution_count": 7,
     "metadata": {},
     "output_type": "execute_result"
    },
    {
     "data": {
      "text/plain": [
       "'EGYPTIAN HIEROGLYPH A001'"
      ]
     },
     "execution_count": 7,
     "metadata": {},
     "output_type": "execute_result"
    },
    {
     "data": {
      "text/plain": [
       "'EGYPTIAN HIEROGLYPH A001'"
      ]
     },
     "execution_count": 7,
     "metadata": {},
     "output_type": "execute_result"
    }
   ],
   "source": [
    "import unicodedata\n",
    "\n",
    "unicodedata.name(\"T\")\n",
    "unicodedata.name(\"\\u0054\")\n",
    "\n",
    "unicodedata.name(\"𓀀\")\n",
    "unicodedata.name(\"\\U00013000\")"
   ]
  },
  {
   "cell_type": "code",
   "execution_count": 9,
   "metadata": {},
   "outputs": [
    {
     "data": {
      "text/plain": [
       "'T'"
      ]
     },
     "execution_count": 9,
     "metadata": {},
     "output_type": "execute_result"
    },
    {
     "data": {
      "text/plain": [
       "'T'"
      ]
     },
     "execution_count": 9,
     "metadata": {},
     "output_type": "execute_result"
    },
    {
     "data": {
      "text/plain": [
       "'𓀀'"
      ]
     },
     "execution_count": 9,
     "metadata": {},
     "output_type": "execute_result"
    },
    {
     "data": {
      "text/plain": [
       "'𓀀'"
      ]
     },
     "execution_count": 9,
     "metadata": {},
     "output_type": "execute_result"
    }
   ],
   "source": [
    "unicodedata.lookup(\"LATIN CAPITAL LETTER T\")\n",
    "\"\\N{LATIN CAPITAL LETTER T}\"\n",
    "\n",
    "unicodedata.lookup(\"EGYPTIAN HIEROGLYPH A001\")\n",
    "\"\\N{EGYPTIAN HIEROGLYPH A001}\""
   ]
  },
  {
   "cell_type": "markdown",
   "metadata": {},
   "source": [
    "### Python strings.\n",
    "\n",
    "* A Python string (type str) is a sequence of Unicode code points."
   ]
  },
  {
   "cell_type": "code",
   "execution_count": 11,
   "metadata": {},
   "outputs": [
    {
     "data": {
      "text/plain": [
       "'Tut'"
      ]
     },
     "execution_count": 11,
     "metadata": {},
     "output_type": "execute_result"
    },
    {
     "data": {
      "text/plain": [
       "'Tut'"
      ]
     },
     "execution_count": 11,
     "metadata": {},
     "output_type": "execute_result"
    },
    {
     "data": {
      "text/plain": [
       "str"
      ]
     },
     "execution_count": 11,
     "metadata": {},
     "output_type": "execute_result"
    },
    {
     "data": {
      "text/plain": [
       "str"
      ]
     },
     "execution_count": 11,
     "metadata": {},
     "output_type": "execute_result"
    },
    {
     "data": {
      "text/plain": [
       "3"
      ]
     },
     "execution_count": 11,
     "metadata": {},
     "output_type": "execute_result"
    },
    {
     "data": {
      "text/plain": [
       "3"
      ]
     },
     "execution_count": 11,
     "metadata": {},
     "output_type": "execute_result"
    }
   ],
   "source": [
    "\"Tut\"\n",
    "\"\\u0054\\u0075\\u0074\"\n",
    "\n",
    "type(\"Tut\")\n",
    "type(\"\\u0054\\u0075\\u0074\")\n",
    "\n",
    "len(\"Tut\")\n",
    "len(\"\\u0054\\u0075\\u0074\")"
   ]
  },
  {
   "cell_type": "code",
   "execution_count": 13,
   "metadata": {},
   "outputs": [
    {
     "data": {
      "text/plain": [
       "'𓀀𓃒𓁶𓅂'"
      ]
     },
     "execution_count": 13,
     "metadata": {},
     "output_type": "execute_result"
    },
    {
     "data": {
      "text/plain": [
       "'𓀀𓃒𓁶𓅂'"
      ]
     },
     "execution_count": 13,
     "metadata": {},
     "output_type": "execute_result"
    },
    {
     "data": {
      "text/plain": [
       "str"
      ]
     },
     "execution_count": 13,
     "metadata": {},
     "output_type": "execute_result"
    },
    {
     "data": {
      "text/plain": [
       "str"
      ]
     },
     "execution_count": 13,
     "metadata": {},
     "output_type": "execute_result"
    },
    {
     "data": {
      "text/plain": [
       "4"
      ]
     },
     "execution_count": 13,
     "metadata": {},
     "output_type": "execute_result"
    },
    {
     "data": {
      "text/plain": [
       "4"
      ]
     },
     "execution_count": 13,
     "metadata": {},
     "output_type": "execute_result"
    }
   ],
   "source": [
    "\"𓀀𓃒𓁶𓅂\"\n",
    "\"\\U00013000\\U000130D2\\U00013076\\U00013142\"\n",
    "\n",
    "type(\"𓀀𓃒𓁶𓅂\")\n",
    "type(\"\\U00013000\\U000130D2\\U00013076\\U00013142\")\n",
    "\n",
    "len(\"𓀀𓃒𓁶𓅂\")\n",
    "len(\"\\U00013000\\U000130D2\\U00013076\\U00013142\")"
   ]
  },
  {
   "cell_type": "code",
   "execution_count": 14,
   "metadata": {},
   "outputs": [
    {
     "data": {
      "text/plain": [
       "'Tut𓀀𓃒𓁶𓅂'"
      ]
     },
     "execution_count": 14,
     "metadata": {},
     "output_type": "execute_result"
    },
    {
     "data": {
      "text/plain": [
       "'Tut𓀀𓃒𓁶𓅂'"
      ]
     },
     "execution_count": 14,
     "metadata": {},
     "output_type": "execute_result"
    },
    {
     "data": {
      "text/plain": [
       "str"
      ]
     },
     "execution_count": 14,
     "metadata": {},
     "output_type": "execute_result"
    },
    {
     "data": {
      "text/plain": [
       "str"
      ]
     },
     "execution_count": 14,
     "metadata": {},
     "output_type": "execute_result"
    },
    {
     "data": {
      "text/plain": [
       "7"
      ]
     },
     "execution_count": 14,
     "metadata": {},
     "output_type": "execute_result"
    },
    {
     "data": {
      "text/plain": [
       "7"
      ]
     },
     "execution_count": 14,
     "metadata": {},
     "output_type": "execute_result"
    }
   ],
   "source": [
    "\"Tut𓀀𓃒𓁶𓅂\"\n",
    "\"\\u0054\\u0075\\u0074\\U00013000\\U000130D2\\U00013076\\U00013142\"\n",
    "\n",
    "type(\"Tut𓀀𓃒𓁶𓅂\")\n",
    "type(\"\\u0054\\u0075\\u0074\\U00013000\\U000130D2\\U00013076\\U00013142\")\n",
    "\n",
    "len(\"Tut𓀀𓃒𓁶𓅂\")\n",
    "len(\"\\u0054\\u0075\\u0074\\U00013000\\U000130D2\\U00013076\\U00013142\")"
   ]
  },
  {
   "cell_type": "markdown",
   "metadata": {},
   "source": [
    "### Encoding/Decoding Schemes (aka Codecs).\n",
    "\n",
    "* Strings are encoded so that they can be stored in computer memory and secondary storage.\n",
    "* Use a specific encoding scheme consistently."
   ]
  },
  {
   "cell_type": "code",
   "execution_count": 22,
   "metadata": {},
   "outputs": [
    {
     "data": {
      "text/plain": [
       "'Tut'"
      ]
     },
     "execution_count": 22,
     "metadata": {},
     "output_type": "execute_result"
    },
    {
     "data": {
      "text/plain": [
       "b'Tut'"
      ]
     },
     "execution_count": 22,
     "metadata": {},
     "output_type": "execute_result"
    },
    {
     "data": {
      "text/plain": [
       "[('T', ['01010100']), ('u', ['01110101']), ('t', ['01110100'])]"
      ]
     },
     "execution_count": 22,
     "metadata": {},
     "output_type": "execute_result"
    },
    {
     "data": {
      "text/plain": [
       "['01010100', '01110101', '01110100']"
      ]
     },
     "execution_count": 22,
     "metadata": {},
     "output_type": "execute_result"
    },
    {
     "data": {
      "text/plain": [
       "3"
      ]
     },
     "execution_count": 22,
     "metadata": {},
     "output_type": "execute_result"
    },
    {
     "data": {
      "text/plain": [
       "3"
      ]
     },
     "execution_count": 22,
     "metadata": {},
     "output_type": "execute_result"
    }
   ],
   "source": [
    "scheme = \"utf-8\"\n",
    "\n",
    "s = \"Tut\"\n",
    "e = s.encode(scheme)\n",
    "z = [(c, [bin(i)[2:].zfill(8) for i in list(c.encode(scheme))]) for c in s]\n",
    "b = [bin(i)[2:].zfill(8) for i in list(s.encode(scheme))]\n",
    "\n",
    "s\n",
    "e\n",
    "z\n",
    "b\n",
    "    \n",
    "len(s) # number of characters\n",
    "len(b) # number of bytes (groups of 8 bits) used to store the characters "
   ]
  },
  {
   "cell_type": "code",
   "execution_count": 23,
   "metadata": {},
   "outputs": [
    {
     "data": {
      "text/plain": [
       "'𓀀𓃒𓁶𓅂'"
      ]
     },
     "execution_count": 23,
     "metadata": {},
     "output_type": "execute_result"
    },
    {
     "data": {
      "text/plain": [
       "b'\\xf0\\x93\\x80\\x80\\xf0\\x93\\x83\\x92\\xf0\\x93\\x81\\xb6\\xf0\\x93\\x85\\x82'"
      ]
     },
     "execution_count": 23,
     "metadata": {},
     "output_type": "execute_result"
    },
    {
     "data": {
      "text/plain": [
       "[('𓀀', ['11110000', '10010011', '10000000', '10000000']),\n",
       " ('𓃒', ['11110000', '10010011', '10000011', '10010010']),\n",
       " ('𓁶', ['11110000', '10010011', '10000001', '10110110']),\n",
       " ('𓅂', ['11110000', '10010011', '10000101', '10000010'])]"
      ]
     },
     "execution_count": 23,
     "metadata": {},
     "output_type": "execute_result"
    },
    {
     "data": {
      "text/plain": [
       "['11110000',\n",
       " '10010011',\n",
       " '10000000',\n",
       " '10000000',\n",
       " '11110000',\n",
       " '10010011',\n",
       " '10000011',\n",
       " '10010010',\n",
       " '11110000',\n",
       " '10010011',\n",
       " '10000001',\n",
       " '10110110',\n",
       " '11110000',\n",
       " '10010011',\n",
       " '10000101',\n",
       " '10000010']"
      ]
     },
     "execution_count": 23,
     "metadata": {},
     "output_type": "execute_result"
    },
    {
     "data": {
      "text/plain": [
       "4"
      ]
     },
     "execution_count": 23,
     "metadata": {},
     "output_type": "execute_result"
    },
    {
     "data": {
      "text/plain": [
       "16"
      ]
     },
     "execution_count": 23,
     "metadata": {},
     "output_type": "execute_result"
    }
   ],
   "source": [
    "scheme = \"utf-8\"\n",
    "\n",
    "s = \"𓀀𓃒𓁶𓅂\"\n",
    "e = s.encode(scheme)\n",
    "z = [(c, [bin(i)[2:].zfill(8) for i in list(c.encode(scheme))]) for c in s]\n",
    "b = [bin(i)[2:].zfill(8) for i in list(s.encode(scheme))]\n",
    "\n",
    "s\n",
    "e\n",
    "z\n",
    "b\n",
    "    \n",
    "len(s) # number of characters\n",
    "len(b) # number of bytes (groups of 8 bits) used to store the characters "
   ]
  },
  {
   "cell_type": "code",
   "execution_count": 24,
   "metadata": {},
   "outputs": [
    {
     "data": {
      "text/plain": [
       "'Tut𓀀𓃒𓁶𓅂'"
      ]
     },
     "execution_count": 24,
     "metadata": {},
     "output_type": "execute_result"
    },
    {
     "data": {
      "text/plain": [
       "b'Tut\\xf0\\x93\\x80\\x80\\xf0\\x93\\x83\\x92\\xf0\\x93\\x81\\xb6\\xf0\\x93\\x85\\x82'"
      ]
     },
     "execution_count": 24,
     "metadata": {},
     "output_type": "execute_result"
    },
    {
     "data": {
      "text/plain": [
       "[('T', ['01010100']),\n",
       " ('u', ['01110101']),\n",
       " ('t', ['01110100']),\n",
       " ('𓀀', ['11110000', '10010011', '10000000', '10000000']),\n",
       " ('𓃒', ['11110000', '10010011', '10000011', '10010010']),\n",
       " ('𓁶', ['11110000', '10010011', '10000001', '10110110']),\n",
       " ('𓅂', ['11110000', '10010011', '10000101', '10000010'])]"
      ]
     },
     "execution_count": 24,
     "metadata": {},
     "output_type": "execute_result"
    },
    {
     "data": {
      "text/plain": [
       "['01010100',\n",
       " '01110101',\n",
       " '01110100',\n",
       " '11110000',\n",
       " '10010011',\n",
       " '10000000',\n",
       " '10000000',\n",
       " '11110000',\n",
       " '10010011',\n",
       " '10000011',\n",
       " '10010010',\n",
       " '11110000',\n",
       " '10010011',\n",
       " '10000001',\n",
       " '10110110',\n",
       " '11110000',\n",
       " '10010011',\n",
       " '10000101',\n",
       " '10000010']"
      ]
     },
     "execution_count": 24,
     "metadata": {},
     "output_type": "execute_result"
    },
    {
     "data": {
      "text/plain": [
       "7"
      ]
     },
     "execution_count": 24,
     "metadata": {},
     "output_type": "execute_result"
    },
    {
     "data": {
      "text/plain": [
       "19"
      ]
     },
     "execution_count": 24,
     "metadata": {},
     "output_type": "execute_result"
    }
   ],
   "source": [
    "scheme = \"utf-8\"\n",
    "\n",
    "s = \"Tut𓀀𓃒𓁶𓅂\"\n",
    "e = s.encode(scheme)\n",
    "z = [(c, [bin(i)[2:].zfill(8) for i in list(c.encode(scheme))]) for c in s]\n",
    "b = [bin(i)[2:].zfill(8) for i in list(s.encode(scheme))]\n",
    "\n",
    "s\n",
    "e\n",
    "z\n",
    "b\n",
    "    \n",
    "len(s) # number of characters\n",
    "len(b) # number of bytes (groups of 8 bits) used to store the characters "
   ]
  },
  {
   "cell_type": "code",
   "execution_count": 25,
   "metadata": {},
   "outputs": [
    {
     "data": {
      "text/plain": [
       "'Tut𓀀𓃒𓁶𓅂'"
      ]
     },
     "execution_count": 25,
     "metadata": {},
     "output_type": "execute_result"
    },
    {
     "data": {
      "text/plain": [
       "b'Tut'"
      ]
     },
     "execution_count": 25,
     "metadata": {},
     "output_type": "execute_result"
    },
    {
     "data": {
      "text/plain": [
       "[('T', ['01010100']),\n",
       " ('u', ['01110101']),\n",
       " ('t', ['01110100']),\n",
       " ('𓀀', []),\n",
       " ('𓃒', []),\n",
       " ('𓁶', []),\n",
       " ('𓅂', [])]"
      ]
     },
     "execution_count": 25,
     "metadata": {},
     "output_type": "execute_result"
    },
    {
     "data": {
      "text/plain": [
       "['01010100', '01110101', '01110100']"
      ]
     },
     "execution_count": 25,
     "metadata": {},
     "output_type": "execute_result"
    },
    {
     "data": {
      "text/plain": [
       "7"
      ]
     },
     "execution_count": 25,
     "metadata": {},
     "output_type": "execute_result"
    },
    {
     "data": {
      "text/plain": [
       "3"
      ]
     },
     "execution_count": 25,
     "metadata": {},
     "output_type": "execute_result"
    }
   ],
   "source": [
    "scheme = \"ascii\"\n",
    "\n",
    "s = \"Tut𓀀𓃒𓁶𓅂\"\n",
    "e = s.encode(scheme, \"ignore\")\n",
    "z = [(c, [bin(i)[2:].zfill(8) for i in list(c.encode(scheme, \"ignore\"))]) for c in s]\n",
    "b = [bin(i)[2:].zfill(8) for i in list(s.encode(scheme, \"ignore\"))]\n",
    "\n",
    "s\n",
    "e\n",
    "z\n",
    "b\n",
    "    \n",
    "len(s) # number of characters\n",
    "len(b) # number of bytes (groups of 8 bits) used to store the characters "
   ]
  },
  {
   "cell_type": "code",
   "execution_count": 26,
   "metadata": {},
   "outputs": [
    {
     "data": {
      "text/plain": [
       "'Tut𓀀𓃒𓁶𓅂'"
      ]
     },
     "execution_count": 26,
     "metadata": {},
     "output_type": "execute_result"
    },
    {
     "data": {
      "text/plain": [
       "b'\\xff\\xfeT\\x00u\\x00t\\x00\\x0c\\xd8\\x00\\xdc\\x0c\\xd8\\xd2\\xdc\\x0c\\xd8v\\xdc\\x0c\\xd8B\\xdd'"
      ]
     },
     "execution_count": 26,
     "metadata": {},
     "output_type": "execute_result"
    },
    {
     "data": {
      "text/plain": [
       "[('T', ['11111111', '11111110', '01010100', '00000000']),\n",
       " ('u', ['11111111', '11111110', '01110101', '00000000']),\n",
       " ('t', ['11111111', '11111110', '01110100', '00000000']),\n",
       " ('𓀀',\n",
       "  ['11111111', '11111110', '00001100', '11011000', '00000000', '11011100']),\n",
       " ('𓃒',\n",
       "  ['11111111', '11111110', '00001100', '11011000', '11010010', '11011100']),\n",
       " ('𓁶',\n",
       "  ['11111111', '11111110', '00001100', '11011000', '01110110', '11011100']),\n",
       " ('𓅂',\n",
       "  ['11111111', '11111110', '00001100', '11011000', '01000010', '11011101'])]"
      ]
     },
     "execution_count": 26,
     "metadata": {},
     "output_type": "execute_result"
    },
    {
     "data": {
      "text/plain": [
       "['11111111',\n",
       " '11111110',\n",
       " '01010100',\n",
       " '00000000',\n",
       " '01110101',\n",
       " '00000000',\n",
       " '01110100',\n",
       " '00000000',\n",
       " '00001100',\n",
       " '11011000',\n",
       " '00000000',\n",
       " '11011100',\n",
       " '00001100',\n",
       " '11011000',\n",
       " '11010010',\n",
       " '11011100',\n",
       " '00001100',\n",
       " '11011000',\n",
       " '01110110',\n",
       " '11011100',\n",
       " '00001100',\n",
       " '11011000',\n",
       " '01000010',\n",
       " '11011101']"
      ]
     },
     "execution_count": 26,
     "metadata": {},
     "output_type": "execute_result"
    },
    {
     "data": {
      "text/plain": [
       "7"
      ]
     },
     "execution_count": 26,
     "metadata": {},
     "output_type": "execute_result"
    },
    {
     "data": {
      "text/plain": [
       "24"
      ]
     },
     "execution_count": 26,
     "metadata": {},
     "output_type": "execute_result"
    }
   ],
   "source": [
    "scheme = \"utf-16\"\n",
    "\n",
    "s = \"Tut𓀀𓃒𓁶𓅂\"\n",
    "e = s.encode(scheme)\n",
    "z = [(c, [bin(i)[2:].zfill(8) for i in list(c.encode(scheme))]) for c in s]\n",
    "b = [bin(i)[2:].zfill(8) for i in list(s.encode(scheme))]\n",
    "\n",
    "s\n",
    "e\n",
    "z\n",
    "b\n",
    "    \n",
    "len(s) # number of characters\n",
    "len(b) # number of bytes (groups of 8 bits) used to store the characters "
   ]
  },
  {
   "cell_type": "markdown",
   "metadata": {},
   "source": [
    "### Encoding/Decoding gotchas."
   ]
  },
  {
   "cell_type": "code",
   "execution_count": 27,
   "metadata": {},
   "outputs": [
    {
     "data": {
      "text/plain": [
       "'Tut𓀀𓃒𓁶𓅂'"
      ]
     },
     "execution_count": 27,
     "metadata": {},
     "output_type": "execute_result"
    },
    {
     "data": {
      "text/plain": [
       "b'Tut\\xf0\\x93\\x80\\x80\\xf0\\x93\\x83\\x92\\xf0\\x93\\x81\\xb6\\xf0\\x93\\x85\\x82'"
      ]
     },
     "execution_count": 27,
     "metadata": {},
     "output_type": "execute_result"
    },
    {
     "data": {
      "text/plain": [
       "['01010100',\n",
       " '01110101',\n",
       " '01110100',\n",
       " '11110000',\n",
       " '10010011',\n",
       " '10000000',\n",
       " '10000000',\n",
       " '11110000',\n",
       " '10010011',\n",
       " '10000011',\n",
       " '10010010',\n",
       " '11110000',\n",
       " '10010011',\n",
       " '10000001',\n",
       " '10110110',\n",
       " '11110000',\n",
       " '10010011',\n",
       " '10000101',\n",
       " '10000010']"
      ]
     },
     "execution_count": 27,
     "metadata": {},
     "output_type": "execute_result"
    },
    {
     "data": {
      "text/plain": [
       "'Tut𓀀𓃒𓁶𓅂'"
      ]
     },
     "execution_count": 27,
     "metadata": {},
     "output_type": "execute_result"
    }
   ],
   "source": [
    "s = \"Tut𓀀𓃒𓁶𓅂\"\n",
    "e = s.encode(\"utf-8\")\n",
    "b = [bin(i)[2:].zfill(8) for i in list(e)]\n",
    "\n",
    "s\n",
    "e\n",
    "b\n",
    "\n",
    "e.decode(\"utf-8\")"
   ]
  },
  {
   "cell_type": "code",
   "execution_count": 28,
   "metadata": {},
   "outputs": [
    {
     "data": {
      "text/plain": [
       "'Tut𓀀𓃒𓁶𓅂'"
      ]
     },
     "execution_count": 28,
     "metadata": {},
     "output_type": "execute_result"
    },
    {
     "data": {
      "text/plain": [
       "b'\\xff\\xfeT\\x00u\\x00t\\x00\\x0c\\xd8\\x00\\xdc\\x0c\\xd8\\xd2\\xdc\\x0c\\xd8v\\xdc\\x0c\\xd8B\\xdd'"
      ]
     },
     "execution_count": 28,
     "metadata": {},
     "output_type": "execute_result"
    },
    {
     "data": {
      "text/plain": [
       "['11111111',\n",
       " '11111110',\n",
       " '01010100',\n",
       " '00000000',\n",
       " '01110101',\n",
       " '00000000',\n",
       " '01110100',\n",
       " '00000000',\n",
       " '00001100',\n",
       " '11011000',\n",
       " '00000000',\n",
       " '11011100',\n",
       " '00001100',\n",
       " '11011000',\n",
       " '11010010',\n",
       " '11011100',\n",
       " '00001100',\n",
       " '11011000',\n",
       " '01110110',\n",
       " '11011100',\n",
       " '00001100',\n",
       " '11011000',\n",
       " '01000010',\n",
       " '11011101']"
      ]
     },
     "execution_count": 28,
     "metadata": {},
     "output_type": "execute_result"
    }
   ],
   "source": [
    "s = \"Tut𓀀𓃒𓁶𓅂\"\n",
    "e = s.encode(\"utf-16\")\n",
    "b = [bin(i)[2:].zfill(8) for i in list(e)]\n",
    "\n",
    "s\n",
    "e\n",
    "b"
   ]
  },
  {
   "cell_type": "code",
   "execution_count": 29,
   "metadata": {},
   "outputs": [
    {
     "ename": "UnicodeDecodeError",
     "evalue": "'utf-8' codec can't decode byte 0xff in position 0: invalid start byte",
     "output_type": "error",
     "traceback": [
      "\u001b[1;31m---------------------------------------------------------------------------\u001b[0m",
      "\u001b[1;31mUnicodeDecodeError\u001b[0m                        Traceback (most recent call last)",
      "\u001b[1;32m<ipython-input-29-27b7c92c9fce>\u001b[0m in \u001b[0;36m<module>\u001b[1;34m()\u001b[0m\n\u001b[1;32m----> 1\u001b[1;33m \u001b[0me\u001b[0m\u001b[1;33m.\u001b[0m\u001b[0mdecode\u001b[0m\u001b[1;33m(\u001b[0m\u001b[1;34m\"utf-8\"\u001b[0m\u001b[1;33m)\u001b[0m \u001b[1;31m# tries to decode utf-16 as utf-8 - causes error\u001b[0m\u001b[1;33m\u001b[0m\u001b[0m\n\u001b[0m",
      "\u001b[1;31mUnicodeDecodeError\u001b[0m: 'utf-8' codec can't decode byte 0xff in position 0: invalid start byte"
     ]
    }
   ],
   "source": [
    "e.decode(\"utf-8\") # tries to decode utf-16 as utf-8 - causes error"
   ]
  },
  {
   "cell_type": "markdown",
   "metadata": {},
   "source": [
    "### Regular Expressions (RegEx)"
   ]
  },
  {
   "cell_type": "code",
   "execution_count": 31,
   "metadata": {},
   "outputs": [],
   "source": [
    "import re"
   ]
  },
  {
   "cell_type": "code",
   "execution_count": 32,
   "metadata": {},
   "outputs": [],
   "source": [
    "s = \"\"\"\\\n",
    "The long and winding road that leads to your door\n",
    "Will never disappear, I've seen that road before.\n",
    "It always leads me here, lead me to your door.\n",
    "The wild and windy night that the rain washed away\n",
    "Has left a pool of tears, crying for the day.\n",
    "Why leave me standing here, let me know the way.\n",
    "\n",
    "Many times I've been alone, and many times I've cried.\n",
    "Any way, you'll never know the many ways I've tried.\n",
    "And still they lead me back to the long winding road.\n",
    "You left me standing here a long long time ago.\n",
    "Don't leave me waiting here, lead me to your door.\n",
    "\n",
    "Yeah, yeah, yeah, yeah.\n",
    "\"\"\""
   ]
  },
  {
   "cell_type": "code",
   "execution_count": 34,
   "metadata": {},
   "outputs": [
    {
     "data": {
      "text/plain": [
       "<_sre.SRE_Match object; span=(45, 49), match='door'>"
      ]
     },
     "execution_count": 34,
     "metadata": {},
     "output_type": "execute_result"
    },
    {
     "data": {
      "text/plain": [
       "'door'"
      ]
     },
     "execution_count": 34,
     "metadata": {},
     "output_type": "execute_result"
    },
    {
     "data": {
      "text/plain": [
       "45"
      ]
     },
     "execution_count": 34,
     "metadata": {},
     "output_type": "execute_result"
    },
    {
     "data": {
      "text/plain": [
       "49"
      ]
     },
     "execution_count": 34,
     "metadata": {},
     "output_type": "execute_result"
    },
    {
     "data": {
      "text/plain": [
       "'door'"
      ]
     },
     "execution_count": 34,
     "metadata": {},
     "output_type": "execute_result"
    }
   ],
   "source": [
    "# Search for first door\n",
    "\n",
    "x = re.search(\"door\", s)\n",
    "x\n",
    "x.group()\n",
    "x.start()\n",
    "x.end()\n",
    "\n",
    "s[x.start():x.end()]"
   ]
  },
  {
   "cell_type": "code",
   "execution_count": 54,
   "metadata": {},
   "outputs": [
    {
     "data": {
      "text/plain": [
       "['door', 'door', 'door']"
      ]
     },
     "execution_count": 54,
     "metadata": {},
     "output_type": "execute_result"
    }
   ],
   "source": [
    "# Search for all door\n",
    "\n",
    "x = re.findall(\"door\", s)\n",
    "x"
   ]
  },
  {
   "cell_type": "code",
   "execution_count": 53,
   "metadata": {},
   "outputs": [
    {
     "data": {
      "text/plain": [
       "['winding', 'windy', 'winding']"
      ]
     },
     "execution_count": 53,
     "metadata": {},
     "output_type": "execute_result"
    }
   ],
   "source": [
    "# Search for all words that start with wind\n",
    "\n",
    "x = re.findall(\"wind\\S*\", s)\n",
    "x"
   ]
  },
  {
   "cell_type": "code",
   "execution_count": 55,
   "metadata": {},
   "outputs": [
    {
     "name": "stdout",
     "output_type": "stream",
     "text": [
      "The long and winding road that leads to your data\n",
      "Will never disappear, I've seen that road before.\n",
      "It always leads me here, lead me to your data.\n",
      "The wild and windy night that the rain washed away\n",
      "Has left a pool of tears, crying for the day.\n",
      "Why leave me standing here, let me know the way.\n",
      "\n",
      "Many times I've been alone, and many times I've cried.\n",
      "Any way, you'll never know the many ways I've tried.\n",
      "And still they lead me back to the long winding road.\n",
      "You left me standing here a long long time ago.\n",
      "Don't leave me waiting here, lead me to your data.\n",
      "\n",
      "Yeah, yeah, yeah, yeah.\n",
      "\n"
     ]
    }
   ],
   "source": [
    "# Substitute data for door\n",
    "\n",
    "x = re.sub(\"door\", \"data\", s)\n",
    "print(x)"
   ]
  },
  {
   "cell_type": "code",
   "execution_count": 57,
   "metadata": {},
   "outputs": [
    {
     "data": {
      "text/plain": [
       "[\"The long and winding road that leads to your door\\nWill never disappear, I've seen that road before.\\nIt always leads me here, lead me to your door.\\nThe wild and windy night that the rain washed away\\nHas left a pool of tears, crying for the day.\\nWhy leave me standing here, let me know the way.\",\n",
       " \"Many times I've been alone, and many times I've cried.\\nAny way, you'll never know the many ways I've tried.\\nAnd still they lead me back to the long winding road.\\nYou left me standing here a long long time ago.\\nDon't leave me waiting here, lead me to your door.\",\n",
       " 'Yeah, yeah, yeah, yeah.\\n']"
      ]
     },
     "execution_count": 57,
     "metadata": {},
     "output_type": "execute_result"
    },
    {
     "name": "stdout",
     "output_type": "stream",
     "text": [
      "The long and winding road that leads to your door\n",
      "Will never disappear, I've seen that road before.\n",
      "It always leads me here, lead me to your door.\n",
      "The wild and windy night that the rain washed away\n",
      "Has left a pool of tears, crying for the day.\n",
      "Why leave me standing here, let me know the way.\n",
      "\n",
      "Many times I've been alone, and many times I've cried.\n",
      "Any way, you'll never know the many ways I've tried.\n",
      "And still they lead me back to the long winding road.\n",
      "You left me standing here a long long time ago.\n",
      "Don't leave me waiting here, lead me to your door.\n"
     ]
    }
   ],
   "source": [
    "# Remove last verse\n",
    "\n",
    "x = re.split(\"\\n\\n\", s)\n",
    "x\n",
    "\n",
    "print(x[0], x[1], sep=\"\\n\\n\")"
   ]
  },
  {
   "cell_type": "code",
   "execution_count": 59,
   "metadata": {},
   "outputs": [
    {
     "name": "stdout",
     "output_type": "stream",
     "text": [
      "The long and winding road that leads to your door\n",
      "Will never disappear, I've seen that road before.\n",
      "It always leads me here, lead me to your door.\n",
      "The wild and windy night that the rain washed away\n",
      "Has left a pool of tears, crying for the day.\n",
      "Why leave me standing here, let me know the way.\n",
      "\n",
      "Many times I've been alone, and many times I've cried.\n",
      "Any way, you'll never know the many ways I've tried.\n",
      "And still they lead me back to the long winding road.\n",
      "You left me standing here a long long time ago.\n",
      "Don't leave me waiting here, lead me to your door.\n",
      "\n"
     ]
    }
   ],
   "source": [
    "# Remove last verse another way\n",
    "\n",
    "x = re.sub(\"\\n\\n.*$\", \"\", s)\n",
    "print(x)"
   ]
  },
  {
   "cell_type": "code",
   "execution_count": 60,
   "metadata": {},
   "outputs": [
    {
     "name": "stdout",
     "output_type": "stream",
     "text": [
      "Yeah, yeah, yeah, yeah.\n",
      "\n",
      "The long and winding road that leads to your door\n",
      "Will never disappear, I've seen that road before.\n",
      "It always leads me here, lead me to your door.\n",
      "The wild and windy night that the rain washed away\n",
      "Has left a pool of tears, crying for the day.\n",
      "Why leave me standing here, let me know the way.\n",
      "\n",
      "Many times I've been alone, and many times I've cried.\n",
      "Any way, you'll never know the many ways I've tried.\n",
      "And still they lead me back to the long winding road.\n",
      "You left me standing here a long long time ago.\n",
      "Don't leave me waiting here, lead me to your door.\n"
     ]
    }
   ],
   "source": [
    "# Move reprise to front\n",
    "\n",
    "x = re.split(\"\\n\\n\", s)\n",
    "print(x[2][0:-1], x[0], x[1], sep=\"\\n\\n\")"
   ]
  },
  {
   "cell_type": "code",
   "execution_count": 61,
   "metadata": {},
   "outputs": [
    {
     "name": "stdout",
     "output_type": "stream",
     "text": [
      "Yeah, yeah, yeah, yeah.\n",
      "\n",
      "The long and winding road that leads to your door\n",
      "Will never disappear, I've seen that road before.\n",
      "It always leads me here, lead me to your door.\n",
      "The wild and windy night that the rain washed away\n",
      "Has left a pool of tears, crying for the day.\n",
      "Why leave me standing here, let me know the way.\n",
      "\n",
      "Many times I've been alone, and many times I've cried.\n",
      "Any way, you'll never know the many ways I've tried.\n",
      "And still they lead me back to the long winding road.\n",
      "You left me standing here a long long time ago.\n",
      "Don't leave me waiting here, lead me to your door.\n"
     ]
    }
   ],
   "source": [
    "# Move reprise to front another way\n",
    "\n",
    "x = re.sub(\"^(.*)\\n\\n(.*)$\", \"\\g<2>\\n\\g<1>\", s, flags=re.DOTALL) # . matches newline, too\n",
    "print(x)"
   ]
  },
  {
   "cell_type": "markdown",
   "metadata": {},
   "source": [
    "#### Compiled patterns. \n",
    "\n",
    "Compiled patterns work faster."
   ]
  },
  {
   "cell_type": "code",
   "execution_count": 65,
   "metadata": {},
   "outputs": [
    {
     "data": {
      "text/plain": [
       "<_sre.SRE_Match object; span=(45, 49), match='door'>"
      ]
     },
     "execution_count": 65,
     "metadata": {},
     "output_type": "execute_result"
    },
    {
     "data": {
      "text/plain": [
       "'door'"
      ]
     },
     "execution_count": 65,
     "metadata": {},
     "output_type": "execute_result"
    },
    {
     "data": {
      "text/plain": [
       "45"
      ]
     },
     "execution_count": 65,
     "metadata": {},
     "output_type": "execute_result"
    },
    {
     "data": {
      "text/plain": [
       "49"
      ]
     },
     "execution_count": 65,
     "metadata": {},
     "output_type": "execute_result"
    },
    {
     "data": {
      "text/plain": [
       "'door'"
      ]
     },
     "execution_count": 65,
     "metadata": {},
     "output_type": "execute_result"
    }
   ],
   "source": [
    "p = re.compile(\"door\")\n",
    "x = p.search(s)\n",
    "\n",
    "x\n",
    "x.group()\n",
    "x.start()\n",
    "x.end()\n",
    "\n",
    "s[x.start():x.end()]"
   ]
  },
  {
   "cell_type": "code",
   "execution_count": 66,
   "metadata": {},
   "outputs": [
    {
     "name": "stdout",
     "output_type": "stream",
     "text": [
      "Yeah, yeah, yeah, yeah.\n",
      "\n",
      "The long and winding road that leads to your door\n",
      "Will never disappear, I've seen that road before.\n",
      "It always leads me here, lead me to your door.\n",
      "The wild and windy night that the rain washed away\n",
      "Has left a pool of tears, crying for the day.\n",
      "Why leave me standing here, let me know the way.\n",
      "\n",
      "Many times I've been alone, and many times I've cried.\n",
      "Any way, you'll never know the many ways I've tried.\n",
      "And still they lead me back to the long winding road.\n",
      "You left me standing here a long long time ago.\n",
      "Don't leave me waiting here, lead me to your door.\n"
     ]
    }
   ],
   "source": [
    "p = re.compile(\"^(.*)\\n\\n(.*)$\", flags=re.DOTALL)\n",
    "x = p.sub(\"\\g<2>\\n\\g<1>\", s)\n",
    "print(x)"
   ]
  },
  {
   "cell_type": "markdown",
   "metadata": {},
   "source": [
    "### Text Output"
   ]
  },
  {
   "cell_type": "markdown",
   "metadata": {},
   "source": [
    "#### Print without formatting."
   ]
  },
  {
   "cell_type": "code",
   "execution_count": 67,
   "metadata": {},
   "outputs": [
    {
     "name": "stdout",
     "output_type": "stream",
     "text": [
      "Answer #1 to life, the universe, and everything is 42.\n"
     ]
    }
   ],
   "source": [
    "print(\"Answer #\", 1, \" to life, the universe, and everything is \", 42, \".\", sep=\"\")"
   ]
  },
  {
   "cell_type": "code",
   "execution_count": 68,
   "metadata": {},
   "outputs": [
    {
     "name": "stdout",
     "output_type": "stream",
     "text": [
      "Answer #1 to life, the universe, and everything is 42.\n"
     ]
    }
   ],
   "source": [
    "print(\"Answer #\" + str(1) + \" to life, the universe, and everything is \" + str(42) + \".\")"
   ]
  },
  {
   "cell_type": "markdown",
   "metadata": {},
   "source": [
    "#### String using old style formatting."
   ]
  },
  {
   "cell_type": "code",
   "execution_count": 69,
   "metadata": {},
   "outputs": [
    {
     "data": {
      "text/plain": [
       "'Answer #1 to life, the universe, and everything is 42.'"
      ]
     },
     "execution_count": 69,
     "metadata": {},
     "output_type": "execute_result"
    }
   ],
   "source": [
    "\"Answer #%d to life, the universe, and everything is %d.\" % (1, 42)"
   ]
  },
  {
   "cell_type": "code",
   "execution_count": 70,
   "metadata": {},
   "outputs": [
    {
     "data": {
      "text/plain": [
       "'Answer #1 to life, the universe, and everything is 42.000000.'"
      ]
     },
     "execution_count": 70,
     "metadata": {},
     "output_type": "execute_result"
    }
   ],
   "source": [
    "\"Answer #%d to life, the universe, and everything is %f.\" % (1, 42)"
   ]
  },
  {
   "cell_type": "code",
   "execution_count": 71,
   "metadata": {},
   "outputs": [
    {
     "data": {
      "text/plain": [
       "'Answer #1 to life, the universe, and everything is 42.00.'"
      ]
     },
     "execution_count": 71,
     "metadata": {},
     "output_type": "execute_result"
    }
   ],
   "source": [
    "\"Answer #%d to life, the universe, and everything is %0.2f.\" % (1, 42)"
   ]
  },
  {
   "cell_type": "code",
   "execution_count": 72,
   "metadata": {},
   "outputs": [
    {
     "data": {
      "text/plain": [
       "'Answer #1 to life, the universe, and everything is 4.20E+01.'"
      ]
     },
     "execution_count": 72,
     "metadata": {},
     "output_type": "execute_result"
    }
   ],
   "source": [
    "\"Answer #%d to life, the universe, and everything is %0.2E.\" % (1, 42)"
   ]
  },
  {
   "cell_type": "markdown",
   "metadata": {},
   "source": [
    "#### Print with new style formatting."
   ]
  },
  {
   "cell_type": "code",
   "execution_count": 73,
   "metadata": {},
   "outputs": [
    {
     "data": {
      "text/plain": [
       "'Answer #1 to life, the universe, and everything is 42.'"
      ]
     },
     "execution_count": 73,
     "metadata": {},
     "output_type": "execute_result"
    }
   ],
   "source": [
    "\"Answer #{} to life, the universe, and everything is {}.\".format(1, 42)"
   ]
  },
  {
   "cell_type": "code",
   "execution_count": 74,
   "metadata": {},
   "outputs": [
    {
     "data": {
      "text/plain": [
       "'Answer #1 to life, the universe, and everything is 42.000000.'"
      ]
     },
     "execution_count": 74,
     "metadata": {},
     "output_type": "execute_result"
    }
   ],
   "source": [
    "\"Answer #{} to life, the universe, and everything is {:f}.\".format(1, 42)"
   ]
  },
  {
   "cell_type": "code",
   "execution_count": 75,
   "metadata": {},
   "outputs": [
    {
     "data": {
      "text/plain": [
       "'Answer #1 to life, the universe, and everything is 42.00.'"
      ]
     },
     "execution_count": 75,
     "metadata": {},
     "output_type": "execute_result"
    }
   ],
   "source": [
    "\"Answer #{} to life, the universe, and everything is {:0.2f}.\".format(1, 42)"
   ]
  },
  {
   "cell_type": "code",
   "execution_count": 76,
   "metadata": {},
   "outputs": [
    {
     "data": {
      "text/plain": [
       "'Answer #1 to life, the universe, and everything is 4.20E+01.'"
      ]
     },
     "execution_count": 76,
     "metadata": {},
     "output_type": "execute_result"
    }
   ],
   "source": [
    "\"Answer #{} to life, the universe, and everything is {:0.2E}.\".format(1, 42)"
   ]
  },
  {
   "cell_type": "code",
   "execution_count": 77,
   "metadata": {},
   "outputs": [
    {
     "data": {
      "text/plain": [
       "'Answer #1 to life, the universe, and everything is 42.'"
      ]
     },
     "execution_count": 77,
     "metadata": {},
     "output_type": "execute_result"
    }
   ],
   "source": [
    "a = 42\n",
    "\"Answer #{attempt} to life, the universe, and everything is {answer}.\".format(answer=a, attempt=1)"
   ]
  },
  {
   "cell_type": "markdown",
   "metadata": {},
   "source": [
    "### Files"
   ]
  },
  {
   "cell_type": "code",
   "execution_count": 79,
   "metadata": {},
   "outputs": [
    {
     "data": {
      "text/plain": [
       "'Sun Apr 03 23:48:36 +0000 2011'"
      ]
     },
     "execution_count": 79,
     "metadata": {},
     "output_type": "execute_result"
    }
   ],
   "source": [
    "# Read text file - open/close form\n",
    "\n",
    "import json\n",
    "\n",
    "g = open(\"twitter.json\", \"rt\")\n",
    "tweet = json.load(g)\n",
    "g.close()\n",
    "\n",
    "tweet[\"created_at\"]"
   ]
  },
  {
   "cell_type": "code",
   "execution_count": 80,
   "metadata": {},
   "outputs": [
    {
     "data": {
      "text/plain": [
       "'Sun Apr 03 23:48:36 +0000 2011'"
      ]
     },
     "execution_count": 80,
     "metadata": {},
     "output_type": "execute_result"
    }
   ],
   "source": [
    "# Read text file - with form\n",
    "\n",
    "import json\n",
    "\n",
    "with open(\"twitter.json\", \"r\") as f:\n",
    "    tweet = json.load(f)\n",
    "    \n",
    "tweet[\"created_at\"]"
   ]
  },
  {
   "cell_type": "code",
   "execution_count": 85,
   "metadata": {},
   "outputs": [
    {
     "data": {
      "text/plain": [
       "21642"
      ]
     },
     "execution_count": 85,
     "metadata": {},
     "output_type": "execute_result"
    },
    {
     "data": {
      "text/plain": [
       "b'\\xff\\xd8\\xff\\xe0\\x00\\x10JFIF\\x00\\x01\\x01\\x01\\x00`\\x00`\\x00\\x00\\xff\\xdb\\x00C\\x00\\x03\\x02\\x02\\x03\\x02\\x02\\x03\\x03\\x03\\x03\\x04\\x03\\x03\\x04\\x05\\x08\\x05\\x05\\x04\\x04\\x05\\n\\x07\\x07\\x06\\x08\\x0c\\n\\x0c\\x0c\\x0b\\n\\x0b\\x0b\\r\\x0e\\x12\\x10\\r\\x0e\\x11\\x0e\\x0b\\x0b\\x10\\x16\\x10\\x11\\x13\\x14\\x15\\x15\\x15\\x0c\\x0f\\x17\\x18\\x16\\x14\\x18\\x12\\x14\\x15\\x14\\xff\\xdb\\x00C\\x01\\x03\\x04\\x04\\x05\\x04\\x05'"
      ]
     },
     "execution_count": 85,
     "metadata": {},
     "output_type": "execute_result"
    }
   ],
   "source": [
    "# Read and write binary file\n",
    "\n",
    "f = open(\"logo.jpg\", \"rb\")\n",
    "data = f.read()\n",
    "f.close()\n",
    "\n",
    "len(data)\n",
    "data[0:100] # inspect first 100 bytes of file content\n",
    "\n",
    "g = open(\"logo2.jpg\", \"wb\")\n",
    "r = g.write(data)\n",
    "g.close()"
   ]
  },
  {
   "cell_type": "markdown",
   "metadata": {},
   "source": [
    "![](logo2.jpg)"
   ]
  },
  {
   "cell_type": "code",
   "execution_count": 1,
   "metadata": {},
   "outputs": [],
   "source": [
    "# Read and write binary file\n",
    "\n",
    "f = open(\"logo.jpg\", \"rb\")\n",
    "data = f.read()\n",
    "f.close()\n",
    "\n",
    "datax = data[0:10000] + data[15000:] # purposely corrupt data to see effect\n",
    "\n",
    "g = open(\"logo3.jpg\", \"wb\")\n",
    "r = g.write(datax)\n",
    "g.close()"
   ]
  },
  {
   "cell_type": "markdown",
   "metadata": {},
   "source": [
    "![](logo3.jpg)"
   ]
  },
  {
   "cell_type": "markdown",
   "metadata": {},
   "source": [
    "# Numpy\n",
    "\n",
    "Study and practice using numpy arrays."
   ]
  }
 ],
 "metadata": {
  "hide_input": false,
  "kernelspec": {
   "display_name": "Python 3",
   "language": "python",
   "name": "python3"
  },
  "language_info": {
   "codemirror_mode": {
    "name": "ipython",
    "version": 3
   },
   "file_extension": ".py",
   "mimetype": "text/x-python",
   "name": "python",
   "nbconvert_exporter": "python",
   "pygments_lexer": "ipython3",
   "version": "3.7.4"
  },
  "latex_envs": {
   "LaTeX_envs_menu_present": false,
   "autocomplete": true,
   "bibliofile": "biblio.bib",
   "cite_by": "apalike",
   "current_citInitial": 1,
   "eqLabelWithNumbers": false,
   "eqNumInitial": 1,
   "hotkeys": {
    "equation": "Ctrl-E",
    "itemize": "Ctrl-I"
   },
   "labels_anchors": false,
   "latex_user_defs": false,
   "report_style_numbering": false,
   "user_envs_cfg": true
  }
 },
 "nbformat": 4,
 "nbformat_minor": 2
}
