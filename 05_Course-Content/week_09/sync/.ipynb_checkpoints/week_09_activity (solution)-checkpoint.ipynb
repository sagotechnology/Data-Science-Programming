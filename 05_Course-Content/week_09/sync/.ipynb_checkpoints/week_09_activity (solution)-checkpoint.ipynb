{
 "cells": [
  {
   "cell_type": "markdown",
   "metadata": {},
   "source": [
    "# Unit 9 string parsing - Twitter - Breakout Activities"
   ]
  },
  {
   "cell_type": "markdown",
   "metadata": {},
   "source": [
    "## Parsing dates from Twitter data\n",
    "\n",
    "Use curl to download the file and store it as twitter.json\n",
    "\n",
    "https://gist.githubusercontent.com/hrp/900964/raw/2bbee4c296e6b54877b537144be89f19beff75f4/twitter.json\n",
    "\n",
    "*If curl does not work on your system, we will provide the file for download*\n",
    "\n",
    "** hint: Use the command line to call curl (cURL) and store the file\n",
    "\n",
    "** remember use \"!\" to make command line calls from a notebook\n"
   ]
  },
  {
   "cell_type": "code",
   "execution_count": 1,
   "metadata": {
    "scrolled": true
   },
   "outputs": [
    {
     "name": "stderr",
     "output_type": "stream",
     "text": [
      "  % Total    % Received % Xferd  Average Speed   Time    Time     Time  Current\n",
      "                                 Dload  Upload   Total   Spent    Left  Speed\n",
      "\n",
      "  0     0    0     0    0     0      0      0 --:--:-- --:--:-- --:--:--     0\n",
      "100  6017  100  6017    0     0   6017      0  0:00:01 --:--:--  0:00:01 34982\n"
     ]
    }
   ],
   "source": [
    "!curl \"https://gist.githubusercontent.com/hrp/900964/raw/2bbee4c296e6b54877b537144be89f19beff75f4/twitter.json\" > twitter.json"
   ]
  },
  {
   "cell_type": "code",
   "execution_count": 2,
   "metadata": {},
   "outputs": [
    {
     "name": "stdout",
     "output_type": "stream",
     "text": [
      "{\n",
      "      \"text\": \"RT @PostGradProblem: In preparation for the NFL lockout, I will be spending twice as much time analyzing my fantasy baseball team during ...\", \n",
      "      \"truncated\": true, \n",
      "      \"in_reply_to_user_id\": null, \n",
      "      \"in_reply_to_status_id\": null, \n",
      "      \"favorited\": false, \n",
      "      \"source\": \"<a href=\\\"http://twitter.com/\\\" rel=\\\"nofollow\\\">Twitter for iPhone</a>\", \n",
      "      \"in_reply_to_screen_name\": null, \n",
      "      \"in_reply_to_status_id_str\": null, \n",
      "      \"id_str\": \"54691802283900928\", \n"
     ]
    }
   ],
   "source": [
    "!head twitter.json"
   ]
  },
  {
   "cell_type": "markdown",
   "metadata": {},
   "source": [
    "Take a look at the twitter.json file.  Become familiar with the json fields and structure, since we will be pulling values from these fields."
   ]
  },
  {
   "cell_type": "code",
   "execution_count": 3,
   "metadata": {},
   "outputs": [],
   "source": [
    "# Now load the twitter.json as json into an object named tweet\n",
    "import json\n",
    "\n",
    "with open(\"twitter.json\") as f:\n",
    "    tweet = json.load(f)"
   ]
  },
  {
   "cell_type": "code",
   "execution_count": 4,
   "metadata": {},
   "outputs": [
    {
     "name": "stdout",
     "output_type": "stream",
     "text": [
      "text\n",
      "truncated\n",
      "in_reply_to_user_id\n",
      "in_reply_to_status_id\n",
      "favorited\n",
      "source\n",
      "in_reply_to_screen_name\n",
      "in_reply_to_status_id_str\n",
      "id_str\n",
      "entities\n",
      "contributors\n",
      "retweeted\n",
      "in_reply_to_user_id_str\n",
      "place\n",
      "retweet_count\n",
      "created_at\n",
      "retweeted_status\n",
      "user\n",
      "id\n",
      "coordinates\n",
      "geo\n"
     ]
    }
   ],
   "source": [
    "# explore the file here (HINT: try: tweet.keys(), \n",
    "print(*tweet.keys() , sep='\\n')"
   ]
  },
  {
   "cell_type": "code",
   "execution_count": 21,
   "metadata": {},
   "outputs": [
    {
     "name": "stdout",
     "output_type": "stream",
     "text": [
      "notifications\n",
      "profile_use_background_image\n",
      "statuses_count\n",
      "profile_background_color\n",
      "followers_count\n",
      "profile_image_url\n",
      "listed_count\n",
      "profile_background_image_url\n",
      "description\n",
      "screen_name\n",
      "default_profile\n",
      "verified\n",
      "time_zone\n",
      "profile_text_color\n",
      "is_translator\n",
      "profile_sidebar_fill_color\n",
      "location\n",
      "id_str\n",
      "default_profile_image\n",
      "profile_background_tile\n",
      "lang\n",
      "friends_count\n",
      "protected\n",
      "favourites_count\n",
      "created_at\n",
      "profile_link_color\n",
      "name\n",
      "show_all_inline_media\n",
      "follow_request_sent\n",
      "geo_enabled\n",
      "profile_sidebar_border_color\n",
      "url\n",
      "id\n",
      "contributors_enabled\n",
      "following\n",
      "utc_offset\n"
     ]
    }
   ],
   "source": [
    "# and here\n",
    "print(*tweet['user'].keys(), sep=\"\\n\")"
   ]
  },
  {
   "cell_type": "code",
   "execution_count": 17,
   "metadata": {},
   "outputs": [
    {
     "data": {
      "text/plain": [
       "{'contributors': None,\n",
       " 'coordinates': None,\n",
       " 'created_at': 'Sun Apr 03 23:48:36 +0000 2011',\n",
       " 'entities': {'hashtags': [],\n",
       "  'urls': [],\n",
       "  'user_mentions': [{'id': 271572434,\n",
       "    'id_str': '271572434',\n",
       "    'indices': [3, 19],\n",
       "    'name': 'PostGradProblems',\n",
       "    'screen_name': 'PostGradProblem'}]},\n",
       " 'favorited': False,\n",
       " 'geo': None,\n",
       " 'id': 54691802283900930,\n",
       " 'id_str': '54691802283900928',\n",
       " 'in_reply_to_screen_name': None,\n",
       " 'in_reply_to_status_id': None,\n",
       " 'in_reply_to_status_id_str': None,\n",
       " 'in_reply_to_user_id': None,\n",
       " 'in_reply_to_user_id_str': None,\n",
       " 'place': None,\n",
       " 'retweet_count': 4,\n",
       " 'retweeted': False,\n",
       " 'retweeted_status': {'contributors': None,\n",
       "  'coordinates': None,\n",
       "  'created_at': 'Sun Apr 03 20:24:49 +0000 2011',\n",
       "  'entities': {'hashtags': [{'indices': [130, 134], 'text': 'PGP'}],\n",
       "   'urls': [],\n",
       "   'user_mentions': []},\n",
       "  'favorited': False,\n",
       "  'geo': None,\n",
       "  'id': 54640519019642880,\n",
       "  'id_str': '54640519019642881',\n",
       "  'in_reply_to_screen_name': None,\n",
       "  'in_reply_to_status_id': None,\n",
       "  'in_reply_to_status_id_str': None,\n",
       "  'in_reply_to_user_id': None,\n",
       "  'in_reply_to_user_id_str': None,\n",
       "  'place': None,\n",
       "  'retweet_count': 4,\n",
       "  'retweeted': False,\n",
       "  'source': '<a href=\"http://www.hootsuite.com\" rel=\"nofollow\">HootSuite</a>',\n",
       "  'text': 'In preparation for the NFL lockout, I will be spending twice as much time analyzing my fantasy baseball team during company time. #PGP',\n",
       "  'truncated': False,\n",
       "  'user': {'contributors_enabled': False,\n",
       "   'created_at': 'Thu Mar 24 19:45:44 +0000 2011',\n",
       "   'default_profile': True,\n",
       "   'default_profile_image': False,\n",
       "   'description': '',\n",
       "   'favourites_count': 0,\n",
       "   'follow_request_sent': None,\n",
       "   'followers_count': 3066,\n",
       "   'following': None,\n",
       "   'friends_count': 21,\n",
       "   'geo_enabled': False,\n",
       "   'id': 271572434,\n",
       "   'id_str': '271572434',\n",
       "   'is_translator': False,\n",
       "   'lang': 'en',\n",
       "   'listed_count': 6,\n",
       "   'location': '',\n",
       "   'name': 'PostGradProblems',\n",
       "   'notifications': None,\n",
       "   'profile_background_color': 'C0DEED',\n",
       "   'profile_background_image_url': 'http://a3.twimg.com/a/1301071706/images/themes/theme1/bg.png',\n",
       "   'profile_background_tile': False,\n",
       "   'profile_image_url': 'http://a2.twimg.com/profile_images/1285770264/PGP_normal.jpg',\n",
       "   'profile_link_color': '0084B4',\n",
       "   'profile_sidebar_border_color': 'C0DEED',\n",
       "   'profile_sidebar_fill_color': 'DDEEF6',\n",
       "   'profile_text_color': '333333',\n",
       "   'profile_use_background_image': True,\n",
       "   'protected': False,\n",
       "   'screen_name': 'PostGradProblem',\n",
       "   'show_all_inline_media': False,\n",
       "   'statuses_count': 31,\n",
       "   'time_zone': None,\n",
       "   'url': None,\n",
       "   'utc_offset': None,\n",
       "   'verified': False}},\n",
       " 'source': '<a href=\"http://twitter.com/\" rel=\"nofollow\">Twitter for iPhone</a>',\n",
       " 'text': 'RT @PostGradProblem: In preparation for the NFL lockout, I will be spending twice as much time analyzing my fantasy baseball team during ...',\n",
       " 'truncated': True,\n",
       " 'user': {'contributors_enabled': False,\n",
       "  'created_at': 'Tue Oct 06 01:13:17 +0000 2009',\n",
       "  'default_profile': True,\n",
       "  'default_profile_image': False,\n",
       "  'description': 'watcha doin in my waters?',\n",
       "  'favourites_count': 0,\n",
       "  'follow_request_sent': None,\n",
       "  'followers_count': 48,\n",
       "  'following': None,\n",
       "  'friends_count': 81,\n",
       "  'geo_enabled': False,\n",
       "  'id': 80177619,\n",
       "  'id_str': '80177619',\n",
       "  'is_translator': False,\n",
       "  'lang': 'en',\n",
       "  'listed_count': 0,\n",
       "  'location': 'Texas',\n",
       "  'name': 'GG',\n",
       "  'notifications': None,\n",
       "  'profile_background_color': 'C0DEED',\n",
       "  'profile_background_image_url': 'http://a3.twimg.com/a/1300479984/images/themes/theme1/bg.png',\n",
       "  'profile_background_tile': False,\n",
       "  'profile_image_url': 'http://a1.twimg.com/profile_images/455128973/gCsVUnofNqqyd6tdOGevROvko1_500_normal.jpg',\n",
       "  'profile_link_color': '0084B4',\n",
       "  'profile_sidebar_border_color': 'C0DEED',\n",
       "  'profile_sidebar_fill_color': 'DDEEF6',\n",
       "  'profile_text_color': '333333',\n",
       "  'profile_use_background_image': True,\n",
       "  'protected': False,\n",
       "  'screen_name': 'OldGREG85',\n",
       "  'show_all_inline_media': False,\n",
       "  'statuses_count': 351,\n",
       "  'time_zone': 'Hawaii',\n",
       "  'url': None,\n",
       "  'utc_offset': -36000,\n",
       "  'verified': False}}"
      ]
     },
     "execution_count": 17,
     "metadata": {},
     "output_type": "execute_result"
    }
   ],
   "source": [
    "# or just look at the whole tweet and here\n",
    "tweet"
   ]
  },
  {
   "cell_type": "markdown",
   "metadata": {},
   "source": [
    "### 2-1) Date Parsing\n",
    "We would like to break out when the tweet was created.  Use string formatting to print  the \"created_at\" field in the format below.\n",
    "\n",
    "\n",
    "Name of day: Sun <br>\n",
    "Month is: Apr <br>\n",
    "Day is: 03 <br>\n",
    "Time is: 23:48:36 <br>\n",
    "Year is: 2011"
   ]
  },
  {
   "cell_type": "code",
   "execution_count": 5,
   "metadata": {},
   "outputs": [
    {
     "data": {
      "text/plain": [
       "'Sun Apr 03 23:48:36 +0000 2011'"
      ]
     },
     "execution_count": 5,
     "metadata": {},
     "output_type": "execute_result"
    }
   ],
   "source": [
    "tweet['created_at']"
   ]
  },
  {
   "cell_type": "code",
   "execution_count": 24,
   "metadata": {},
   "outputs": [
    {
     "name": "stdout",
     "output_type": "stream",
     "text": [
      "['Sun', 'Apr', '03', '23:48:36', '+0000', '2011']\n",
      "Name of day: Sun\n",
      "Month is: Apr\n",
      "Day is: 03\n",
      "Time is: 23:48:36\n",
      "Year is: 2011\n"
     ]
    }
   ],
   "source": [
    "\n",
    "# load created_at date field and split them\n",
    "split_dt = tweet[\"created_at\"].split()\n",
    "print(split_dt)\n",
    "\n",
    "# specify the date fields we want to print\n",
    "format_dt = \"Name of day: {dayname}\\nMonth is: {month}\\nDay is: {day}\\nTime is: {time}\\nYear is: {year}\".format(\n",
    "                dayname=split_dt[0],\n",
    "                month=split_dt[1],\n",
    "                day=split_dt[2],\n",
    "                time=split_dt[3],\n",
    "                year=split_dt[5])\n",
    "\n",
    "print(format_dt)"
   ]
  },
  {
   "cell_type": "markdown",
   "metadata": {},
   "source": [
    "### 2-2) Counting Friends\n",
    "\n",
    "Calculate the friends_count difference between the retweeting user and original tweet user. For the retweeting user, look in \"user\". For the original tweet user, look in \"retweeted_status_user.user\"\n",
    "\n",
    "* *TIP: normally you would have to dig into the documentation to understand the structure since (as you can see) the meaning of the keys are not very inituitive*"
   ]
  },
  {
   "cell_type": "code",
   "execution_count": 45,
   "metadata": {},
   "outputs": [
    {
     "name": "stdout",
     "output_type": "stream",
     "text": [
      "60\n"
     ]
    }
   ],
   "source": [
    "# Hint this can be done in 3 lines, navigate the NESTED dictionary-like structure using .keys() to find the values\n",
    "\n",
    "#re_tweeter_ct=\n",
    "#orig_tweeter_ct=\n",
    "#print difference\n",
    "\n",
    "# simple one line count of the fields\n",
    "retweeter_fc = int(tweet[\"user\"][\"friends_count\"])\n",
    "ogtweeter_fc = int(tweet[\"retweeted_status\"][\"user\"][\"friends_count\"])\n",
    "print(int(abs(retweeter_fc - ogtweeter_fc)))\n"
   ]
  },
  {
   "cell_type": "markdown",
   "metadata": {},
   "source": [
    "### 2-3) Text Analysis\n",
    "Write a comprehension to find which letters of the alphabet (if any) are not used in any of the tweet text words.  Look in the field \"text\". First print all the letters that are in the tweet.  Then print all the letters that are note."
   ]
  },
  {
   "cell_type": "code",
   "execution_count": 28,
   "metadata": {},
   "outputs": [
    {
     "name": "stdout",
     "output_type": "stream",
     "text": [
      "these were not in the tweet: ['j', 'q', 'v', 'x']\n",
      "\n",
      "\n",
      "these were in the tweet: ['a', 'b', 'c', 'd', 'e', 'f', 'g', 'h', 'i', 'k', 'l', 'm', 'n', 'o', 'p', 'r', 's', 't', 'u', 'w', 'y', 'z']\n"
     ]
    }
   ],
   "source": [
    "# analyze the tweet located in the text field\n",
    "\n",
    "import string\n",
    "TweetChar=(set([char.lower() for char in tweet[\"text\"] if char.lower() in string.ascii_lowercase]))\n",
    "TweetMsn=set(string.ascii_lowercase)-TweetChar\n",
    "print('these were not in the tweet: ' +  str(sorted(list(TweetMsn))) + \"\\n\\n\")\n",
    "print('these were in the tweet: ' + str(sorted(list(TweetChar))))"
   ]
  },
  {
   "cell_type": "markdown",
   "metadata": {},
   "source": [
    "### 2-4) (Advanced) Print the date out in three different human readable formats\n",
    "\n",
    "Please print the created_at date in three pretty formats, such as the following:\n",
    "\n",
    "    '03/04/11'<br>\n",
    "    'Sunday 03. April 2011'<br>\n",
    "    'The day is 03, the month is April.'<br>\n",
    "\n",
    "The documentation below can help, section 8.1.3 <br>\n",
    "https://docs.python.org/3.5/library/datetime.html"
   ]
  },
  {
   "cell_type": "code",
   "execution_count": 34,
   "metadata": {},
   "outputs": [],
   "source": [
    "from datetime import datetime, date, time\n",
    "\n",
    "struct_date = datetime.strptime(tweet['created_at'],'%a %b %d %H:%M:%S +0000 %Y')"
   ]
  },
  {
   "cell_type": "code",
   "execution_count": 35,
   "metadata": {},
   "outputs": [
    {
     "data": {
      "text/plain": [
       "time.struct_time(tm_year=2011, tm_mon=4, tm_mday=3, tm_hour=23, tm_min=48, tm_sec=36, tm_wday=6, tm_yday=93, tm_isdst=-1)"
      ]
     },
     "execution_count": 35,
     "metadata": {},
     "output_type": "execute_result"
    }
   ],
   "source": [
    "# just a print of all the date time values in the tuple\n",
    "struct_date.timetuple()"
   ]
  },
  {
   "cell_type": "code",
   "execution_count": 24,
   "metadata": {
    "collapsed": true
   },
   "outputs": [],
   "source": [
    "# now using the struct_date, print the date out in three or more pretty formats\n",
    "# hint: check the docs and try: .format try:.strftime()"
   ]
  },
  {
   "cell_type": "code",
   "execution_count": 44,
   "metadata": {},
   "outputs": [
    {
     "name": "stdout",
     "output_type": "stream",
     "text": [
      "2011-04-03 23:48:36\n"
     ]
    }
   ],
   "source": [
    "# we can recast this as datetime object\n",
    "\n",
    "a=struct_date\n",
    "print(a)"
   ]
  },
  {
   "cell_type": "code",
   "execution_count": 39,
   "metadata": {},
   "outputs": [
    {
     "data": {
      "text/plain": [
       "'03/04/11'"
      ]
     },
     "execution_count": 39,
     "metadata": {},
     "output_type": "execute_result"
    }
   ],
   "source": [
    "struct_date.strftime(\"%d/%m/%y\")"
   ]
  },
  {
   "cell_type": "code",
   "execution_count": 41,
   "metadata": {},
   "outputs": [
    {
     "data": {
      "text/plain": [
       "'Sunday 03. April 2011'"
      ]
     },
     "execution_count": 41,
     "metadata": {},
     "output_type": "execute_result"
    }
   ],
   "source": [
    "struct_date.strftime(\"%A %d. %B %Y\")"
   ]
  },
  {
   "cell_type": "code",
   "execution_count": 43,
   "metadata": {},
   "outputs": [
    {
     "name": "stdout",
     "output_type": "stream",
     "text": [
      "The day is 03, the month is April.\n"
     ]
    }
   ],
   "source": [
    " print('The {1} is {0:%d}, the {2} is {0:%B}.'.format(struct_date, \"day\", \"month\"))"
   ]
  }
 ],
 "metadata": {
  "anaconda-cloud": {},
  "hide_input": false,
  "kernelspec": {
   "display_name": "Python 3",
   "language": "python",
   "name": "python3"
  },
  "language_info": {
   "codemirror_mode": {
    "name": "ipython",
    "version": 3
   },
   "file_extension": ".py",
   "mimetype": "text/x-python",
   "name": "python",
   "nbconvert_exporter": "python",
   "pygments_lexer": "ipython3",
   "version": "3.7.4"
  },
  "latex_envs": {
   "LaTeX_envs_menu_present": false,
   "autocomplete": true,
   "bibliofile": "biblio.bib",
   "cite_by": "apalike",
   "current_citInitial": 1,
   "eqLabelWithNumbers": false,
   "eqNumInitial": 1,
   "hotkeys": {
    "equation": "Ctrl-E",
    "itemize": "Ctrl-I"
   },
   "labels_anchors": false,
   "latex_user_defs": false,
   "report_style_numbering": false,
   "user_envs_cfg": true
  }
 },
 "nbformat": 4,
 "nbformat_minor": 1
}
