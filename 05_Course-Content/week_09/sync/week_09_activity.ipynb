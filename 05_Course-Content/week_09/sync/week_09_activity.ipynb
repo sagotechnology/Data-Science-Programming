{
 "cells": [
  {
   "cell_type": "markdown",
   "metadata": {},
   "source": [
    "# Unit 9 string parsing - Twitter - Breakout Activities"
   ]
  },
  {
   "cell_type": "markdown",
   "metadata": {},
   "source": [
    "## Parsing dates from Twitter data\n",
    "\n",
    "Use curl to download the file and store it as twitter.json\n",
    "\n",
    "https://gist.githubusercontent.com/hrp/900964/raw/2bbee4c296e6b54877b537144be89f19beff75f4/twitter.json\n",
    "\n",
    "*If curl does not work on your system, we will provide the file for download*\n",
    "\n",
    "** hint: Use the command line to call curl (cURL) and store the file\n",
    "\n",
    "** remember use \"!\" to make command line calls from a notebook\n"
   ]
  },
  {
   "cell_type": "code",
   "execution_count": 1,
   "metadata": {},
   "outputs": [
    {
     "name": "stdout",
     "output_type": "stream",
     "text": [
      "  % Total    % Received % Xferd  Average Speed   Time    Time     Time  Current\n",
      "                                 Dload  Upload   Total   Spent    Left  Speed\n",
      "100  6017  100  6017    0     0  41212      0 --:--:-- --:--:-- --:--:-- 40931:--:-- 12612\n"
     ]
    }
   ],
   "source": [
    "# write curl code here (you may need to look up how to use curl)\n",
    "!curl \"https://gist.githubusercontent.com/hrp/900964/raw/2bbee4c296e6b54877b537144be89f19beff75f4/twitter.json\" > twitter.json"
   ]
  },
  {
   "cell_type": "code",
   "execution_count": 2,
   "metadata": {},
   "outputs": [
    {
     "name": "stdout",
     "output_type": "stream",
     "text": [
      "{\r\n",
      "      \"text\": \"RT @PostGradProblem: In preparation for the NFL lockout, I will be spending twice as much time analyzing my fantasy baseball team during ...\", \r\n",
      "      \"truncated\": true, \r\n",
      "      \"in_reply_to_user_id\": null, \r\n",
      "      \"in_reply_to_status_id\": null, \r\n",
      "      \"favorited\": false, \r\n",
      "      \"source\": \"<a href=\\\"http://twitter.com/\\\" rel=\\\"nofollow\\\">Twitter for iPhone</a>\", \r\n",
      "      \"in_reply_to_screen_name\": null, \r\n",
      "      \"in_reply_to_status_id_str\": null, \r\n",
      "      \"id_str\": \"54691802283900928\", \r\n"
     ]
    }
   ],
   "source": [
    "!head twitter.json"
   ]
  },
  {
   "cell_type": "markdown",
   "metadata": {},
   "source": [
    "Take a look at the twitter.json file.  Become familiar with the json fields and structure, since we will be pulling values from these fields."
   ]
  },
  {
   "cell_type": "code",
   "execution_count": 3,
   "metadata": {},
   "outputs": [],
   "source": [
    "# Now load the twitter.json as json into an object named tweet\n",
    "import json\n",
    "\n",
    "with open(\"twitter.json\") as f:\n",
    "    tweet = json.load(f)"
   ]
  },
  {
   "cell_type": "code",
   "execution_count": 4,
   "metadata": {},
   "outputs": [
    {
     "name": "stdout",
     "output_type": "stream",
     "text": [
      "text\n",
      "truncated\n",
      "in_reply_to_user_id\n",
      "in_reply_to_status_id\n",
      "favorited\n",
      "source\n",
      "in_reply_to_screen_name\n",
      "in_reply_to_status_id_str\n",
      "id_str\n",
      "entities\n",
      "contributors\n",
      "retweeted\n",
      "in_reply_to_user_id_str\n",
      "place\n",
      "retweet_count\n",
      "created_at\n",
      "retweeted_status\n",
      "user\n",
      "id\n",
      "coordinates\n",
      "geo\n"
     ]
    }
   ],
   "source": [
    "# explore the file here (HINT: try: tweet.keys(),\n",
    "print(*tweet.keys(), sep='\\n')"
   ]
  },
  {
   "cell_type": "code",
   "execution_count": 5,
   "metadata": {},
   "outputs": [
    {
     "name": "stdout",
     "output_type": "stream",
     "text": [
      "notifications\n",
      "profile_use_background_image\n",
      "statuses_count\n",
      "profile_background_color\n",
      "followers_count\n",
      "profile_image_url\n",
      "listed_count\n",
      "profile_background_image_url\n",
      "description\n",
      "screen_name\n",
      "default_profile\n",
      "verified\n",
      "time_zone\n",
      "profile_text_color\n",
      "is_translator\n",
      "profile_sidebar_fill_color\n",
      "location\n",
      "id_str\n",
      "default_profile_image\n",
      "profile_background_tile\n",
      "lang\n",
      "friends_count\n",
      "protected\n",
      "favourites_count\n",
      "created_at\n",
      "profile_link_color\n",
      "name\n",
      "show_all_inline_media\n",
      "follow_request_sent\n",
      "geo_enabled\n",
      "profile_sidebar_border_color\n",
      "url\n",
      "id\n",
      "contributors_enabled\n",
      "following\n",
      "utc_offset\n"
     ]
    }
   ],
   "source": [
    "# and here\n",
    "print(*tweet['user'].keys(), sep = '\\n')"
   ]
  },
  {
   "cell_type": "code",
   "execution_count": 6,
   "metadata": {},
   "outputs": [
    {
     "data": {
      "text/plain": [
       "{'text': 'RT @PostGradProblem: In preparation for the NFL lockout, I will be spending twice as much time analyzing my fantasy baseball team during ...',\n",
       " 'truncated': True,\n",
       " 'in_reply_to_user_id': None,\n",
       " 'in_reply_to_status_id': None,\n",
       " 'favorited': False,\n",
       " 'source': '<a href=\"http://twitter.com/\" rel=\"nofollow\">Twitter for iPhone</a>',\n",
       " 'in_reply_to_screen_name': None,\n",
       " 'in_reply_to_status_id_str': None,\n",
       " 'id_str': '54691802283900928',\n",
       " 'entities': {'user_mentions': [{'indices': [3, 19],\n",
       "    'screen_name': 'PostGradProblem',\n",
       "    'id_str': '271572434',\n",
       "    'name': 'PostGradProblems',\n",
       "    'id': 271572434}],\n",
       "  'urls': [],\n",
       "  'hashtags': []},\n",
       " 'contributors': None,\n",
       " 'retweeted': False,\n",
       " 'in_reply_to_user_id_str': None,\n",
       " 'place': None,\n",
       " 'retweet_count': 4,\n",
       " 'created_at': 'Sun Apr 03 23:48:36 +0000 2011',\n",
       " 'retweeted_status': {'text': 'In preparation for the NFL lockout, I will be spending twice as much time analyzing my fantasy baseball team during company time. #PGP',\n",
       "  'truncated': False,\n",
       "  'in_reply_to_user_id': None,\n",
       "  'in_reply_to_status_id': None,\n",
       "  'favorited': False,\n",
       "  'source': '<a href=\"http://www.hootsuite.com\" rel=\"nofollow\">HootSuite</a>',\n",
       "  'in_reply_to_screen_name': None,\n",
       "  'in_reply_to_status_id_str': None,\n",
       "  'id_str': '54640519019642881',\n",
       "  'entities': {'user_mentions': [],\n",
       "   'urls': [],\n",
       "   'hashtags': [{'text': 'PGP', 'indices': [130, 134]}]},\n",
       "  'contributors': None,\n",
       "  'retweeted': False,\n",
       "  'in_reply_to_user_id_str': None,\n",
       "  'place': None,\n",
       "  'retweet_count': 4,\n",
       "  'created_at': 'Sun Apr 03 20:24:49 +0000 2011',\n",
       "  'user': {'notifications': None,\n",
       "   'profile_use_background_image': True,\n",
       "   'statuses_count': 31,\n",
       "   'profile_background_color': 'C0DEED',\n",
       "   'followers_count': 3066,\n",
       "   'profile_image_url': 'http://a2.twimg.com/profile_images/1285770264/PGP_normal.jpg',\n",
       "   'listed_count': 6,\n",
       "   'profile_background_image_url': 'http://a3.twimg.com/a/1301071706/images/themes/theme1/bg.png',\n",
       "   'description': '',\n",
       "   'screen_name': 'PostGradProblem',\n",
       "   'default_profile': True,\n",
       "   'verified': False,\n",
       "   'time_zone': None,\n",
       "   'profile_text_color': '333333',\n",
       "   'is_translator': False,\n",
       "   'profile_sidebar_fill_color': 'DDEEF6',\n",
       "   'location': '',\n",
       "   'id_str': '271572434',\n",
       "   'default_profile_image': False,\n",
       "   'profile_background_tile': False,\n",
       "   'lang': 'en',\n",
       "   'friends_count': 21,\n",
       "   'protected': False,\n",
       "   'favourites_count': 0,\n",
       "   'created_at': 'Thu Mar 24 19:45:44 +0000 2011',\n",
       "   'profile_link_color': '0084B4',\n",
       "   'name': 'PostGradProblems',\n",
       "   'show_all_inline_media': False,\n",
       "   'follow_request_sent': None,\n",
       "   'geo_enabled': False,\n",
       "   'profile_sidebar_border_color': 'C0DEED',\n",
       "   'url': None,\n",
       "   'id': 271572434,\n",
       "   'contributors_enabled': False,\n",
       "   'following': None,\n",
       "   'utc_offset': None},\n",
       "  'id': 54640519019642880,\n",
       "  'coordinates': None,\n",
       "  'geo': None},\n",
       " 'user': {'notifications': None,\n",
       "  'profile_use_background_image': True,\n",
       "  'statuses_count': 351,\n",
       "  'profile_background_color': 'C0DEED',\n",
       "  'followers_count': 48,\n",
       "  'profile_image_url': 'http://a1.twimg.com/profile_images/455128973/gCsVUnofNqqyd6tdOGevROvko1_500_normal.jpg',\n",
       "  'listed_count': 0,\n",
       "  'profile_background_image_url': 'http://a3.twimg.com/a/1300479984/images/themes/theme1/bg.png',\n",
       "  'description': 'watcha doin in my waters?',\n",
       "  'screen_name': 'OldGREG85',\n",
       "  'default_profile': True,\n",
       "  'verified': False,\n",
       "  'time_zone': 'Hawaii',\n",
       "  'profile_text_color': '333333',\n",
       "  'is_translator': False,\n",
       "  'profile_sidebar_fill_color': 'DDEEF6',\n",
       "  'location': 'Texas',\n",
       "  'id_str': '80177619',\n",
       "  'default_profile_image': False,\n",
       "  'profile_background_tile': False,\n",
       "  'lang': 'en',\n",
       "  'friends_count': 81,\n",
       "  'protected': False,\n",
       "  'favourites_count': 0,\n",
       "  'created_at': 'Tue Oct 06 01:13:17 +0000 2009',\n",
       "  'profile_link_color': '0084B4',\n",
       "  'name': 'GG',\n",
       "  'show_all_inline_media': False,\n",
       "  'follow_request_sent': None,\n",
       "  'geo_enabled': False,\n",
       "  'profile_sidebar_border_color': 'C0DEED',\n",
       "  'url': None,\n",
       "  'id': 80177619,\n",
       "  'contributors_enabled': False,\n",
       "  'following': None,\n",
       "  'utc_offset': -36000},\n",
       " 'id': 54691802283900930,\n",
       " 'coordinates': None,\n",
       " 'geo': None}"
      ]
     },
     "execution_count": 6,
     "metadata": {},
     "output_type": "execute_result"
    }
   ],
   "source": [
    "# and here\n",
    "tweet"
   ]
  },
  {
   "cell_type": "markdown",
   "metadata": {},
   "source": [
    "### 2-1) Date Parsing\n",
    "We would like to break out when the tweet was created.  Use string formatting to print  the \"created_at\" field in the format below.\n",
    "\n",
    "\n",
    "Name of day: Sun <br>\n",
    "Month is: Apr <br>\n",
    "Day is: 03 <br>\n",
    "Time is: 23:48:36 <br>\n",
    "Year is: 2011"
   ]
  },
  {
   "cell_type": "code",
   "execution_count": null,
   "metadata": {
    "collapsed": true
   },
   "outputs": [],
   "source": [
    "tweet['created_at']"
   ]
  },
  {
   "cell_type": "markdown",
   "metadata": {},
   "source": [
    "### 2-2) Counting Friends\n",
    "\n",
    "Calculate the friends_count difference between the retweeting user and original tweet user. For the retweeting user, look in \"user\". For the original tweet user, look in \"retweeted_status_user.user\"\n",
    "\n",
    "* *TIP: normally you would have to dig into the documentation to understand the structure since (as you can see) the meaning of the keys are not very inituitive*"
   ]
  },
  {
   "cell_type": "code",
   "execution_count": 2,
   "metadata": {},
   "outputs": [],
   "source": [
    "# Hint this can be done in 3 lines, navigate the NESTED dictionary-like structure using .keys() to find the values\n",
    "\n",
    "#re_tweeter_ct=\n",
    "#orig_tweeter_ct=\n",
    "#print difference\n"
   ]
  },
  {
   "cell_type": "markdown",
   "metadata": {},
   "source": [
    "### 2-3) Text Analysis\n",
    "Write a comprehension to find which letters of the alphabet (if any) are not used in any of the tweet text words.  Look in the field \"text\". First print all the letters that are in the tweet.  Then print all the letters that are note."
   ]
  },
  {
   "cell_type": "code",
   "execution_count": null,
   "metadata": {
    "collapsed": true
   },
   "outputs": [],
   "source": []
  },
  {
   "cell_type": "markdown",
   "metadata": {},
   "source": [
    "### 2-4 Print the date out in three different human readable formats\n",
    "\n",
    "Please print the created_at date in three pretty formats, such as the following:\n",
    "\n",
    "    '03/04/11'<br>\n",
    "    'Sunday 03. April 2011'<br>\n",
    "    'The day is 03, the month is April.'<br>\n",
    "\n",
    "The documentation below can help, section 8.1.3 <br>\n",
    "https://docs.python.org/3.5/library/datetime.html"
   ]
  },
  {
   "cell_type": "code",
   "execution_count": null,
   "metadata": {
    "collapsed": true
   },
   "outputs": [],
   "source": [
    "from datetime import datetime, date, time\n",
    "\n",
    "struct_date = datetime.strptime(tweet['created_at'],'%a %b %d %H:%M:%S +0000 %Y')\n",
    "# just a print of all the date time values in the tuple\n",
    "struct_date.timetuple()"
   ]
  },
  {
   "cell_type": "code",
   "execution_count": null,
   "metadata": {
    "collapsed": true
   },
   "outputs": [],
   "source": [
    "# now using the struct_date, print the date out in three or more pretty formats\n",
    "# hint: check the docs and try: .format try:.strftime()"
   ]
  },
  {
   "cell_type": "code",
   "execution_count": null,
   "metadata": {
    "collapsed": true
   },
   "outputs": [],
   "source": []
  },
  {
   "cell_type": "code",
   "execution_count": null,
   "metadata": {
    "collapsed": true
   },
   "outputs": [],
   "source": []
  },
  {
   "cell_type": "code",
   "execution_count": null,
   "metadata": {
    "collapsed": true
   },
   "outputs": [],
   "source": []
  },
  {
   "cell_type": "code",
   "execution_count": null,
   "metadata": {
    "collapsed": true
   },
   "outputs": [],
   "source": []
  }
 ],
 "metadata": {
  "anaconda-cloud": {},
  "kernelspec": {
   "display_name": "Python 3",
   "language": "python",
   "name": "python3"
  },
  "language_info": {
   "codemirror_mode": {
    "name": "ipython",
    "version": 3
   },
   "file_extension": ".py",
   "mimetype": "text/x-python",
   "name": "python",
   "nbconvert_exporter": "python",
   "pygments_lexer": "ipython3",
   "version": "3.7.4"
  }
 },
 "nbformat": 4,
 "nbformat_minor": 1
}
