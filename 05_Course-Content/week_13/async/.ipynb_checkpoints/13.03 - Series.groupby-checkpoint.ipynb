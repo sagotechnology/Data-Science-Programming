{
 "cells": [
  {
   "cell_type": "markdown",
   "metadata": {},
   "source": [
    "# We're Going to Vegas!\n",
    "\n",
    "<img src=\"welcome_vegas.jpg\">\n",
    "\n",
    "Let's first introduce the data we're going to work with.\n",
    "\n",
    "We'll use a dataset that relates to hotels in Las Vegas.  This data was obtained from reviews on Trip Adviser in 2015.  It was used in a paper, \n",
    "\n",
    "- Moro, S., Rita, P., & Coelho, J. (2017). Stripping customers' feedback on hotels through data mining: The case of Las Vegas Strip. Tourism Management Perspectives, 23, 41-52.\n",
    "\n",
    "I downloaded the data from the UC Irvine Machine Learning Repository (http://archive.ics.uci.edu/ml/index.php), which is a great source for interesting datasets."
   ]
  },
  {
   "cell_type": "code",
   "execution_count": 1,
   "metadata": {},
   "outputs": [],
   "source": [
    "import numpy as np\n",
    "import pandas as pd\n",
    "pd.options.display.float_format = '{:,.2f}'.format\n",
    "import matplotlib.pyplot as plt\n",
    "%matplotlib inline"
   ]
  },
  {
   "cell_type": "code",
   "execution_count": 2,
   "metadata": {},
   "outputs": [],
   "source": [
    "Vegas = pd.read_csv('vegas.csv')"
   ]
  },
  {
   "cell_type": "code",
   "execution_count": 3,
   "metadata": {},
   "outputs": [
    {
     "data": {
      "text/plain": [
       "(504, 20)"
      ]
     },
     "execution_count": 3,
     "metadata": {},
     "output_type": "execute_result"
    }
   ],
   "source": [
    "Vegas.shape"
   ]
  },
  {
   "cell_type": "code",
   "execution_count": 4,
   "metadata": {
    "scrolled": true
   },
   "outputs": [
    {
     "data": {
      "text/html": [
       "<div>\n",
       "<style scoped>\n",
       "    .dataframe tbody tr th:only-of-type {\n",
       "        vertical-align: middle;\n",
       "    }\n",
       "\n",
       "    .dataframe tbody tr th {\n",
       "        vertical-align: top;\n",
       "    }\n",
       "\n",
       "    .dataframe thead th {\n",
       "        text-align: right;\n",
       "    }\n",
       "</style>\n",
       "<table border=\"1\" class=\"dataframe\">\n",
       "  <thead>\n",
       "    <tr style=\"text-align: right;\">\n",
       "      <th></th>\n",
       "      <th>User country</th>\n",
       "      <th>Nr. reviews</th>\n",
       "      <th>Nr. hotel reviews</th>\n",
       "      <th>Helpful votes</th>\n",
       "      <th>Score</th>\n",
       "      <th>Period of stay</th>\n",
       "      <th>Traveler type</th>\n",
       "      <th>Pool</th>\n",
       "      <th>Gym</th>\n",
       "      <th>Tennis court</th>\n",
       "      <th>Spa</th>\n",
       "      <th>Casino</th>\n",
       "      <th>Free internet</th>\n",
       "      <th>Hotel name</th>\n",
       "      <th>Hotel stars</th>\n",
       "      <th>Nr. rooms</th>\n",
       "      <th>User continent</th>\n",
       "      <th>Member years</th>\n",
       "      <th>Review month</th>\n",
       "      <th>Review weekday</th>\n",
       "    </tr>\n",
       "  </thead>\n",
       "  <tbody>\n",
       "    <tr>\n",
       "      <td>0</td>\n",
       "      <td>USA</td>\n",
       "      <td>11</td>\n",
       "      <td>4</td>\n",
       "      <td>13</td>\n",
       "      <td>5</td>\n",
       "      <td>Dec-Feb</td>\n",
       "      <td>Friends</td>\n",
       "      <td>NO</td>\n",
       "      <td>YES</td>\n",
       "      <td>NO</td>\n",
       "      <td>NO</td>\n",
       "      <td>YES</td>\n",
       "      <td>YES</td>\n",
       "      <td>Circus Circus Hotel &amp; Casino Las Vegas</td>\n",
       "      <td>3</td>\n",
       "      <td>3773</td>\n",
       "      <td>North America</td>\n",
       "      <td>9</td>\n",
       "      <td>January</td>\n",
       "      <td>Thursday</td>\n",
       "    </tr>\n",
       "    <tr>\n",
       "      <td>1</td>\n",
       "      <td>USA</td>\n",
       "      <td>119</td>\n",
       "      <td>21</td>\n",
       "      <td>75</td>\n",
       "      <td>3</td>\n",
       "      <td>Dec-Feb</td>\n",
       "      <td>Business</td>\n",
       "      <td>NO</td>\n",
       "      <td>YES</td>\n",
       "      <td>NO</td>\n",
       "      <td>NO</td>\n",
       "      <td>YES</td>\n",
       "      <td>YES</td>\n",
       "      <td>Circus Circus Hotel &amp; Casino Las Vegas</td>\n",
       "      <td>3</td>\n",
       "      <td>3773</td>\n",
       "      <td>North America</td>\n",
       "      <td>3</td>\n",
       "      <td>January</td>\n",
       "      <td>Friday</td>\n",
       "    </tr>\n",
       "    <tr>\n",
       "      <td>2</td>\n",
       "      <td>USA</td>\n",
       "      <td>36</td>\n",
       "      <td>9</td>\n",
       "      <td>25</td>\n",
       "      <td>5</td>\n",
       "      <td>Mar-May</td>\n",
       "      <td>Families</td>\n",
       "      <td>NO</td>\n",
       "      <td>YES</td>\n",
       "      <td>NO</td>\n",
       "      <td>NO</td>\n",
       "      <td>YES</td>\n",
       "      <td>YES</td>\n",
       "      <td>Circus Circus Hotel &amp; Casino Las Vegas</td>\n",
       "      <td>3</td>\n",
       "      <td>3773</td>\n",
       "      <td>North America</td>\n",
       "      <td>2</td>\n",
       "      <td>February</td>\n",
       "      <td>Saturday</td>\n",
       "    </tr>\n",
       "    <tr>\n",
       "      <td>3</td>\n",
       "      <td>UK</td>\n",
       "      <td>14</td>\n",
       "      <td>7</td>\n",
       "      <td>14</td>\n",
       "      <td>4</td>\n",
       "      <td>Mar-May</td>\n",
       "      <td>Friends</td>\n",
       "      <td>NO</td>\n",
       "      <td>YES</td>\n",
       "      <td>NO</td>\n",
       "      <td>NO</td>\n",
       "      <td>YES</td>\n",
       "      <td>YES</td>\n",
       "      <td>Circus Circus Hotel &amp; Casino Las Vegas</td>\n",
       "      <td>3</td>\n",
       "      <td>3773</td>\n",
       "      <td>Europe</td>\n",
       "      <td>6</td>\n",
       "      <td>February</td>\n",
       "      <td>Friday</td>\n",
       "    </tr>\n",
       "    <tr>\n",
       "      <td>4</td>\n",
       "      <td>Canada</td>\n",
       "      <td>5</td>\n",
       "      <td>5</td>\n",
       "      <td>2</td>\n",
       "      <td>4</td>\n",
       "      <td>Mar-May</td>\n",
       "      <td>Solo</td>\n",
       "      <td>NO</td>\n",
       "      <td>YES</td>\n",
       "      <td>NO</td>\n",
       "      <td>NO</td>\n",
       "      <td>YES</td>\n",
       "      <td>YES</td>\n",
       "      <td>Circus Circus Hotel &amp; Casino Las Vegas</td>\n",
       "      <td>3</td>\n",
       "      <td>3773</td>\n",
       "      <td>North America</td>\n",
       "      <td>7</td>\n",
       "      <td>March</td>\n",
       "      <td>Tuesday</td>\n",
       "    </tr>\n",
       "  </tbody>\n",
       "</table>\n",
       "</div>"
      ],
      "text/plain": [
       "  User country  Nr. reviews  Nr. hotel reviews  Helpful votes  Score  \\\n",
       "0          USA           11                  4             13      5   \n",
       "1          USA          119                 21             75      3   \n",
       "2          USA           36                  9             25      5   \n",
       "3           UK           14                  7             14      4   \n",
       "4       Canada            5                  5              2      4   \n",
       "\n",
       "  Period of stay Traveler type Pool  Gym Tennis court Spa Casino  \\\n",
       "0        Dec-Feb       Friends   NO  YES           NO  NO    YES   \n",
       "1        Dec-Feb      Business   NO  YES           NO  NO    YES   \n",
       "2        Mar-May      Families   NO  YES           NO  NO    YES   \n",
       "3        Mar-May       Friends   NO  YES           NO  NO    YES   \n",
       "4        Mar-May          Solo   NO  YES           NO  NO    YES   \n",
       "\n",
       "  Free internet                              Hotel name Hotel stars  \\\n",
       "0           YES  Circus Circus Hotel & Casino Las Vegas           3   \n",
       "1           YES  Circus Circus Hotel & Casino Las Vegas           3   \n",
       "2           YES  Circus Circus Hotel & Casino Las Vegas           3   \n",
       "3           YES  Circus Circus Hotel & Casino Las Vegas           3   \n",
       "4           YES  Circus Circus Hotel & Casino Las Vegas           3   \n",
       "\n",
       "   Nr. rooms User continent  Member years Review month Review weekday  \n",
       "0       3773  North America             9      January       Thursday  \n",
       "1       3773  North America             3      January         Friday  \n",
       "2       3773  North America             2     February       Saturday  \n",
       "3       3773         Europe             6     February         Friday  \n",
       "4       3773  North America             7        March        Tuesday  "
      ]
     },
     "execution_count": 4,
     "metadata": {},
     "output_type": "execute_result"
    }
   ],
   "source": [
    "Vegas.head()"
   ]
  },
  {
   "cell_type": "code",
   "execution_count": 6,
   "metadata": {},
   "outputs": [
    {
     "data": {
      "text/plain": [
       "User country         object\n",
       "Nr. reviews           int64\n",
       "Nr. hotel reviews     int64\n",
       "Helpful votes         int64\n",
       "Score                 int64\n",
       "Period of stay       object\n",
       "Traveler type        object\n",
       "Pool                 object\n",
       "Gym                  object\n",
       "Tennis court         object\n",
       "Spa                  object\n",
       "Casino               object\n",
       "Free internet        object\n",
       "Hotel name           object\n",
       "Hotel stars          object\n",
       "Nr. rooms             int64\n",
       "User continent       object\n",
       "Member years          int64\n",
       "Review month         object\n",
       "Review weekday       object\n",
       "dtype: object"
      ]
     },
     "execution_count": 6,
     "metadata": {},
     "output_type": "execute_result"
    }
   ],
   "source": [
    "Vegas.dtypes"
   ]
  },
  {
   "cell_type": "markdown",
   "metadata": {},
   "source": [
    "## Fixing Column Names\n",
    "\n",
    "Before we start, it will be nice not to have spaces in the column names.  If there are spaces, we won't be able to access variables using attribute notation.\n",
    "\n",
    "This is probably easiest to do with a regular expression.  We want to match whitespace, but we also want to get rid of any periods that come before a space.  Remember that `.` matches any character except newline, but if you include the escape character, `\\.` looks for an actual period.  The `*` means we want zero or more periods.  `\\s` matches whitespace characters and the `+` means we're looking for one or more.\n",
    "\n",
    "Let's also go all lowercase while we're at it."
   ]
  },
  {
   "cell_type": "code",
   "execution_count": 6,
   "metadata": {},
   "outputs": [
    {
     "data": {
      "text/html": [
       "<div>\n",
       "<style scoped>\n",
       "    .dataframe tbody tr th:only-of-type {\n",
       "        vertical-align: middle;\n",
       "    }\n",
       "\n",
       "    .dataframe tbody tr th {\n",
       "        vertical-align: top;\n",
       "    }\n",
       "\n",
       "    .dataframe thead th {\n",
       "        text-align: right;\n",
       "    }\n",
       "</style>\n",
       "<table border=\"1\" class=\"dataframe\">\n",
       "  <thead>\n",
       "    <tr style=\"text-align: right;\">\n",
       "      <th></th>\n",
       "      <th>user_country</th>\n",
       "      <th>nr_reviews</th>\n",
       "      <th>nr_hotel_reviews</th>\n",
       "      <th>helpful_votes</th>\n",
       "      <th>score</th>\n",
       "      <th>period_of_stay</th>\n",
       "      <th>traveler_type</th>\n",
       "      <th>pool</th>\n",
       "      <th>gym</th>\n",
       "      <th>tennis_court</th>\n",
       "      <th>spa</th>\n",
       "      <th>casino</th>\n",
       "      <th>free_internet</th>\n",
       "      <th>hotel_name</th>\n",
       "      <th>hotel_stars</th>\n",
       "      <th>nr_rooms</th>\n",
       "      <th>user_continent</th>\n",
       "      <th>member_years</th>\n",
       "      <th>review_month</th>\n",
       "      <th>review_weekday</th>\n",
       "    </tr>\n",
       "  </thead>\n",
       "  <tbody>\n",
       "    <tr>\n",
       "      <th>0</th>\n",
       "      <td>USA</td>\n",
       "      <td>11</td>\n",
       "      <td>4</td>\n",
       "      <td>13</td>\n",
       "      <td>5</td>\n",
       "      <td>Dec-Feb</td>\n",
       "      <td>Friends</td>\n",
       "      <td>NO</td>\n",
       "      <td>YES</td>\n",
       "      <td>NO</td>\n",
       "      <td>NO</td>\n",
       "      <td>YES</td>\n",
       "      <td>YES</td>\n",
       "      <td>Circus Circus Hotel &amp; Casino Las Vegas</td>\n",
       "      <td>3</td>\n",
       "      <td>3773</td>\n",
       "      <td>North America</td>\n",
       "      <td>9</td>\n",
       "      <td>January</td>\n",
       "      <td>Thursday</td>\n",
       "    </tr>\n",
       "    <tr>\n",
       "      <th>1</th>\n",
       "      <td>USA</td>\n",
       "      <td>119</td>\n",
       "      <td>21</td>\n",
       "      <td>75</td>\n",
       "      <td>3</td>\n",
       "      <td>Dec-Feb</td>\n",
       "      <td>Business</td>\n",
       "      <td>NO</td>\n",
       "      <td>YES</td>\n",
       "      <td>NO</td>\n",
       "      <td>NO</td>\n",
       "      <td>YES</td>\n",
       "      <td>YES</td>\n",
       "      <td>Circus Circus Hotel &amp; Casino Las Vegas</td>\n",
       "      <td>3</td>\n",
       "      <td>3773</td>\n",
       "      <td>North America</td>\n",
       "      <td>3</td>\n",
       "      <td>January</td>\n",
       "      <td>Friday</td>\n",
       "    </tr>\n",
       "    <tr>\n",
       "      <th>2</th>\n",
       "      <td>USA</td>\n",
       "      <td>36</td>\n",
       "      <td>9</td>\n",
       "      <td>25</td>\n",
       "      <td>5</td>\n",
       "      <td>Mar-May</td>\n",
       "      <td>Families</td>\n",
       "      <td>NO</td>\n",
       "      <td>YES</td>\n",
       "      <td>NO</td>\n",
       "      <td>NO</td>\n",
       "      <td>YES</td>\n",
       "      <td>YES</td>\n",
       "      <td>Circus Circus Hotel &amp; Casino Las Vegas</td>\n",
       "      <td>3</td>\n",
       "      <td>3773</td>\n",
       "      <td>North America</td>\n",
       "      <td>2</td>\n",
       "      <td>February</td>\n",
       "      <td>Saturday</td>\n",
       "    </tr>\n",
       "    <tr>\n",
       "      <th>3</th>\n",
       "      <td>UK</td>\n",
       "      <td>14</td>\n",
       "      <td>7</td>\n",
       "      <td>14</td>\n",
       "      <td>4</td>\n",
       "      <td>Mar-May</td>\n",
       "      <td>Friends</td>\n",
       "      <td>NO</td>\n",
       "      <td>YES</td>\n",
       "      <td>NO</td>\n",
       "      <td>NO</td>\n",
       "      <td>YES</td>\n",
       "      <td>YES</td>\n",
       "      <td>Circus Circus Hotel &amp; Casino Las Vegas</td>\n",
       "      <td>3</td>\n",
       "      <td>3773</td>\n",
       "      <td>Europe</td>\n",
       "      <td>6</td>\n",
       "      <td>February</td>\n",
       "      <td>Friday</td>\n",
       "    </tr>\n",
       "    <tr>\n",
       "      <th>4</th>\n",
       "      <td>Canada</td>\n",
       "      <td>5</td>\n",
       "      <td>5</td>\n",
       "      <td>2</td>\n",
       "      <td>4</td>\n",
       "      <td>Mar-May</td>\n",
       "      <td>Solo</td>\n",
       "      <td>NO</td>\n",
       "      <td>YES</td>\n",
       "      <td>NO</td>\n",
       "      <td>NO</td>\n",
       "      <td>YES</td>\n",
       "      <td>YES</td>\n",
       "      <td>Circus Circus Hotel &amp; Casino Las Vegas</td>\n",
       "      <td>3</td>\n",
       "      <td>3773</td>\n",
       "      <td>North America</td>\n",
       "      <td>7</td>\n",
       "      <td>March</td>\n",
       "      <td>Tuesday</td>\n",
       "    </tr>\n",
       "  </tbody>\n",
       "</table>\n",
       "</div>"
      ],
      "text/plain": [
       "  user_country  nr_reviews  nr_hotel_reviews  helpful_votes  score  \\\n",
       "0          USA          11                 4             13      5   \n",
       "1          USA         119                21             75      3   \n",
       "2          USA          36                 9             25      5   \n",
       "3           UK          14                 7             14      4   \n",
       "4       Canada           5                 5              2      4   \n",
       "\n",
       "  period_of_stay traveler_type pool  gym tennis_court spa casino  \\\n",
       "0        Dec-Feb       Friends   NO  YES           NO  NO    YES   \n",
       "1        Dec-Feb      Business   NO  YES           NO  NO    YES   \n",
       "2        Mar-May      Families   NO  YES           NO  NO    YES   \n",
       "3        Mar-May       Friends   NO  YES           NO  NO    YES   \n",
       "4        Mar-May          Solo   NO  YES           NO  NO    YES   \n",
       "\n",
       "  free_internet                              hotel_name hotel_stars  nr_rooms  \\\n",
       "0           YES  Circus Circus Hotel & Casino Las Vegas           3      3773   \n",
       "1           YES  Circus Circus Hotel & Casino Las Vegas           3      3773   \n",
       "2           YES  Circus Circus Hotel & Casino Las Vegas           3      3773   \n",
       "3           YES  Circus Circus Hotel & Casino Las Vegas           3      3773   \n",
       "4           YES  Circus Circus Hotel & Casino Las Vegas           3      3773   \n",
       "\n",
       "  user_continent  member_years review_month review_weekday  \n",
       "0  North America             9      January       Thursday  \n",
       "1  North America             3      January         Friday  \n",
       "2  North America             2     February       Saturday  \n",
       "3         Europe             6     February         Friday  \n",
       "4  North America             7        March        Tuesday  "
      ]
     },
     "execution_count": 6,
     "metadata": {},
     "output_type": "execute_result"
    }
   ],
   "source": [
    "Vegas.columns = Vegas.columns.str.replace('\\.*\\s+', '_').str.lower()\n",
    "Vegas.head()"
   ]
  },
  {
   "cell_type": "markdown",
   "metadata": {},
   "source": [
    "Now we can access columns as attributes."
   ]
  },
  {
   "cell_type": "code",
   "execution_count": 7,
   "metadata": {},
   "outputs": [
    {
     "data": {
      "text/plain": [
       "Mar-May    128\n",
       "Sep-Nov    126\n",
       "Jun-Aug    126\n",
       "Dec-Feb    124\n",
       "Name: period_of_stay, dtype: int64"
      ]
     },
     "execution_count": 7,
     "metadata": {},
     "output_type": "execute_result"
    }
   ],
   "source": [
    "Vegas.period_of_stay.value_counts()"
   ]
  },
  {
   "cell_type": "markdown",
   "metadata": {},
   "source": [
    "## Series.groupby\n",
    "\n",
    "Let's jump into some simple uses of `groupby`.  Suppose we want the mean score for each hotel.  There are several ways to do this.  One is to pull out the `score` and call `groupby` on it with `hotel_name`."
   ]
  },
  {
   "cell_type": "code",
   "execution_count": 8,
   "metadata": {},
   "outputs": [
    {
     "data": {
      "text/plain": [
       "<pandas.core.groupby.SeriesGroupBy object at 0x11529ccf8>"
      ]
     },
     "execution_count": 8,
     "metadata": {},
     "output_type": "execute_result"
    }
   ],
   "source": [
    "score_by_hotel = Vegas.score.groupby(Vegas.hotel_name)\n",
    "score_by_hotel"
   ]
  },
  {
   "cell_type": "markdown",
   "metadata": {},
   "source": [
    "Notice that in this example we called `groupby` on a `Series`, passing in a `Series` argument.  That's a very common pattern.\n",
    "\n",
    "`by_hotel` is now a `GroupBy` object.  We haven't really computed anything at this point.  But in the background, Python has done some preprocessing so that it's ready to perform operations on each hotel.  You can conceptually imagine that it has grouped the data each hotel together.\n",
    "\n",
    "Unfortunately, the printout for a `groupby` object doesn't tell you very much about what's inside.  It may help you to take a look as an example group, to make sure that it has the form you're expecting.  You can do this with the `get_group` method."
   ]
  },
  {
   "cell_type": "code",
   "execution_count": 9,
   "metadata": {},
   "outputs": [
    {
     "data": {
      "text/plain": [
       "0     5\n",
       "1     3\n",
       "2     5\n",
       "3     4\n",
       "4     4\n",
       "5     3\n",
       "6     4\n",
       "7     4\n",
       "8     4\n",
       "9     3\n",
       "10    2\n",
       "11    3\n",
       "12    2\n",
       "13    3\n",
       "14    3\n",
       "15    4\n",
       "16    1\n",
       "17    4\n",
       "18    3\n",
       "19    2\n",
       "20    4\n",
       "21    1\n",
       "22    4\n",
       "23    2\n",
       "Name: score, dtype: int64"
      ]
     },
     "execution_count": 9,
     "metadata": {},
     "output_type": "execute_result"
    }
   ],
   "source": [
    "score_by_hotel.get_group('Circus Circus Hotel & Casino Las Vegas')"
   ]
  },
  {
   "cell_type": "markdown",
   "metadata": {},
   "source": [
    "We get back a `Series` that contains just the scores for Circus Circus.  In fact, I  generally recommend that you do exactly this - pull out a single group to experiment with - before attempting complex group operations.\n",
    "\n",
    "Now that we've grouped by hotel, we can take the mean for each group with the `mean()` method."
   ]
  },
  {
   "cell_type": "code",
   "execution_count": 10,
   "metadata": {},
   "outputs": [
    {
     "data": {
      "text/plain": [
       "hotel_name\n",
       "Circus Circus Hotel & Casino Las Vegas                3.21\n",
       "Monte Carlo Resort&Casino                             3.29\n",
       "Excalibur Hotel & Casino                              3.71\n",
       "The Westin las Vegas Hotel Casino & Spa               3.92\n",
       "Hilton Grand Vacations at the Flamingo                3.96\n",
       "Treasure Island- TI Hotel & Casino                    3.96\n",
       "Tropicana Las Vegas - A Double Tree by Hilton Hotel   4.04\n",
       "Paris Las Vegas                                       4.04\n",
       "The Cromwell                                          4.08\n",
       "Caesars Palace                                        4.12\n",
       "Hilton Grand Vacations on the Boulevard               4.17\n",
       "Bellagio Las Vegas                                    4.21\n",
       "Tuscany Las Vegas Suites & Casino                     4.21\n",
       "The Cosmopolitan Las Vegas                            4.25\n",
       "The Palazzo Resort Hotel Casino                       4.38\n",
       "Wyndham Grand Desert                                  4.38\n",
       "Trump International Hotel Las Vegas                   4.38\n",
       "Marriott's Grand Chateau                              4.54\n",
       "Encore at wynn Las Vegas                              4.54\n",
       "The Venetian Las Vegas Hotel                          4.58\n",
       "Wynn Las Vegas                                        4.62\n",
       "Name: score, dtype: float64"
      ]
     },
     "execution_count": 10,
     "metadata": {},
     "output_type": "execute_result"
    }
   ],
   "source": [
    "score_by_hotel.mean().sort_values()"
   ]
  },
  {
   "cell_type": "markdown",
   "metadata": {},
   "source": [
    "We get back a `Series`.  Notice that the index is made up of the unique values in the group key, `hotel_name`.  The index has the name `hotel_name` because that's the name of `Series` we passed in."
   ]
  },
  {
   "cell_type": "markdown",
   "metadata": {},
   "source": [
    "Similarly, we can find the miminum rating for each hotel."
   ]
  },
  {
   "cell_type": "code",
   "execution_count": 11,
   "metadata": {},
   "outputs": [
    {
     "data": {
      "text/plain": [
       "hotel_name\n",
       "Bellagio Las Vegas                                     2\n",
       "Caesars Palace                                         1\n",
       "Circus Circus Hotel & Casino Las Vegas                 1\n",
       "Encore at wynn Las Vegas                               1\n",
       "Excalibur Hotel & Casino                               2\n",
       "Hilton Grand Vacations at the Flamingo                 2\n",
       "Hilton Grand Vacations on the Boulevard                1\n",
       "Marriott's Grand Chateau                               3\n",
       "Monte Carlo Resort&Casino                              1\n",
       "Paris Las Vegas                                        2\n",
       "The Cosmopolitan Las Vegas                             1\n",
       "The Cromwell                                           1\n",
       "The Palazzo Resort Hotel Casino                        3\n",
       "The Venetian Las Vegas Hotel                           3\n",
       "The Westin las Vegas Hotel Casino & Spa                2\n",
       "Treasure Island- TI Hotel & Casino                     3\n",
       "Tropicana Las Vegas - A Double Tree by Hilton Hotel    1\n",
       "Trump International Hotel Las Vegas                    1\n",
       "Tuscany Las Vegas Suites & Casino                      2\n",
       "Wyndham Grand Desert                                   3\n",
       "Wynn Las Vegas                                         2\n",
       "Name: score, dtype: int64"
      ]
     },
     "execution_count": 11,
     "metadata": {},
     "output_type": "execute_result"
    }
   ],
   "source": [
    "score_by_hotel.min()"
   ]
  },
  {
   "cell_type": "markdown",
   "metadata": {},
   "source": [
    "Another very useful method is `size()`, which tells you how many rows are in each group."
   ]
  },
  {
   "cell_type": "code",
   "execution_count": 12,
   "metadata": {},
   "outputs": [
    {
     "data": {
      "text/plain": [
       "hotel_name\n",
       "Bellagio Las Vegas                                     24\n",
       "Caesars Palace                                         24\n",
       "Circus Circus Hotel & Casino Las Vegas                 24\n",
       "Encore at wynn Las Vegas                               24\n",
       "Excalibur Hotel & Casino                               24\n",
       "Hilton Grand Vacations at the Flamingo                 24\n",
       "Hilton Grand Vacations on the Boulevard                24\n",
       "Marriott's Grand Chateau                               24\n",
       "Monte Carlo Resort&Casino                              24\n",
       "Paris Las Vegas                                        24\n",
       "The Cosmopolitan Las Vegas                             24\n",
       "The Cromwell                                           24\n",
       "The Palazzo Resort Hotel Casino                        24\n",
       "The Venetian Las Vegas Hotel                           24\n",
       "The Westin las Vegas Hotel Casino & Spa                24\n",
       "Treasure Island- TI Hotel & Casino                     24\n",
       "Tropicana Las Vegas - A Double Tree by Hilton Hotel    24\n",
       "Trump International Hotel Las Vegas                    24\n",
       "Tuscany Las Vegas Suites & Casino                      24\n",
       "Wyndham Grand Desert                                   24\n",
       "Wynn Las Vegas                                         24\n",
       "Name: score, dtype: int64"
      ]
     },
     "execution_count": 12,
     "metadata": {},
     "output_type": "execute_result"
    }
   ],
   "source": [
    "score_by_hotel.size()"
   ]
  },
  {
   "cell_type": "markdown",
   "metadata": {},
   "source": [
    "You can see that we have the same number of reviews for each hotel, which reflects the methodology by which the data was gathered."
   ]
  },
  {
   "cell_type": "markdown",
   "metadata": {},
   "source": [
    "We can also groupby multiple columns.  For example"
   ]
  },
  {
   "cell_type": "code",
   "execution_count": 13,
   "metadata": {},
   "outputs": [
    {
     "data": {
      "text/plain": [
       "traveler_type  pool\n",
       "Business       NO     3.00\n",
       "               YES    3.89\n",
       "Couples        NO     2.71\n",
       "               YES    4.29\n",
       "Families       NO     3.38\n",
       "               YES    4.07\n",
       "Friends        NO     3.43\n",
       "               YES    4.33\n",
       "Solo           NO     4.00\n",
       "               YES    3.91\n",
       "Name: score, dtype: float64"
      ]
     },
     "execution_count": 13,
     "metadata": {},
     "output_type": "execute_result"
    }
   ],
   "source": [
    "by_trav_pool = Vegas.score.groupby([Vegas.traveler_type, Vegas.pool]).mean()\n",
    "by_trav_pool"
   ]
  },
  {
   "cell_type": "markdown",
   "metadata": {},
   "source": [
    "We get back a `Series` with a multi-index.  Each group key becomes a level of the index.  If we want to plot this information, we probably need to unstack the index first."
   ]
  },
  {
   "cell_type": "code",
   "execution_count": 14,
   "metadata": {},
   "outputs": [
    {
     "data": {
      "text/html": [
       "<div>\n",
       "<style scoped>\n",
       "    .dataframe tbody tr th:only-of-type {\n",
       "        vertical-align: middle;\n",
       "    }\n",
       "\n",
       "    .dataframe tbody tr th {\n",
       "        vertical-align: top;\n",
       "    }\n",
       "\n",
       "    .dataframe thead th {\n",
       "        text-align: right;\n",
       "    }\n",
       "</style>\n",
       "<table border=\"1\" class=\"dataframe\">\n",
       "  <thead>\n",
       "    <tr style=\"text-align: right;\">\n",
       "      <th>pool</th>\n",
       "      <th>NO</th>\n",
       "      <th>YES</th>\n",
       "    </tr>\n",
       "    <tr>\n",
       "      <th>traveler_type</th>\n",
       "      <th></th>\n",
       "      <th></th>\n",
       "    </tr>\n",
       "  </thead>\n",
       "  <tbody>\n",
       "    <tr>\n",
       "      <th>Business</th>\n",
       "      <td>3.00</td>\n",
       "      <td>3.89</td>\n",
       "    </tr>\n",
       "    <tr>\n",
       "      <th>Couples</th>\n",
       "      <td>2.71</td>\n",
       "      <td>4.29</td>\n",
       "    </tr>\n",
       "    <tr>\n",
       "      <th>Families</th>\n",
       "      <td>3.38</td>\n",
       "      <td>4.07</td>\n",
       "    </tr>\n",
       "    <tr>\n",
       "      <th>Friends</th>\n",
       "      <td>3.43</td>\n",
       "      <td>4.33</td>\n",
       "    </tr>\n",
       "    <tr>\n",
       "      <th>Solo</th>\n",
       "      <td>4.00</td>\n",
       "      <td>3.91</td>\n",
       "    </tr>\n",
       "  </tbody>\n",
       "</table>\n",
       "</div>"
      ],
      "text/plain": [
       "pool            NO  YES\n",
       "traveler_type          \n",
       "Business      3.00 3.89\n",
       "Couples       2.71 4.29\n",
       "Families      3.38 4.07\n",
       "Friends       3.43 4.33\n",
       "Solo          4.00 3.91"
      ]
     },
     "execution_count": 14,
     "metadata": {},
     "output_type": "execute_result"
    }
   ],
   "source": [
    "by_trav_pool.unstack()"
   ]
  },
  {
   "cell_type": "code",
   "execution_count": 15,
   "metadata": {},
   "outputs": [
    {
     "data": {
      "text/plain": [
       "<matplotlib.axes._subplots.AxesSubplot at 0x1152d3e80>"
      ]
     },
     "execution_count": 15,
     "metadata": {},
     "output_type": "execute_result"
    },
    {
     "data": {
      "image/png": "[encoded data removed]",
      "text/plain": [
       "<matplotlib.figure.Figure at 0x1152d3860>"
      ]
     },
     "metadata": {},
     "output_type": "display_data"
    }
   ],
   "source": [
    "by_trav_pool.unstack().plot(kind='bar')"
   ]
  },
  {
   "cell_type": "markdown",
   "metadata": {},
   "source": [
    "So far, we've taken the `Series` we're grouping and the group key from the same `DataFrame`, but you should recognize that this isn't necessary.  `groupby` works as long as the two `Series` we're using have the same length.  Here's a quick demo to show this."
   ]
  },
  {
   "cell_type": "code",
   "execution_count": 16,
   "metadata": {},
   "outputs": [
    {
     "data": {
      "text/plain": [
       "False   68.00\n",
       "True    87.50\n",
       "dtype: float64"
      ]
     },
     "execution_count": 16,
     "metadata": {},
     "output_type": "execute_result"
    }
   ],
   "source": [
    "grades = pd.Series([90, 85, 70,66])\n",
    "studied = pd.Series([True, True, False, False])\n",
    "grades.groupby(studied).mean()"
   ]
  },
  {
   "cell_type": "markdown",
   "metadata": {},
   "source": [
    "This should help you understand how `groupby` works, but it's not a great way to code.  In this case, it's hard to know whether the two `Series` objects are in the same correct order."
   ]
  }
 ],
 "metadata": {
  "kernelspec": {
   "display_name": "Python 3",
   "language": "python",
   "name": "python3"
  },
  "language_info": {
   "codemirror_mode": {
    "name": "ipython",
    "version": 3
   },
   "file_extension": ".py",
   "mimetype": "text/x-python",
   "name": "python",
   "nbconvert_exporter": "python",
   "pygments_lexer": "ipython3",
   "version": "3.7.4"
  }
 },
 "nbformat": 4,
 "nbformat_minor": 2
}
