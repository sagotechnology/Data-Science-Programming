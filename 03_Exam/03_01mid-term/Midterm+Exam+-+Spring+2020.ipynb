{
 "cells": [
  {
   "cell_type": "markdown",
   "metadata": {},
   "source": [
    "## MIDTERM - W200 Introduction to Data Science Programming, UC Berkeley MIDS"
   ]
  },
  {
   "cell_type": "markdown",
   "metadata": {},
   "source": [
    "## Instructions\n",
    "The midterm exam is designed to evaluate your grasp of Python theory as well as Python coding.\n",
    "\n",
    "- This is an individual open book exam.\n",
    "- You have 24 hours to complete the exam and upload it back to ISVC, starting from the point when you first accessed it on ISVC.\n",
    "\n",
    "For the coding questions, follow best practices.  Partial credit may be given for submissions that are clearly commented and well organized."
   ]
  },
  {
   "cell_type": "markdown",
   "metadata": {},
   "source": [
    "# 1. Short Questions (15 pts)\n",
    "\n",
    "1.1. Python's dynamic typing allows one variable to refer to multiple types of objects within the same program execution.  This can speed program development.  Name one disadvantage of dynamic typing."
   ]
  },
  {
   "cell_type": "markdown",
   "metadata": {
    "collapsed": true
   },
   "source": [
    "Since dynamic typing doesn't have a compiler, rather an interprtor, run time errors will occur.  Also, dynamically typed languages often execute slower than statically typed languages. The innate characteristics of statically typed languages make them run faster than dynamically typed languages. A statically typed language could allow for earlier detection of programming mistakes. Another caveat with dynamically typed languages is that variables don’t need to be declared as a data type; therefore, the end-user may have more difficulty trying to troubleshoot an error."
   ]
  },
  {
   "cell_type": "markdown",
   "metadata": {},
   "source": [
    "1.2. Compiled languages typically offer faster performance than interpreted languages. List two reasons why would you choose an interpreted language like Python for the purpose of analyzing a data set instead of a compiled language."
   ]
  },
  {
   "cell_type": "markdown",
   "metadata": {
    "collapsed": true
   },
   "source": [
    "Python’s programming language is easier to learn, compared to a compiled language, because it is more similar to human language.  This characteristic also makes it easier to understand, which is an advantage because code is constantly revised--especially for data analysis.  Python’s clean and easy syntax allows for faster development and because it is a higher-level language it is dynamically typed.  Therefore, variables don’t need to be declared as a certain type and can hold different types of data at different times.  Also, the namespace capability of Python makes variable use more convenient for the developer.  Its automatically allocates memory and the user doesn’t need to know the memory address where something is stored.  The error checking is also easier to debug.  \n",
    "\n",
    "Furthermore, the number of libraries that Python has makes for a prefered choice over other languages.  Another advantage of Python is that it is cross compatible with different platforms and does not rely on certain system hardware. \n",
    "\n",
    "Overall, if you are analyzing data as part of a larger system, Python makes the programming part much more user friendly.  \n",
    "\n"
   ]
  },
  {
   "cell_type": "markdown",
   "metadata": {},
   "source": [
    "1.3. We have gone over FOR and WHILE loops.  Discuss one reason to use a for loop over a while loop and one reason to use a while loop over a for loop. Please elaborate beyond a single word."
   ]
  },
  {
   "cell_type": "markdown",
   "metadata": {
    "collapsed": true
   },
   "source": [
    "One advantage of a while loop is that it is more flexible than a for loop; however, a while loop can be more challenging to understand.  One advantage of a for loop is that its syntax is intuitive and easy to read and understand. \n",
    "\n",
    "When starting a for loop, the user can define variables much easier and with fewer lines of code over a while loop. \n",
    "All for loops can be while loops but not vice versa.  \n",
    "\n",
    "For loops are used when there is a defined range of values to iterate over.  While loops, on the other hand, are used when there is not a defined range of values or when the user is looking for a continue/exit condition."
   ]
  },
  {
   "cell_type": "markdown",
   "metadata": {},
   "source": [
    "# 2. Programming Styles (10 pts)\n",
    "\n",
    "We have taught you a number of ways to program in Python. These have included using scripts versus functions and using Jupyter notebooks versus calling .py files from the command line. Describe a scenario in which you would use .py files from the command line over a Jupyter notebook and the opposite. Describe a scenario in which you would use a script versus a function and the opposite.  There are four cases and each answer should be about 1-2 sentences, explain why!"
   ]
  },
  {
   "cell_type": "markdown",
   "metadata": {},
   "source": [
    "2.1. I would use a Jupyter notebook:"
   ]
  },
  {
   "cell_type": "markdown",
   "metadata": {},
   "source": [
    "A Jupyter notebook is a popular technology to conveniently run Python code and present results in a visual and expressive format.  If you are looking to present to an audience an iPython notebook is a better choice over a .py file.  The markdown cells within a Jupyter notebook allow the user to write text in a nice format.  Someone interacting with the notebook can easily follow along, while better understanding the steps and results within the file.  Overall, it is a better interactive and visual experience for the end-user. \n"
   ]
  },
  {
   "cell_type": "markdown",
   "metadata": {},
   "source": [
    "2.2. I would use .py files over a Jupyter notebook:"
   ]
  },
  {
   "cell_type": "markdown",
   "metadata": {},
   "source": [
    "One of the most evident reasons to use a .py file is when interfacing with a server that doesn’t have a graphical user interface (GUI)  but rather a secure shell (SSH).  Early on in the semester we learned different methods of creating and editing .py files from the command line.  Utilizing these techniques is a necessity if a graphical user interface is not present. A .py file is the way to go while using Shell or bash scripting methods from the command line.\n",
    "\n",
    "Another benefit is that a .py file is better for collaboartion on code and for version control."
   ]
  },
  {
   "cell_type": "markdown",
   "metadata": {},
   "source": [
    "2.3. I would use a script over a function:"
   ]
  },
  {
   "cell_type": "markdown",
   "metadata": {},
   "source": [
    "A script can be used for a really simple task.  Something that can be achieved in a few lines of code.  Also, there is no need to create a function if you need to do something one off or once in awhile."
   ]
  },
  {
   "cell_type": "markdown",
   "metadata": {},
   "source": [
    "2.4. I would use a function over a script:"
   ]
  },
  {
   "cell_type": "markdown",
   "metadata": {},
   "source": [
    "It is good practice to define a function when a script is becoming quite long, usually a product of more complex algorithms to solve more complicated tasks.  \n",
    "\n",
    "In order to better organize code one should create a function.  A function should have specific functionality and serve as a piece of code that can be reused in different parts of a program.  Inputs are passed in and outputs are returned--also known as arguments and variables.  \n",
    "\n",
    "One of the functions we wrote is the score_word function within the scrabble program.  It was used to score words and can be reused within any program if there is a reason for it."
   ]
  },
  {
   "cell_type": "markdown",
   "metadata": {},
   "source": [
    "# 3. Dictionaries vs Lists (10 pts)\n",
    "\n",
    "Suppose we have the following problem.  We have a dictionary of names and ages and we would like to find the oldest person.\n",
    "\n",
    "```\n",
    "ages_dict = {'Bill':34, 'Fred':45, 'Alice':14, 'Betty':17}\n",
    "```"
   ]
  },
  {
   "cell_type": "markdown",
   "metadata": {},
   "source": [
    "### Dictionary approach\n",
    "Here is a loop that shows how to iterate through the dictionary:"
   ]
  },
  {
   "cell_type": "code",
   "execution_count": 3,
   "metadata": {},
   "outputs": [
    {
     "name": "stdout",
     "output_type": "stream",
     "text": [
      "Fred is the oldest.\n"
     ]
    }
   ],
   "source": [
    "ages_dict = {'Bill':34, 'Fred':45, 'Alice':14, 'Betty':17}\n",
    "\n",
    "max_age = 0\n",
    "max_name = ''\n",
    "for name,age in ages_dict.items():\n",
    "    if age > max_age:\n",
    "        max_age = age\n",
    "        max_name = name\n",
    "        \n",
    "print(max_name, \"is the oldest.\")    "
   ]
  },
  {
   "cell_type": "markdown",
   "metadata": {},
   "source": [
    "### List approach \n",
    "\n",
    "Your friend comes to you and thinks that this dictionary is difficult to deal with and instead offers a different plan using two lists.\n",
    "\n",
    "```\n",
    "names = ['Bill', 'Fred', 'Alice', 'Betty']\n",
    "ages = [34, 45, 14, 17]\n",
    "```"
   ]
  },
  {
   "cell_type": "markdown",
   "metadata": {},
   "source": [
    "Instead of using a loop, your friend writes this code to find the oldest person."
   ]
  },
  {
   "cell_type": "code",
   "execution_count": 4,
   "metadata": {},
   "outputs": [
    {
     "name": "stdout",
     "output_type": "stream",
     "text": [
      "Fred is the oldest.\n"
     ]
    }
   ],
   "source": [
    "names = ['Bill', 'Fred', 'Alice', 'Betty']\n",
    "ages = [34, 45, 14, 17]\n",
    "\n",
    "max_age = max(ages)\n",
    "index_max = ages.index(max_age)\n",
    "max_name = names[index_max]\n",
    "\n",
    "print(max_name, 'is the oldest.')"
   ]
  },
  {
   "cell_type": "markdown",
   "metadata": {},
   "source": [
    "### Discussion\n",
    "Discuss the advantages and disadvantages of each of the approaches.  \n",
    "\n",
    "3.1. Is one more efficient (i.e. faster in Big O notation) than the other?"
   ]
  },
  {
   "cell_type": "markdown",
   "metadata": {},
   "source": [
    "Finding the largest item in a list is linear time (O(n)) whether it is done using Python’s built-in max( ) function or using a for loop.  Either way, worst case scenario all items of a list must be checked through iteration.  Neither function is more efficient than the other in regard to Big O notation."
   ]
  },
  {
   "cell_type": "markdown",
   "metadata": {},
   "source": [
    "3.2. Why would you prefer the dictionary?"
   ]
  },
  {
   "cell_type": "markdown",
   "metadata": {},
   "source": [
    "While iterating through the dictionary the name and age are expressed as key-value pairs.  There is very little potential of identifying a wrong name as being the oldest.  I am more confident with the result of the dictionary method over the list.  \n",
    "\n",
    "Due to the fact that a list can be rearranged there is potential for the names not to match the ages if a programming slip took place.   Also, dictionary keys are immutable which prevents tampering with someone's name or changing the dictionary key.  \n",
    "\n",
    "If I wanted to add more people to the dictionary, the name and age of that person would always coincide.  A dictionary is not ordered, unlike a list.  However, a dictionary provides a more efficient way of accessing elements because of the hash table storage.\n",
    "\n",
    "In this exampe the dictionary provides more structure to the relationship between name and age, and less room for error compared to the the two lists.  I feel like having two seperate lists can get messy.  The dictionary is more straight forward."
   ]
  },
  {
   "cell_type": "markdown",
   "metadata": {},
   "source": [
    "3.3. Why would you prefer the two lists?"
   ]
  },
  {
   "cell_type": "markdown",
   "metadata": {},
   "source": [
    "The code in this example allows the programmer to use a Python built-in max() function.  The programmer can also take advantage of the .index() and find the name by putting in the index value rather than iterating through two lists.  \n",
    "\n",
    "A list is good for keeping track of things by their order.  The mutability of the lists offers the capability of modifying the names and dates in either list.  A list will use less memory than a dictionary. \n",
    "\n",
    "Moreover, the list algorithm is faster to understand because it is more intuitive, especially to someone who doesn't know Python but is reading the code.  It is also achieving the same outcome in less lines of code, which is good."
   ]
  },
  {
   "cell_type": "markdown",
   "metadata": {},
   "source": [
    "# 4. Mutability Surprises (15 pts)\n",
    "\n",
    "4.1. In the asynchronous sessions, we discussed mutability. Please describe, in your own words, why mutability is a useful feature in Python lists and dictionaries."
   ]
  },
  {
   "cell_type": "markdown",
   "metadata": {},
   "source": [
    "Mutability is a great feature in Python because it grants the user the capability of modifying mutable objects.  This means that the user can change the size or content of an object, which is a very important feature of lists and dictionaries. "
   ]
  },
  {
   "cell_type": "markdown",
   "metadata": {},
   "source": [
    "Mutability can also lead to unexpected behavior - specifically when multiple variables point to the same object or when mutable objects are nested inside each other. \n",
    "\n",
    "4.2. Please write some code demonstrating a situation where mutability could lead to unexpected behavior. Specifically, show how updating just one object (list_a) can change the value when you print a second variable (list_b)."
   ]
  },
  {
   "cell_type": "code",
   "execution_count": 47,
   "metadata": {},
   "outputs": [
    {
     "name": "stdout",
     "output_type": "stream",
     "text": [
      "list_a = ['z', 'b', 'c']\n",
      "list_b = ['z', 'b', 'c']\n"
     ]
    }
   ],
   "source": [
    "# Your code here\n",
    "'''In this example changing the first element in list_a also cause the \n",
    "first element in list_b to cahnge'''\n",
    "list_a = ['a', 'b', 'c']\n",
    "list_b = list_a\n",
    "list_a[0] = 'z'\n",
    "print(\"list_a =\", list_a)\n",
    "print(\"list_b =\", list_b)\n"
   ]
  },
  {
   "cell_type": "markdown",
   "metadata": {},
   "source": [
    "4.3. Show how \"copy\" or \"deepcopy\" could be used to prevent the unexpected problem you described, above."
   ]
  },
  {
   "cell_type": "code",
   "execution_count": 59,
   "metadata": {},
   "outputs": [
    {
     "name": "stdout",
     "output_type": "stream",
     "text": [
      "a_list = ['z', 'b', 'c', ['Samuel', 'John', 'Gomez'], 'd']\n",
      "b_list = ['a', 'b', 'c', ['Samuel', 'John']]\n"
     ]
    }
   ],
   "source": [
    "# Your code here\n",
    "'''In this example I make a b_list a deepcopy of a_list.  A deepcopy \n",
    "ensures that a completely new data structure is created.  Changing\n",
    "one list will not result in a change to the other.  \n",
    "\n",
    "If I used a copy in this example a_list[3].append('Gomez') would change\n",
    "b_list, but a deepcopy prevents this from happening'''\n",
    "\n",
    "from copy import deepcopy\n",
    "a_list = ['a', 'b', 'c',['Samuel', 'John']]\n",
    "b_list = deepcopy(a_list)\n",
    "a_list.append('d')\n",
    "a_list[0] = 'z'\n",
    "a_list[3].append('Gomez')\n",
    "print(\"a_list =\",a_list)\n",
    "print(\"b_list =\", b_list)"
   ]
  },
  {
   "cell_type": "markdown",
   "metadata": {},
   "source": [
    "4.4. Now, show the same problem using two dictionaries. Again show how \"copy\" or \"deepcopy\" can fix the issue."
   ]
  },
  {
   "cell_type": "code",
   "execution_count": 49,
   "metadata": {},
   "outputs": [
    {
     "name": "stdout",
     "output_type": "stream",
     "text": [
      "dict1 = {'one': 1, 'two': 2, 'three': 3, 'four': 4}\n",
      "dict2 = {'one': 1, 'two': 2, 'three': 3, 'four': 4}\n",
      "dict3 = {'one': 1, 'two': 2, 'three': 3}\n"
     ]
    }
   ],
   "source": [
    "# Your code here\n",
    "'''dict1 and dict2 are an example of dictionary mutability.  By \n",
    "creating dict3 as a copy of dict1, I can change dict1 without affecting\n",
    "dict3'''\n",
    "\n",
    "dict1 = {'one': 1, 'two': 2, 'three':3}\n",
    "dict2 = dict1 \n",
    "dict3 = dict1.copy()\n",
    "dict1['four'] = 4\n",
    "print(\"dict1 =\", dict1)\n",
    "print(\"dict2 =\", dict2)\n",
    "print(\"dict3 =\", dict3)\n"
   ]
  },
  {
   "cell_type": "markdown",
   "metadata": {},
   "source": [
    "4.5. Can this unexpected behavior problem occur with tuples? Why, or why not?"
   ]
  },
  {
   "cell_type": "markdown",
   "metadata": {},
   "source": [
    "This behaviour will not occur in a tuple because tuples are immutable.  Once a tuple is defined you can not add to it or change it."
   ]
  },
  {
   "cell_type": "markdown",
   "metadata": {},
   "source": [
    "# 5. Tweet Analysis (15 pts)\n",
    "\n",
    "A tweet is a string that is between 1 and 280 characters long (inclusive). A username is a string of letters and/or digits that is between 1 and 14 characters long (inclusive). A username is mentioned in a tweet by including @username in the tweet. A retweet is way to share another user's tweet, and can be identified by the string RT, followed by the original username who tweeted it.\n",
    "\n",
    "Your job is to fill in the function *count_retweets_by_username* so that it returns a frequency dictionary that indicates how many times each retweeted username was retweeted."
   ]
  },
  {
   "cell_type": "code",
   "execution_count": 60,
   "metadata": {},
   "outputs": [],
   "source": [
    "tweets = [\"This is great! RT @fakeuser: Can you believe this?\",\n",
    "         \"It's the refs! RT @dubsfan: Boo the refs and stuff wargarbal\",\n",
    "         \"That's right RT @ladodgers: The dodgers are destined to win the west!\",\n",
    "         \"RT @sportball: That sporting event was not cool\",\n",
    "         \"This is just a tweet about things @person, how could you\",\n",
    "         \"RT @ladodgers: The season is looking great!\",\n",
    "         \"RT @dubsfan: I can't believe it!\",\n",
    "         \"I can't believe it either! RT @dubsfan: I can't believe it\"]"
   ]
  },
  {
   "cell_type": "code",
   "execution_count": 61,
   "metadata": {},
   "outputs": [],
   "source": [
    "def count_retweets_by_username(tweet_list):\n",
    "    \"\"\" (list of tweets) -> dict of {username: int}\n",
    "    Returns a dictionary in which each key is a username that was \n",
    "    retweeted in tweet_list and each value is the total number of times this \n",
    "    username was retweeted.\n",
    "    \"\"\"\n",
    "    text_dict = {}\n",
    "    for phrase in range(len(tweets)):\n",
    "        if 'RT' in tweets[phrase] and len(tweets[phrase]) >= 1 and len(tweets[phrase]) <= 280:\n",
    "            for word in tweets[phrase].split(' '):\n",
    "                if word[0] == \"@\" and len(word)>= 3 and len(word)<=16:\n",
    "                    if word in text_dict.keys():\n",
    "                        text_dict[word] += 1\n",
    "                    else:\n",
    "                        text_dict[word] = 1\n",
    "    return text_dict"
   ]
  },
  {
   "cell_type": "code",
   "execution_count": 62,
   "metadata": {},
   "outputs": [
    {
     "name": "stdout",
     "output_type": "stream",
     "text": [
      "{'@fakeuser:': 1, '@dubsfan:': 3, '@ladodgers:': 2, '@sportball:': 1}\n"
     ]
    }
   ],
   "source": [
    "# allow this code to work by implementing count_retweets_by_username function above\n",
    "print(count_retweets_by_username(tweets))"
   ]
  },
  {
   "cell_type": "markdown",
   "metadata": {},
   "source": [
    "# 6. Looking for Minerals (20 pts)\n",
    "\n",
    "A mining company conducts a survey of an n-by-n square grid of land.  Each row of land is numbered from 0 to n-1 where 0 is the top and n-1 is the bottom, and each column is also numbered from 0 to n-1 where 0 is the left and n-1 is the right.  The company wishes to record which squares of this grid contain mineral deposits.\n",
    "\n",
    "The company decides to use a list of tuples to store the location of each deposit.  The first item in each tuple is the row of the deposit.  The second item is the column.  The third item is a non-negative number representing the size of the deposit, in tons.  For example, the following code defines a sample representation of a set of deposits in an 8-by-8 grid."
   ]
  },
  {
   "cell_type": "code",
   "execution_count": 63,
   "metadata": {},
   "outputs": [],
   "source": [
    "deposits = [(0, 4, .3), (6, 2, 3), (3, 7, 2.2), (5, 5, .5), (3, 5, .8), (7, 7, .3)]"
   ]
  },
  {
   "cell_type": "markdown",
   "metadata": {},
   "source": [
    "6.1. Given a list of deposits like the one above, write a function to create a string representation for a rectangular sub-region of the land.  Your function should take a list of deposits, then a set of parameters denoting the top, bottom, left, and right edges of the sub-grid.  It should return a multi-line string in which grid squares without deposits are represented by \"-\" and grid squares with a deposit are represented by \"X\"."
   ]
  },
  {
   "cell_type": "code",
   "execution_count": 64,
   "metadata": {},
   "outputs": [],
   "source": [
    "def display(deposits, top, bottom, left, right):\n",
    "    \"\"\"display a subgrid of the land, with rows starting at top and up to \n",
    "    but not including bottom, and columns starting at left and up to but\n",
    "    not including right.\"\"\"\n",
    "    \n",
    "    ans = ''\n",
    "    for r in range(top, bottom):\n",
    "        ans += '\\n'\n",
    "        for c in range(left, right):\n",
    "            for x in range(len(deposits)):\n",
    "                if r == deposits[x][0] and c == deposits[x][1]:\n",
    "                    ans += 'X'\n",
    "                    break\n",
    "            else:\n",
    "                ans += '-'\n",
    "    return ans"
   ]
  },
  {
   "cell_type": "code",
   "execution_count": 65,
   "metadata": {},
   "outputs": [
    {
     "name": "stdout",
     "output_type": "stream",
     "text": [
      "\n",
      "----X---\n",
      "--------\n",
      "--------\n",
      "-----X-X\n",
      "--------\n",
      "-----X--\n",
      "--X-----\n",
      "-------X\n"
     ]
    }
   ],
   "source": [
    "print(display(deposits, 0, 8, 0, 8))"
   ]
  },
  {
   "cell_type": "code",
   "execution_count": 66,
   "metadata": {},
   "outputs": [
    {
     "name": "stdout",
     "output_type": "stream",
     "text": [
      "\n",
      "X--\n",
      "---\n",
      "--X\n"
     ]
    }
   ],
   "source": [
    "print(display(deposits, 5, 8, 5, 8))"
   ]
  },
  {
   "cell_type": "markdown",
   "metadata": {},
   "source": [
    "For example, your function should replicate the following behavior for the example grid:\n",
    "```\n",
    "print(display(deposits, 0, 8, 0, 8))\n",
    "----X---\n",
    "--------\n",
    "--------\n",
    "-----X-X\n",
    "--------\n",
    "-----X--\n",
    "--X-----\n",
    "-------X\n",
    "\n",
    "print(display(deposits, 5, 8, 5, 8))\n",
    "X--\n",
    "---\n",
    "--X\n",
    "\n",
    "```\n"
   ]
  },
  {
   "cell_type": "markdown",
   "metadata": {},
   "source": [
    "6.2. Next, complete the following function to compute the total number of tons in a rectangular sub-region of the grid."
   ]
  },
  {
   "cell_type": "code",
   "execution_count": 67,
   "metadata": {},
   "outputs": [],
   "source": [
    "def tons_inside(deposits, top, bottom, left, right):\n",
    "    \"\"\"Returns the total number of tons of deposits for which the row is at least top,\n",
    "    but strictly less than bottom, and the column is at least left, but strictly\n",
    "    less than right.\"\"\"\n",
    "    tons = 0.0\n",
    "    for r in range(top,bottom):\n",
    "        for c in range(left,right):\n",
    "            for x in range(len(deposits)):\n",
    "                if r == deposits[x][0] and c == deposits[x][1]:\n",
    "                    tons += deposits[x][2]    \n",
    "    return round(tons,1)\n",
    "    # Do not alter the function header.  \n",
    "    # Just fill in the code so it returns the correct number of tons.\n",
    "    "
   ]
  },
  {
   "cell_type": "code",
   "execution_count": 68,
   "metadata": {},
   "outputs": [
    {
     "name": "stdout",
     "output_type": "stream",
     "text": [
      "0.8\n"
     ]
    }
   ],
   "source": [
    "print(tons_inside(deposits, 5, 8, 5, 8))"
   ]
  },
  {
   "cell_type": "markdown",
   "metadata": {
    "collapsed": true
   },
   "source": [
    "## 7. Birthday planning (15 pts)\n",
    "\n",
    "Suppose you record a list of birthdays for your classmates, recorded as month day tuples.  An example is given below."
   ]
  },
  {
   "cell_type": "code",
   "execution_count": 69,
   "metadata": {},
   "outputs": [],
   "source": [
    "# The 2nd to last tuple needs the int(2) in it so that it is uniquely stored in memory compared to (2,8)\n",
    "# Under the hood Python 3.7 changed how these are stored so (2,8) and (2,8) are stored in the same location\n",
    "# and then the algorithm below doesn't work\n",
    "\n",
    "dates = [(3,14),(2,8),(10,25),(5,17),(3,2),(7,25),(4,30),(8,7),(int(2),8),(1,22)]"
   ]
  },
  {
   "cell_type": "markdown",
   "metadata": {},
   "source": [
    "You read about the famous birthday problem and you become interested in the number of pairs of classmates that share the same birthday.  Below is an algorithm you write to do this. (Note: the ```is``` operator tests that two operands point to the same object)"
   ]
  },
  {
   "cell_type": "code",
   "execution_count": 70,
   "metadata": {},
   "outputs": [
    {
     "name": "stdout",
     "output_type": "stream",
     "text": [
      "Total birthday pairs: 1\n"
     ]
    }
   ],
   "source": [
    "count = 0\n",
    "\n",
    "for person_a in dates:\n",
    "    for person_b in dates:\n",
    "        # Make sure we have different people        \n",
    "        \n",
    "        if person_a is person_b:\n",
    "            continue\n",
    "            \n",
    "        # Check both month and day\n",
    "        if person_a[0] == person_b[0] and person_a[1] == person_b[1]:\n",
    "            count += 1\n",
    "            \n",
    "# We counted each pair twice (e.g. jane-bob and bob-jane) so divide by 2:\n",
    "print(\"Total birthday pairs:\", count//2)"
   ]
  },
  {
   "cell_type": "markdown",
   "metadata": {},
   "source": [
    "7.1. What is the (tightest) Big-O running time bound for the above algorithm?  You may assume that simple operations like equality check, addition, and print take constant time."
   ]
  },
  {
   "cell_type": "markdown",
   "metadata": {
    "collapsed": true
   },
   "source": [
    "The tighest Big-O is O(N^2) because there are two nested for loops iterating through the same list."
   ]
  },
  {
   "cell_type": "markdown",
   "metadata": {},
   "source": [
    "7.2. You notice that your algorithm is inefficient in that it counts each pair twice.  For example, it will increment count once when person_a is Jane and person_b is Bob, and again when person_a is Bob and person_b is Jane.  Below, revise the algorithm so that it only looks at each pair once."
   ]
  },
  {
   "cell_type": "code",
   "execution_count": 50,
   "metadata": {},
   "outputs": [
    {
     "name": "stdout",
     "output_type": "stream",
     "text": [
      "Total birthday pairs: 1\n"
     ]
    }
   ],
   "source": [
    "# Your code here\n",
    "'''In the print statement I consider 2 birthdays as 1 pair,  3 \n",
    "birthdays as 1 pair, 4 birthdays as 2 pair, etc.'''\n",
    "\n",
    "count = 0\n",
    "\n",
    "for i in range(len(dates)):\n",
    "    for j in range(i + 1,len(dates)):\n",
    "        # Make sure we have different people        \n",
    "                    \n",
    "        # Check both month and day\n",
    "        if dates[i][0] == dates[j][0] and dates[i][1] == dates[j][1]:\n",
    "            count += 1\n",
    "            break\n",
    "\n",
    "if count == 1:         \n",
    "    print(\"Total birthday pairs:\", count)\n",
    "else:\n",
    "    print(\"Total birthday pairs:\", round((count+.01)/2))"
   ]
  },
  {
   "cell_type": "markdown",
   "metadata": {},
   "source": [
    "7.3. What is the (tightest) Big-O running time bound for your new algorithm?  What does this tell you about whether your revision was worth making?"
   ]
  },
  {
   "cell_type": "markdown",
   "metadata": {},
   "source": [
    "The tightest time bound for this algorithm is still O(N^2).  This tells me that making the change, while although it may have a subtle difference in performance, was not worth it."
   ]
  },
  {
   "cell_type": "markdown",
   "metadata": {},
   "source": [
    "7.4. Finally, create a third revision of your algorithm which has a faster Big-O running time bound that both the previous algorithms."
   ]
  },
  {
   "cell_type": "code",
   "execution_count": 71,
   "metadata": {},
   "outputs": [
    {
     "name": "stdout",
     "output_type": "stream",
     "text": [
      "Total birthday pairs: 1\n"
     ]
    }
   ],
   "source": [
    "# Your code here\n",
    "'''In the print statement I consider 2 birthdays as 1 pair,  3 \n",
    "birthdays as 1 pair, 4 birthdays as 2 pair, etc.  Also, I would replace\n",
    "'==' with 'is' to find multiple birthdays for example \n",
    "(2,8),(2,8),(2,8),(2,8) will print 2 pairs of birthdays.  The (2,8)\n",
    "and (int(2),8) made it necessary to use '==' '''\n",
    "\n",
    "dates.sort()\n",
    "count = 0\n",
    "\n",
    "for i in range(1,len(dates)):\n",
    "    if dates[i-1] == dates [i]: #I would replace '==' with 'is' to find multiple birthdays for example (2,8),(2,8),(2,8),(2,8)\n",
    "        count += 1\n",
    "if count == 1:         \n",
    "    print(\"Total birthday pairs:\", count)\n",
    "else:\n",
    "    print(\"Total birthday pairs:\", round((count+.01)/2))"
   ]
  },
  {
   "cell_type": "markdown",
   "metadata": {},
   "source": [
    "7.5. What is the (tightest) Big-O running time bound for your last algorithm?  Explain what trade-off you made to have a faster running time."
   ]
  },
  {
   "cell_type": "markdown",
   "metadata": {
    "collapsed": true
   },
   "source": [
    "The tightest complexity of this algorithm is O(n log n).  By using the built-in function sort I was able to drop the nested for loops and reduce the time complexity.  sort( ) = O(n log n) which is the biggest growth rate in the algorithm.\n"
   ]
  },
  {
   "cell_type": "code",
   "execution_count": null,
   "metadata": {},
   "outputs": [],
   "source": []
  }
 ],
 "metadata": {
  "kernelspec": {
   "display_name": "Python 3",
   "language": "python",
   "name": "python3"
  },
  "language_info": {
   "codemirror_mode": {
    "name": "ipython",
    "version": 3
   },
   "file_extension": ".py",
   "mimetype": "text/x-python",
   "name": "python",
   "nbconvert_exporter": "python",
   "pygments_lexer": "ipython3",
   "version": "3.7.4"
  },
  "widgets": {
   "state": {},
   "version": "1.1.2"
  }
 },
 "nbformat": 4,
 "nbformat_minor": 1
}
