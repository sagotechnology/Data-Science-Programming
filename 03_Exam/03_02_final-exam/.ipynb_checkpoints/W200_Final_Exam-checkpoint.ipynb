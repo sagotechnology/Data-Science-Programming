{
 "cells": [
  {
   "cell_type": "markdown",
   "metadata": {},
   "source": [
    "# W200 Introduction to Data Science Programming, UC Berkeley MIDS\n",
    "\n",
    "\n",
    "## Instructions\n",
    "The final exam is designed to evaluate your grasp of Python theory as well as Python coding.\n",
    "\n",
    "- This is an individual exam.\n",
    "- You have 24 hours to complete the exam, starting from the point at which you first access it.\n",
    "- You will be graded on the quality of your answers.  Use clear, persuasive arguments based on concepts we covered in class.\n",
    "- Please double-click the markdown cells where it says \"Your answer here\" to input answers (if you need more cells please make them markdown cells)\n",
    "- Use only Python standard libraries, NumPy and Pandas for this exam"
   ]
  },
  {
   "cell_type": "markdown",
   "metadata": {},
   "source": [
    "## Samuel Gomez"
   ]
  },
  {
   "cell_type": "code",
   "execution_count": 21,
   "metadata": {},
   "outputs": [
    {
     "name": "stdout",
     "output_type": "stream",
     "text": [
      "numpy version: 1.17.2\n",
      "pandas version: 0.25.1\n"
     ]
    }
   ],
   "source": [
    "import numpy as np\n",
    "import pandas as pd\n",
    "import matplotlib.pyplot as plt\n",
    "import matplotlib.ticker as ticker\n",
    "\n",
    "print(\"numpy version:\", np.__version__)\n",
    "print(\"pandas version:\", pd.__version__)"
   ]
  },
  {
   "cell_type": "markdown",
   "metadata": {},
   "source": [
    "## 1: Short Answer Questions (25 pts - each question = 5 pts)\n",
    "\n",
    "a) The following class ```Cart``` and method ```add_to_cart``` are parts of a larger program used by a mobile phone company.  The method ```add_to_cart``` will work when an object of type MobileDevice or of type ServiceContract is passed to it. State whether the method ```add_to_cart``` is a demonstration of the following items (yes/no) and the reasoning (1-2 sentences): \n",
    "\n",
    "    1. Inheritance\n",
    "    2. Polymorphism\n",
    "    3. Duck typing\n",
    "    4. Top-down design\n",
    "    5. Functional programming"
   ]
  },
  {
   "cell_type": "code",
   "execution_count": 2,
   "metadata": {},
   "outputs": [],
   "source": [
    "# Method:\n",
    "class Cart():\n",
    "    \n",
    "    def __init__(self):\n",
    "        self.cart = []\n",
    "        self.total = 0\n",
    "    \n",
    "    def add_to_cart(item):\n",
    "        self.cart.append(item)\n",
    "        self.total += item.price"
   ]
  },
  {
   "cell_type": "markdown",
   "metadata": {},
   "source": [
    "- a) Your answer here\n",
    "\n",
    "\n",
    "1. Inheritance:\n",
    "2. Polymorphism:\n",
    "3. Duck typing:\n",
    "4. Top-down design:\n",
    "5. Functional programming:"
   ]
  },
  {
   "cell_type": "markdown",
   "metadata": {},
   "source": [
    "b) Suppose you have a long list of digits (0-9) that you want to write to a file.  From a storage standpoint, would it be more efficient to use ASCII or UTF-8 as an encoding? What is the most efficient way to create an even smaller file to store the information?"
   ]
  },
  {
   "cell_type": "markdown",
   "metadata": {},
   "source": [
    "- b) Your answer here"
   ]
  },
  {
   "cell_type": "markdown",
   "metadata": {},
   "source": [
    "c) Why is it important to sanity-check your data before you begin your analysis? What could happen if you don't?"
   ]
  },
  {
   "cell_type": "markdown",
   "metadata": {
    "collapsed": true
   },
   "source": [
    "- c) Your answer here"
   ]
  },
  {
   "cell_type": "markdown",
   "metadata": {},
   "source": [
    "d) How do you determine which variables in your dataset you should check for issues prior to starting an analysis? "
   ]
  },
  {
   "cell_type": "markdown",
   "metadata": {
    "collapsed": true
   },
   "source": [
    "- d) Your answer here"
   ]
  },
  {
   "cell_type": "markdown",
   "metadata": {},
   "source": [
    "e1) Explain why the following code prints what it does."
   ]
  },
  {
   "cell_type": "code",
   "execution_count": 3,
   "metadata": {},
   "outputs": [
    {
     "name": "stdout",
     "output_type": "stream",
     "text": [
      "<class 'function'>\n"
     ]
    }
   ],
   "source": [
    "def f(): pass\n",
    "print(type(f))"
   ]
  },
  {
   "cell_type": "markdown",
   "metadata": {},
   "source": [
    "- e1) Your answer here"
   ]
  },
  {
   "cell_type": "markdown",
   "metadata": {},
   "source": [
    "e2) Explain why the following code prints something different."
   ]
  },
  {
   "cell_type": "code",
   "execution_count": 4,
   "metadata": {},
   "outputs": [
    {
     "name": "stdout",
     "output_type": "stream",
     "text": [
      "<class 'NoneType'>\n"
     ]
    }
   ],
   "source": [
    "def f(): pass\n",
    "print(type(f()))"
   ]
  },
  {
   "cell_type": "markdown",
   "metadata": {},
   "source": [
    "- e2) Your answer here"
   ]
  },
  {
   "cell_type": "markdown",
   "metadata": {},
   "source": [
    "## 2:  General Coding Questions (15 pts - each question 5 pts)"
   ]
  },
  {
   "cell_type": "markdown",
   "metadata": {},
   "source": [
    "a) Using a list comprehension: Make a list of the squared numbers that are the square of non-negative integer less than 10, but whose squares are greater than 25. Fill in a list comprehension below so that we get this desired output."
   ]
  },
  {
   "cell_type": "code",
   "execution_count": 5,
   "metadata": {},
   "outputs": [],
   "source": [
    "# 2a) Your code here"
   ]
  },
  {
   "cell_type": "markdown",
   "metadata": {},
   "source": [
    "b) Below is a data frame of customers that have different cooling systems. Your data science team lead wants the column ```cooling_system``` to be labeled with the numbers 1-4 instead of the text as shown below:\n",
    "\n",
    "- 1 = Air Conditioning / AC / Air Con\n",
    "- 2 = Heat Pump / HP\n",
    "- 3 = Evaporative Cooler / Evap Cooler\n",
    "- 4 = Fan\n",
    "\n",
    "Make a new column called ```cooling_type``` that maps the text values to the new numeric values. Filter out the values that are not included in the mapping above. Print out this new data frame. Be sure to list any assumptions also!"
   ]
  },
  {
   "cell_type": "code",
   "execution_count": 6,
   "metadata": {},
   "outputs": [
    {
     "data": {
      "text/html": [
       "<div>\n",
       "<style scoped>\n",
       "    .dataframe tbody tr th:only-of-type {\n",
       "        vertical-align: middle;\n",
       "    }\n",
       "\n",
       "    .dataframe tbody tr th {\n",
       "        vertical-align: top;\n",
       "    }\n",
       "\n",
       "    .dataframe thead th {\n",
       "        text-align: right;\n",
       "    }\n",
       "</style>\n",
       "<table border=\"1\" class=\"dataframe\">\n",
       "  <thead>\n",
       "    <tr style=\"text-align: right;\">\n",
       "      <th></th>\n",
       "      <th>Cust_Number</th>\n",
       "      <th>Cooling_System</th>\n",
       "    </tr>\n",
       "  </thead>\n",
       "  <tbody>\n",
       "    <tr>\n",
       "      <td>0</td>\n",
       "      <td>101</td>\n",
       "      <td>AC</td>\n",
       "    </tr>\n",
       "    <tr>\n",
       "      <td>1</td>\n",
       "      <td>102</td>\n",
       "      <td>Heat Pump</td>\n",
       "    </tr>\n",
       "    <tr>\n",
       "      <td>2</td>\n",
       "      <td>103</td>\n",
       "      <td>Air Con</td>\n",
       "    </tr>\n",
       "    <tr>\n",
       "      <td>3</td>\n",
       "      <td>104</td>\n",
       "      <td>Air Conditioning</td>\n",
       "    </tr>\n",
       "    <tr>\n",
       "      <td>4</td>\n",
       "      <td>105</td>\n",
       "      <td>Fan</td>\n",
       "    </tr>\n",
       "    <tr>\n",
       "      <td>5</td>\n",
       "      <td>106</td>\n",
       "      <td>None</td>\n",
       "    </tr>\n",
       "    <tr>\n",
       "      <td>6</td>\n",
       "      <td>107</td>\n",
       "      <td>Evap Cooler</td>\n",
       "    </tr>\n",
       "    <tr>\n",
       "      <td>7</td>\n",
       "      <td>108</td>\n",
       "      <td>None</td>\n",
       "    </tr>\n",
       "    <tr>\n",
       "      <td>8</td>\n",
       "      <td>109</td>\n",
       "      <td>AC</td>\n",
       "    </tr>\n",
       "    <tr>\n",
       "      <td>9</td>\n",
       "      <td>110</td>\n",
       "      <td>Evaporative Cooler</td>\n",
       "    </tr>\n",
       "    <tr>\n",
       "      <td>10</td>\n",
       "      <td>111</td>\n",
       "      <td>geothermal</td>\n",
       "    </tr>\n",
       "    <tr>\n",
       "      <td>11</td>\n",
       "      <td>112</td>\n",
       "      <td>1</td>\n",
       "    </tr>\n",
       "  </tbody>\n",
       "</table>\n",
       "</div>"
      ],
      "text/plain": [
       "    Cust_Number      Cooling_System\n",
       "0           101                  AC\n",
       "1           102           Heat Pump\n",
       "2           103             Air Con\n",
       "3           104    Air Conditioning\n",
       "4           105                 Fan\n",
       "5           106                None\n",
       "6           107         Evap Cooler\n",
       "7           108                None\n",
       "8           109                  AC\n",
       "9           110  Evaporative Cooler\n",
       "10          111          geothermal\n",
       "11          112                   1"
      ]
     },
     "execution_count": 6,
     "metadata": {},
     "output_type": "execute_result"
    }
   ],
   "source": [
    "import pandas\n",
    "\n",
    "# creating a data frame from scratch - list of lists\n",
    "\n",
    "data = [ [101, 'AC'], \n",
    "         [102, 'Heat Pump'], \n",
    "         [103, 'Air Con'], \n",
    "         [104, 'Air Conditioning'],\n",
    "         [105, 'Fan'],\n",
    "         [106, 'None'],\n",
    "         [107, 'Evap Cooler'],\n",
    "         [108, None],\n",
    "         [109, 'AC'],\n",
    "         [110, 'Evaporative Cooler'],\n",
    "         [111, 'geothermal'],\n",
    "         [112, 1]\n",
    "       ]\n",
    "\n",
    "# create a data frame with column names - list of lists\n",
    "\n",
    "col_names = ['Cust_Number', 'Cooling_System']\n",
    "df = pandas.DataFrame(data, columns=col_names)\n",
    "df"
   ]
  },
  {
   "cell_type": "code",
   "execution_count": 7,
   "metadata": {},
   "outputs": [],
   "source": [
    "# 2b) Your code here"
   ]
  },
  {
   "cell_type": "markdown",
   "metadata": {},
   "source": [
    "c) From the dataframe below, use groupby/aggregate in Pandas to show how many total delegates were obtained grouped by favorite color. Print this out."
   ]
  },
  {
   "cell_type": "code",
   "execution_count": 8,
   "metadata": {},
   "outputs": [
    {
     "data": {
      "text/html": [
       "<div>\n",
       "<style scoped>\n",
       "    .dataframe tbody tr th:only-of-type {\n",
       "        vertical-align: middle;\n",
       "    }\n",
       "\n",
       "    .dataframe tbody tr th {\n",
       "        vertical-align: top;\n",
       "    }\n",
       "\n",
       "    .dataframe thead th {\n",
       "        text-align: right;\n",
       "    }\n",
       "</style>\n",
       "<table border=\"1\" class=\"dataframe\">\n",
       "  <thead>\n",
       "    <tr style=\"text-align: right;\">\n",
       "      <th></th>\n",
       "      <th>name</th>\n",
       "      <th>delegates</th>\n",
       "      <th>color</th>\n",
       "      <th>state</th>\n",
       "    </tr>\n",
       "  </thead>\n",
       "  <tbody>\n",
       "    <tr>\n",
       "      <td>0</td>\n",
       "      <td>marco</td>\n",
       "      <td>165</td>\n",
       "      <td>blue</td>\n",
       "      <td>FL</td>\n",
       "    </tr>\n",
       "    <tr>\n",
       "      <td>1</td>\n",
       "      <td>jeb</td>\n",
       "      <td>0</td>\n",
       "      <td>red</td>\n",
       "      <td>FL</td>\n",
       "    </tr>\n",
       "    <tr>\n",
       "      <td>2</td>\n",
       "      <td>chris</td>\n",
       "      <td>0</td>\n",
       "      <td>white</td>\n",
       "      <td>NJ</td>\n",
       "    </tr>\n",
       "    <tr>\n",
       "      <td>3</td>\n",
       "      <td>donald</td>\n",
       "      <td>1543</td>\n",
       "      <td>white</td>\n",
       "      <td>NY</td>\n",
       "    </tr>\n",
       "    <tr>\n",
       "      <td>4</td>\n",
       "      <td>ted</td>\n",
       "      <td>559</td>\n",
       "      <td>blue</td>\n",
       "      <td>TX</td>\n",
       "    </tr>\n",
       "    <tr>\n",
       "      <td>5</td>\n",
       "      <td>john</td>\n",
       "      <td>161</td>\n",
       "      <td>red</td>\n",
       "      <td>OH</td>\n",
       "    </tr>\n",
       "  </tbody>\n",
       "</table>\n",
       "</div>"
      ],
      "text/plain": [
       "     name  delegates  color state\n",
       "0   marco        165   blue    FL\n",
       "1     jeb          0    red    FL\n",
       "2   chris          0  white    NJ\n",
       "3  donald       1543  white    NY\n",
       "4     ted        559   blue    TX\n",
       "5    john        161    red    OH"
      ]
     },
     "execution_count": 8,
     "metadata": {},
     "output_type": "execute_result"
    }
   ],
   "source": [
    "import pandas\n",
    "\n",
    "# creating a data frame from scratch - list of lists\n",
    "\n",
    "data = [ ['marco', 165, 'blue', 'FL'], \n",
    "         ['jeb', 0, 'red', 'FL'], \n",
    "         ['chris', 0, 'white', 'NJ'], \n",
    "         ['donald', 1543, 'white', 'NY'],\n",
    "         ['ted', 559, 'blue', 'TX'],\n",
    "         ['john', 161, 'red', 'OH']\n",
    "       ]\n",
    "\n",
    "# create a data frame with column names - list of lists\n",
    "\n",
    "col_names = ['name', 'delegates', 'color', 'state']\n",
    "df = pandas.DataFrame(data, columns=col_names)\n",
    "df"
   ]
  },
  {
   "cell_type": "code",
   "execution_count": 9,
   "metadata": {},
   "outputs": [],
   "source": [
    "# 2c) Your code here"
   ]
  },
  {
   "cell_type": "markdown",
   "metadata": {},
   "source": [
    "## 3: Bitcoin coding problem (20 points):"
   ]
  },
  {
   "cell_type": "markdown",
   "metadata": {},
   "source": [
    "#### Bitcoin\n",
    "\n",
    "Consider a record of a one-time investment in bitcoin with value of that investment tracked monthly, provided as an (ordered) tuple of dictionaries, where each dictionary comprises one key for the month and corresponding one value for the value of the investment, and the first entry (Jan 2018) is the initial investment, like in `data` below.\n",
    "\n",
    "Write Python code to take such a record of any length, and output a table/dataframe comprising a row for each month with columns for date, start balance, and return. **Print out this table/dataframe.**\n",
    "\n",
    "Also, visualize the record as two vertically arranged plots. \n",
    "- The top plot should show a line plot of start balance vs. month\n",
    "- The bottom plot should show a bar plot of return vs. month, with a black horizontal line at return=0, and bars color-coded such that positive returns are green and negative returns are red.  \n",
    "- The two plots' horizontal axes should align. Demonstrate that your code works by applying it to `data`.\n",
    "\n",
    "Notes: <br>\n",
    "- The gain for each period is the end balance minus the start balance. \n",
    "- The growth factor for each period is the end balance divided by the start balance.  \n",
    "- The return for each period is the growth factor minus 1."
   ]
  },
  {
   "cell_type": "code",
   "execution_count": 23,
   "metadata": {},
   "outputs": [
    {
     "data": {
      "text/plain": [
       "({'Jan 2018': 1000},\n",
       " {'Feb 2018': 1100},\n",
       " {'Mar 2018': 1400},\n",
       " {'Apr 2018': 700},\n",
       " {'May 2018': 800},\n",
       " {'Jun 2018': 500})"
      ]
     },
     "execution_count": 23,
     "metadata": {},
     "output_type": "execute_result"
    }
   ],
   "source": [
    "data = ({\"Jan 2018\":1000},{\"Feb 2018\":1100},{\"Mar 2018\":1400},{\"Apr 2018\":700},{\"May 2018\":800},{\"Jun 2018\":500})\n",
    "data"
   ]
  },
  {
   "cell_type": "code",
   "execution_count": 44,
   "metadata": {
    "scrolled": false
   },
   "outputs": [
    {
     "data": {
      "text/html": [
       "<div>\n",
       "<style scoped>\n",
       "    .dataframe tbody tr th:only-of-type {\n",
       "        vertical-align: middle;\n",
       "    }\n",
       "\n",
       "    .dataframe tbody tr th {\n",
       "        vertical-align: top;\n",
       "    }\n",
       "\n",
       "    .dataframe thead th {\n",
       "        text-align: right;\n",
       "    }\n",
       "</style>\n",
       "<table border=\"1\" class=\"dataframe\">\n",
       "  <thead>\n",
       "    <tr style=\"text-align: right;\">\n",
       "      <th></th>\n",
       "      <th>date</th>\n",
       "      <th>invest_balance</th>\n",
       "      <th>invest_return</th>\n",
       "    </tr>\n",
       "  </thead>\n",
       "  <tbody>\n",
       "    <tr>\n",
       "      <td>0</td>\n",
       "      <td>Jan 2018</td>\n",
       "      <td>1000.0</td>\n",
       "      <td>10.00</td>\n",
       "    </tr>\n",
       "    <tr>\n",
       "      <td>1</td>\n",
       "      <td>Feb 2018</td>\n",
       "      <td>1100.0</td>\n",
       "      <td>27.27</td>\n",
       "    </tr>\n",
       "    <tr>\n",
       "      <td>2</td>\n",
       "      <td>Mar 2018</td>\n",
       "      <td>1400.0</td>\n",
       "      <td>-50.00</td>\n",
       "    </tr>\n",
       "    <tr>\n",
       "      <td>3</td>\n",
       "      <td>Apr 2018</td>\n",
       "      <td>700.0</td>\n",
       "      <td>14.29</td>\n",
       "    </tr>\n",
       "    <tr>\n",
       "      <td>4</td>\n",
       "      <td>May 2018</td>\n",
       "      <td>800.0</td>\n",
       "      <td>-37.50</td>\n",
       "    </tr>\n",
       "    <tr>\n",
       "      <td>5</td>\n",
       "      <td>Jun 2018</td>\n",
       "      <td>500.0</td>\n",
       "      <td>NaN</td>\n",
       "    </tr>\n",
       "  </tbody>\n",
       "</table>\n",
       "</div>"
      ],
      "text/plain": [
       "       date  invest_balance  invest_return\n",
       "0  Jan 2018          1000.0          10.00\n",
       "1  Feb 2018          1100.0          27.27\n",
       "2  Mar 2018          1400.0         -50.00\n",
       "3  Apr 2018           700.0          14.29\n",
       "4  May 2018           800.0         -37.50\n",
       "5  Jun 2018           500.0            NaN"
      ]
     },
     "metadata": {},
     "output_type": "display_data"
    },
    {
     "data": {
      "image/png": "[encoded data removed]",
      "text/plain": [
       "<Figure size 720x864 with 2 Axes>"
      ]
     },
     "metadata": {
      "needs_background": "light"
     },
     "output_type": "display_data"
    }
   ],
   "source": [
    "# 3) \n",
    "\n",
    "df = pd.DataFrame.from_dict(data)\n",
    "\n",
    "rows = []\n",
    "columns = []\n",
    "for i in range(len(df)):\n",
    "    rows.append(df.columns[i])\n",
    "    c = df.columns[i]\n",
    "    columns.append(df[c].max())\n",
    "\n",
    "\n",
    "# create date dataframe\n",
    "df1 = pd.DataFrame(list(rows))\n",
    "df1.columns = ['date']\n",
    "\n",
    "# create start_balance data frame\n",
    "df2 = pd.DataFrame(list(columns))\n",
    "df2.columns = ['invest_balance']\n",
    "\n",
    "# create dataframe equal to df1\n",
    "df=df1\n",
    "\n",
    "\n",
    "\n",
    "df['invest_balance'] = df2\n",
    "column2 = []\n",
    "for num in range(0,len(df)-1):\n",
    "    gain = df.invest_balance[num+1]-df.invest_balance[num]\n",
    "    growth = df.invest_balance[num+1] / df.invest_balance[num]\n",
    "    column2.append(round((growth - 1)*100,2))\n",
    "    \n",
    "c2 = pd.DataFrame(list(column2))\n",
    "\n",
    "df['invest_return'] = c2\n",
    "\n",
    "display(df)\n",
    "\n",
    "# Plot\n",
    "fig, ax = plt.subplots(2,1, figsize = (10,12), sharex=True)\n",
    "\n",
    "# plot - Monthly Investment Balance\n",
    "ax[0].plot(df.date, df.invest_balance, linewidth=4, marker='o', markersize=8)\n",
    "ax[0].set_title('Monthly Investment Balance', fontsize=20, weight='bold')\n",
    "start, end = ax[0].get_ylim()\n",
    "ax[0].set_ylim(0)\n",
    "ax[0].set_ylabel('Balance ($)', fontsize=16, weight='bold')\n",
    "fmt_dollar = '${x:,.0f}'\n",
    "ax[0].yaxis.set_major_formatter(ticker.StrMethodFormatter(fmt_dollar))\n",
    "\n",
    "# determine positive values for return\n",
    "positive_return = pd.Series(df.invest_return >=0)\n",
    "\n",
    "# plot - Monthly Investment Return\n",
    "ax[1].bar(df.date, df.invest_return, color=positive_return.map({True: 'g', False: 'r'}))\n",
    "ax[1].set_title('Monthly Investment Return', fontsize=20, weight='bold')\n",
    "ax[1].set_xlabel('Month', fontsize=16, weight='bold')\n",
    "ax[1].set_ylabel('Return (%)', fontsize=16, weight='bold')\n",
    "ax[1].hlines(0,-1,len(df.date), linewidth = 4) \n",
    "fmt_percent = '{x:,.0f}%'\n",
    "ax[1].yaxis.set_major_formatter(ticker.StrMethodFormatter(fmt_percent))\n",
    "ax[0].grid()\n",
    "ax[1].yaxis.grid()\n",
    "plt.show()"
   ]
  },
  {
   "cell_type": "markdown",
   "metadata": {},
   "source": [
    "## 4: Clinical disease data (40 pts)\n",
    "\n",
    "Your boss comes to you Monday morning and says “I figured out our next step; we are going to pivot from an online craft store and become a data center for genetic disease information! I found **ClinVar** which is a repository that contains expert curated data, and it is free for the taking. This is a gold mine! Look at the file and tell me what gene and mutation combinations are classified as dangerous.”\n",
    "\n",
    "Make sure that you only give your boss the dangerous mutations and include:\n",
    "\n",
    "1) Gene name\n",
    "\n",
    "2) Mutation ID number\n",
    "\n",
    "3) Mutation Position (chromosome & position)\n",
    "\n",
    "4) Mutation value (reference & alternate bases)\n",
    "\n",
    "5) Clinical severity \n",
    "\n",
    "6) Disease that is implicated\n",
    "\n",
    "**Requirements**\n",
    "\n",
    "1) The deliverables are the final result as a dataframe with a short discussion of any specifics. (that is, what data you would present to your boss with the explanation of your results)\n",
    "\n",
    "2) Limit your output to the first 100 harmful mutations and tell your boss how many total harmful mutations were found in the file\n",
    "\n",
    "3) Use the instructor-modified \"clinvar_final.txt\" at this link: https://drive.google.com/file/d/1Zps0YssoJbZHrn6iLte2RDLlgruhAX1s/view?usp=sharing This file was modified to be not exactly the same as 'standard' .vcf file to test your data parsing skills. **This is a large file so do NOT upload it into your github repo!**\n",
    "\n",
    "4) Replace missing values in the dataframe with: 'Not_Given'\n",
    "\n",
    "5) State in your answer how you define harmful mutations\n",
    "\n",
    "**6) Do your best on getting to above requirements and submit whatever you do before the 24 hour deadline. If your work is incomplete be sure to describe the blockers that got in your way and how you might get past them (if given more time).**\n",
    "\n",
    "**Hints** \n",
    "* We do not expect you to have any medical knowledge to solve this problem; look at the data, read the documentation provided, and write down your assumptions!\n",
    "\n",
    "* Correct pseudocode will give you partial credit so start with that. \n",
    "\n",
    "* Map out which fields you want to extract: Are they in the same place every time? What strategy will you use to robustly extract and filter your data of interest? How do you plan to handle missing data?\n",
    "\n",
    "* A good way to start is to print out each line, then practice parsing them to see if you can recover the fields of interest\n",
    "\n",
    "* A starting solution for parsing .vcfs can be found here: https://gist.github.com/dceoy/99d976a2c01e7f0ba1c813778f9db744 This solution does **NOT** work due to the changes we've made but can be modified to work. As with any solution that needs modifications, it may take less time to make your own solution!\n",
    "\n",
    "* Filter out junk and lines with no mutation data. Just focus on the data your need to deliver to your boss. \n",
    "\n",
    "* Pandas and NumPy parsers correctly recognize the end of each line in in the ClinVar file.\n",
    "\n",
    "* The unit of observation of this dataset is one row per mutation.\n",
    "\n",
    "* This is similar to a task that one of us tackled at work. You can answer the question with the information provided below or using the (partial) data dictionary file at this link: https://drive.google.com/file/d/1lx9yHdlcqmU_OlHiTUXKC_LQDqYBypH_/view?usp=sharing. Our goal is to see that you can put together a sensible plan, implement a solid parsing strategy, and document and justify the decisions that you made."
   ]
  },
  {
   "cell_type": "markdown",
   "metadata": {
    "collapsed": true
   },
   "source": [
    "### VCF file description (Summarized from version 4.1)\n",
    "\n",
    "```\n",
    "* The VCF specification:\n",
    "\n",
    "VCF is a text file format which contains meta-information lines, a header line, and then data lines each containing information about a position in the genome. The format also can contain genotype information on samples for each position.\n",
    "\n",
    "* Fixed fields:\n",
    "\n",
    "There are 8 fixed fields per record. All data lines are **tab-delimited**. In all cases, missing values are specified with a dot (‘.’). \n",
    "\n",
    "1. CHROM - chromosome number\n",
    "2. POS - position DNA nuceleotide count (bases) along the chromosome\n",
    "3. ID - The unique identifier for each mutation\n",
    "4. REF - reference base(s)\n",
    "5. ALT - alternate base(s)\n",
    "6. FILTER - filter status\n",
    "7. QUAL - quality\n",
    "8. INFO - a semicolon-separated series of keys with values in the format: <key>=<data>\n",
    "\n",
    "```\n",
    "### Applicable INFO field specifications\n",
    "\n",
    "```\n",
    "GENEINFO = <Gene name>\n",
    "CLNSIG =  <Clinical significance>\n",
    "CLNDN = <Disease name>\n",
    "```\n",
    "\n",
    "### Sample ClinVar data (vcf file format - not exactly the same as the file to download!)\n",
    "\n",
    "```\n",
    "##fileformat=VCFv4.1\n",
    "##fileDate=2019-03-19\n",
    "##source=ClinVar\n",
    "##reference=GRCh38\t\t\t\t\t\t\t\n",
    "#CHROM\tPOS\tID\tREF\tALT\tQUAL\tFILTER\tINFO\n",
    "1\t949523\trs786201005\tC\tT\t.\t.\tGENEINFO=ISG15;CLNSIG=5\n",
    "1\t949696\trs672601345\tC\tCG\t.\t.\tGENEINFO=ISG15;CLNSIG=5;CLNDBN=Cancer\n",
    "1\t949739\trs672601312\tG\tT\t.\t.\tGENEINFO=ISG15;CLNDBN=Cancer\n",
    "1\t955597\trs115173026\tG\tT\t.\t.\tGENEINFO=AGRN;CLNSIG=2; CLNDBN=Cancer\n",
    "1\t955619\trs201073369\tG\tC\t.\t.\tGENEINFO=AGG;CLNDBN=Heart_dis \n",
    "1\t957640\trs6657048\tC\tT\t.\t.\tGENEINFO=AGG;CLNSIG=3;CLNDBN=Heart_dis \n",
    "1\t976059\trs544749044\tC\tT\t.\t.\tGENEINFO=AGG;CLNSIG=0;CLNDBN=Heart_dis \n",
    "```"
   ]
  },
  {
   "cell_type": "code",
   "execution_count": 17,
   "metadata": {},
   "outputs": [],
   "source": [
    "# 4) Your code here"
   ]
  },
  {
   "cell_type": "markdown",
   "metadata": {},
   "source": [
    "4) Your description here"
   ]
  }
 ],
 "metadata": {
  "kernelspec": {
   "display_name": "Python 3",
   "language": "python",
   "name": "python3"
  },
  "language_info": {
   "codemirror_mode": {
    "name": "ipython",
    "version": 3
   },
   "file_extension": ".py",
   "mimetype": "text/x-python",
   "name": "python",
   "nbconvert_exporter": "python",
   "pygments_lexer": "ipython3",
   "version": "3.7.4"
  }
 },
 "nbformat": 4,
 "nbformat_minor": 1
}
